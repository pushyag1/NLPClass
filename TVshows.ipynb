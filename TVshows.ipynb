{
  "nbformat": 4,
  "nbformat_minor": 0,
  "metadata": {
    "colab": {
      "name": "Untitled7.ipynb",
      "provenance": [],
      "authorship_tag": "ABX9TyMsn1lqO3WLQ+ZodW1ltNCD",
      "include_colab_link": true
    },
    "kernelspec": {
      "name": "python3",
      "display_name": "Python 3"
    }
  },
  "cells": [
    {
      "cell_type": "markdown",
      "metadata": {
        "id": "view-in-github",
        "colab_type": "text"
      },
      "source": [
        "<a href=\"https://colab.research.google.com/github/pushyag1/NLPClass/blob/master/TVshows.ipynb\" target=\"_parent\"><img src=\"https://colab.research.google.com/assets/colab-badge.svg\" alt=\"Open In Colab\"/></a>"
      ]
    },
    {
      "cell_type": "markdown",
      "metadata": {
        "id": "ZyU5hKedLwqY"
      },
      "source": [
        "Use the ‘tvshow.csv’ file.\n",
        "1. Import required libraries\n",
        "import numpy as np\n",
        "import pandas as pd\n",
        "import matplotlib.pyplot as plt\n",
        "import seaborn as sns\n",
        "from sklearn.feature_extraction.text import TfidfVectorizer\n",
        "from nltk.tokenize import RegexpTokenizer\n",
        "import numpy as np\n",
        "from sklearn import preprocessing\n",
        "from scipy.sparse import hstack\n",
        "import pandas_profiling\n",
        "%matplotlib inline\n",
        "2. Load the dataset\n",
        "3. Get the first five rows\n",
        "4. Show the initial information about the dataset\n",
        "5. Find the missing values in all columns\n",
        "6. Drop values with missing % more than 50%\n",
        "7. Drop Na’s from columns\n",
        "8. Reset the index\n",
        "9. Convert into object type\n",
        "10. Create a function to calculate the movies in different streaming platforms\n",
        "11. Plot the number of movies on each platform\n",
        "12. Split the genres by ‘, ‘ and stack it one after the other for easy analysis\n",
        "13. Assign names to columns\n",
        "14. Delete column ‘Genres’\n",
        "15. Join new column with the existing dataframe\n",
        "16. Count movies according to genre and plot\n",
        "17. Split the countries by ‘,’ and stack it one after the other for easy analysis\n",
        "18. Assign name to column\n",
        "19. Delete column ‘Country’\n",
        "20. Join new column with the existing dataframe\n",
        "21. Plot top 10 countries and movie count\n",
        "22. Perform stacking operation on language column\n",
        "23. Assign name to column\n",
        "24. Delete column ‘Language’\n",
        "25. Join new column with the existing dataframe\n",
        "26. Plot top 10 languages and movie counts\n",
        "27. Melt platforms columns to create visualization\n",
        "DATA 690 Homework Week 13 2\n",
        "28. Provide the distribution of IMDB rating in different platforms\n",
        "29. Reload the dataset\n",
        "30. Melt platform columns to create visualization\n",
        "31. Plot the total of runtime in different platforms\n",
        "32. Read the data again\n",
        "33. Define ndf = df.select_dtypes(include=['float64',\"int64\"])\n",
        "34. Import minmax scaler\n",
        "35. Create minmax scaler object\n",
        "36. Create dataframe after transformation\n",
        "37. Assign column names\n",
        "38. Show initial five records\n",
        "39. Import cosine similarity\n",
        "40. Compute the cosine similarity\n",
        "41. Reverse mapping of indices and movie titles\n",
        "42. Provide the top five rows of indices\n",
        "43. Define def give_rec(title, sig=sig):\n",
        "a. Get the index corresponding to original_title\n",
        "b. Get the pairwise similarity scores\n",
        "c. Sort the movies\n",
        "d. Scores of the 10 most similar movies\n",
        "e. Index the movies\n",
        "f. Return the top 10 most similar movies\n",
        "44. Execute get_rec() function for getting recommendations\n",
        "45. Get the top 5 rows from df dataframe\n",
        "46. Define the function def preprocess(df):\n",
        "a. Combine all text columns’\n",
        "b. Select all object data types and store them in a list\n",
        "c. Remove ID and title column\n",
        "d. Join all text/object columns using commas into a single column\n",
        "e. Create a tokenizer to remove unwanted elements (symbols, numbers)\n",
        "f. Convert TfidfVector from the text\n",
        "g. Select numerical variables\n",
        "h. Scale numerical variables\n",
        "i. Apply scaler on the data and convert I into a dataframe\n",
        "j. Add additional numerical variables into the TF-IDF vector such as IMDb =\n",
        "ndfmx.IMDb.values[:, None], X_train_dtm = hstack((text_counts, IMDb))\n",
        "47. Preprocess the data and provide the shape\n",
        "48. Use cosine similarity\n",
        "49. Compute the sigmoid kernel as sig2 = cosine_similarity(mat, mat)\n",
        "50. Reverse mapping of indices and movie titles\n",
        "51. Provide give_rec(\"The Matrix\",sig=sig2)\n",
        "That’s it!"
      ]
    },
    {
      "cell_type": "code",
      "metadata": {
        "id": "Rs7HFg9iL1U4"
      },
      "source": [
        "# Import required libraries\n",
        "import numpy as np\n",
        "import pandas as pd\n",
        "import matplotlib.pyplot as plt\n",
        "import seaborn as sns\n",
        "from sklearn.feature_extraction.text import TfidfVectorizer\n",
        "from nltk.tokenize import RegexpTokenizer\n",
        "import numpy as np\n",
        "from sklearn import preprocessing\n",
        "from scipy.sparse import hstack\n",
        "import pandas_profiling\n",
        "%matplotlib inline"
      ],
      "execution_count": 2,
      "outputs": []
    },
    {
      "cell_type": "code",
      "metadata": {
        "id": "jzb7krhKL7Sh"
      },
      "source": [
        "# Load dataset\n",
        "df = pd.read_csv(\"tvshow.csv\")\n",
        "df=df.iloc[:,1:] # removing in unnamed index column"
      ],
      "execution_count": 3,
      "outputs": []
    },
    {
      "cell_type": "code",
      "metadata": {
        "colab": {
          "base_uri": "https://localhost:8080/",
          "height": 313
        },
        "id": "soHOI1rdMG6K",
        "outputId": "ba9b4cb3-50de-4478-830d-44c83fc42900"
      },
      "source": [
        "df.head()"
      ],
      "execution_count": 4,
      "outputs": [
        {
          "output_type": "execute_result",
          "data": {
            "text/html": [
              "<div>\n",
              "<style scoped>\n",
              "    .dataframe tbody tr th:only-of-type {\n",
              "        vertical-align: middle;\n",
              "    }\n",
              "\n",
              "    .dataframe tbody tr th {\n",
              "        vertical-align: top;\n",
              "    }\n",
              "\n",
              "    .dataframe thead th {\n",
              "        text-align: right;\n",
              "    }\n",
              "</style>\n",
              "<table border=\"1\" class=\"dataframe\">\n",
              "  <thead>\n",
              "    <tr style=\"text-align: right;\">\n",
              "      <th></th>\n",
              "      <th>ID</th>\n",
              "      <th>Title</th>\n",
              "      <th>Year</th>\n",
              "      <th>Age</th>\n",
              "      <th>IMDb</th>\n",
              "      <th>Rotten Tomatoes</th>\n",
              "      <th>Netflix</th>\n",
              "      <th>Hulu</th>\n",
              "      <th>Prime Video</th>\n",
              "      <th>Disney+</th>\n",
              "      <th>Type</th>\n",
              "      <th>Directors</th>\n",
              "      <th>Genres</th>\n",
              "      <th>Country</th>\n",
              "      <th>Language</th>\n",
              "      <th>Runtime</th>\n",
              "    </tr>\n",
              "  </thead>\n",
              "  <tbody>\n",
              "    <tr>\n",
              "      <th>0</th>\n",
              "      <td>1</td>\n",
              "      <td>Inception</td>\n",
              "      <td>2010</td>\n",
              "      <td>13+</td>\n",
              "      <td>8.8</td>\n",
              "      <td>87%</td>\n",
              "      <td>1</td>\n",
              "      <td>0</td>\n",
              "      <td>0</td>\n",
              "      <td>0</td>\n",
              "      <td>0</td>\n",
              "      <td>Christopher Nolan</td>\n",
              "      <td>Action,Adventure,Sci-Fi,Thriller</td>\n",
              "      <td>United States,United Kingdom</td>\n",
              "      <td>English,Japanese,French</td>\n",
              "      <td>148.0</td>\n",
              "    </tr>\n",
              "    <tr>\n",
              "      <th>1</th>\n",
              "      <td>2</td>\n",
              "      <td>The Matrix</td>\n",
              "      <td>1999</td>\n",
              "      <td>18+</td>\n",
              "      <td>8.7</td>\n",
              "      <td>87%</td>\n",
              "      <td>1</td>\n",
              "      <td>0</td>\n",
              "      <td>0</td>\n",
              "      <td>0</td>\n",
              "      <td>0</td>\n",
              "      <td>Lana Wachowski,Lilly Wachowski</td>\n",
              "      <td>Action,Sci-Fi</td>\n",
              "      <td>United States</td>\n",
              "      <td>English</td>\n",
              "      <td>136.0</td>\n",
              "    </tr>\n",
              "    <tr>\n",
              "      <th>2</th>\n",
              "      <td>3</td>\n",
              "      <td>Avengers: Infinity War</td>\n",
              "      <td>2018</td>\n",
              "      <td>13+</td>\n",
              "      <td>8.5</td>\n",
              "      <td>84%</td>\n",
              "      <td>1</td>\n",
              "      <td>0</td>\n",
              "      <td>0</td>\n",
              "      <td>0</td>\n",
              "      <td>0</td>\n",
              "      <td>Anthony Russo,Joe Russo</td>\n",
              "      <td>Action,Adventure,Sci-Fi</td>\n",
              "      <td>United States</td>\n",
              "      <td>English</td>\n",
              "      <td>149.0</td>\n",
              "    </tr>\n",
              "    <tr>\n",
              "      <th>3</th>\n",
              "      <td>4</td>\n",
              "      <td>Back to the Future</td>\n",
              "      <td>1985</td>\n",
              "      <td>7+</td>\n",
              "      <td>8.5</td>\n",
              "      <td>96%</td>\n",
              "      <td>1</td>\n",
              "      <td>0</td>\n",
              "      <td>0</td>\n",
              "      <td>0</td>\n",
              "      <td>0</td>\n",
              "      <td>Robert Zemeckis</td>\n",
              "      <td>Adventure,Comedy,Sci-Fi</td>\n",
              "      <td>United States</td>\n",
              "      <td>English</td>\n",
              "      <td>116.0</td>\n",
              "    </tr>\n",
              "    <tr>\n",
              "      <th>4</th>\n",
              "      <td>5</td>\n",
              "      <td>The Good, the Bad and the Ugly</td>\n",
              "      <td>1966</td>\n",
              "      <td>18+</td>\n",
              "      <td>8.8</td>\n",
              "      <td>97%</td>\n",
              "      <td>1</td>\n",
              "      <td>0</td>\n",
              "      <td>1</td>\n",
              "      <td>0</td>\n",
              "      <td>0</td>\n",
              "      <td>Sergio Leone</td>\n",
              "      <td>Western</td>\n",
              "      <td>Italy,Spain,West Germany</td>\n",
              "      <td>Italian</td>\n",
              "      <td>161.0</td>\n",
              "    </tr>\n",
              "  </tbody>\n",
              "</table>\n",
              "</div>"
            ],
            "text/plain": [
              "   ID                           Title  ...                 Language Runtime\n",
              "0   1                       Inception  ...  English,Japanese,French   148.0\n",
              "1   2                      The Matrix  ...                  English   136.0\n",
              "2   3          Avengers: Infinity War  ...                  English   149.0\n",
              "3   4              Back to the Future  ...                  English   116.0\n",
              "4   5  The Good, the Bad and the Ugly  ...                  Italian   161.0\n",
              "\n",
              "[5 rows x 16 columns]"
            ]
          },
          "metadata": {
            "tags": []
          },
          "execution_count": 4
        }
      ]
    },
    {
      "cell_type": "code",
      "metadata": {
        "colab": {
          "base_uri": "https://localhost:8080/"
        },
        "id": "Urpb6h8nMJOJ",
        "outputId": "ab295b2b-e32a-4fdb-e234-77528d6ab585"
      },
      "source": [
        "# Show initial information about the dataset\n",
        "df.info()\n"
      ],
      "execution_count": 6,
      "outputs": [
        {
          "output_type": "stream",
          "text": [
            "<class 'pandas.core.frame.DataFrame'>\n",
            "RangeIndex: 16744 entries, 0 to 16743\n",
            "Data columns (total 16 columns):\n",
            " #   Column           Non-Null Count  Dtype  \n",
            "---  ------           --------------  -----  \n",
            " 0   ID               16744 non-null  int64  \n",
            " 1   Title            16744 non-null  object \n",
            " 2   Year             16744 non-null  int64  \n",
            " 3   Age              7354 non-null   object \n",
            " 4   IMDb             16173 non-null  float64\n",
            " 5   Rotten Tomatoes  5158 non-null   object \n",
            " 6   Netflix          16744 non-null  int64  \n",
            " 7   Hulu             16744 non-null  int64  \n",
            " 8   Prime Video      16744 non-null  int64  \n",
            " 9   Disney+          16744 non-null  int64  \n",
            " 10  Type             16744 non-null  int64  \n",
            " 11  Directors        16018 non-null  object \n",
            " 12  Genres           16469 non-null  object \n",
            " 13  Country          16309 non-null  object \n",
            " 14  Language         16145 non-null  object \n",
            " 15  Runtime          16152 non-null  float64\n",
            "dtypes: float64(2), int64(7), object(7)\n",
            "memory usage: 2.0+ MB\n"
          ],
          "name": "stdout"
        }
      ]
    },
    {
      "cell_type": "code",
      "metadata": {
        "colab": {
          "base_uri": "https://localhost:8080/"
        },
        "id": "gv1h05VxMK9w",
        "outputId": "939665b7-2b8c-4f48-d671-56f4e5230a28"
      },
      "source": [
        "df.Type.unique()"
      ],
      "execution_count": 7,
      "outputs": [
        {
          "output_type": "execute_result",
          "data": {
            "text/plain": [
              "array([0])"
            ]
          },
          "metadata": {
            "tags": []
          },
          "execution_count": 7
        }
      ]
    },
    {
      "cell_type": "code",
      "metadata": {
        "colab": {
          "base_uri": "https://localhost:8080/",
          "height": 521
        },
        "id": "LTLDBTnIMOQX",
        "outputId": "c7b9ff13-7c35-46ba-f3ad-edb3077c0cf2"
      },
      "source": [
        "#Finding Missing values in all columns\n",
        "miss = pd.DataFrame(df.isnull().sum())\n",
        "miss = miss.rename(columns={0:\"miss_count\"})\n",
        "miss[\"miss_%\"] = (miss.miss_count/len(df.ID))*100\n",
        "miss\n"
      ],
      "execution_count": 8,
      "outputs": [
        {
          "output_type": "execute_result",
          "data": {
            "text/html": [
              "<div>\n",
              "<style scoped>\n",
              "    .dataframe tbody tr th:only-of-type {\n",
              "        vertical-align: middle;\n",
              "    }\n",
              "\n",
              "    .dataframe tbody tr th {\n",
              "        vertical-align: top;\n",
              "    }\n",
              "\n",
              "    .dataframe thead th {\n",
              "        text-align: right;\n",
              "    }\n",
              "</style>\n",
              "<table border=\"1\" class=\"dataframe\">\n",
              "  <thead>\n",
              "    <tr style=\"text-align: right;\">\n",
              "      <th></th>\n",
              "      <th>miss_count</th>\n",
              "      <th>miss_%</th>\n",
              "    </tr>\n",
              "  </thead>\n",
              "  <tbody>\n",
              "    <tr>\n",
              "      <th>ID</th>\n",
              "      <td>0</td>\n",
              "      <td>0.000000</td>\n",
              "    </tr>\n",
              "    <tr>\n",
              "      <th>Title</th>\n",
              "      <td>0</td>\n",
              "      <td>0.000000</td>\n",
              "    </tr>\n",
              "    <tr>\n",
              "      <th>Year</th>\n",
              "      <td>0</td>\n",
              "      <td>0.000000</td>\n",
              "    </tr>\n",
              "    <tr>\n",
              "      <th>Age</th>\n",
              "      <td>9390</td>\n",
              "      <td>56.079790</td>\n",
              "    </tr>\n",
              "    <tr>\n",
              "      <th>IMDb</th>\n",
              "      <td>571</td>\n",
              "      <td>3.410177</td>\n",
              "    </tr>\n",
              "    <tr>\n",
              "      <th>Rotten Tomatoes</th>\n",
              "      <td>11586</td>\n",
              "      <td>69.194935</td>\n",
              "    </tr>\n",
              "    <tr>\n",
              "      <th>Netflix</th>\n",
              "      <td>0</td>\n",
              "      <td>0.000000</td>\n",
              "    </tr>\n",
              "    <tr>\n",
              "      <th>Hulu</th>\n",
              "      <td>0</td>\n",
              "      <td>0.000000</td>\n",
              "    </tr>\n",
              "    <tr>\n",
              "      <th>Prime Video</th>\n",
              "      <td>0</td>\n",
              "      <td>0.000000</td>\n",
              "    </tr>\n",
              "    <tr>\n",
              "      <th>Disney+</th>\n",
              "      <td>0</td>\n",
              "      <td>0.000000</td>\n",
              "    </tr>\n",
              "    <tr>\n",
              "      <th>Type</th>\n",
              "      <td>0</td>\n",
              "      <td>0.000000</td>\n",
              "    </tr>\n",
              "    <tr>\n",
              "      <th>Directors</th>\n",
              "      <td>726</td>\n",
              "      <td>4.335882</td>\n",
              "    </tr>\n",
              "    <tr>\n",
              "      <th>Genres</th>\n",
              "      <td>275</td>\n",
              "      <td>1.642379</td>\n",
              "    </tr>\n",
              "    <tr>\n",
              "      <th>Country</th>\n",
              "      <td>435</td>\n",
              "      <td>2.597946</td>\n",
              "    </tr>\n",
              "    <tr>\n",
              "      <th>Language</th>\n",
              "      <td>599</td>\n",
              "      <td>3.577401</td>\n",
              "    </tr>\n",
              "    <tr>\n",
              "      <th>Runtime</th>\n",
              "      <td>592</td>\n",
              "      <td>3.535595</td>\n",
              "    </tr>\n",
              "  </tbody>\n",
              "</table>\n",
              "</div>"
            ],
            "text/plain": [
              "                 miss_count     miss_%\n",
              "ID                        0   0.000000\n",
              "Title                     0   0.000000\n",
              "Year                      0   0.000000\n",
              "Age                    9390  56.079790\n",
              "IMDb                    571   3.410177\n",
              "Rotten Tomatoes       11586  69.194935\n",
              "Netflix                   0   0.000000\n",
              "Hulu                      0   0.000000\n",
              "Prime Video               0   0.000000\n",
              "Disney+                   0   0.000000\n",
              "Type                      0   0.000000\n",
              "Directors               726   4.335882\n",
              "Genres                  275   1.642379\n",
              "Country                 435   2.597946\n",
              "Language                599   3.577401\n",
              "Runtime                 592   3.535595"
            ]
          },
          "metadata": {
            "tags": []
          },
          "execution_count": 8
        }
      ]
    },
    {
      "cell_type": "code",
      "metadata": {
        "id": "svT2qQXCMQYp"
      },
      "source": [
        "\n",
        "# Dropping values with missing % more than 50%\n",
        "df.drop(['Rotten Tomatoes', 'Age'], axis = 1, inplace=True)\n",
        "# Dropping Na's from the following columns\n",
        "df.dropna(subset=['IMDb','Directors', 'Genres', 'Country', 'Language', 'Runtime'],inplace=True)\n",
        "df.reset_index(inplace=True,drop=True)\n",
        "# Converting into object type\n",
        "df.Year = df.Year.astype(\"object\")\n"
      ],
      "execution_count": 9,
      "outputs": []
    },
    {
      "cell_type": "code",
      "metadata": {
        "colab": {
          "base_uri": "https://localhost:8080/"
        },
        "id": "_6aMx0mRMW0N",
        "outputId": "ad816c41-f1f1-4457-d3cb-e3e750bc97aa"
      },
      "source": [
        "df.info()"
      ],
      "execution_count": 10,
      "outputs": [
        {
          "output_type": "stream",
          "text": [
            "<class 'pandas.core.frame.DataFrame'>\n",
            "RangeIndex: 15233 entries, 0 to 15232\n",
            "Data columns (total 14 columns):\n",
            " #   Column       Non-Null Count  Dtype  \n",
            "---  ------       --------------  -----  \n",
            " 0   ID           15233 non-null  int64  \n",
            " 1   Title        15233 non-null  object \n",
            " 2   Year         15233 non-null  object \n",
            " 3   IMDb         15233 non-null  float64\n",
            " 4   Netflix      15233 non-null  int64  \n",
            " 5   Hulu         15233 non-null  int64  \n",
            " 6   Prime Video  15233 non-null  int64  \n",
            " 7   Disney+      15233 non-null  int64  \n",
            " 8   Type         15233 non-null  int64  \n",
            " 9   Directors    15233 non-null  object \n",
            " 10  Genres       15233 non-null  object \n",
            " 11  Country      15233 non-null  object \n",
            " 12  Language     15233 non-null  object \n",
            " 13  Runtime      15233 non-null  float64\n",
            "dtypes: float64(2), int64(6), object(6)\n",
            "memory usage: 1.6+ MB\n"
          ],
          "name": "stdout"
        }
      ]
    },
    {
      "cell_type": "code",
      "metadata": {
        "id": "N0vyPSmHMZmz"
      },
      "source": [
        "#A function to calculate the movies in different Streaming platforms\n",
        "def m_cnt(plat, count=False):\n",
        "  if count==False:\n",
        "    print('Platform {} Count: {}'. format(plat, df[plat].sum()))\n",
        "  else:\n",
        "    return df[plat].sum()"
      ],
      "execution_count": 12,
      "outputs": []
    },
    {
      "cell_type": "code",
      "metadata": {
        "colab": {
          "base_uri": "https://localhost:8080/"
        },
        "id": "Wyyfg3cTMf_6",
        "outputId": "957529a1-74c6-4ea7-b7e5-53358a177447"
      },
      "source": [
        "# Let's see count of movies/shows of each streaming platform\n",
        "m_cnt('Netflix')\n",
        "m_cnt('Hulu')\n",
        "m_cnt('Prime Video')\n",
        "m_cnt('Disney+')"
      ],
      "execution_count": 14,
      "outputs": [
        {
          "output_type": "stream",
          "text": [
            "Platform Netflix Count: 3152\n",
            "Platform Hulu Count: 848\n",
            "Platform Prime Video Count: 11289\n",
            "Platform Disney+ Count: 542\n"
          ],
          "name": "stdout"
        }
      ]
    },
    {
      "cell_type": "code",
      "metadata": {
        "colab": {
          "base_uri": "https://localhost:8080/",
          "height": 249
        },
        "id": "QJdN6CyqMj78",
        "outputId": "920bca82-15db-4388-d7ba-f42b407f373b"
      },
      "source": [
        "# Movies on each platform\n",
        "lab = 'Prime Video','Netflix', 'Hulu', 'Disney'\n",
        "s = [m_cnt('Prime Video', count=True),\n",
        "m_cnt('Netflix', count=True),\n",
        "m_cnt('Hulu', count=True),\n",
        "m_cnt('Disney+', count=True)]\n",
        "explode = (0.1, 0.1, 0.1, 0.1)\n",
        "#plotting\n",
        "fig1, ax1 = plt.subplots()\n",
        "ax1.pie(s,\n",
        "labels = lab,autopct = '%1.1f%%',explode = explode,shadow = True,startangle = 100)\n",
        "ax1.axis = ('equal')\n",
        "plt.show()"
      ],
      "execution_count": 16,
      "outputs": [
        {
          "output_type": "display_data",
          "data": {
            "image/png": "[encoded data removed]",
            "text/plain": [
              "<Figure size 432x288 with 1 Axes>"
            ]
          },
          "metadata": {
            "tags": []
          }
        }
      ]
    },
    {
      "cell_type": "code",
      "metadata": {
        "id": "QDknqNrjMtb4"
      },
      "source": [
        "##split the genres by ',' & then stack it one after the other for easy analysis.\n",
        "g = df['Genres'].str.split(',').apply(pd.Series, 1).stack()\n",
        "g.index = g.index.droplevel(-1)\n",
        "# Assign name to column\n",
        "g.name = 'Genres'\n",
        "# delete column\n",
        "del df['Genres']\n",
        "# join new column with the existing dataframe\n",
        "df_genres = df.join(g)"
      ],
      "execution_count": 17,
      "outputs": []
    },
    {
      "cell_type": "code",
      "metadata": {
        "colab": {
          "base_uri": "https://localhost:8080/",
          "height": 391
        },
        "id": "Xo5xf5ieMzDm",
        "outputId": "c7aaf91b-2e8a-49fe-eb9d-319be5709673"
      },
      "source": [
        "# Count of movies according to genre\n",
        "plt.figure(figsize=(15,5))\n",
        "sns.countplot(x='Genres', data=df_genres)\n",
        "plt.xticks(rotation=90)\n",
        "plt.show()\n",
        "#"
      ],
      "execution_count": 18,
      "outputs": [
        {
          "output_type": "display_data",
          "data": {
            "image/png": "[encoded data removed]",
            "text/plain": [
              "<Figure size 1080x360 with 1 Axes>"
            ]
          },
          "metadata": {
            "tags": [],
            "needs_background": "light"
          }
        }
      ]
    },
    {
      "cell_type": "code",
      "metadata": {
        "id": "gHcj9vGiM1TE"
      },
      "source": [
        "# Split the Country by ',' & then stack it one after the other for easy analysis.\n",
        "c = df['Country'].str.split(',').apply(pd.Series, 1).stack()\n",
        "c.index = c.index.droplevel(-1)\n",
        "# Assign name to column\n",
        "c.name = 'Country'\n",
        "# delete column\n",
        "del df['Country']\n",
        "# join new column with the existing dataframe\n",
        "df_country = df.join(c)\n",
        "#"
      ],
      "execution_count": 19,
      "outputs": []
    },
    {
      "cell_type": "code",
      "metadata": {
        "colab": {
          "base_uri": "https://localhost:8080/",
          "height": 390
        },
        "id": "I1sfAA7xM3UT",
        "outputId": "f6bc4926-d06f-49de-ef19-29b4df9ab2f0"
      },
      "source": [
        "# plotting top 10 country and movie count\n",
        "df_country['Country'].value_counts()[:10].plot(kind='bar',figsize=(15,5))\n",
        "plt.show()\n",
        "#"
      ],
      "execution_count": 20,
      "outputs": [
        {
          "output_type": "display_data",
          "data": {
            "image/png": "[encoded data removed]",
            "text/plain": [
              "<Figure size 1080x360 with 1 Axes>"
            ]
          },
          "metadata": {
            "tags": [],
            "needs_background": "light"
          }
        }
      ]
    },
    {
      "cell_type": "code",
      "metadata": {
        "id": "1epPhpd0M4-u"
      },
      "source": [
        "# perform stacking operation on language column\n",
        "l = df['Language'].str.split(',').apply(pd.Series,1).stack()\n",
        "l.index = l.index.droplevel(-1)\n",
        "# Assign name to column\n",
        "l.name = 'Language'\n",
        "# delete column\n",
        "del df['Language']\n",
        "# join new column with the existing dataframe\n",
        "df_language = df.join(l)\n",
        "#"
      ],
      "execution_count": 21,
      "outputs": []
    },
    {
      "cell_type": "code",
      "metadata": {
        "colab": {
          "base_uri": "https://localhost:8080/",
          "height": 254
        },
        "id": "Pg8M4oyJM7l6",
        "outputId": "9413abab-e716-4ce3-8ddb-6f0c410e5b8a"
      },
      "source": [
        "# plotting top 10 Language and movie count\n",
        "df_language['Language'].value_counts()[:10].plot(kind='bar',figsize=(15,3))\n",
        "plt.show()"
      ],
      "execution_count": 22,
      "outputs": [
        {
          "output_type": "display_data",
          "data": {
            "image/png": "[encoded data removed]",
            "text/plain": [
              "<Figure size 1080x216 with 1 Axes>"
            ]
          },
          "metadata": {
            "tags": [],
            "needs_background": "light"
          }
        }
      ]
    },
    {
      "cell_type": "code",
      "metadata": {
        "id": "DV1PNls-M_E_"
      },
      "source": [
        "# melting platform columns to create visualization\n",
        "df2 = pd.melt(df, id_vars=[\"ID\",\"Title\",\"Year\",\"IMDb\",\"Type\",\"Runtime\"], var_name=\"platform\")\n",
        "df2 = df2[df2.value==1]\n",
        "df2.drop(columns=[\"value\"],axis=1,inplace=True)"
      ],
      "execution_count": 23,
      "outputs": []
    },
    {
      "cell_type": "code",
      "metadata": {
        "colab": {
          "base_uri": "https://localhost:8080/",
          "height": 225
        },
        "id": "FmeRhCOtNAxc",
        "outputId": "f36bd5cb-05cb-4117-e20f-551369c7ca6d"
      },
      "source": [
        "# Distribution of IMDB rating in different platform\n",
        "g = sns.FacetGrid(df2, col = \"platform\")\n",
        "g.map(plt.hist, \"IMDb\")\n",
        "plt.show()"
      ],
      "execution_count": 24,
      "outputs": [
        {
          "output_type": "display_data",
          "data": {
            "image/png": "[encoded data removed]",
            "text/plain": [
              "<Figure size 864x216 with 4 Axes>"
            ]
          },
          "metadata": {
            "tags": [],
            "needs_background": "light"
          }
        }
      ]
    },
    {
      "cell_type": "code",
      "metadata": {
        "id": "1V02xlpAND0J"
      },
      "source": [
        "# Load dataset\n",
        "df = pd.read_csv(\"tvshow.csv\")\n",
        "df=df.iloc[:,1:]\n",
        "df.ID = df.ID.astype(\"object\")\n",
        "# melting platform columns to create visualization\n",
        "df2 = pd.melt(df, id_vars=[\"ID\",\"Title\",\"Year\",\"Age\",\"IMDb\",\"Rotten Tomatoes\",\"Type\",\"Runtime\"], var_name=\"platform\")\n",
        "df2 = df2[df2.value==1]\n",
        "df2.drop(columns=[\"value\"],axis=1,inplace=True)\n",
        "#"
      ],
      "execution_count": 25,
      "outputs": []
    },
    {
      "cell_type": "code",
      "metadata": {
        "colab": {
          "base_uri": "https://localhost:8080/",
          "height": 279
        },
        "id": "FC2RqB16NGuZ",
        "outputId": "4315a905-bd65-4687-84bd-912808a007c1"
      },
      "source": [
        "# Total of runtime in different platform\n",
        "ax = sns.barplot(x=\"platform\", y=\"Runtime\",hue=\"Age\", estimator=sum, data=df2)"
      ],
      "execution_count": 26,
      "outputs": [
        {
          "output_type": "display_data",
          "data": {
            "image/png": "[encoded data removed]",
            "text/plain": [
              "<Figure size 432x288 with 1 Axes>"
            ]
          },
          "metadata": {
            "tags": [],
            "needs_background": "light"
          }
        }
      ]
    },
    {
      "cell_type": "code",
      "metadata": {
        "id": "Az3ByPtyN4mV"
      },
      "source": [
        "# Reading Data Again\n",
        "df = pd.read_csv(\"/content/tvshow.csv\")\n",
        "df=df.iloc[:,1:]"
      ],
      "execution_count": 31,
      "outputs": []
    },
    {
      "cell_type": "code",
      "metadata": {
        "colab": {
          "base_uri": "https://localhost:8080/",
          "height": 521
        },
        "id": "366_pqU-N4pn",
        "outputId": "3e915f04-38f9-43e7-ff4d-4179673e3600"
      },
      "source": [
        "#Finding Missing values in all columns\n",
        "miss = pd.DataFrame(df.isnull().sum())\n",
        "miss = miss.rename(columns={0:\"miss_count\"})\n",
        "miss[\"miss_%\"] = (miss.miss_count/len(df.ID))*100\n",
        "miss"
      ],
      "execution_count": 32,
      "outputs": [
        {
          "output_type": "execute_result",
          "data": {
            "text/html": [
              "<div>\n",
              "<style scoped>\n",
              "    .dataframe tbody tr th:only-of-type {\n",
              "        vertical-align: middle;\n",
              "    }\n",
              "\n",
              "    .dataframe tbody tr th {\n",
              "        vertical-align: top;\n",
              "    }\n",
              "\n",
              "    .dataframe thead th {\n",
              "        text-align: right;\n",
              "    }\n",
              "</style>\n",
              "<table border=\"1\" class=\"dataframe\">\n",
              "  <thead>\n",
              "    <tr style=\"text-align: right;\">\n",
              "      <th></th>\n",
              "      <th>miss_count</th>\n",
              "      <th>miss_%</th>\n",
              "    </tr>\n",
              "  </thead>\n",
              "  <tbody>\n",
              "    <tr>\n",
              "      <th>ID</th>\n",
              "      <td>0</td>\n",
              "      <td>0.000000</td>\n",
              "    </tr>\n",
              "    <tr>\n",
              "      <th>Title</th>\n",
              "      <td>0</td>\n",
              "      <td>0.000000</td>\n",
              "    </tr>\n",
              "    <tr>\n",
              "      <th>Year</th>\n",
              "      <td>0</td>\n",
              "      <td>0.000000</td>\n",
              "    </tr>\n",
              "    <tr>\n",
              "      <th>Age</th>\n",
              "      <td>9390</td>\n",
              "      <td>56.079790</td>\n",
              "    </tr>\n",
              "    <tr>\n",
              "      <th>IMDb</th>\n",
              "      <td>571</td>\n",
              "      <td>3.410177</td>\n",
              "    </tr>\n",
              "    <tr>\n",
              "      <th>Rotten Tomatoes</th>\n",
              "      <td>11586</td>\n",
              "      <td>69.194935</td>\n",
              "    </tr>\n",
              "    <tr>\n",
              "      <th>Netflix</th>\n",
              "      <td>0</td>\n",
              "      <td>0.000000</td>\n",
              "    </tr>\n",
              "    <tr>\n",
              "      <th>Hulu</th>\n",
              "      <td>0</td>\n",
              "      <td>0.000000</td>\n",
              "    </tr>\n",
              "    <tr>\n",
              "      <th>Prime Video</th>\n",
              "      <td>0</td>\n",
              "      <td>0.000000</td>\n",
              "    </tr>\n",
              "    <tr>\n",
              "      <th>Disney+</th>\n",
              "      <td>0</td>\n",
              "      <td>0.000000</td>\n",
              "    </tr>\n",
              "    <tr>\n",
              "      <th>Type</th>\n",
              "      <td>0</td>\n",
              "      <td>0.000000</td>\n",
              "    </tr>\n",
              "    <tr>\n",
              "      <th>Directors</th>\n",
              "      <td>726</td>\n",
              "      <td>4.335882</td>\n",
              "    </tr>\n",
              "    <tr>\n",
              "      <th>Genres</th>\n",
              "      <td>275</td>\n",
              "      <td>1.642379</td>\n",
              "    </tr>\n",
              "    <tr>\n",
              "      <th>Country</th>\n",
              "      <td>435</td>\n",
              "      <td>2.597946</td>\n",
              "    </tr>\n",
              "    <tr>\n",
              "      <th>Language</th>\n",
              "      <td>599</td>\n",
              "      <td>3.577401</td>\n",
              "    </tr>\n",
              "    <tr>\n",
              "      <th>Runtime</th>\n",
              "      <td>592</td>\n",
              "      <td>3.535595</td>\n",
              "    </tr>\n",
              "  </tbody>\n",
              "</table>\n",
              "</div>"
            ],
            "text/plain": [
              "                 miss_count     miss_%\n",
              "ID                        0   0.000000\n",
              "Title                     0   0.000000\n",
              "Year                      0   0.000000\n",
              "Age                    9390  56.079790\n",
              "IMDb                    571   3.410177\n",
              "Rotten Tomatoes       11586  69.194935\n",
              "Netflix                   0   0.000000\n",
              "Hulu                      0   0.000000\n",
              "Prime Video               0   0.000000\n",
              "Disney+                   0   0.000000\n",
              "Type                      0   0.000000\n",
              "Directors               726   4.335882\n",
              "Genres                  275   1.642379\n",
              "Country                 435   2.597946\n",
              "Language                599   3.577401\n",
              "Runtime                 592   3.535595"
            ]
          },
          "metadata": {
            "tags": []
          },
          "execution_count": 32
        }
      ]
    },
    {
      "cell_type": "code",
      "metadata": {
        "id": "yNGrTzX1N4wW"
      },
      "source": [
        "#Dropping values with missing % more than 50%\n",
        "df.drop(['Rotten Tomatoes', 'Age'], axis = 1, inplace=True)\n",
        "# Dropping Na's from the following columns\n",
        "df.dropna(subset=['IMDb','Directors', 'Genres', 'Country', 'Language', 'Runtime'],inplace=True)\n",
        "df.reset_index(inplace=True,drop=True)\n",
        "# converting into object type\n",
        "df.ID = df.ID.astype(\"object\")\n",
        "df.Year = df.Year.astype(\"object\")"
      ],
      "execution_count": 36,
      "outputs": []
    },
    {
      "cell_type": "code",
      "metadata": {
        "id": "o9A25YW2NIjz"
      },
      "source": [
        "ndf = df.select_dtypes(include=['float64',\"int64\"])"
      ],
      "execution_count": 37,
      "outputs": []
    },
    {
      "cell_type": "code",
      "metadata": {
        "colab": {
          "base_uri": "https://localhost:8080/",
          "height": 195
        },
        "id": "Fqit3THoNNH9",
        "outputId": "04ad1969-2f38-4192-a338-c1cbbc4d67d2"
      },
      "source": [
        "#importing minmax scaler\n",
        "from sklearn import preprocessing\n",
        "# Create MinMaxScaler Object\n",
        "scaler = preprocessing.MinMaxScaler(feature_range=(0, 1))\n",
        "# Create dataframe after transformation\n",
        "ndfmx = pd.DataFrame((scaler.fit_transform(ndf)))\n",
        "# assign column names\n",
        "ndfmx.columns=ndf.columns\n",
        "# Show initial 5 records\n",
        "ndfmx.head()"
      ],
      "execution_count": 38,
      "outputs": [
        {
          "output_type": "execute_result",
          "data": {
            "text/html": [
              "<div>\n",
              "<style scoped>\n",
              "    .dataframe tbody tr th:only-of-type {\n",
              "        vertical-align: middle;\n",
              "    }\n",
              "\n",
              "    .dataframe tbody tr th {\n",
              "        vertical-align: top;\n",
              "    }\n",
              "\n",
              "    .dataframe thead th {\n",
              "        text-align: right;\n",
              "    }\n",
              "</style>\n",
              "<table border=\"1\" class=\"dataframe\">\n",
              "  <thead>\n",
              "    <tr style=\"text-align: right;\">\n",
              "      <th></th>\n",
              "      <th>IMDb</th>\n",
              "      <th>Netflix</th>\n",
              "      <th>Hulu</th>\n",
              "      <th>Prime Video</th>\n",
              "      <th>Disney+</th>\n",
              "      <th>Type</th>\n",
              "      <th>Runtime</th>\n",
              "    </tr>\n",
              "  </thead>\n",
              "  <tbody>\n",
              "    <tr>\n",
              "      <th>0</th>\n",
              "      <td>0.946237</td>\n",
              "      <td>1.0</td>\n",
              "      <td>0.0</td>\n",
              "      <td>0.0</td>\n",
              "      <td>0.0</td>\n",
              "      <td>0.0</td>\n",
              "      <td>0.449541</td>\n",
              "    </tr>\n",
              "    <tr>\n",
              "      <th>1</th>\n",
              "      <td>0.935484</td>\n",
              "      <td>1.0</td>\n",
              "      <td>0.0</td>\n",
              "      <td>0.0</td>\n",
              "      <td>0.0</td>\n",
              "      <td>0.0</td>\n",
              "      <td>0.412844</td>\n",
              "    </tr>\n",
              "    <tr>\n",
              "      <th>2</th>\n",
              "      <td>0.913978</td>\n",
              "      <td>1.0</td>\n",
              "      <td>0.0</td>\n",
              "      <td>0.0</td>\n",
              "      <td>0.0</td>\n",
              "      <td>0.0</td>\n",
              "      <td>0.452599</td>\n",
              "    </tr>\n",
              "    <tr>\n",
              "      <th>3</th>\n",
              "      <td>0.913978</td>\n",
              "      <td>1.0</td>\n",
              "      <td>0.0</td>\n",
              "      <td>0.0</td>\n",
              "      <td>0.0</td>\n",
              "      <td>0.0</td>\n",
              "      <td>0.351682</td>\n",
              "    </tr>\n",
              "    <tr>\n",
              "      <th>4</th>\n",
              "      <td>0.946237</td>\n",
              "      <td>1.0</td>\n",
              "      <td>0.0</td>\n",
              "      <td>1.0</td>\n",
              "      <td>0.0</td>\n",
              "      <td>0.0</td>\n",
              "      <td>0.489297</td>\n",
              "    </tr>\n",
              "  </tbody>\n",
              "</table>\n",
              "</div>"
            ],
            "text/plain": [
              "       IMDb  Netflix  Hulu  Prime Video  Disney+  Type   Runtime\n",
              "0  0.946237      1.0   0.0          0.0      0.0   0.0  0.449541\n",
              "1  0.935484      1.0   0.0          0.0      0.0   0.0  0.412844\n",
              "2  0.913978      1.0   0.0          0.0      0.0   0.0  0.452599\n",
              "3  0.913978      1.0   0.0          0.0      0.0   0.0  0.351682\n",
              "4  0.946237      1.0   0.0          1.0      0.0   0.0  0.489297"
            ]
          },
          "metadata": {
            "tags": []
          },
          "execution_count": 38
        }
      ]
    },
    {
      "cell_type": "code",
      "metadata": {
        "id": "YoIYnYQqNgH-"
      },
      "source": [
        "# Import cosine similarity\n",
        "from sklearn.metrics.pairwise import cosine_similarity\n",
        "# Compute the cosine similarity\n",
        "sig = cosine_similarity(ndfmx, ndfmx)\n",
        "# Reverse mapping of indices and movie titles\n",
        "indices = pd.Series(df.index, index=df['Title']).drop_duplicates()\n",
        "#"
      ],
      "execution_count": 39,
      "outputs": []
    },
    {
      "cell_type": "code",
      "metadata": {
        "colab": {
          "base_uri": "https://localhost:8080/"
        },
        "id": "5hXkLd-CNiUC",
        "outputId": "37a6b92a-dc03-4639-8012-f73c7bdbe683"
      },
      "source": [
        "indices.head()"
      ],
      "execution_count": 40,
      "outputs": [
        {
          "output_type": "execute_result",
          "data": {
            "text/plain": [
              "Title\n",
              "Inception                         0\n",
              "The Matrix                        1\n",
              "Avengers: Infinity War            2\n",
              "Back to the Future                3\n",
              "The Good, the Bad and the Ugly    4\n",
              "dtype: int64"
            ]
          },
          "metadata": {
            "tags": []
          },
          "execution_count": 40
        }
      ]
    },
    {
      "cell_type": "code",
      "metadata": {
        "id": "sdGACHxcVX5m"
      },
      "source": [
        "def give_rec(title, sig=sig):\n",
        "    # Get the index corresponding to original_title\n",
        "    idx = indices[title]\n",
        "    # Get the pairwise similarity scores\n",
        "    sig_scores = list(enumerate(sig[idx]))\n",
        "    # Sort the movies\n",
        "    sig_scores = sorted(sig_scores, key=lambda x: x[1], reverse=True)\n",
        "    # Scores of the 10 most similar movies\n",
        "    sig_scores = sig_scores[1:11]\n",
        "    # Movie indices\n",
        "    movie_indices = [i[0] for i in sig_scores]\n",
        "    # Top 10 most similar movies\n",
        "    return df['Title'].iloc[movie_indices]"
      ],
      "execution_count": 41,
      "outputs": []
    },
    {
      "cell_type": "code",
      "metadata": {
        "colab": {
          "base_uri": "https://localhost:8080/",
          "height": 262
        },
        "id": "WEZuJf2uVaJg",
        "outputId": "cf06c85d-2d5f-40ba-cf0b-139a29c50c66"
      },
      "source": [
        "df.head()"
      ],
      "execution_count": 42,
      "outputs": [
        {
          "output_type": "execute_result",
          "data": {
            "text/html": [
              "<div>\n",
              "<style scoped>\n",
              "    .dataframe tbody tr th:only-of-type {\n",
              "        vertical-align: middle;\n",
              "    }\n",
              "\n",
              "    .dataframe tbody tr th {\n",
              "        vertical-align: top;\n",
              "    }\n",
              "\n",
              "    .dataframe thead th {\n",
              "        text-align: right;\n",
              "    }\n",
              "</style>\n",
              "<table border=\"1\" class=\"dataframe\">\n",
              "  <thead>\n",
              "    <tr style=\"text-align: right;\">\n",
              "      <th></th>\n",
              "      <th>ID</th>\n",
              "      <th>Title</th>\n",
              "      <th>Year</th>\n",
              "      <th>IMDb</th>\n",
              "      <th>Netflix</th>\n",
              "      <th>Hulu</th>\n",
              "      <th>Prime Video</th>\n",
              "      <th>Disney+</th>\n",
              "      <th>Type</th>\n",
              "      <th>Directors</th>\n",
              "      <th>Genres</th>\n",
              "      <th>Country</th>\n",
              "      <th>Language</th>\n",
              "      <th>Runtime</th>\n",
              "    </tr>\n",
              "  </thead>\n",
              "  <tbody>\n",
              "    <tr>\n",
              "      <th>0</th>\n",
              "      <td>1</td>\n",
              "      <td>Inception</td>\n",
              "      <td>2010</td>\n",
              "      <td>8.8</td>\n",
              "      <td>1</td>\n",
              "      <td>0</td>\n",
              "      <td>0</td>\n",
              "      <td>0</td>\n",
              "      <td>0</td>\n",
              "      <td>Christopher Nolan</td>\n",
              "      <td>Action,Adventure,Sci-Fi,Thriller</td>\n",
              "      <td>United States,United Kingdom</td>\n",
              "      <td>English,Japanese,French</td>\n",
              "      <td>148.0</td>\n",
              "    </tr>\n",
              "    <tr>\n",
              "      <th>1</th>\n",
              "      <td>2</td>\n",
              "      <td>The Matrix</td>\n",
              "      <td>1999</td>\n",
              "      <td>8.7</td>\n",
              "      <td>1</td>\n",
              "      <td>0</td>\n",
              "      <td>0</td>\n",
              "      <td>0</td>\n",
              "      <td>0</td>\n",
              "      <td>Lana Wachowski,Lilly Wachowski</td>\n",
              "      <td>Action,Sci-Fi</td>\n",
              "      <td>United States</td>\n",
              "      <td>English</td>\n",
              "      <td>136.0</td>\n",
              "    </tr>\n",
              "    <tr>\n",
              "      <th>2</th>\n",
              "      <td>3</td>\n",
              "      <td>Avengers: Infinity War</td>\n",
              "      <td>2018</td>\n",
              "      <td>8.5</td>\n",
              "      <td>1</td>\n",
              "      <td>0</td>\n",
              "      <td>0</td>\n",
              "      <td>0</td>\n",
              "      <td>0</td>\n",
              "      <td>Anthony Russo,Joe Russo</td>\n",
              "      <td>Action,Adventure,Sci-Fi</td>\n",
              "      <td>United States</td>\n",
              "      <td>English</td>\n",
              "      <td>149.0</td>\n",
              "    </tr>\n",
              "    <tr>\n",
              "      <th>3</th>\n",
              "      <td>4</td>\n",
              "      <td>Back to the Future</td>\n",
              "      <td>1985</td>\n",
              "      <td>8.5</td>\n",
              "      <td>1</td>\n",
              "      <td>0</td>\n",
              "      <td>0</td>\n",
              "      <td>0</td>\n",
              "      <td>0</td>\n",
              "      <td>Robert Zemeckis</td>\n",
              "      <td>Adventure,Comedy,Sci-Fi</td>\n",
              "      <td>United States</td>\n",
              "      <td>English</td>\n",
              "      <td>116.0</td>\n",
              "    </tr>\n",
              "    <tr>\n",
              "      <th>4</th>\n",
              "      <td>5</td>\n",
              "      <td>The Good, the Bad and the Ugly</td>\n",
              "      <td>1966</td>\n",
              "      <td>8.8</td>\n",
              "      <td>1</td>\n",
              "      <td>0</td>\n",
              "      <td>1</td>\n",
              "      <td>0</td>\n",
              "      <td>0</td>\n",
              "      <td>Sergio Leone</td>\n",
              "      <td>Western</td>\n",
              "      <td>Italy,Spain,West Germany</td>\n",
              "      <td>Italian</td>\n",
              "      <td>161.0</td>\n",
              "    </tr>\n",
              "  </tbody>\n",
              "</table>\n",
              "</div>"
            ],
            "text/plain": [
              "  ID                           Title  ...                 Language  Runtime\n",
              "0  1                       Inception  ...  English,Japanese,French    148.0\n",
              "1  2                      The Matrix  ...                  English    136.0\n",
              "2  3          Avengers: Infinity War  ...                  English    149.0\n",
              "3  4              Back to the Future  ...                  English    116.0\n",
              "4  5  The Good, the Bad and the Ugly  ...                  Italian    161.0\n",
              "\n",
              "[5 rows x 14 columns]"
            ]
          },
          "metadata": {
            "tags": []
          },
          "execution_count": 42
        }
      ]
    },
    {
      "cell_type": "code",
      "metadata": {
        "id": "c8ixz8VIVbdy"
      },
      "source": [
        "#the function performs all the important preprocessing steps\n",
        "def preprocess(df):\n",
        "    #combining all text columns\n",
        "    # Selecting all object data type and storing them in list\n",
        "    s = list(df.select_dtypes(include=['object']).columns)\n",
        "    # Removing ID and Title column\n",
        "    s.remove(\"Title\")\n",
        "    s.remove(\"ID\")\n",
        "    # Joining all text/object columns using commas into a single column\n",
        "    df['all_text']= df[s].apply(lambda x: ','.join(x.dropna().astype(str)),axis=1)\n",
        "    # Creating a tokenizer to remove unwanted elements from our data like symbols and numbers\n",
        "    token = RegexpTokenizer(r'[a-zA-Z]+')\n",
        "    # Converting TfidfVector from the text\n",
        "    cv = TfidfVectorizer(lowercase=True,stop_words='english',ngram_range = (1,1),tokenizer = token.tokenize)\n",
        "    text_counts= cv.fit_transform(df['all_text'])\n",
        "    # Aelecting numerical variables\n",
        "    ndf = df.select_dtypes(include=['float64',\"int64\"])\n",
        "    # Scaling Numerical variables\n",
        "    scaler = preprocessing.MinMaxScaler(feature_range=(0, 1))\n",
        "    # Applying scaler on our data and converting i into a data frame\n",
        "    ndfmx = pd.DataFrame((scaler.fit_transform(ndf)))\n",
        "    ndfmx.columns=ndf.columns    \n",
        "    # Adding our adding numerical variables in the TF-IDF vector\n",
        "    IMDb = ndfmx.IMDb.values[:, None]\n",
        "    X_train_dtm = hstack((text_counts, IMDb))\n",
        "    Netflix = ndfmx.Netflix.values[:, None]\n",
        "    X_train_dtm = hstack((X_train_dtm, Netflix))\n",
        "    Hulu = ndfmx.Hulu.values[:, None]\n",
        "    X_train_dtm = hstack((X_train_dtm, Hulu))\n",
        "    Prime = ndfmx[\"Prime Video\"].values[:, None]\n",
        "    X_train_dtm = hstack((X_train_dtm, Prime))\n",
        "    Disney = ndfmx[\"Disney+\"].values[:, None]\n",
        "    X_train_dtm = hstack((X_train_dtm, Disney))\n",
        "    Runtime = ndfmx.Runtime.values[:, None]\n",
        "    X_train_dtm = hstack((X_train_dtm, Runtime))\n",
        "    return X_train_dtm\n"
      ],
      "execution_count": 43,
      "outputs": []
    },
    {
      "cell_type": "code",
      "metadata": {
        "colab": {
          "base_uri": "https://localhost:8080/"
        },
        "id": "SiuUH6ZbVcvA",
        "outputId": "f73f16f8-2fca-4372-b349-08b8045b601f"
      },
      "source": [
        "# Preprocessing data\n",
        "mat =preprocess(df)\n",
        "mat.shape"
      ],
      "execution_count": 44,
      "outputs": [
        {
          "output_type": "execute_result",
          "data": {
            "text/plain": [
              "(15233, 11997)"
            ]
          },
          "metadata": {
            "tags": []
          },
          "execution_count": 44
        }
      ]
    },
    {
      "cell_type": "code",
      "metadata": {
        "id": "YRI4gW6fVeIY"
      },
      "source": [
        "# using cosine similarity\n",
        "from sklearn.metrics.pairwise import cosine_similarity\n",
        "# Compute the sigmoid kernel\n",
        "sig2 = cosine_similarity(mat, mat)\n",
        "# Reverse mapping of indices and movie titles\n",
        "indices = pd.Series(df.index, index=df['Title']).drop_duplicates()"
      ],
      "execution_count": 45,
      "outputs": []
    },
    {
      "cell_type": "code",
      "metadata": {
        "colab": {
          "base_uri": "https://localhost:8080/"
        },
        "id": "7arqPn4RVfb5",
        "outputId": "1288d657-e830-4f1e-c6e7-798c2f0de2dc"
      },
      "source": [
        "give_rec(\"The Matrix\",sig=sig2)"
      ],
      "execution_count": 46,
      "outputs": [
        {
          "output_type": "execute_result",
          "data": {
            "text/plain": [
              "81             The Matrix Reloaded\n",
              "245         The Matrix Revolutions\n",
              "755              Jupiter Ascending\n",
              "154                 Miss Americana\n",
              "0                        Inception\n",
              "3               Back to the Future\n",
              "1971    The Girl Allergic to Wi-Fi\n",
              "36                 Minority Report\n",
              "2           Avengers: Infinity War\n",
              "132        Solo: A Star Wars Story\n",
              "Name: Title, dtype: object"
            ]
          },
          "metadata": {
            "tags": []
          },
          "execution_count": 46
        }
      ]
    },
    {
      "cell_type": "code",
      "metadata": {
        "id": "E7CV8UESVhA3"
      },
      "source": [
        ""
      ],
      "execution_count": null,
      "outputs": []
    }
  ]
}