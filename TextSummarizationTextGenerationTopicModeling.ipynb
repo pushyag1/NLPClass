{
  "nbformat": 4,
  "nbformat_minor": 0,
  "metadata": {
    "colab": {
      "name": "Untitled9.ipynb",
      "provenance": [],
      "authorship_tag": "ABX9TyPnygW94h74TEcerx4i7k0b",
      "include_colab_link": true
    },
    "kernelspec": {
      "name": "python3",
      "display_name": "Python 3"
    }
  },
  "cells": [
    {
      "cell_type": "markdown",
      "metadata": {
        "id": "view-in-github",
        "colab_type": "text"
      },
      "source": [
        "<a href=\"https://colab.research.google.com/github/pushyag1/NLPClass/blob/master/TextSummarizationTextGenerationTopicModeling.ipynb\" target=\"_parent\"><img src=\"https://colab.research.google.com/assets/colab-badge.svg\" alt=\"Open In Colab\"/></a>"
      ]
    },
    {
      "cell_type": "code",
      "metadata": {
        "id": "hGbLMA5Br9ZK"
      },
      "source": [
        ""
      ],
      "execution_count": null,
      "outputs": []
    },
    {
      "cell_type": "markdown",
      "metadata": {
        "id": "xpKxnsOls-0W"
      },
      "source": [
        "Exercise 1. Text Generation\n",
        "\n",
        "• Install markovify\n",
        "\n",
        "• Import pandas and markovify\n",
        "\n",
        "• Load the file ‘abcnews-date-text.csc’ as ‘inp’\n",
        "\n",
        "• Look at the three top rows\n",
        "\n",
        "• Create a model with markovify as ‘text_model’ to generate text\n",
        "\n",
        "• Print ten randomly generated sentences using the built model.\n"
      ]
    },
    {
      "cell_type": "code",
      "metadata": {
        "id": "GkQyorAUtEeo",
        "outputId": "254716a1-d3d0-4d32-d454-a6faa55d7b10",
        "colab": {
          "base_uri": "https://localhost:8080/",
          "height": 50
        }
      },
      "source": [
        "pip install markovify"
      ],
      "execution_count": 1,
      "outputs": [
        {
          "output_type": "stream",
          "text": [
            "Requirement already satisfied: markovify in /usr/local/lib/python3.6/dist-packages (0.8.3)\n",
            "Requirement already satisfied: unidecode in /usr/local/lib/python3.6/dist-packages (from markovify) (1.1.1)\n"
          ],
          "name": "stdout"
        }
      ]
    },
    {
      "cell_type": "markdown",
      "metadata": {
        "id": "ri61FYOyvOf5"
      },
      "source": [
        "Description of Markovify:\n",
        "\n",
        "Markovify is a simple, extensible Markov chain generator. Right now, its main use is for building Markov models of large corpora of text and generating random sentences from that. But, in theory, it could be used for other applications."
      ]
    },
    {
      "cell_type": "code",
      "metadata": {
        "id": "TeZFf9ZVuLat"
      },
      "source": [
        "import pandas as pd \n",
        "import markovify "
      ],
      "execution_count": 2,
      "outputs": []
    },
    {
      "cell_type": "code",
      "metadata": {
        "id": "afmqlz6nuLdX",
        "outputId": "de07337f-0f93-486c-f34d-a3963a64b916",
        "colab": {
          "base_uri": "https://localhost:8080/",
          "height": 136
        }
      },
      "source": [
        "inp = pd.read_csv('abcnews-date-text.csv')\n",
        "inp.head(3)"
      ],
      "execution_count": 3,
      "outputs": [
        {
          "output_type": "execute_result",
          "data": {
            "text/html": [
              "<div>\n",
              "<style scoped>\n",
              "    .dataframe tbody tr th:only-of-type {\n",
              "        vertical-align: middle;\n",
              "    }\n",
              "\n",
              "    .dataframe tbody tr th {\n",
              "        vertical-align: top;\n",
              "    }\n",
              "\n",
              "    .dataframe thead th {\n",
              "        text-align: right;\n",
              "    }\n",
              "</style>\n",
              "<table border=\"1\" class=\"dataframe\">\n",
              "  <thead>\n",
              "    <tr style=\"text-align: right;\">\n",
              "      <th></th>\n",
              "      <th>publish_date</th>\n",
              "      <th>headline_text</th>\n",
              "    </tr>\n",
              "  </thead>\n",
              "  <tbody>\n",
              "    <tr>\n",
              "      <th>0</th>\n",
              "      <td>20030219</td>\n",
              "      <td>aba decides against community broadcasting lic...</td>\n",
              "    </tr>\n",
              "    <tr>\n",
              "      <th>1</th>\n",
              "      <td>20030219</td>\n",
              "      <td>act fire witnesses must be aware of defamation</td>\n",
              "    </tr>\n",
              "    <tr>\n",
              "      <th>2</th>\n",
              "      <td>20030219</td>\n",
              "      <td>a g calls for infrastructure protection summit</td>\n",
              "    </tr>\n",
              "  </tbody>\n",
              "</table>\n",
              "</div>"
            ],
            "text/plain": [
              "   publish_date                                      headline_text\n",
              "0      20030219  aba decides against community broadcasting lic...\n",
              "1      20030219     act fire witnesses must be aware of defamation\n",
              "2      20030219     a g calls for infrastructure protection summit"
            ]
          },
          "metadata": {
            "tags": []
          },
          "execution_count": 3
        }
      ]
    },
    {
      "cell_type": "code",
      "metadata": {
        "id": "E8CUzcXGuLfu"
      },
      "source": [
        "text_model = markovify.NewlineText(inp.headline_text, state_size = 2)"
      ],
      "execution_count": 4,
      "outputs": []
    },
    {
      "cell_type": "code",
      "metadata": {
        "id": "eqUXIjf3uLh9",
        "outputId": "39b4242a-f45c-487c-9ffb-180856036023",
        "colab": {
          "base_uri": "https://localhost:8080/",
          "height": 185
        }
      },
      "source": [
        "# Print ten randomly-generated sentences using the built model\n",
        "for i in range(10):\n",
        "    print(text_model.make_sentence())"
      ],
      "execution_count": 5,
      "outputs": [
        {
          "output_type": "stream",
          "text": [
            "police recognised for community input sought on planning changes fight\n",
            "govt pledges 24m for indigenous jobs plan\n",
            "big kev survives shareholders vote against clp government in shutdown after dispute over barking complaint\n",
            "mining pressure at the mcg against ritual slaughter\n",
            "israel continue air attack on iraq\n",
            "is the key switkowski\n",
            "retailers decry boxing day test\n",
            "tasmanian kits to help solomon islands as puaikura seal a place for migrants in centres\n",
            "ibac investigation into skydiving deaths under investigation\n",
            "moving asylum seekers returned to canberra to remember west coast byelections\n"
          ],
          "name": "stdout"
        }
      ]
    },
    {
      "cell_type": "code",
      "metadata": {
        "id": "Z10QKXaBuLlU"
      },
      "source": [
        "#https://datascienceplus.com/natural-language-generation-with-markovify-in-python/"
      ],
      "execution_count": 6,
      "outputs": []
    },
    {
      "cell_type": "markdown",
      "metadata": {
        "id": "gxp718nhtFdW"
      },
      "source": [
        "Exercise 2. Text Summarization\n",
        "\n",
        "• Use gensim.summarization to summarize the ‘jumper.txt’ file\n",
        "\n",
        "• What are the keywords?\n",
        "\n",
        "• What are the weighted keywords using the Montemurro and Zanette's\n",
        "entropy-based keyword extraction algorithm? Is there a difference\n",
        "with the keywords in the second bullet point question?\n"
      ]
    },
    {
      "cell_type": "code",
      "metadata": {
        "id": "m-w6PuYYtJF8"
      },
      "source": [
        "from pprint import pprint as print\n",
        "from gensim.summarization import summarize"
      ],
      "execution_count": 7,
      "outputs": []
    },
    {
      "cell_type": "code",
      "metadata": {
        "id": "FG9R99scxLJY",
        "outputId": "c6eb2c66-ce71-43c2-d8c1-2708299f8f25",
        "colab": {
          "base_uri": "https://localhost:8080/",
          "height": 319
        }
      },
      "source": [
        "text = (\n",
        "    \"Jumping off a platform the height of a three-story building is how Olympian Laura Wilkinson broke her fear.\"\n",
        "\"Staring at an intimidating 33-foot drop, adrenaline pumping, Wilkinson flipped gracefully into the water below. The challenges she has overcome throughout her diving career have made her strong -- strong enough to dominate the sport for a decade.\"\n",
        "\"She is the first woman to win diving's three major world titles, including a gold medal at her first Olympic Games in 2000. Wilkinson told CNN she is hungry for more. After nine years in retirement, and recovery from a dangerous injury, the now 42-year-old is attempting a comeback in the face of a worldwide pandemic.\"\n",
        "\"When Wilkinson resumed training to compete at the Games in Tokyo, which were originally scheduled for July 2020, she felt a nagging and unfamiliar weakness in one of her arms.\"\n",
        "\"An MRI revealed major damage to the discs in her neck, caused in large part by a career of repeatedly hitting the water at high speeds. Her doctor warned that a car accident or bad fall could leave her a quadriplegic.\"\n",
        "\"Now married with four children, Wilkinson was told she would need spinal surgery not just to dive, but to safely do everyday activities with her children. Wilkinson had the surgery and rushed to get back into the water ahead of the 2020 Olympic trials.\"\n",
        ")\n",
        "print(text)"
      ],
      "execution_count": 8,
      "outputs": [
        {
          "output_type": "stream",
          "text": [
            "('Jumping off a platform the height of a three-story building is how Olympian '\n",
            " 'Laura Wilkinson broke her fear.Staring at an intimidating 33-foot drop, '\n",
            " 'adrenaline pumping, Wilkinson flipped gracefully into the water below. The '\n",
            " 'challenges she has overcome throughout her diving career have made her '\n",
            " 'strong -- strong enough to dominate the sport for a decade.She is the first '\n",
            " \"woman to win diving's three major world titles, including a gold medal at \"\n",
            " 'her first Olympic Games in 2000. Wilkinson told CNN she is hungry for more. '\n",
            " 'After nine years in retirement, and recovery from a dangerous injury, the '\n",
            " 'now 42-year-old is attempting a comeback in the face of a worldwide '\n",
            " 'pandemic.When Wilkinson resumed training to compete at the Games in Tokyo, '\n",
            " 'which were originally scheduled for July 2020, she felt a nagging and '\n",
            " 'unfamiliar weakness in one of her arms.An MRI revealed major damage to the '\n",
            " 'discs in her neck, caused in large part by a career of repeatedly hitting '\n",
            " 'the water at high speeds. Her doctor warned that a car accident or bad fall '\n",
            " 'could leave her a quadriplegic.Now married with four children, Wilkinson was '\n",
            " 'told she would need spinal surgery not just to dive, but to safely do '\n",
            " 'everyday activities with her children. Wilkinson had the surgery and rushed '\n",
            " 'to get back into the water ahead of the 2020 Olympic trials.')\n"
          ],
          "name": "stdout"
        }
      ]
    },
    {
      "cell_type": "code",
      "metadata": {
        "id": "flzpOk9VxLLV",
        "outputId": "90c35f15-3203-409c-bf94-49f8857bc6fd",
        "colab": {
          "base_uri": "https://localhost:8080/",
          "height": 50
        }
      },
      "source": [
        "print(summarize(text))"
      ],
      "execution_count": 9,
      "outputs": [
        {
          "output_type": "stream",
          "text": [
            "('Wilkinson had the surgery and rushed to get back into the water ahead of the '\n",
            " '2020 Olympic trials.')\n"
          ],
          "name": "stdout"
        }
      ]
    },
    {
      "cell_type": "code",
      "metadata": {
        "id": "p3mb4NaRxLNo",
        "outputId": "ff14023f-5016-4c3f-87b6-4cc15aa42106",
        "colab": {
          "base_uri": "https://localhost:8080/",
          "height": 50
        }
      },
      "source": [
        "print(summarize(text, split=True))"
      ],
      "execution_count": 10,
      "outputs": [
        {
          "output_type": "stream",
          "text": [
            "['Wilkinson had the surgery and rushed to get back into the water ahead of the '\n",
            " '2020 Olympic trials.']\n"
          ],
          "name": "stdout"
        }
      ]
    },
    {
      "cell_type": "code",
      "metadata": {
        "id": "AuBYHD07xLPr",
        "outputId": "ce448978-e480-40d4-ad58-b89039f5558d",
        "colab": {
          "base_uri": "https://localhost:8080/",
          "height": 235
        }
      },
      "source": [
        "from gensim.summarization import keywords\n",
        "print(keywords(text))"
      ],
      "execution_count": 11,
      "outputs": [
        {
          "output_type": "stream",
          "text": [
            "('wilkinson\\n'\n",
            " 'spinal\\n'\n",
            " 'olympic\\n'\n",
            " 'diving\\n'\n",
            " 'dive\\n'\n",
            " 'major world\\n'\n",
            " 'titles\\n'\n",
            " 'revealed\\n'\n",
            " 'foot\\n'\n",
            " 'drop\\n'\n",
            " 'laura\\n'\n",
            " 'flipped\\n'\n",
            " 'told')\n"
          ],
          "name": "stdout"
        }
      ]
    },
    {
      "cell_type": "code",
      "metadata": {
        "id": "7LM0xiVmxLTH",
        "outputId": "bdb20326-eb03-487d-dfec-3fc1c5af433e",
        "colab": {
          "base_uri": "https://localhost:8080/",
          "height": 739
        }
      },
      "source": [
        "import requests\n",
        "from gensim.summarization import mz_keywords\n",
        "\n",
        "text=requests.get(\"http://www.gutenberg.org/files/49679/49679-0.txt\").text\n",
        "print(mz_keywords(text,scores=True,threshold=0.001))"
      ],
      "execution_count": 12,
      "outputs": [
        {
          "output_type": "stream",
          "text": [
            "/usr/local/lib/python3.6/dist-packages/gensim/summarization/mz_entropy.py:70: RuntimeWarning: divide by zero encountered in log2\n",
            "  log_p = numpy.log2(p)\n",
            "/usr/local/lib/python3.6/dist-packages/gensim/summarization/mz_entropy.py:71: RuntimeWarning: invalid value encountered in multiply\n",
            "  h = numpy.nan_to_num(p * log_p).sum(axis=0)\n"
          ],
          "name": "stderr"
        },
        {
          "output_type": "stream",
          "text": [
            "[('i', 0.005071990145676084),\n",
            " ('the', 0.004078714811925573),\n",
            " ('lincoln', 0.003834207719481631),\n",
            " ('you', 0.00333099434510635),\n",
            " ('gutenberg', 0.0032861719465446127),\n",
            " ('v', 0.0031486824001772298),\n",
            " ('a', 0.0030225302081737385),\n",
            " ('project', 0.003013787365092158),\n",
            " ('s', 0.002804807648086567),\n",
            " ('iv', 0.0027211423370182043),\n",
            " ('he', 0.0026652557966447303),\n",
            " ('ii', 0.002522584294510855),\n",
            " ('his', 0.0021025932276434807),\n",
            " ('by', 0.002092414407555808),\n",
            " ('abraham', 0.0019871796860869762),\n",
            " ('or', 0.0019180648459331258),\n",
            " ('lincolna', 0.0019090487448340699),\n",
            " ('tm', 0.001887549850538215),\n",
            " ('iii', 0.001883132631521375),\n",
            " ('was', 0.0018691721439371533),\n",
            " ('work', 0.0017383218152950376),\n",
            " ('new', 0.0016870325205805429),\n",
            " ('co', 0.001654497521737427),\n",
            " ('case', 0.0015991334540419223),\n",
            " ('court', 0.0014413967155396973),\n",
            " ('york', 0.001429133695025362),\n",
            " ('on', 0.0013292841806795005),\n",
            " ('it', 0.001308454011675044),\n",
            " ('had', 0.001298103630126742),\n",
            " ('to', 0.0012629182579600709),\n",
            " ('my', 0.0012128129312019202),\n",
            " ('of', 0.0011777988172289335),\n",
            " ('life', 0.0011535688244729756),\n",
            " ('their', 0.001149309335387912),\n",
            " ('_works_', 0.0011438603236858932),\n",
            " ('him', 0.0011391497955931084),\n",
            " ('that', 0.0011069446497089712),\n",
            " ('and', 0.0011027930360212363),\n",
            " ('herndon', 0.0010518263812615242)]\n"
          ],
          "name": "stdout"
        }
      ]
    },
    {
      "cell_type": "code",
      "metadata": {
        "id": "jriJMidtyWdN",
        "outputId": "5918e0ba-2563-4af4-f416-d2c285bce35b",
        "colab": {
          "base_uri": "https://localhost:8080/",
          "height": 1000
        }
      },
      "source": [
        "print(mz_keywords(text,scores=True,weighted=False,threshold=1.0))"
      ],
      "execution_count": 13,
      "outputs": [
        {
          "output_type": "stream",
          "text": [
            "/usr/local/lib/python3.6/dist-packages/gensim/summarization/mz_entropy.py:70: RuntimeWarning: divide by zero encountered in log2\n",
            "  log_p = numpy.log2(p)\n",
            "/usr/local/lib/python3.6/dist-packages/gensim/summarization/mz_entropy.py:71: RuntimeWarning: invalid value encountered in multiply\n",
            "  h = numpy.nan_to_num(p * log_p).sum(axis=0)\n"
          ],
          "name": "stderr"
        },
        {
          "output_type": "stream",
          "text": [
            "[('gutenberg', 3.813054848640599),\n",
            " ('project', 3.573855036862196),\n",
            " ('tm', 3.5734630161654266),\n",
            " ('co', 3.188187179789419),\n",
            " ('foundation', 2.9349504275296248),\n",
            " ('dogskin', 2.767166394411781),\n",
            " ('electronic', 2.712759445340285),\n",
            " ('donations', 2.5598097474452906),\n",
            " ('foxboro', 2.552819829558231),\n",
            " ('access', 2.534996621584064),\n",
            " ('gloves', 2.534996621584064),\n",
            " ('_works_', 2.519083905903437),\n",
            " ('iv', 2.4068950059833725),\n",
            " ('v', 2.376066199199476),\n",
            " ('license', 2.32674033665853),\n",
            " ('works', 2.320294093790008),\n",
            " ('replacement', 2.297629530050557),\n",
            " ('e', 2.1840002559354215),\n",
            " ('coon', 2.1754936158294536),\n",
            " ('volunteers', 2.1754936158294536),\n",
            " ('york', 2.172102058646223),\n",
            " ('ii', 2.143421998464259),\n",
            " ('edited', 2.110161739139703),\n",
            " ('refund', 2.100145067024387),\n",
            " ('iii', 2.052633589900031),\n",
            " ('bounded', 1.9832369322912882),\n",
            " ('format', 1.9832369322912882),\n",
            " ('jewelry', 1.9832369322912882),\n",
            " ('metzker', 1.9832369322912882),\n",
            " ('millions', 1.9832369322912882),\n",
            " ('ragsdale', 1.9832369322912882),\n",
            " ('specie', 1.9832369322912882),\n",
            " ('archive', 1.9430792440279312),\n",
            " ('reminiscences', 1.9409656357162346),\n",
            " ('agreement', 1.933113430461269),\n",
            " ('bonds', 1.90404582584515),\n",
            " ('ebooks', 1.90404582584515),\n",
            " ('jewelersa', 1.90404582584515),\n",
            " ('brokaw', 1.9027974079098768),\n",
            " ('ebook', 1.8911101680056084),\n",
            " ('trademark', 1.8911101680056084),\n",
            " ('parker', 1.8903494446079012),\n",
            " ('almanac', 1.8267945764711788),\n",
            " ('ross', 1.771449419244092),\n",
            " ('work', 1.7368893093546554),\n",
            " ('college', 1.72245395873311),\n",
            " ('scott', 1.6666549709515948),\n",
            " ('rothschild', 1.6615406993510273),\n",
            " ('pglaf', 1.6528326283716357),\n",
            " ('ana', 1.6345239955037414),\n",
            " ('green', 1.634270040746932),\n",
            " ('forquer', 1.6183315401308644),\n",
            " ('improvementa', 1.6183315401308644),\n",
            " ('hardin', 1.5967140500447887),\n",
            " ('copyright', 1.5827844444400303),\n",
            " ('houghton', 1.5827785818223203),\n",
            " ('clair', 1.5757014351631946),\n",
            " ('claya', 1.5757014351631946),\n",
            " ('displaying', 1.5757014351631946),\n",
            " ('fisher', 1.5757014351631946),\n",
            " ('forgery', 1.5757014351631946),\n",
            " ('holder', 1.5757014351631946),\n",
            " ('ninea', 1.5757014351631946),\n",
            " ('posted', 1.5757014351631946),\n",
            " ('radford', 1.5757014351631946),\n",
            " ('university', 1.5757014351631946),\n",
            " ('wore', 1.5757014351631946),\n",
            " ('_via_', 1.5752258220302042),\n",
            " ('admissibility', 1.5752258220302042),\n",
            " ('attire', 1.5752258220302042),\n",
            " ('berries', 1.5752258220302042),\n",
            " ('borrows', 1.5752258220302042),\n",
            " ('breeches', 1.5752258220302042),\n",
            " ('cline', 1.5752258220302042),\n",
            " ('continuance', 1.5752258220302042),\n",
            " ('currents', 1.5752258220302042),\n",
            " ('daguerreotype', 1.5752258220302042),\n",
            " ('disclaimer', 1.5752258220302042),\n",
            " ('enrolled', 1.5752258220302042),\n",
            " ('fool', 1.5752258220302042),\n",
            " ('guineas', 1.5752258220302042),\n",
            " ('hatchet', 1.5752258220302042),\n",
            " ('instruct', 1.5752258220302042),\n",
            " ('liability', 1.5752258220302042),\n",
            " ('paullin', 1.5752258220302042),\n",
            " ('performing', 1.5752258220302042),\n",
            " ('polite', 1.5752258220302042),\n",
            " ('religion', 1.5752258220302042),\n",
            " ('rulings', 1.5752258220302042),\n",
            " ('scammon', 1.5752258220302042),\n",
            " ('tilda', 1.5752258220302042),\n",
            " ('toma', 1.5752258220302042),\n",
            " ('user', 1.5752258220302042),\n",
            " ('wake', 1.5752258220302042),\n",
            " ('warranties', 1.5752258220302042),\n",
            " ('boston', 1.5614599080219351),\n",
            " ('barrett', 1.5467512742732095),\n",
            " ('lamon', 1.5401992915219354),\n",
            " ('attitude', 1.5396869613721145),\n",
            " ('life_', 1.5325431231066866),\n",
            " ('chiniquy', 1.517252207711791),\n",
            " ('bridge', 1.4987002321451297),\n",
            " ('london', 1.4959606690277452),\n",
            " ('pair', 1.4859741220167577),\n",
            " ('banks', 1.4859741220167575),\n",
            " ('abraham', 1.4788865317609083),\n",
            " ('org', 1.4762084064880483),\n",
            " ('literary', 1.4661381734947168),\n",
            " ('bank', 1.460987504878338),\n",
            " ('copy', 1.447991916287799),\n",
            " ('railroad', 1.447589893332354),\n",
            " ('armstrong', 1.4466729287651239),\n",
            " ('rr', 1.414281759111378),\n",
            " ('island', 1.410485371800411),\n",
            " ('paragraph', 1.4097636251568062),\n",
            " ('axe', 1.4028326283716357),\n",
            " ('fence', 1.4028326283716357),\n",
            " ('genuine', 1.4028326283716357),\n",
            " ('journalism', 1.4028326283716357),\n",
            " ('copies', 1.3883829009256057),\n",
            " ('copper', 1.3883829009256057),\n",
            " ('delegates', 1.3883829009256057),\n",
            " ('distributing', 1.3883829009256057),\n",
            " ('mifflin', 1.3883829009256057),\n",
            " ('weekly_', 1.3883829009256057),\n",
            " ('mother', 1.3721178797155553),\n",
            " ('terms', 1.3614959149155839),\n",
            " ('http', 1.3614628722331044),\n",
            " ('historical', 1.3605563596000985),\n",
            " ('publication', 1.3605563596000985),\n",
            " ('provide', 1.360556359600098),\n",
            " ('nicolay', 1.342899579830354),\n",
            " ('p', 1.3384146299403934),\n",
            " ('buckskin', 1.3266789355958883),\n",
            " ('circular', 1.3266789355958883),\n",
            " ('spink', 1.3266789355958883),\n",
            " ('trunks', 1.3266789355958883),\n",
            " ('generosity', 1.3223622526418946),\n",
            " ('sells', 1.3183507586865963),\n",
            " ('sons', 1.3183507586865963),\n",
            " ('compliance', 1.3011906621704081),\n",
            " ('crawford', 1.3011906621704081),\n",
            " ('currency', 1.3011906621704081),\n",
            " ('distribution', 1.3011906621704081),\n",
            " ('frederick', 1.3011906621704081),\n",
            " ('harvey', 1.3011906621704081),\n",
            " ('individual', 1.3011906621704081),\n",
            " ('massachusetts', 1.3011906621704081),\n",
            " ('preacher', 1.3011906621704081),\n",
            " ('priest', 1.3011906621704081),\n",
            " ('scripps', 1.3011906621704081),\n",
            " ('wona', 1.3011906621704081),\n",
            " ('fee', 1.2951177274528036),\n",
            " ('volumes', 1.2881294518121198),\n",
            " ('baker', 1.2868805045464513),\n",
            " ('river', 1.2845212649561222),\n",
            " ('voyage', 1.2735521297403745),\n",
            " ('tarbell', 1.2734860800899708),\n",
            " ('browne', 1.2673814449958232),\n",
            " ('herndon', 1.2611515180923591),\n",
            " ('captain', 1.2566120240054834),\n",
            " ('including', 1.2566120240054834),\n",
            " ('she', 1.2523227962342451),\n",
            " ('chicago', 1.2369612208874359),\n",
            " ('company', 1.2280833162965425),\n",
            " ('trade', 1.227264049589322),\n",
            " ('publishing', 1.2222105265071501),\n",
            " ('j', 1.20951426463863),\n",
            " ('hanks', 1.2063558506421344),\n",
            " ('cartwright', 1.2016275690670342),\n",
            " ('judd', 1.2016275690670342),\n",
            " ('mcclure', 1.2016275690670342),\n",
            " ('permission', 1.2016275690670342),\n",
            " ('sarah', 1.2016275690670342),\n",
            " ('_the', 1.1993246703295348),\n",
            " ('thomas', 1.192162263570947),\n",
            " ('father', 1.182378500488939),\n",
            " ('_weekly_', 1.1719588078321554),\n",
            " ('_womana', 1.1719588078321554),\n",
            " ('argue', 1.1719588078321554),\n",
            " ('baddeley', 1.1719588078321554),\n",
            " ('companion_', 1.1719588078321554),\n",
            " ('copying', 1.1719588078321554),\n",
            " ('crafton', 1.1719588078321554),\n",
            " ('defect', 1.1719588078321554),\n",
            " ('donate', 1.1719588078321554),\n",
            " ('draft', 1.1719588078321554),\n",
            " ('easier', 1.1719588078321554),\n",
            " ('editions', 1.1719588078321554),\n",
            " ('hammond', 1.1719588078321554),\n",
            " ('hawley', 1.1719588078321554),\n",
            " ('jake', 1.1719588078321554),\n",
            " ('lightning', 1.1719588078321554),\n",
            " ('paragraphs', 1.1719588078321554),\n",
            " ('pg', 1.1719588078321554),\n",
            " ('pork', 1.1719588078321554),\n",
            " ('retains', 1.1719588078321554),\n",
            " ('rod', 1.1719588078321554),\n",
            " ('royalty', 1.1719588078321554),\n",
            " ('securities', 1.1719588078321554),\n",
            " ('shorter', 1.1719588078321554),\n",
            " ('trousers', 1.1719588078321554),\n",
            " ('unpublished', 1.1719588078321554),\n",
            " ('agree', 1.1685160987957408),\n",
            " ('moore', 1.1638374407328813),\n",
            " ('brooks', 1.1590654105620253),\n",
            " ('_early', 1.1547587616319834),\n",
            " ('tarbella', 1.1547587616319834),\n",
            " ('harrison', 1.1477375460464634),\n",
            " ('kentucky', 1.1477375460464634),\n",
            " ('dress', 1.1403494446079012),\n",
            " ('german', 1.1403494446079012),\n",
            " ('g', 1.1400041324991679),\n",
            " ('you', 1.1197848310740541),\n",
            " ('convention', 1.1170552756570524),\n",
            " ('anecdotes', 1.1113491241476279),\n",
            " ('deed', 1.10266861521132),\n",
            " ('east', 1.10266861521132),\n",
            " ('medium', 1.10266861521132),\n",
            " ('spurious', 1.10266861521132),\n",
            " ('stranger', 1.10266861521132),\n",
            " ('atkinson', 1.1026686152113196),\n",
            " ('comply', 1.1026686152113196),\n",
            " ('witness', 1.0987403589682891),\n",
            " ('rock', 1.0980116268282147),\n",
            " ('biographical', 1.0936719125309864),\n",
            " ('agent', 1.0936719125309862),\n",
            " ('charter', 1.0936719125309862),\n",
            " ('distribute', 1.0936719125309862),\n",
            " ('_life_', 1.0861326250716679),\n",
            " ('mississippi', 1.0861326250716679),\n",
            " ('her', 1.0744523982065441),\n",
            " ('james', 1.0718364842031898),\n",
            " ('road', 1.0678271889746043),\n",
            " ('january', 1.06299555570871),\n",
            " ('plaintiff', 1.0622990427339003),\n",
            " ('cents', 1.0601542260041765),\n",
            " ('philadelphia', 1.054457748248602),\n",
            " ('trailor', 1.054457748248602),\n",
            " ('news', 1.0544577482486015),\n",
            " ('guilty', 1.0523002937359087),\n",
            " ('whitneya', 1.0523002937359087),\n",
            " ('limited', 1.0523002937359083),\n",
            " ('fees', 1.050421450259024),\n",
            " ('f', 1.0470121250222224),\n",
            " ('votes', 1.0462712423302567),\n",
            " ('domain', 1.0459885068374677),\n",
            " ('gentry', 1.0459885068374677),\n",
            " ('grandfather', 1.0459885068374677),\n",
            " ('voted', 1.0459885068374677),\n",
            " ('speeches', 1.0440910909593955),\n",
            " ('johnston', 1.0350643207520633),\n",
            " ('swett', 1.0337988457068894),\n",
            " ('john', 1.029145368980953),\n",
            " ('note', 1.0290759889993701),\n",
            " ('new', 1.0285274933806043),\n",
            " ('d', 1.0276105644209155),\n",
            " ('surveyor', 1.0234220417885176),\n",
            " ('letter', 1.0221155682246605),\n",
            " ('anecdote', 1.0217461799727077),\n",
            " ('dungee', 1.0175064885113527),\n",
            " ('notes', 1.015958543336191),\n",
            " ('charles', 1.0118735044527019)]\n"
          ],
          "name": "stdout"
        }
      ]
    },
    {
      "cell_type": "code",
      "metadata": {
        "id": "lkdovB2vyWfO",
        "outputId": "f3b0597a-fa06-42ee-e409-cf5583ad6cff",
        "colab": {
          "base_uri": "https://localhost:8080/",
          "height": 1000
        }
      },
      "source": [
        "print(mz_keywords(text,scores=True,weighted=False,threshold=\"auto\"))"
      ],
      "execution_count": 14,
      "outputs": [
        {
          "output_type": "stream",
          "text": [
            "/usr/local/lib/python3.6/dist-packages/gensim/summarization/mz_entropy.py:70: RuntimeWarning: divide by zero encountered in log2\n",
            "  log_p = numpy.log2(p)\n",
            "/usr/local/lib/python3.6/dist-packages/gensim/summarization/mz_entropy.py:71: RuntimeWarning: invalid value encountered in multiply\n",
            "  h = numpy.nan_to_num(p * log_p).sum(axis=0)\n"
          ],
          "name": "stderr"
        },
        {
          "output_type": "stream",
          "text": [
            "[('gutenberg', 3.813054848640599),\n",
            " ('project', 3.573855036862196),\n",
            " ('tm', 3.5734630161654266),\n",
            " ('co', 3.188187179789419),\n",
            " ('foundation', 2.9349504275296248),\n",
            " ('dogskin', 2.767166394411781),\n",
            " ('electronic', 2.712759445340285),\n",
            " ('donations', 2.5598097474452906),\n",
            " ('foxboro', 2.552819829558231),\n",
            " ('access', 2.534996621584064),\n",
            " ('gloves', 2.534996621584064),\n",
            " ('_works_', 2.519083905903437),\n",
            " ('iv', 2.4068950059833725),\n",
            " ('v', 2.376066199199476),\n",
            " ('license', 2.32674033665853),\n",
            " ('works', 2.320294093790008),\n",
            " ('replacement', 2.297629530050557),\n",
            " ('e', 2.1840002559354215),\n",
            " ('coon', 2.1754936158294536),\n",
            " ('volunteers', 2.1754936158294536),\n",
            " ('york', 2.172102058646223),\n",
            " ('ii', 2.143421998464259),\n",
            " ('edited', 2.110161739139703),\n",
            " ('refund', 2.100145067024387),\n",
            " ('iii', 2.052633589900031),\n",
            " ('bounded', 1.9832369322912882),\n",
            " ('format', 1.9832369322912882),\n",
            " ('jewelry', 1.9832369322912882),\n",
            " ('metzker', 1.9832369322912882),\n",
            " ('millions', 1.9832369322912882),\n",
            " ('ragsdale', 1.9832369322912882),\n",
            " ('specie', 1.9832369322912882),\n",
            " ('archive', 1.9430792440279312),\n",
            " ('reminiscences', 1.9409656357162346),\n",
            " ('agreement', 1.933113430461269),\n",
            " ('bonds', 1.90404582584515),\n",
            " ('ebooks', 1.90404582584515),\n",
            " ('jewelersa', 1.90404582584515),\n",
            " ('brokaw', 1.9027974079098768),\n",
            " ('ebook', 1.8911101680056084),\n",
            " ('trademark', 1.8911101680056084),\n",
            " ('parker', 1.8903494446079012),\n",
            " ('almanac', 1.8267945764711788),\n",
            " ('ross', 1.771449419244092),\n",
            " ('work', 1.7368893093546554),\n",
            " ('college', 1.72245395873311),\n",
            " ('scott', 1.6666549709515948),\n",
            " ('rothschild', 1.6615406993510273),\n",
            " ('pglaf', 1.6528326283716357),\n",
            " ('ana', 1.6345239955037414),\n",
            " ('green', 1.634270040746932),\n",
            " ('forquer', 1.6183315401308644),\n",
            " ('improvementa', 1.6183315401308644),\n",
            " ('hardin', 1.5967140500447887),\n",
            " ('copyright', 1.5827844444400303),\n",
            " ('houghton', 1.5827785818223203),\n",
            " ('clair', 1.5757014351631946),\n",
            " ('claya', 1.5757014351631946),\n",
            " ('displaying', 1.5757014351631946),\n",
            " ('fisher', 1.5757014351631946),\n",
            " ('forgery', 1.5757014351631946),\n",
            " ('holder', 1.5757014351631946),\n",
            " ('ninea', 1.5757014351631946),\n",
            " ('posted', 1.5757014351631946),\n",
            " ('radford', 1.5757014351631946),\n",
            " ('university', 1.5757014351631946),\n",
            " ('wore', 1.5757014351631946),\n",
            " ('_via_', 1.5752258220302042),\n",
            " ('admissibility', 1.5752258220302042),\n",
            " ('attire', 1.5752258220302042),\n",
            " ('berries', 1.5752258220302042),\n",
            " ('borrows', 1.5752258220302042),\n",
            " ('breeches', 1.5752258220302042),\n",
            " ('cline', 1.5752258220302042),\n",
            " ('continuance', 1.5752258220302042),\n",
            " ('currents', 1.5752258220302042),\n",
            " ('daguerreotype', 1.5752258220302042),\n",
            " ('disclaimer', 1.5752258220302042),\n",
            " ('enrolled', 1.5752258220302042),\n",
            " ('fool', 1.5752258220302042),\n",
            " ('guineas', 1.5752258220302042),\n",
            " ('hatchet', 1.5752258220302042),\n",
            " ('instruct', 1.5752258220302042),\n",
            " ('liability', 1.5752258220302042),\n",
            " ('paullin', 1.5752258220302042),\n",
            " ('performing', 1.5752258220302042),\n",
            " ('polite', 1.5752258220302042),\n",
            " ('religion', 1.5752258220302042),\n",
            " ('rulings', 1.5752258220302042),\n",
            " ('scammon', 1.5752258220302042),\n",
            " ('tilda', 1.5752258220302042),\n",
            " ('toma', 1.5752258220302042),\n",
            " ('user', 1.5752258220302042),\n",
            " ('wake', 1.5752258220302042),\n",
            " ('warranties', 1.5752258220302042),\n",
            " ('boston', 1.5614599080219351),\n",
            " ('barrett', 1.5467512742732095),\n",
            " ('lamon', 1.5401992915219354),\n",
            " ('attitude', 1.5396869613721145),\n",
            " ('life_', 1.5325431231066866),\n",
            " ('chiniquy', 1.517252207711791),\n",
            " ('bridge', 1.4987002321451297),\n",
            " ('london', 1.4959606690277452),\n",
            " ('pair', 1.4859741220167577),\n",
            " ('banks', 1.4859741220167575),\n",
            " ('abraham', 1.4788865317609083),\n",
            " ('org', 1.4762084064880483),\n",
            " ('literary', 1.4661381734947168),\n",
            " ('bank', 1.460987504878338),\n",
            " ('copy', 1.447991916287799),\n",
            " ('railroad', 1.447589893332354),\n",
            " ('armstrong', 1.4466729287651239),\n",
            " ('rr', 1.414281759111378),\n",
            " ('island', 1.410485371800411),\n",
            " ('paragraph', 1.4097636251568062),\n",
            " ('axe', 1.4028326283716357),\n",
            " ('fence', 1.4028326283716357),\n",
            " ('genuine', 1.4028326283716357),\n",
            " ('journalism', 1.4028326283716357),\n",
            " ('copies', 1.3883829009256057),\n",
            " ('copper', 1.3883829009256057),\n",
            " ('delegates', 1.3883829009256057),\n",
            " ('distributing', 1.3883829009256057),\n",
            " ('mifflin', 1.3883829009256057),\n",
            " ('weekly_', 1.3883829009256057),\n",
            " ('mother', 1.3721178797155553),\n",
            " ('terms', 1.3614959149155839),\n",
            " ('http', 1.3614628722331044),\n",
            " ('historical', 1.3605563596000985),\n",
            " ('publication', 1.3605563596000985),\n",
            " ('provide', 1.360556359600098),\n",
            " ('nicolay', 1.342899579830354),\n",
            " ('p', 1.3384146299403934),\n",
            " ('buckskin', 1.3266789355958883),\n",
            " ('circular', 1.3266789355958883),\n",
            " ('spink', 1.3266789355958883),\n",
            " ('trunks', 1.3266789355958883),\n",
            " ('generosity', 1.3223622526418946),\n",
            " ('sells', 1.3183507586865963),\n",
            " ('sons', 1.3183507586865963),\n",
            " ('compliance', 1.3011906621704081),\n",
            " ('crawford', 1.3011906621704081),\n",
            " ('currency', 1.3011906621704081),\n",
            " ('distribution', 1.3011906621704081),\n",
            " ('frederick', 1.3011906621704081),\n",
            " ('harvey', 1.3011906621704081),\n",
            " ('individual', 1.3011906621704081),\n",
            " ('massachusetts', 1.3011906621704081),\n",
            " ('preacher', 1.3011906621704081),\n",
            " ('priest', 1.3011906621704081),\n",
            " ('scripps', 1.3011906621704081),\n",
            " ('wona', 1.3011906621704081),\n",
            " ('fee', 1.2951177274528036),\n",
            " ('volumes', 1.2881294518121198),\n",
            " ('baker', 1.2868805045464513),\n",
            " ('river', 1.2845212649561222),\n",
            " ('voyage', 1.2735521297403745),\n",
            " ('tarbell', 1.2734860800899708),\n",
            " ('browne', 1.2673814449958232),\n",
            " ('herndon', 1.2611515180923591),\n",
            " ('captain', 1.2566120240054834),\n",
            " ('including', 1.2566120240054834),\n",
            " ('she', 1.2523227962342451),\n",
            " ('chicago', 1.2369612208874359),\n",
            " ('company', 1.2280833162965425),\n",
            " ('trade', 1.227264049589322),\n",
            " ('publishing', 1.2222105265071501),\n",
            " ('j', 1.20951426463863),\n",
            " ('hanks', 1.2063558506421344),\n",
            " ('cartwright', 1.2016275690670342),\n",
            " ('judd', 1.2016275690670342),\n",
            " ('mcclure', 1.2016275690670342),\n",
            " ('permission', 1.2016275690670342),\n",
            " ('sarah', 1.2016275690670342),\n",
            " ('_the', 1.1993246703295348),\n",
            " ('thomas', 1.192162263570947),\n",
            " ('father', 1.182378500488939),\n",
            " ('_weekly_', 1.1719588078321554),\n",
            " ('_womana', 1.1719588078321554),\n",
            " ('argue', 1.1719588078321554),\n",
            " ('baddeley', 1.1719588078321554),\n",
            " ('companion_', 1.1719588078321554),\n",
            " ('copying', 1.1719588078321554),\n",
            " ('crafton', 1.1719588078321554),\n",
            " ('defect', 1.1719588078321554),\n",
            " ('donate', 1.1719588078321554),\n",
            " ('draft', 1.1719588078321554),\n",
            " ('easier', 1.1719588078321554),\n",
            " ('editions', 1.1719588078321554),\n",
            " ('hammond', 1.1719588078321554),\n",
            " ('hawley', 1.1719588078321554),\n",
            " ('jake', 1.1719588078321554),\n",
            " ('lightning', 1.1719588078321554),\n",
            " ('paragraphs', 1.1719588078321554),\n",
            " ('pg', 1.1719588078321554),\n",
            " ('pork', 1.1719588078321554),\n",
            " ('retains', 1.1719588078321554),\n",
            " ('rod', 1.1719588078321554),\n",
            " ('royalty', 1.1719588078321554),\n",
            " ('securities', 1.1719588078321554),\n",
            " ('shorter', 1.1719588078321554),\n",
            " ('trousers', 1.1719588078321554),\n",
            " ('unpublished', 1.1719588078321554),\n",
            " ('agree', 1.1685160987957408),\n",
            " ('moore', 1.1638374407328813),\n",
            " ('brooks', 1.1590654105620253),\n",
            " ('_early', 1.1547587616319834),\n",
            " ('tarbella', 1.1547587616319834),\n",
            " ('harrison', 1.1477375460464634),\n",
            " ('kentucky', 1.1477375460464634),\n",
            " ('dress', 1.1403494446079012),\n",
            " ('german', 1.1403494446079012),\n",
            " ('g', 1.1400041324991679),\n",
            " ('you', 1.1197848310740541),\n",
            " ('convention', 1.1170552756570524),\n",
            " ('anecdotes', 1.1113491241476279),\n",
            " ('deed', 1.10266861521132),\n",
            " ('east', 1.10266861521132),\n",
            " ('medium', 1.10266861521132),\n",
            " ('spurious', 1.10266861521132),\n",
            " ('stranger', 1.10266861521132),\n",
            " ('atkinson', 1.1026686152113196),\n",
            " ('comply', 1.1026686152113196),\n",
            " ('witness', 1.0987403589682891),\n",
            " ('rock', 1.0980116268282147),\n",
            " ('biographical', 1.0936719125309864),\n",
            " ('agent', 1.0936719125309862),\n",
            " ('charter', 1.0936719125309862),\n",
            " ('distribute', 1.0936719125309862),\n",
            " ('_life_', 1.0861326250716679),\n",
            " ('mississippi', 1.0861326250716679),\n",
            " ('her', 1.0744523982065441),\n",
            " ('james', 1.0718364842031898),\n",
            " ('road', 1.0678271889746043),\n",
            " ('january', 1.06299555570871),\n",
            " ('plaintiff', 1.0622990427339003),\n",
            " ('cents', 1.0601542260041765),\n",
            " ('philadelphia', 1.054457748248602),\n",
            " ('trailor', 1.054457748248602),\n",
            " ('news', 1.0544577482486015),\n",
            " ('guilty', 1.0523002937359087),\n",
            " ('whitneya', 1.0523002937359087),\n",
            " ('limited', 1.0523002937359083),\n",
            " ('fees', 1.050421450259024),\n",
            " ('f', 1.0470121250222224),\n",
            " ('votes', 1.0462712423302567),\n",
            " ('domain', 1.0459885068374677),\n",
            " ('gentry', 1.0459885068374677),\n",
            " ('grandfather', 1.0459885068374677),\n",
            " ('voted', 1.0459885068374677),\n",
            " ('speeches', 1.0440910909593955),\n",
            " ('johnston', 1.0350643207520633),\n",
            " ('swett', 1.0337988457068894),\n",
            " ('john', 1.029145368980953),\n",
            " ('note', 1.0290759889993701),\n",
            " ('new', 1.0285274933806043),\n",
            " ('d', 1.0276105644209155),\n",
            " ('surveyor', 1.0234220417885176),\n",
            " ('letter', 1.0221155682246605),\n",
            " ('anecdote', 1.0217461799727077),\n",
            " ('dungee', 1.0175064885113527),\n",
            " ('notes', 1.015958543336191),\n",
            " ('charles', 1.0118735044527019),\n",
            " ('counterfeit', 0.999988304284928),\n",
            " ('xvi', 0.999988304284928),\n",
            " ('store', 0.9994804834557804),\n",
            " ('_amount_', 0.9963302125628715),\n",
            " ('_black', 0.9963302125628715),\n",
            " ('_magazine', 0.9963302125628715),\n",
            " ('_sun_', 0.9963302125628715),\n",
            " ('adjourning', 0.9963302125628715),\n",
            " ('advertiser', 0.9963302125628715),\n",
            " ('advertisers', 0.9963302125628715),\n",
            " ('agnosticism', 0.9963302125628715),\n",
            " ('animals', 0.9963302125628715),\n",
            " ('apparel', 0.9963302125628715),\n",
            " ('appoints', 0.9963302125628715),\n",
            " ('arbitrations', 0.9963302125628715),\n",
            " ('ascii', 0.9963302125628715),\n",
            " ('aspirants', 0.9963302125628715),\n",
            " ('atrocious', 0.9963302125628715),\n",
            " ('attracts', 0.9963302125628715),\n",
            " ('authorsa', 0.9963302125628715),\n",
            " ('band', 0.9963302125628715),\n",
            " ('bargained', 0.9963302125628715),\n",
            " ('battles', 0.9963302125628715),\n",
            " ('bets', 0.9963302125628715),\n",
            " ('bleeding', 0.9963302125628715),\n",
            " ('boats', 0.9963302125628715),\n",
            " ('book_', 0.9963302125628715),\n",
            " ('boss', 0.9963302125628715),\n",
            " ('bull', 0.9963302125628715),\n",
            " ('calf', 0.9963302125628715),\n",
            " ('chase', 0.9963302125628715),\n",
            " ('chicanery', 0.9963302125628715),\n",
            " ('coach', 0.9963302125628715),\n",
            " ('comet', 0.9963302125628715),\n",
            " ('computer', 0.9963302125628715),\n",
            " ('computers', 0.9963302125628715),\n",
            " ('concentration', 0.9963302125628715),\n",
            " ('conquering', 0.9963302125628715),\n",
            " ('conservator', 0.9963302125628715),\n",
            " ('copied', 0.9963302125628715),\n",
            " ('cord', 0.9963302125628715),\n",
            " ('cornell', 0.9963302125628715),\n",
            " ('countenance', 0.9963302125628715),\n",
            " ('counting', 0.9963302125628715),\n",
            " ('countryman', 0.9963302125628715),\n",
            " ('creeks', 0.9963302125628715),\n",
            " ('davy', 0.9963302125628715),\n",
            " ('decatur', 0.9963302125628715),\n",
            " ('deer', 0.9963302125628715),\n",
            " ('defa', 0.9963302125628715),\n",
            " ('delegations', 0.9963302125628715),\n",
            " ('deliveries', 0.9963302125628715),\n",
            " ('demurrer', 0.9963302125628715),\n",
            " ('describing', 0.9963302125628715),\n",
            " ('desires', 0.9963302125628715),\n",
            " ('directors', 0.9963302125628715),\n",
            " ('disallows', 0.9963302125628715),\n",
            " ('disgracing', 0.9963302125628715),\n",
            " ('doctoring', 0.9963302125628715),\n",
            " ('dogskina', 0.9963302125628715),\n",
            " ('effectively', 0.9963302125628715),\n",
            " ('elections', 0.9963302125628715),\n",
            " ('electronically', 0.9963302125628715),\n",
            " ('employees', 0.9963302125628715),\n",
            " ('emulates', 0.9963302125628715),\n",
            " ('enrolling', 0.9963302125628715),\n",
            " ('errands', 0.9963302125628715),\n",
            " ('faded', 0.9963302125628715),\n",
            " ('fergus', 0.9963302125628715),\n",
            " ('flatboat', 0.9963302125628715),\n",
            " ('forehead', 0.9963302125628715),\n",
            " ('fort', 0.9963302125628715),\n",
            " ('generals', 0.9963302125628715),\n",
            " ('goose', 0.9963302125628715),\n",
            " ('greed', 0.9963302125628715),\n",
            " ('groomsman', 0.9963302125628715),\n",
            " ('hagerty', 0.9963302125628715),\n",
            " ('hans', 0.9963302125628715),\n",
            " ('harvard', 0.9963302125628715),\n",
            " ('haute', 0.9963302125628715),\n",
            " ('heel', 0.9963302125628715),\n",
            " ('history_', 0.9963302125628715),\n",
            " ('homestead', 0.9963302125628715),\n",
            " ('hut', 0.9963302125628715),\n",
            " ('ice', 0.9963302125628715),\n",
            " ('ida', 0.9963302125628715),\n",
            " ('identical', 0.9963302125628715),\n",
            " ('imperialist', 0.9963302125628715),\n",
            " ('irons', 0.9963302125628715),\n",
            " ('janet', 0.9963302125628715),\n",
            " ('jr', 0.9963302125628715),\n",
            " ('justification', 0.9963302125628715),\n",
            " ('lambs', 0.9963302125628715),\n",
            " ('latin', 0.9963302125628715),\n",
            " ('linen', 0.9963302125628715),\n",
            " ('louder', 0.9963302125628715),\n",
            " ('mad', 0.9963302125628715),\n",
            " ('madison', 0.9963302125628715),\n",
            " ('maid', 0.9963302125628715),\n",
            " ('martyr', 0.9963302125628715),\n",
            " ('metaphysical', 0.9963302125628715),\n",
            " ('mit', 0.9963302125628715),\n",
            " ('monthlies', 0.9963302125628715),\n",
            " ('moods', 0.9963302125628715),\n",
            " ('moorea', 0.9963302125628715),\n",
            " ('naed', 0.9963302125628715),\n",
            " ('nest', 0.9963302125628715),\n",
            " ('nigger', 0.9963302125628715),\n",
            " ('package', 0.9963302125628715),\n",
            " ('pan', 0.9963302125628715),\n",
            " ('parentage', 0.9963302125628715),\n",
            " ('partly', 0.9963302125628715),\n",
            " ('passengers', 0.9963302125628715),\n",
            " ('pastimes', 0.9963302125628715),\n",
            " ('pla', 0.9963302125628715),\n",
            " ('playful', 0.9963302125628715),\n",
            " ('pony', 0.9963302125628715),\n",
            " ('population', 0.9963302125628715),\n",
            " ('postponed', 0.9963302125628715),\n",
            " ('postponement', 0.9963302125628715),\n",
            " ('premise', 0.9963302125628715),\n",
            " ('pressure', 0.9963302125628715),\n",
            " ('presumption', 0.9963302125628715),\n",
            " ('preventing', 0.9963302125628715),\n",
            " ('puffsa', 0.9963302125628715),\n",
            " ('quart', 0.9963302125628715),\n",
            " ('quincy', 0.9963302125628715),\n",
            " ('quorum', 0.9963302125628715),\n",
            " ('reckoneda', 0.9963302125628715),\n",
            " ('redistribution', 0.9963302125628715),\n",
            " ('registered', 0.9963302125628715),\n",
            " ('remit', 0.9963302125628715),\n",
            " ('rifle', 0.9963302125628715),\n",
            " ('rothschild_', 0.9963302125628715),\n",
            " ('rowa', 0.9963302125628715),\n",
            " ('rubbish', 0.9963302125628715),\n",
            " ('sacrifices', 0.9963302125628715),\n",
            " ('scroll', 0.9963302125628715),\n",
            " ('shade', 0.9963302125628715),\n",
            " ('shed', 0.9963302125628715),\n",
            " ('sigh', 0.9963302125628715),\n",
            " ('silk', 0.9963302125628715),\n",
            " ('sinewy', 0.9963302125628715),\n",
            " ('sock', 0.9963302125628715),\n",
            " ('solicit', 0.9963302125628715),\n",
            " ('solvent', 0.9963302125628715),\n",
            " ('sonny', 0.9963302125628715),\n",
            " ('specified', 0.9963302125628715),\n",
            " ('startling', 0.9963302125628715),\n",
            " ('steals', 0.9963302125628715),\n",
            " ('stevenson', 0.9963302125628715),\n",
            " ('subpa', 0.9963302125628715),\n",
            " ('subsequently', 0.9963302125628715),\n",
            " ('surface', 0.9963302125628715),\n",
            " ('tanned', 0.9963302125628715),\n",
            " ('tea', 0.9963302125628715),\n",
            " ('terre', 0.9963302125628715),\n",
            " ('theosophy', 0.9963302125628715),\n",
            " ('tight', 0.9963302125628715),\n",
            " ('tis', 0.9963302125628715),\n",
            " ('tour', 0.9963302125628715),\n",
            " ('trailors', 0.9963302125628715),\n",
            " ('vanilla', 0.9963302125628715),\n",
            " ('vol', 0.9963302125628715),\n",
            " ('warranty', 0.9963302125628715),\n",
            " ('watkinsa', 0.9963302125628715),\n",
            " ('wayne', 0.9963302125628715),\n",
            " ('weekly', 0.9963302125628715),\n",
            " ('whip', 0.9963302125628715),\n",
            " ('woodcut', 0.9963302125628715),\n",
            " ('wright', 0.9963302125628715)]\n"
          ],
          "name": "stdout"
        }
      ]
    },
    {
      "cell_type": "code",
      "metadata": {
        "id": "3TjjuzP4yWhh"
      },
      "source": [
        ""
      ],
      "execution_count": 14,
      "outputs": []
    },
    {
      "cell_type": "code",
      "metadata": {
        "id": "yVYFPYKRyWjy"
      },
      "source": [
        ""
      ],
      "execution_count": 14,
      "outputs": []
    },
    {
      "cell_type": "code",
      "metadata": {
        "id": "yC_nbMElyWnP"
      },
      "source": [
        ""
      ],
      "execution_count": 14,
      "outputs": []
    },
    {
      "cell_type": "markdown",
      "metadata": {
        "id": "ubJdGkjctJqY"
      },
      "source": [
        "Exercise 3. Topic Modeling\n",
        "\n",
        "• Determine the top 20 topics using the Non-Negative Matrix\n",
        "Factorization (NMF) using ‘from sklearn.decomposition import NMF’\n",
        "\n",
        "• Vectorize the words after cleaning up the text\n",
        "\n",
        "• Use ‘print(\"Topic {}: {}\".format(i + 1, \",\".join([str(x) for x in idx_to_word\n",
        "[topic.argsort()[-10:]]]))) to list the topics"
      ]
    },
    {
      "cell_type": "code",
      "metadata": {
        "id": "9n8i8SIo0O-V"
      },
      "source": [
        "# Importing Necessary packages\n",
        "\n",
        "import numpy as np\n",
        "from sklearn.datasets import fetch_20newsgroups\n",
        "from sklearn.feature_extraction.text import TfidfVectorizer\n",
        "from sklearn.decomposition import NMF"
      ],
      "execution_count": 15,
      "outputs": []
    },
    {
      "cell_type": "code",
      "metadata": {
        "id": "EOZSmcam0PAw",
        "outputId": "00928ed1-0fbe-41f5-8572-b7a7b282303b",
        "colab": {
          "base_uri": "https://localhost:8080/",
          "height": 87
        }
      },
      "source": [
        "# Importing Data\n",
        "text_data= fetch_20newsgroups(remove=('headers', 'footers', 'quotes')).data\n",
        "text_data[:3]"
      ],
      "execution_count": 16,
      "outputs": [
        {
          "output_type": "execute_result",
          "data": {
            "text/plain": [
              "['I was wondering if anyone out there could enlighten me on this car I saw\\nthe other day. It was a 2-door sports car, looked to be from the late 60s/\\nearly 70s. It was called a Bricklin. The doors were really small. In addition,\\nthe front bumper was separate from the rest of the body. This is \\nall I know. If anyone can tellme a model name, engine specs, years\\nof production, where this car is made, history, or whatever info you\\nhave on this funky looking car, please e-mail.',\n",
              " \"A fair number of brave souls who upgraded their SI clock oscillator have\\nshared their experiences for this poll. Please send a brief message detailing\\nyour experiences with the procedure. Top speed attained, CPU rated speed,\\nadd on cards and adapters, heat sinks, hour of usage per day, floppy disk\\nfunctionality with 800 and 1.4 m floppies are especially requested.\\n\\nI will be summarizing in the next two days, so please add to the network\\nknowledge base if you have done the clock upgrade and haven't answered this\\npoll. Thanks.\",\n",
              " 'well folks, my mac plus finally gave up the ghost this weekend after\\nstarting life as a 512k way back in 1985.  sooo, i\\'m in the market for a\\nnew machine a bit sooner than i intended to be...\\n\\ni\\'m looking into picking up a powerbook 160 or maybe 180 and have a bunch\\nof questions that (hopefully) somebody can answer:\\n\\n* does anybody know any dirt on when the next round of powerbook\\nintroductions are expected?  i\\'d heard the 185c was supposed to make an\\nappearence \"this summer\" but haven\\'t heard anymore on it - and since i\\ndon\\'t have access to macleak, i was wondering if anybody out there had\\nmore info...\\n\\n* has anybody heard rumors about price drops to the powerbook line like the\\nones the duo\\'s just went through recently?\\n\\n* what\\'s the impression of the display on the 180?  i could probably swing\\na 180 if i got the 80Mb disk rather than the 120, but i don\\'t really have\\na feel for how much \"better\" the display is (yea, it looks great in the\\nstore, but is that all \"wow\" or is it really that good?).  could i solicit\\nsome opinions of people who use the 160 and 180 day-to-day on if its worth\\ntaking the disk size and money hit to get the active display?  (i realize\\nthis is a real subjective question, but i\\'ve only played around with the\\nmachines in a computer store breifly and figured the opinions of somebody\\nwho actually uses the machine daily might prove helpful).\\n\\n* how well does hellcats perform?  ;)\\n\\nthanks a bunch in advance for any info - if you could email, i\\'ll post a\\nsummary (news reading time is at a premium with finals just around the\\ncorner... :( )\\n--\\nTom Willis  \\\\  twillis@ecn.purdue.edu    \\\\    Purdue Electrical Engineering']"
            ]
          },
          "metadata": {
            "tags": []
          },
          "execution_count": 16
        }
      ]
    },
    {
      "cell_type": "code",
      "metadata": {
        "id": "JNN481I90PDD",
        "outputId": "a4a5aa92-738b-4c68-990e-ef8e5a576a79",
        "colab": {
          "base_uri": "https://localhost:8080/",
          "height": 50
        }
      },
      "source": [
        "# converting the given text term-document matrix\n",
        " \n",
        "vectorizer = TfidfVectorizer(max_features=1500, min_df=10, stop_words='english')\n",
        "X = vectorizer.fit_transform(text_data)\n",
        "words = np.array(vectorizer.get_feature_names())\n",
        "\n",
        "print(X)\n"
      ],
      "execution_count": 17,
      "outputs": [
        {
          "output_type": "stream",
          "text": [
            "<11314x1500 sparse matrix of type '<class 'numpy.float64'>'\n",
            "\twith 339791 stored elements in Compressed Sparse Row format>\n"
          ],
          "name": "stdout"
        }
      ]
    },
    {
      "cell_type": "code",
      "metadata": {
        "id": "Bw45HkVP0PFq",
        "outputId": "039e3d1b-e549-4b54-9e0c-1b6be7ec4b1f",
        "colab": {
          "base_uri": "https://localhost:8080/",
          "height": 50
        }
      },
      "source": [
        "X"
      ],
      "execution_count": 18,
      "outputs": [
        {
          "output_type": "execute_result",
          "data": {
            "text/plain": [
              "<11314x1500 sparse matrix of type '<class 'numpy.float64'>'\n",
              "\twith 339791 stored elements in Compressed Sparse Row format>"
            ]
          },
          "metadata": {
            "tags": []
          },
          "execution_count": 18
        }
      ]
    },
    {
      "cell_type": "code",
      "metadata": {
        "id": "x56Skj-I0PI8"
      },
      "source": [
        ""
      ],
      "execution_count": 18,
      "outputs": []
    },
    {
      "cell_type": "code",
      "metadata": {
        "id": "bcC0GwMvtMgJ",
        "outputId": "c6e696f7-5d67-4f59-90ee-84e1d12227a1",
        "colab": {
          "base_uri": "https://localhost:8080/",
          "height": 202
        }
      },
      "source": [
        "# Applying Non-Negative Matrix Factorization\n",
        " \n",
        "nmf = NMF(n_components=10, solver=\"mu\")\n",
        "W = nmf.fit_transform(X)\n",
        "H = nmf.components_\n",
        "\n",
        "for i, topic in enumerate(H):\n",
        "     print(\"Topic {}: {}\".format(i + 1, \",\".join([str(x) for x in words[topic.argsort()[-10:]]])))"
      ],
      "execution_count": 19,
      "outputs": [
        {
          "output_type": "stream",
          "text": [
            "'Topic 1: really,people,ve,time,good,know,think,like,just,don'\n",
            "'Topic 2: info,help,looking,card,hi,know,advance,mail,does,thanks'\n",
            "'Topic 3: church,does,christians,christian,faith,believe,christ,bible,jesus,god'\n",
            "'Topic 4: league,win,hockey,play,players,season,year,games,team,game'\n",
            "'Topic 5: bus,floppy,card,controller,ide,hard,drives,disk,scsi,drive'\n",
            "'Topic 6: 20,price,condition,shipping,offer,space,10,sale,new,00'\n",
            "'Topic 7: running,problem,using,program,use,files,window,dos,file,windows'\n",
            "'Topic 8: nsa,use,algorithm,escrow,government,keys,clipper,encryption,chip,key'\n",
            "('Topic 9: '\n",
            " 'said,war,turkish,armenians,government,armenian,jews,israeli,israel,people')\n",
            "'Topic 10: email,internet,pub,com,article,ftp,university,cs,soon,edu'\n"
          ],
          "name": "stdout"
        }
      ]
    },
    {
      "cell_type": "code",
      "metadata": {
        "id": "yvCinpAC0IHf"
      },
      "source": [
        "#https://medium.com/voice-tech-podcast/topic-modelling-using-nmf-2f510d962b6e"
      ],
      "execution_count": 20,
      "outputs": []
    }
  ]
}