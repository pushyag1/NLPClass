{
  "nbformat": 4,
  "nbformat_minor": 0,
  "metadata": {
    "colab": {
      "name": "Copy of chatbot-covid.ipynb",
      "provenance": [],
      "collapsed_sections": [],
      "authorship_tag": "ABX9TyMvFuUhAupe8TDbUfc/Nmdu",
      "include_colab_link": true
    },
    "kernelspec": {
      "name": "python3",
      "display_name": "Python 3"
    }
  },
  "cells": [
    {
      "cell_type": "markdown",
      "metadata": {
        "id": "view-in-github",
        "colab_type": "text"
      },
      "source": [
        "<a href=\"https://colab.research.google.com/github/pushyag1/NLPClass/blob/master/chatbot_covid.ipynb\" target=\"_parent\"><img src=\"https://colab.research.google.com/assets/colab-badge.svg\" alt=\"Open In Colab\"/></a>"
      ]
    },
    {
      "cell_type": "code",
      "metadata": {
        "id": "y5n_2zI-08TH"
      },
      "source": [
        ""
      ],
      "execution_count": null,
      "outputs": []
    },
    {
      "cell_type": "markdown",
      "metadata": {
        "id": "0XKt6fqT09qN"
      },
      "source": [
        "# Colab Notebook Configuration"
      ]
    },
    {
      "cell_type": "code",
      "metadata": {
        "id": "AKwmHLuDzvgm"
      },
      "source": [
        "%matplotlib inline\n",
        "\n",
        "import logging, io, json, warnings\n",
        "logging.basicConfig(level=\"INFO\")\n",
        "warnings.filterwarnings('ignore')\n",
        "\n",
        "def pprint(o):\n",
        "    # small helper to make dict dumps a bit prettier\n",
        "    print(json.dumps(o, indent=2))"
      ],
      "execution_count": 1,
      "outputs": []
    },
    {
      "cell_type": "markdown",
      "metadata": {
        "id": "ZsHbarOt1IcW"
      },
      "source": [
        "# Installation of Rasa"
      ]
    },
    {
      "cell_type": "code",
      "metadata": {
        "colab": {
          "base_uri": "https://localhost:8080/"
        },
        "id": "VACgPtyTz4-2",
        "outputId": "acbdfa91-09bc-4119-c1a9-8d2c2f8ee4c1"
      },
      "source": [
        "import sys\n",
        "python = sys.executable\n",
        "\n",
        "#!{python} -m pip install -U rasa_core==0.9.6 rasa_nlu[spacy]===0.12.3; #rasa_core==0.9.6 doesn't work anymore, so are used new updated versions\n",
        "!{python} -m pip install -U rasa_core==0.11.12 rasa_nlu[spacy]===0.13.6;\n",
        "!{python} -m pip install sklearn_crfsuite;\n",
        "\n",
        "# as well as install a language model:\n",
        "!{python} -m spacy download en_core_web_md\n",
        "!{python} -m spacy link en_core_web_md en --force;"
      ],
      "execution_count": 2,
      "outputs": [
        {
          "output_type": "stream",
          "text": [
            "Collecting rasa_core==0.11.12\n",
            "\u001b[?25l  Downloading https://files.pythonhosted.org/packages/9a/4d/934f16187b3366cc6d9296f4264bbff7e6da10203358a5a1227799eb7a44/rasa_core-0.11.12-py2.py3-none-any.whl (179kB)\n",
            "\u001b[K     |████████████████████████████████| 184kB 5.6MB/s \n",
            "\u001b[?25hCollecting rasa_nlu[spacy]===0.13.6\n",
            "\u001b[?25l  Downloading https://files.pythonhosted.org/packages/11/29/f43bd557c30762a10d959a0e0e6c2c1881808dcb683b2ec7018c516e05ee/rasa_nlu-0.13.6-py2.py3-none-any.whl (145kB)\n",
            "\u001b[K     |████████████████████████████████| 153kB 5.1MB/s \n",
            "\u001b[?25hCollecting fakeredis~=0.10.0\n",
            "  Downloading https://files.pythonhosted.org/packages/64/bd/2756ddf350c4bb308e3255f9dcd6610f8b01344947bf74d5d166dc66b0a2/fakeredis-0.10.3-py2.py3-none-any.whl\n",
            "Requirement already satisfied, skipping upgrade: requests~=2.15 in /usr/local/lib/python3.6/dist-packages (from rasa_core==0.11.12) (2.23.0)\n",
            "Requirement already satisfied, skipping upgrade: keras~=2.0 in /usr/local/lib/python3.6/dist-packages (from rasa_core==0.11.12) (2.4.3)\n",
            "Requirement already satisfied, skipping upgrade: tqdm~=4.0 in /usr/local/lib/python3.6/dist-packages (from rasa_core==0.11.12) (4.41.1)\n",
            "Collecting flask-cors~=3.0\n",
            "  Downloading https://files.pythonhosted.org/packages/69/7f/d0aeaaafb5c3c76c8d2141dbe2d4f6dca5d6c31872d4e5349768c1958abc/Flask_Cors-3.0.9-py2.py3-none-any.whl\n",
            "Collecting slackclient~=1.0\n",
            "  Downloading https://files.pythonhosted.org/packages/7c/2f/9b6db4c7686be3dc6b4244eaef4f37226a2ccca1a796516d4adcdfeefe56/slackclient-1.3.2.tar.gz\n",
            "Requirement already satisfied, skipping upgrade: pyyaml~=3.12 in /usr/local/lib/python3.6/dist-packages (from rasa_core==0.11.12) (3.13)\n",
            "Collecting typing~=3.0\n",
            "\u001b[?25l  Downloading https://files.pythonhosted.org/packages/05/d9/6eebe19d46bd05360c9a9aae822e67a80f9242aabbfc58b641b957546607/typing-3.7.4.3.tar.gz (78kB)\n",
            "\u001b[K     |████████████████████████████████| 81kB 5.8MB/s \n",
            "\u001b[?25hCollecting pika~=0.11.2\n",
            "\u001b[?25l  Downloading https://files.pythonhosted.org/packages/76/b4/0ada6918ac79ce4d8d45d0ba436ee21a1ef685047fb1dde4d2de0178b327/pika-0.11.2-py2.py3-none-any.whl (107kB)\n",
            "\u001b[K     |████████████████████████████████| 112kB 7.2MB/s \n",
            "\u001b[?25hCollecting scikit-learn~=0.19.0\n",
            "\u001b[?25l  Downloading https://files.pythonhosted.org/packages/f9/c8/8db4108aba5e2166cd2ea4eafa1a4b82f89240a1fa85733029cc2358ad1f/scikit_learn-0.19.2-cp36-cp36m-manylinux1_x86_64.whl (4.9MB)\n",
            "\u001b[K     |████████████████████████████████| 4.9MB 7.3MB/s \n",
            "\u001b[?25hCollecting terminaltables~=3.1\n",
            "  Downloading https://files.pythonhosted.org/packages/9b/c4/4a21174f32f8a7e1104798c445dacdc1d4df86f2f26722767034e4de4bff/terminaltables-3.1.0.tar.gz\n",
            "Collecting ConfigArgParse~=0.13.0\n",
            "  Downloading https://files.pythonhosted.org/packages/77/61/ae928ce6ab85d4479ea198488cf5ffa371bd4ece2030c0ee85ff668deac5/ConfigArgParse-0.13.0.tar.gz\n",
            "Collecting gevent~=1.2\n",
            "\u001b[?25l  Downloading https://files.pythonhosted.org/packages/a9/95/b53b78b15abbe547bed7381ca9c8319c86d6b646a30d0831e26c307a5fa7/gevent-1.5.0-cp36-cp36m-manylinux2010_x86_64.whl (5.1MB)\n",
            "\u001b[K     |████████████████████████████████| 5.1MB 32.1MB/s \n",
            "\u001b[?25hCollecting ruamel.yaml~=0.15.0\n",
            "\u001b[?25l  Downloading https://files.pythonhosted.org/packages/e7/9f/83bb34eaf84032b0b54fcc4a6aff1858572d279d65a301c7ae875f523df5/ruamel.yaml-0.15.100-cp36-cp36m-manylinux1_x86_64.whl (656kB)\n",
            "\u001b[K     |████████████████████████████████| 665kB 50.7MB/s \n",
            "\u001b[?25hCollecting pykwalify<=1.6.0\n",
            "  Downloading https://files.pythonhosted.org/packages/6e/59/55c32d59b462a9c3fae2ab25f179f91d61617c0215e9f8ba3f4966b2b8b1/pykwalify-1.6.0-py2.py3-none-any.whl\n",
            "Requirement already satisfied, skipping upgrade: future~=0.16 in /usr/local/lib/python3.6/dist-packages (from rasa_core==0.11.12) (0.16.0)\n",
            "Requirement already satisfied, skipping upgrade: six~=1.0 in /usr/local/lib/python3.6/dist-packages (from rasa_core==0.11.12) (1.15.0)\n",
            "Collecting python-telegram-bot~=10.0\n",
            "\u001b[?25l  Downloading https://files.pythonhosted.org/packages/f1/51/d1bd383522c12b313eddd7b97b8e7d6cd2a8e3b44b8ff3c88e4a7b045cc8/python_telegram_bot-10.1.0-py2.py3-none-any.whl (298kB)\n",
            "\u001b[K     |████████████████████████████████| 307kB 51.0MB/s \n",
            "\u001b[?25hCollecting tensorflow==1.10.0\n",
            "\u001b[?25l  Downloading https://files.pythonhosted.org/packages/ee/e6/a6d371306c23c2b01cd2cb38909673d17ddd388d9e4b3c0f6602bfd972c8/tensorflow-1.10.0-cp36-cp36m-manylinux1_x86_64.whl (58.4MB)\n",
            "\u001b[K     |████████████████████████████████| 58.4MB 73kB/s \n",
            "\u001b[?25hRequirement already satisfied, skipping upgrade: pytz~=2018.4 in /usr/local/lib/python3.6/dist-packages (from rasa_core==0.11.12) (2018.9)\n",
            "Collecting rocketchat-API~=0.6.0\n",
            "  Downloading https://files.pythonhosted.org/packages/8e/e6/69e5d75ad687635c56a27a8529c471cf1a8593e071784c4d2727382cd5db/rocketchat_API-0.6.36-py3-none-any.whl\n",
            "Requirement already satisfied, skipping upgrade: networkx~=2.0 in /usr/local/lib/python3.6/dist-packages (from rasa_core==0.11.12) (2.5)\n",
            "Collecting twilio~=6.0\n",
            "\u001b[?25l  Downloading https://files.pythonhosted.org/packages/4b/8d/58a7ea780ab7aaeffd5112a190d85b7535d30280e9ccbaea7a7464581c6d/twilio-6.48.0.tar.gz (460kB)\n",
            "\u001b[K     |████████████████████████████████| 460kB 49.6MB/s \n",
            "\u001b[?25hRequirement already satisfied, skipping upgrade: pymongo~=3.5 in /usr/local/lib/python3.6/dist-packages (from rasa_core==0.11.12) (3.11.0)\n",
            "Requirement already satisfied, skipping upgrade: jsonschema~=2.6 in /usr/local/lib/python3.6/dist-packages (from rasa_core==0.11.12) (2.6.0)\n",
            "Collecting redis~=2.0\n",
            "\u001b[?25l  Downloading https://files.pythonhosted.org/packages/3b/f6/7a76333cf0b9251ecf49efff635015171843d9b977e4ffcf59f9c4428052/redis-2.10.6-py2.py3-none-any.whl (64kB)\n",
            "\u001b[K     |████████████████████████████████| 71kB 9.9MB/s \n",
            "\u001b[?25hCollecting apscheduler~=3.0\n",
            "\u001b[?25l  Downloading https://files.pythonhosted.org/packages/f3/34/9ef20ed473c4fd2c3df54ef77a27ae3fc7500b16b192add4720cab8b2c09/APScheduler-3.6.3-py2.py3-none-any.whl (58kB)\n",
            "\u001b[K     |████████████████████████████████| 61kB 8.5MB/s \n",
            "\u001b[?25hCollecting jsonpickle~=0.9.0\n",
            "\u001b[?25l  Downloading https://files.pythonhosted.org/packages/32/d5/2f47f03d3f64c31b0d7070b488274631d7567c36e81a9f744e6638bb0f0d/jsonpickle-0.9.6.tar.gz (67kB)\n",
            "\u001b[K     |████████████████████████████████| 71kB 10.7MB/s \n",
            "\u001b[?25hCollecting rasa-core-sdk~=0.11.0\n",
            "  Downloading https://files.pythonhosted.org/packages/ef/6a/af1e7ff34d9546b5f6da6119fc5c9610e0c77d2717ffb3e99af1bf8c3d07/rasa_core_sdk-0.11.5-py2.py3-none-any.whl\n",
            "Collecting flask-jwt-simple~=0.0.3\n",
            "  Downloading https://files.pythonhosted.org/packages/e7/5f/432fde78e3a7dda20576396ebf561770a83104dc4b74a1ee84e71574ec0a/Flask-JWT-Simple-0.0.3.tar.gz\n",
            "Requirement already satisfied, skipping upgrade: h5py~=2.0 in /usr/local/lib/python3.6/dist-packages (from rasa_core==0.11.12) (2.10.0)\n",
            "Requirement already satisfied, skipping upgrade: flask~=1.0 in /usr/local/lib/python3.6/dist-packages (from rasa_core==0.11.12) (1.1.2)\n",
            "Collecting mattermostwrapper~=2.0\n",
            "  Downloading https://files.pythonhosted.org/packages/d7/fd/f1ce046ddaeffa5073f87d7800c27ad2c8e543e924a8418675c64aea6a14/mattermostwrapper-2.2.tar.gz\n",
            "Requirement already satisfied, skipping upgrade: numpy~=1.14 in /usr/local/lib/python3.6/dist-packages (from rasa_core==0.11.12) (1.18.5)\n",
            "Collecting coloredlogs~=10.0\n",
            "\u001b[?25l  Downloading https://files.pythonhosted.org/packages/08/0f/7877fc42fff0b9d70b6442df62d53b3868d3a6ad1b876bdb54335b30ff23/coloredlogs-10.0-py2.py3-none-any.whl (47kB)\n",
            "\u001b[K     |████████████████████████████████| 51kB 7.5MB/s \n",
            "\u001b[?25hCollecting colorhash~=1.0\n",
            "  Downloading https://files.pythonhosted.org/packages/0e/e1/50dbc513aa74e99eca4c47f2a8206711f0bec436fdddd95eebaf7eaaa1aa/colorhash-1.0.2-py2.py3-none-any.whl\n",
            "Collecting packaging~=17.0\n",
            "  Downloading https://files.pythonhosted.org/packages/ad/c2/b500ea05d5f9f361a562f089fc91f77ed3b4783e13a08a3daf82069b1224/packaging-17.1-py2.py3-none-any.whl\n",
            "Collecting python-socketio~=2.0\n",
            "  Downloading https://files.pythonhosted.org/packages/40/ab/8217b1e113354dcfede430bccd24bf0faeba49020795a873970b476dbfba/python_socketio-2.1.2-py2.py3-none-any.whl\n",
            "Requirement already satisfied, skipping upgrade: python-dateutil~=2.7 in /usr/local/lib/python3.6/dist-packages (from rasa_core==0.11.12) (2.8.1)\n",
            "Collecting graphviz~=0.9.0\n",
            "  Downloading https://files.pythonhosted.org/packages/47/87/313cd4ea4f75472826acb74c57f94fc83e04ba93e4ccf35656f6b7f502e2/graphviz-0.9-py2.py3-none-any.whl\n",
            "Collecting PyInquirer~=1.0\n",
            "  Downloading https://files.pythonhosted.org/packages/fb/4c/434b7c454010a284b49d6f1d446fe8dc5960415613d8c0225b9e2efb6724/PyInquirer-1.0.3.tar.gz\n",
            "Collecting fbmessenger~=5.0\n",
            "  Downloading https://files.pythonhosted.org/packages/51/9d/9a426160e00c3c9d839314685fcec1f60ad04888be4228399dadb37c3226/fbmessenger-5.6.0-py2.py3-none-any.whl\n",
            "Collecting colorclass~=2.2\n",
            "  Downloading https://files.pythonhosted.org/packages/37/ea/ae8dbb956939d4392e6a7fdef87fda273854da1128edae016c4104240be8/colorclass-2.2.0.tar.gz\n",
            "Collecting simplejson\n",
            "\u001b[?25l  Downloading https://files.pythonhosted.org/packages/73/96/1e6b19045375890068d7342cbe280dd64ae73fd90b9735b5efb8d1e044a1/simplejson-3.17.2-cp36-cp36m-manylinux2010_x86_64.whl (127kB)\n",
            "\u001b[K     |████████████████████████████████| 133kB 50.8MB/s \n",
            "\u001b[?25hCollecting boto3\n",
            "\u001b[?25l  Downloading https://files.pythonhosted.org/packages/4e/31/4d4861a90d66c287a348fd17eaefefcdc2e859951cab9884b555923f046d/boto3-1.16.23-py2.py3-none-any.whl (129kB)\n",
            "\u001b[K     |████████████████████████████████| 133kB 50.7MB/s \n",
            "\u001b[?25hCollecting klein\n",
            "\u001b[?25l  Downloading https://files.pythonhosted.org/packages/4b/c6/b8bb2eec20538cfb9221351c3d6d769bf0da5baebf0323334774fe3077a1/klein-20.6.0-py2.py3-none-any.whl (118kB)\n",
            "\u001b[K     |████████████████████████████████| 122kB 55.9MB/s \n",
            "\u001b[?25hCollecting matplotlib~=2.0\n",
            "\u001b[?25l  Downloading https://files.pythonhosted.org/packages/49/cc/94dd12083678ffbfee7cf5ac8bf341b0e6dac64c422851db094e532d1524/matplotlib-2.2.5-cp36-cp36m-manylinux1_x86_64.whl (12.8MB)\n",
            "\u001b[K     |████████████████████████████████| 12.8MB 27.8MB/s \n",
            "\u001b[?25hRequirement already satisfied, skipping upgrade: cloudpickle in /usr/local/lib/python3.6/dist-packages (from rasa_nlu[spacy]===0.13.6) (1.3.0)\n",
            "Requirement already satisfied, skipping upgrade: pathlib in /usr/local/lib/python3.6/dist-packages (from rasa_nlu[spacy]===0.13.6) (1.0.1)\n",
            "Collecting sklearn-crfsuite; extra == \"spacy\"\n",
            "  Downloading https://files.pythonhosted.org/packages/25/74/5b7befa513482e6dee1f3dd68171a6c9dfc14c0eaa00f885ffeba54fe9b0/sklearn_crfsuite-0.3.6-py2.py3-none-any.whl\n",
            "Requirement already satisfied, skipping upgrade: spacy>2.0; extra == \"spacy\" in /usr/local/lib/python3.6/dist-packages (from rasa_nlu[spacy]===0.13.6) (2.2.4)\n",
            "Requirement already satisfied, skipping upgrade: scipy; extra == \"spacy\" in /usr/local/lib/python3.6/dist-packages (from rasa_nlu[spacy]===0.13.6) (1.4.1)\n",
            "Requirement already satisfied, skipping upgrade: certifi>=2017.4.17 in /usr/local/lib/python3.6/dist-packages (from requests~=2.15->rasa_core==0.11.12) (2020.6.20)\n",
            "Requirement already satisfied, skipping upgrade: chardet<4,>=3.0.2 in /usr/local/lib/python3.6/dist-packages (from requests~=2.15->rasa_core==0.11.12) (3.0.4)\n",
            "Requirement already satisfied, skipping upgrade: urllib3!=1.25.0,!=1.25.1,<1.26,>=1.21.1 in /usr/local/lib/python3.6/dist-packages (from requests~=2.15->rasa_core==0.11.12) (1.24.3)\n",
            "Requirement already satisfied, skipping upgrade: idna<3,>=2.5 in /usr/local/lib/python3.6/dist-packages (from requests~=2.15->rasa_core==0.11.12) (2.10)\n",
            "Collecting websocket-client<0.55.0,>=0.35\n",
            "\u001b[?25l  Downloading https://files.pythonhosted.org/packages/26/2d/f749a5c82f6192d77ed061a38e02001afcba55fe8477336d26a950ab17ce/websocket_client-0.54.0-py2.py3-none-any.whl (200kB)\n",
            "\u001b[K     |████████████████████████████████| 204kB 51.8MB/s \n",
            "\u001b[?25hCollecting greenlet>=0.4.14; platform_python_implementation == \"CPython\"\n",
            "\u001b[?25l  Downloading https://files.pythonhosted.org/packages/80/d0/532e160c777b42f6f393f9de8c88abb8af6c892037c55e4d3a8a211324dd/greenlet-0.4.17-cp36-cp36m-manylinux1_x86_64.whl (44kB)\n",
            "\u001b[K     |████████████████████████████████| 51kB 7.1MB/s \n",
            "\u001b[?25hRequirement already satisfied, skipping upgrade: docopt>=0.6.2 in /usr/local/lib/python3.6/dist-packages (from pykwalify<=1.6.0->rasa_core==0.11.12) (0.6.2)\n",
            "Requirement already satisfied, skipping upgrade: absl-py>=0.1.6 in /usr/local/lib/python3.6/dist-packages (from tensorflow==1.10.0->rasa_core==0.11.12) (0.10.0)\n",
            "Requirement already satisfied, skipping upgrade: wheel>=0.26 in /usr/local/lib/python3.6/dist-packages (from tensorflow==1.10.0->rasa_core==0.11.12) (0.35.1)\n",
            "Requirement already satisfied, skipping upgrade: grpcio>=1.8.6 in /usr/local/lib/python3.6/dist-packages (from tensorflow==1.10.0->rasa_core==0.11.12) (1.33.2)\n",
            "Requirement already satisfied, skipping upgrade: gast>=0.2.0 in /usr/local/lib/python3.6/dist-packages (from tensorflow==1.10.0->rasa_core==0.11.12) (0.3.3)\n",
            "Collecting tensorboard<1.11.0,>=1.10.0\n",
            "\u001b[?25l  Downloading https://files.pythonhosted.org/packages/c6/17/ecd918a004f297955c30b4fffbea100b1606c225dbf0443264012773c3ff/tensorboard-1.10.0-py3-none-any.whl (3.3MB)\n",
            "\u001b[K     |████████████████████████████████| 3.3MB 45.1MB/s \n",
            "\u001b[?25hRequirement already satisfied, skipping upgrade: astor>=0.6.0 in /usr/local/lib/python3.6/dist-packages (from tensorflow==1.10.0->rasa_core==0.11.12) (0.8.1)\n",
            "Collecting setuptools<=39.1.0\n",
            "\u001b[?25l  Downloading https://files.pythonhosted.org/packages/8c/10/79282747f9169f21c053c562a0baa21815a8c7879be97abd930dbcf862e8/setuptools-39.1.0-py2.py3-none-any.whl (566kB)\n",
            "\u001b[K     |████████████████████████████████| 573kB 48.2MB/s \n",
            "\u001b[?25hRequirement already satisfied, skipping upgrade: termcolor>=1.1.0 in /usr/local/lib/python3.6/dist-packages (from tensorflow==1.10.0->rasa_core==0.11.12) (1.1.0)\n",
            "Requirement already satisfied, skipping upgrade: protobuf>=3.6.0 in /usr/local/lib/python3.6/dist-packages (from tensorflow==1.10.0->rasa_core==0.11.12) (3.12.4)\n",
            "Requirement already satisfied, skipping upgrade: decorator>=4.3.0 in /usr/local/lib/python3.6/dist-packages (from networkx~=2.0->rasa_core==0.11.12) (4.4.2)\n",
            "Collecting PyJWT>=1.4.2\n",
            "  Downloading https://files.pythonhosted.org/packages/87/8b/6a9f14b5f781697e51259d81657e6048fd31a113229cf346880bb7545565/PyJWT-1.7.1-py2.py3-none-any.whl\n",
            "Requirement already satisfied, skipping upgrade: tzlocal>=1.2 in /usr/local/lib/python3.6/dist-packages (from apscheduler~=3.0->rasa_core==0.11.12) (1.5.1)\n",
            "Requirement already satisfied, skipping upgrade: itsdangerous>=0.24 in /usr/local/lib/python3.6/dist-packages (from flask~=1.0->rasa_core==0.11.12) (1.1.0)\n",
            "Requirement already satisfied, skipping upgrade: Werkzeug>=0.15 in /usr/local/lib/python3.6/dist-packages (from flask~=1.0->rasa_core==0.11.12) (1.0.1)\n",
            "Requirement already satisfied, skipping upgrade: click>=5.1 in /usr/local/lib/python3.6/dist-packages (from flask~=1.0->rasa_core==0.11.12) (7.1.2)\n",
            "Requirement already satisfied, skipping upgrade: Jinja2>=2.10.1 in /usr/local/lib/python3.6/dist-packages (from flask~=1.0->rasa_core==0.11.12) (2.11.2)\n",
            "Collecting humanfriendly>=4.7\n",
            "\u001b[?25l  Downloading https://files.pythonhosted.org/packages/8e/2d/2f1b0a780b8c948c06c74c8c80e68ac354da52397ba432a1c5ac1923c3af/humanfriendly-8.2-py2.py3-none-any.whl (86kB)\n",
            "\u001b[K     |████████████████████████████████| 92kB 11.6MB/s \n",
            "\u001b[?25hRequirement already satisfied, skipping upgrade: pyparsing>=2.0.2 in /usr/local/lib/python3.6/dist-packages (from packaging~=17.0->rasa_core==0.11.12) (2.4.7)\n",
            "Collecting python-engineio>=3.0.0\n",
            "\u001b[?25l  Downloading https://files.pythonhosted.org/packages/4a/b0/602e549c6d735eb487f186b35e0b82e61c89459f57d1c24d5c7be6f56d05/python_engineio-3.13.2-py2.py3-none-any.whl (50kB)\n",
            "\u001b[K     |████████████████████████████████| 51kB 7.0MB/s \n",
            "\u001b[?25hCollecting prompt_toolkit==1.0.14\n",
            "\u001b[?25l  Downloading https://files.pythonhosted.org/packages/ee/3d/b25d35a9f0d381dd1c02d8e04b37c353caaaff4bc32150328eeebe4931f5/prompt_toolkit-1.0.14-py3-none-any.whl (248kB)\n",
            "\u001b[K     |████████████████████████████████| 256kB 50.4MB/s \n",
            "\u001b[?25hRequirement already satisfied, skipping upgrade: Pygments>=2.2.0 in /usr/local/lib/python3.6/dist-packages (from PyInquirer~=1.0->rasa_core==0.11.12) (2.6.1)\n",
            "Requirement already satisfied, skipping upgrade: regex>=2016.11.21 in /usr/local/lib/python3.6/dist-packages (from PyInquirer~=1.0->rasa_core==0.11.12) (2019.12.20)\n",
            "Collecting botocore<1.20.0,>=1.19.23\n",
            "\u001b[?25l  Downloading https://files.pythonhosted.org/packages/77/49/c8c99477416fdebb59078bda624acc5b3c7008f891c60d56d6ff1570d83e/botocore-1.19.23-py2.py3-none-any.whl (6.8MB)\n",
            "\u001b[K     |████████████████████████████████| 6.9MB 47.0MB/s \n",
            "\u001b[?25hCollecting jmespath<1.0.0,>=0.7.1\n",
            "  Downloading https://files.pythonhosted.org/packages/07/cb/5f001272b6faeb23c1c9e0acc04d48eaaf5c862c17709d20e3469c6e0139/jmespath-0.10.0-py2.py3-none-any.whl\n",
            "Collecting s3transfer<0.4.0,>=0.3.0\n",
            "\u001b[?25l  Downloading https://files.pythonhosted.org/packages/69/79/e6afb3d8b0b4e96cefbdc690f741d7dd24547ff1f94240c997a26fa908d3/s3transfer-0.3.3-py2.py3-none-any.whl (69kB)\n",
            "\u001b[K     |████████████████████████████████| 71kB 10.9MB/s \n",
            "\u001b[?25hCollecting zope.interface\n",
            "\u001b[?25l  Downloading https://files.pythonhosted.org/packages/82/b0/da8afd9b3bd50c7665ecdac062f182982af1173c9081f9af7261091c5588/zope.interface-5.2.0-cp36-cp36m-manylinux2010_x86_64.whl (236kB)\n",
            "\u001b[K     |████████████████████████████████| 245kB 52.2MB/s \n",
            "\u001b[?25hCollecting incremental\n",
            "  Downloading https://files.pythonhosted.org/packages/f5/1d/c98a587dc06e107115cf4a58b49de20b19222c83d75335a192052af4c4b7/incremental-17.5.0-py2.py3-none-any.whl\n",
            "Collecting Tubes\n",
            "\u001b[?25l  Downloading https://files.pythonhosted.org/packages/f2/c4/f11f6e63856fd4307a905c6adf52967b5951197ad52efd847cb1b37d1c5d/Tubes-0.2.0-py2.py3-none-any.whl (58kB)\n",
            "\u001b[K     |████████████████████████████████| 61kB 8.2MB/s \n",
            "\u001b[?25hCollecting Twisted>=15.5\n",
            "\u001b[?25l  Downloading https://files.pythonhosted.org/packages/b7/04/1a664c9e5ec0224a1c1a154ddecaa4dc7b8967521bba225efcc41a03d5f3/Twisted-20.3.0-cp36-cp36m-manylinux1_x86_64.whl (3.1MB)\n",
            "\u001b[K     |████████████████████████████████| 3.1MB 47.9MB/s \n",
            "\u001b[?25hCollecting hyperlink\n",
            "\u001b[?25l  Downloading https://files.pythonhosted.org/packages/88/a5/74f77547e9b175eb894d4fec5c76b0c8176c045e5bf3ac6a4d4d3feab4bb/hyperlink-20.0.1-py2.py3-none-any.whl (48kB)\n",
            "\u001b[K     |████████████████████████████████| 51kB 6.6MB/s \n",
            "\u001b[?25hRequirement already satisfied, skipping upgrade: attrs in /usr/local/lib/python3.6/dist-packages (from klein->rasa_nlu[spacy]===0.13.6) (20.2.0)\n",
            "Requirement already satisfied, skipping upgrade: cycler>=0.10 in /usr/local/lib/python3.6/dist-packages (from matplotlib~=2.0->rasa_nlu[spacy]===0.13.6) (0.10.0)\n",
            "Requirement already satisfied, skipping upgrade: kiwisolver>=1.0.1 in /usr/local/lib/python3.6/dist-packages (from matplotlib~=2.0->rasa_nlu[spacy]===0.13.6) (1.3.1)\n",
            "Collecting python-crfsuite>=0.8.3\n",
            "\u001b[?25l  Downloading https://files.pythonhosted.org/packages/95/99/869dde6dbf3e0d07a013c8eebfb0a3d30776334e0097f8432b631a9a3a19/python_crfsuite-0.9.7-cp36-cp36m-manylinux1_x86_64.whl (743kB)\n",
            "\u001b[K     |████████████████████████████████| 747kB 44.3MB/s \n",
            "\u001b[?25hRequirement already satisfied, skipping upgrade: tabulate in /usr/local/lib/python3.6/dist-packages (from sklearn-crfsuite; extra == \"spacy\"->rasa_nlu[spacy]===0.13.6) (0.8.7)\n",
            "Requirement already satisfied, skipping upgrade: murmurhash<1.1.0,>=0.28.0 in /usr/local/lib/python3.6/dist-packages (from spacy>2.0; extra == \"spacy\"->rasa_nlu[spacy]===0.13.6) (1.0.3)\n",
            "Requirement already satisfied, skipping upgrade: thinc==7.4.0 in /usr/local/lib/python3.6/dist-packages (from spacy>2.0; extra == \"spacy\"->rasa_nlu[spacy]===0.13.6) (7.4.0)\n",
            "Requirement already satisfied, skipping upgrade: plac<1.2.0,>=0.9.6 in /usr/local/lib/python3.6/dist-packages (from spacy>2.0; extra == \"spacy\"->rasa_nlu[spacy]===0.13.6) (1.1.3)\n",
            "Requirement already satisfied, skipping upgrade: srsly<1.1.0,>=1.0.2 in /usr/local/lib/python3.6/dist-packages (from spacy>2.0; extra == \"spacy\"->rasa_nlu[spacy]===0.13.6) (1.0.2)\n",
            "Requirement already satisfied, skipping upgrade: cymem<2.1.0,>=2.0.2 in /usr/local/lib/python3.6/dist-packages (from spacy>2.0; extra == \"spacy\"->rasa_nlu[spacy]===0.13.6) (2.0.4)\n",
            "Requirement already satisfied, skipping upgrade: blis<0.5.0,>=0.4.0 in /usr/local/lib/python3.6/dist-packages (from spacy>2.0; extra == \"spacy\"->rasa_nlu[spacy]===0.13.6) (0.4.1)\n",
            "Requirement already satisfied, skipping upgrade: preshed<3.1.0,>=3.0.2 in /usr/local/lib/python3.6/dist-packages (from spacy>2.0; extra == \"spacy\"->rasa_nlu[spacy]===0.13.6) (3.0.2)\n",
            "Requirement already satisfied, skipping upgrade: catalogue<1.1.0,>=0.0.7 in /usr/local/lib/python3.6/dist-packages (from spacy>2.0; extra == \"spacy\"->rasa_nlu[spacy]===0.13.6) (1.0.0)\n",
            "Requirement already satisfied, skipping upgrade: wasabi<1.1.0,>=0.4.0 in /usr/local/lib/python3.6/dist-packages (from spacy>2.0; extra == \"spacy\"->rasa_nlu[spacy]===0.13.6) (0.8.0)\n",
            "Requirement already satisfied, skipping upgrade: markdown>=2.6.8 in /usr/local/lib/python3.6/dist-packages (from tensorboard<1.11.0,>=1.10.0->tensorflow==1.10.0->rasa_core==0.11.12) (3.3.3)\n",
            "Requirement already satisfied, skipping upgrade: MarkupSafe>=0.23 in /usr/local/lib/python3.6/dist-packages (from Jinja2>=2.10.1->flask~=1.0->rasa_core==0.11.12) (1.1.1)\n",
            "Requirement already satisfied, skipping upgrade: wcwidth in /usr/local/lib/python3.6/dist-packages (from prompt_toolkit==1.0.14->PyInquirer~=1.0->rasa_core==0.11.12) (0.2.5)\n",
            "Collecting characteristic\n",
            "  Downloading https://files.pythonhosted.org/packages/fa/0d/7fa43a50feaa8896e9acbb91d2256dc1341e8f9a0be629138490ee1f849e/characteristic-14.3.0-py2.py3-none-any.whl\n",
            "Collecting Automat>=0.3.0\n",
            "  Downloading https://files.pythonhosted.org/packages/dd/83/5f6f3c1a562674d65efc320257bdc0873ec53147835aeef7762fe7585273/Automat-20.2.0-py2.py3-none-any.whl\n",
            "Collecting constantly>=15.1\n",
            "  Downloading https://files.pythonhosted.org/packages/b9/65/48c1909d0c0aeae6c10213340ce682db01b48ea900a7d9fce7a7910ff318/constantly-15.1.0-py2.py3-none-any.whl\n",
            "Collecting PyHamcrest!=1.10.0,>=1.9.0\n",
            "\u001b[?25l  Downloading https://files.pythonhosted.org/packages/40/16/e54cc65891f01cb62893540f44ffd3e8dab0a22443e1b438f1a9f5574bee/PyHamcrest-2.0.2-py3-none-any.whl (52kB)\n",
            "\u001b[K     |████████████████████████████████| 61kB 8.6MB/s \n",
            "\u001b[?25hRequirement already satisfied, skipping upgrade: importlib-metadata>=0.20; python_version < \"3.8\" in /usr/local/lib/python3.6/dist-packages (from catalogue<1.1.0,>=0.0.7->spacy>2.0; extra == \"spacy\"->rasa_nlu[spacy]===0.13.6) (2.0.0)\n",
            "Requirement already satisfied, skipping upgrade: zipp>=0.5 in /usr/local/lib/python3.6/dist-packages (from importlib-metadata>=0.20; python_version < \"3.8\"->catalogue<1.1.0,>=0.0.7->spacy>2.0; extra == \"spacy\"->rasa_nlu[spacy]===0.13.6) (3.4.0)\n",
            "Building wheels for collected packages: slackclient, typing, terminaltables, ConfigArgParse, twilio, jsonpickle, flask-jwt-simple, mattermostwrapper, PyInquirer, colorclass\n",
            "  Building wheel for slackclient (setup.py) ... \u001b[?25l\u001b[?25hdone\n",
            "  Created wheel for slackclient: filename=slackclient-1.3.2-py2.py3-none-any.whl size=19229 sha256=803cd624fdbbf85bec5b65e0c6fa6ccc52e06c6fd139eba2498ea6b0f0eb526b\n",
            "  Stored in directory: /root/.cache/pip/wheels/3b/d4/92/3458f0e1a3e1a9c8935d3b2db89a75d74d8d45601fedec752f\n",
            "  Building wheel for typing (setup.py) ... \u001b[?25l\u001b[?25hdone\n",
            "  Created wheel for typing: filename=typing-3.7.4.3-cp36-none-any.whl size=26307 sha256=7f84d559ed62292066fb1b2ad045607752ae80be395d1222f359fa540f7e0d03\n",
            "  Stored in directory: /root/.cache/pip/wheels/2d/04/41/8e1836e79581989c22eebac3f4e70aaac9af07b0908da173be\n",
            "  Building wheel for terminaltables (setup.py) ... \u001b[?25l\u001b[?25hdone\n",
            "  Created wheel for terminaltables: filename=terminaltables-3.1.0-cp36-none-any.whl size=15356 sha256=c8de4ccb650480b59d031ad8931f4bd156632479b624c7d6c3ac6f73e49320bc\n",
            "  Stored in directory: /root/.cache/pip/wheels/30/6b/50/6c75775b681fb36cdfac7f19799888ef9d8813aff9e379663e\n",
            "  Building wheel for ConfigArgParse (setup.py) ... \u001b[?25l\u001b[?25hdone\n",
            "  Created wheel for ConfigArgParse: filename=ConfigArgParse-0.13.0-cp36-none-any.whl size=17571 sha256=0f84f7fcb24111cfda8f789765dcfc9962223431ac77ddceb62f03a72d032737\n",
            "  Stored in directory: /root/.cache/pip/wheels/76/11/eb/12113becd46c0e8a70b8a63f9405e46a1f61d4aaa8532d676b\n",
            "  Building wheel for twilio (setup.py) ... \u001b[?25l\u001b[?25hdone\n",
            "  Created wheel for twilio: filename=twilio-6.48.0-py2.py3-none-any.whl size=1217967 sha256=adb9b22a2e5be5324804a0c2270ed8ec7d3314849d11078e2615568cf28a2976\n",
            "  Stored in directory: /root/.cache/pip/wheels/ae/a9/3a/5b6c01370151099985da2e4c56b712dc391e80b1dcc546d81e\n",
            "  Building wheel for jsonpickle (setup.py) ... \u001b[?25l\u001b[?25hdone\n",
            "  Created wheel for jsonpickle: filename=jsonpickle-0.9.6-cp36-none-any.whl size=29464 sha256=292405dd5c0e91b3032a22a1026b57a588e9e4b25f406c954180bf901131fd66\n",
            "  Stored in directory: /root/.cache/pip/wheels/07/8b/41/8ce98f4737a9ff61b1bf2673f2abfe66a6a43ad6e91d2c9736\n",
            "  Building wheel for flask-jwt-simple (setup.py) ... \u001b[?25l\u001b[?25hdone\n",
            "  Created wheel for flask-jwt-simple: filename=Flask_JWT_Simple-0.0.3-cp36-none-any.whl size=8002 sha256=e358e7ccf79ad4be97e285524cd546606b633210273926164d143143059218c7\n",
            "  Stored in directory: /root/.cache/pip/wheels/5d/86/c2/49573c0ce194f3073438e56dad49c462fe9c9a69a4fbe7b3fc\n",
            "  Building wheel for mattermostwrapper (setup.py) ... \u001b[?25l\u001b[?25hdone\n",
            "  Created wheel for mattermostwrapper: filename=mattermostwrapper-2.2-cp36-none-any.whl size=2465 sha256=184a184dd70021a0068013855c50f9b15da2e887f6ab7395ae02dd7d7a3c75ce\n",
            "  Stored in directory: /root/.cache/pip/wheels/c5/47/19/47188b3036316651250c4f7df23d59a3b524c82921bfb6daa3\n",
            "  Building wheel for PyInquirer (setup.py) ... \u001b[?25l\u001b[?25hdone\n",
            "  Created wheel for PyInquirer: filename=PyInquirer-1.0.3-cp36-none-any.whl size=32852 sha256=073db22f79d74ba040c807aea2080e3c89a2de829c337e7a06ece2e3e734ccf0\n",
            "  Stored in directory: /root/.cache/pip/wheels/52/6c/b1/3e4b0e8daf42a92883c7641c0ea8ffb62e0490ebed2faa55ad\n",
            "  Building wheel for colorclass (setup.py) ... \u001b[?25l\u001b[?25hdone\n",
            "  Created wheel for colorclass: filename=colorclass-2.2.0-cp36-none-any.whl size=19397 sha256=076996ec9aa1f4c3113a82f67adfd0bb75acec63e25aa074ceb316c00f494437\n",
            "  Stored in directory: /root/.cache/pip/wheels/d1/86/9d/16127127306a92d7fd30267890a5634026c045391979c4c317\n",
            "Successfully built slackclient typing terminaltables ConfigArgParse twilio jsonpickle flask-jwt-simple mattermostwrapper PyInquirer colorclass\n",
            "\u001b[31mERROR: yellowbrick 0.9.1 has requirement scikit-learn>=0.20, but you'll have scikit-learn 0.19.2 which is incompatible.\u001b[0m\n",
            "\u001b[31mERROR: xarray 0.15.1 has requirement setuptools>=41.2, but you'll have setuptools 39.1.0 which is incompatible.\u001b[0m\n",
            "\u001b[31mERROR: umap-learn 0.4.6 has requirement scikit-learn>=0.20, but you'll have scikit-learn 0.19.2 which is incompatible.\u001b[0m\n",
            "\u001b[31mERROR: tensorflow 1.10.0 has requirement numpy<=1.14.5,>=1.13.3, but you'll have numpy 1.18.5 which is incompatible.\u001b[0m\n",
            "\u001b[31mERROR: plotnine 0.6.0 has requirement matplotlib>=3.1.1, but you'll have matplotlib 2.2.5 which is incompatible.\u001b[0m\n",
            "\u001b[31mERROR: mizani 0.6.0 has requirement matplotlib>=3.1.1, but you'll have matplotlib 2.2.5 which is incompatible.\u001b[0m\n",
            "\u001b[31mERROR: imbalanced-learn 0.4.3 has requirement scikit-learn>=0.20, but you'll have scikit-learn 0.19.2 which is incompatible.\u001b[0m\n",
            "\u001b[31mERROR: google-auth 1.17.2 has requirement setuptools>=40.3.0, but you'll have setuptools 39.1.0 which is incompatible.\u001b[0m\n",
            "\u001b[31mERROR: datascience 0.10.6 has requirement folium==0.2.1, but you'll have folium 0.8.3 which is incompatible.\u001b[0m\n",
            "\u001b[31mERROR: albumentations 0.1.12 has requirement imgaug<0.2.7,>=0.2.5, but you'll have imgaug 0.2.9 which is incompatible.\u001b[0m\n",
            "\u001b[31mERROR: botocore 1.19.23 has requirement urllib3<1.27,>=1.25.4; python_version != \"3.4\", but you'll have urllib3 1.24.3 which is incompatible.\u001b[0m\n",
            "Installing collected packages: redis, fakeredis, flask-cors, websocket-client, slackclient, typing, pika, scikit-learn, terminaltables, ConfigArgParse, greenlet, gevent, ruamel.yaml, pykwalify, python-telegram-bot, tensorboard, setuptools, tensorflow, rocketchat-API, PyJWT, twilio, simplejson, jmespath, botocore, s3transfer, boto3, zope.interface, incremental, characteristic, hyperlink, Automat, constantly, PyHamcrest, Twisted, Tubes, klein, packaging, matplotlib, humanfriendly, coloredlogs, python-crfsuite, sklearn-crfsuite, rasa-nlu, apscheduler, jsonpickle, rasa-core-sdk, flask-jwt-simple, mattermostwrapper, colorhash, python-engineio, python-socketio, graphviz, prompt-toolkit, PyInquirer, fbmessenger, colorclass, rasa-core\n",
            "  Found existing installation: scikit-learn 0.22.2.post1\n",
            "    Uninstalling scikit-learn-0.22.2.post1:\n",
            "      Successfully uninstalled scikit-learn-0.22.2.post1\n",
            "  Found existing installation: tensorboard 2.3.0\n",
            "    Uninstalling tensorboard-2.3.0:\n",
            "      Successfully uninstalled tensorboard-2.3.0\n",
            "  Found existing installation: setuptools 50.3.2\n",
            "    Uninstalling setuptools-50.3.2:\n",
            "      Successfully uninstalled setuptools-50.3.2\n",
            "  Found existing installation: tensorflow 2.3.0\n",
            "    Uninstalling tensorflow-2.3.0:\n",
            "      Successfully uninstalled tensorflow-2.3.0\n",
            "  Found existing installation: packaging 20.4\n",
            "    Uninstalling packaging-20.4:\n",
            "      Successfully uninstalled packaging-20.4\n",
            "  Found existing installation: matplotlib 3.2.2\n",
            "    Uninstalling matplotlib-3.2.2:\n",
            "      Successfully uninstalled matplotlib-3.2.2\n",
            "  Found existing installation: graphviz 0.10.1\n",
            "    Uninstalling graphviz-0.10.1:\n",
            "      Successfully uninstalled graphviz-0.10.1\n",
            "  Found existing installation: prompt-toolkit 1.0.18\n",
            "    Uninstalling prompt-toolkit-1.0.18:\n",
            "      Successfully uninstalled prompt-toolkit-1.0.18\n",
            "Successfully installed Automat-20.2.0 ConfigArgParse-0.13.0 PyHamcrest-2.0.2 PyInquirer-1.0.3 PyJWT-1.7.1 Tubes-0.2.0 Twisted-20.3.0 apscheduler-3.6.3 boto3-1.16.23 botocore-1.19.23 characteristic-14.3.0 colorclass-2.2.0 coloredlogs-10.0 colorhash-1.0.2 constantly-15.1.0 fakeredis-0.10.3 fbmessenger-5.6.0 flask-cors-3.0.9 flask-jwt-simple-0.0.3 gevent-1.5.0 graphviz-0.9 greenlet-0.4.17 humanfriendly-8.2 hyperlink-20.0.1 incremental-17.5.0 jmespath-0.10.0 jsonpickle-0.9.6 klein-20.6.0 matplotlib-2.2.5 mattermostwrapper-2.2 packaging-17.1 pika-0.11.2 prompt-toolkit-1.0.14 pykwalify-1.6.0 python-crfsuite-0.9.7 python-engineio-3.13.2 python-socketio-2.1.2 python-telegram-bot-10.1.0 rasa-core-0.11.12 rasa-core-sdk-0.11.5 rasa-nlu-0.13.6 redis-2.10.6 rocketchat-API-0.6.36 ruamel.yaml-0.15.100 s3transfer-0.3.3 scikit-learn-0.19.2 setuptools-39.1.0 simplejson-3.17.2 sklearn-crfsuite-0.3.6 slackclient-1.3.2 tensorboard-1.10.0 tensorflow-1.10.0 terminaltables-3.1.0 twilio-6.48.0 typing-3.7.4.3 websocket-client-0.54.0 zope.interface-5.2.0\n",
            "Requirement already satisfied: sklearn_crfsuite in /usr/local/lib/python3.6/dist-packages (0.3.6)\n",
            "Requirement already satisfied: six in /usr/local/lib/python3.6/dist-packages (from sklearn_crfsuite) (1.15.0)\n",
            "Requirement already satisfied: python-crfsuite>=0.8.3 in /usr/local/lib/python3.6/dist-packages (from sklearn_crfsuite) (0.9.7)\n",
            "Requirement already satisfied: tqdm>=2.0 in /usr/local/lib/python3.6/dist-packages (from sklearn_crfsuite) (4.41.1)\n",
            "Requirement already satisfied: tabulate in /usr/local/lib/python3.6/dist-packages (from sklearn_crfsuite) (0.8.7)\n",
            "Collecting en_core_web_md==2.2.5\n",
            "\u001b[?25l  Downloading https://github.com/explosion/spacy-models/releases/download/en_core_web_md-2.2.5/en_core_web_md-2.2.5.tar.gz (96.4MB)\n",
            "\u001b[K     |████████████████████████████████| 96.4MB 1.0MB/s \n",
            "\u001b[?25hRequirement already satisfied: spacy>=2.2.2 in /usr/local/lib/python3.6/dist-packages (from en_core_web_md==2.2.5) (2.2.4)\n",
            "Requirement already satisfied: tqdm<5.0.0,>=4.38.0 in /usr/local/lib/python3.6/dist-packages (from spacy>=2.2.2->en_core_web_md==2.2.5) (4.41.1)\n",
            "Requirement already satisfied: catalogue<1.1.0,>=0.0.7 in /usr/local/lib/python3.6/dist-packages (from spacy>=2.2.2->en_core_web_md==2.2.5) (1.0.0)\n",
            "Requirement already satisfied: setuptools in /usr/local/lib/python3.6/dist-packages (from spacy>=2.2.2->en_core_web_md==2.2.5) (39.1.0)\n",
            "Requirement already satisfied: blis<0.5.0,>=0.4.0 in /usr/local/lib/python3.6/dist-packages (from spacy>=2.2.2->en_core_web_md==2.2.5) (0.4.1)\n",
            "Requirement already satisfied: wasabi<1.1.0,>=0.4.0 in /usr/local/lib/python3.6/dist-packages (from spacy>=2.2.2->en_core_web_md==2.2.5) (0.8.0)\n",
            "Requirement already satisfied: requests<3.0.0,>=2.13.0 in /usr/local/lib/python3.6/dist-packages (from spacy>=2.2.2->en_core_web_md==2.2.5) (2.23.0)\n",
            "Requirement already satisfied: cymem<2.1.0,>=2.0.2 in /usr/local/lib/python3.6/dist-packages (from spacy>=2.2.2->en_core_web_md==2.2.5) (2.0.4)\n",
            "Requirement already satisfied: murmurhash<1.1.0,>=0.28.0 in /usr/local/lib/python3.6/dist-packages (from spacy>=2.2.2->en_core_web_md==2.2.5) (1.0.3)\n",
            "Requirement already satisfied: preshed<3.1.0,>=3.0.2 in /usr/local/lib/python3.6/dist-packages (from spacy>=2.2.2->en_core_web_md==2.2.5) (3.0.2)\n",
            "Requirement already satisfied: plac<1.2.0,>=0.9.6 in /usr/local/lib/python3.6/dist-packages (from spacy>=2.2.2->en_core_web_md==2.2.5) (1.1.3)\n",
            "Requirement already satisfied: srsly<1.1.0,>=1.0.2 in /usr/local/lib/python3.6/dist-packages (from spacy>=2.2.2->en_core_web_md==2.2.5) (1.0.2)\n",
            "Requirement already satisfied: thinc==7.4.0 in /usr/local/lib/python3.6/dist-packages (from spacy>=2.2.2->en_core_web_md==2.2.5) (7.4.0)\n",
            "Requirement already satisfied: numpy>=1.15.0 in /usr/local/lib/python3.6/dist-packages (from spacy>=2.2.2->en_core_web_md==2.2.5) (1.18.5)\n",
            "Requirement already satisfied: importlib-metadata>=0.20; python_version < \"3.8\" in /usr/local/lib/python3.6/dist-packages (from catalogue<1.1.0,>=0.0.7->spacy>=2.2.2->en_core_web_md==2.2.5) (2.0.0)\n",
            "Requirement already satisfied: chardet<4,>=3.0.2 in /usr/local/lib/python3.6/dist-packages (from requests<3.0.0,>=2.13.0->spacy>=2.2.2->en_core_web_md==2.2.5) (3.0.4)\n",
            "Requirement already satisfied: certifi>=2017.4.17 in /usr/local/lib/python3.6/dist-packages (from requests<3.0.0,>=2.13.0->spacy>=2.2.2->en_core_web_md==2.2.5) (2020.6.20)\n",
            "Requirement already satisfied: urllib3!=1.25.0,!=1.25.1,<1.26,>=1.21.1 in /usr/local/lib/python3.6/dist-packages (from requests<3.0.0,>=2.13.0->spacy>=2.2.2->en_core_web_md==2.2.5) (1.24.3)\n",
            "Requirement already satisfied: idna<3,>=2.5 in /usr/local/lib/python3.6/dist-packages (from requests<3.0.0,>=2.13.0->spacy>=2.2.2->en_core_web_md==2.2.5) (2.10)\n",
            "Requirement already satisfied: zipp>=0.5 in /usr/local/lib/python3.6/dist-packages (from importlib-metadata>=0.20; python_version < \"3.8\"->catalogue<1.1.0,>=0.0.7->spacy>=2.2.2->en_core_web_md==2.2.5) (3.4.0)\n",
            "Building wheels for collected packages: en-core-web-md\n",
            "  Building wheel for en-core-web-md (setup.py) ... \u001b[?25l\u001b[?25hdone\n",
            "  Created wheel for en-core-web-md: filename=en_core_web_md-2.2.5-cp36-none-any.whl size=98051305 sha256=54f6d6309f7f52e5b640e0f3092de7c753bf6398bc7148e9f751372b74d6c29d\n",
            "  Stored in directory: /tmp/pip-ephem-wheel-cache-qt69gbr5/wheels/df/94/ad/f5cf59224cea6b5686ac4fd1ad19c8a07bc026e13c36502d81\n",
            "Successfully built en-core-web-md\n",
            "Installing collected packages: en-core-web-md\n",
            "Successfully installed en-core-web-md-2.2.5\n",
            "\u001b[38;5;2m✔ Download and installation successful\u001b[0m\n",
            "You can now load the model via spacy.load('en_core_web_md')\n",
            "\u001b[38;5;2m✔ Linking successful\u001b[0m\n",
            "/usr/local/lib/python3.6/dist-packages/en_core_web_md -->\n",
            "/usr/local/lib/python3.6/dist-packages/spacy/data/en\n",
            "You can now load the model via spacy.load('en')\n"
          ],
          "name": "stdout"
        }
      ]
    },
    {
      "cell_type": "markdown",
      "metadata": {
        "id": "YcYs4P6R1P5P"
      },
      "source": [
        "test the installation - we should have rasa_nlu: 0.12.3 and rasa_core: 0.9.6 installed, and spacy model should be available."
      ]
    },
    {
      "cell_type": "code",
      "metadata": {
        "colab": {
          "base_uri": "https://localhost:8080/"
        },
        "id": "6zAZ8oEKz-Ni",
        "outputId": "64d0a680-a952-4693-ea7a-ffd09ff94567"
      },
      "source": [
        "import rasa_nlu\n",
        "import rasa_core\n",
        "import spacy\n",
        "\n",
        "print(\"rasa_nlu: {} rasa_core: {}\".format(rasa_nlu.__version__, rasa_core.__version__))\n",
        "print(\"Loading spaCy language model...\")\n",
        "print(spacy.load(\"en\")(\"Hello world!\"))"
      ],
      "execution_count": 3,
      "outputs": [
        {
          "output_type": "stream",
          "text": [
            "rasa_nlu: 0.13.6 rasa_core: 0.11.12\n",
            "Loading spaCy language model...\n",
            "Hello world!\n"
          ],
          "name": "stdout"
        }
      ]
    },
    {
      "cell_type": "markdown",
      "metadata": {
        "id": "bGqhb9Z81cTp"
      },
      "source": [
        "### Some additional Tools needed\n",
        "To do some of the visualizations you will also need graphviz. If you don't have graphviz installed, and this doesn't work: don't worry. I'll show you the graph and besides that visualization everything else will work.\n",
        "\n",
        "Try installing with anyone of these (or adapt to your operating system):"
      ]
    },
    {
      "cell_type": "code",
      "metadata": {
        "colab": {
          "base_uri": "https://localhost:8080/"
        },
        "id": "cUmvdQVK1W16",
        "outputId": "e7e3bd5d-bf49-4ded-d7f7-385e8a984917"
      },
      "source": [
        "!apt-get -qq install -y graphviz libgraphviz-dev pkg-config;\n",
        "\n"
      ],
      "execution_count": 4,
      "outputs": [
        {
          "output_type": "stream",
          "text": [
            "Selecting previously unselected package libgtk2.0-common.\n",
            "(Reading database ... 144793 files and directories currently installed.)\n",
            "Preparing to unpack .../0-libgtk2.0-common_2.24.32-1ubuntu1_all.deb ...\n",
            "Unpacking libgtk2.0-common (2.24.32-1ubuntu1) ...\n",
            "Selecting previously unselected package libgtk2.0-0:amd64.\n",
            "Preparing to unpack .../1-libgtk2.0-0_2.24.32-1ubuntu1_amd64.deb ...\n",
            "Unpacking libgtk2.0-0:amd64 (2.24.32-1ubuntu1) ...\n",
            "Selecting previously unselected package libgail18:amd64.\n",
            "Preparing to unpack .../2-libgail18_2.24.32-1ubuntu1_amd64.deb ...\n",
            "Unpacking libgail18:amd64 (2.24.32-1ubuntu1) ...\n",
            "Selecting previously unselected package libgail-common:amd64.\n",
            "Preparing to unpack .../3-libgail-common_2.24.32-1ubuntu1_amd64.deb ...\n",
            "Unpacking libgail-common:amd64 (2.24.32-1ubuntu1) ...\n",
            "Selecting previously unselected package libxdot4.\n",
            "Preparing to unpack .../4-libxdot4_2.40.1-2_amd64.deb ...\n",
            "Unpacking libxdot4 (2.40.1-2) ...\n",
            "Selecting previously unselected package libgvc6-plugins-gtk.\n",
            "Preparing to unpack .../5-libgvc6-plugins-gtk_2.40.1-2_amd64.deb ...\n",
            "Unpacking libgvc6-plugins-gtk (2.40.1-2) ...\n",
            "Selecting previously unselected package libgraphviz-dev.\n",
            "Preparing to unpack .../6-libgraphviz-dev_2.40.1-2_amd64.deb ...\n",
            "Unpacking libgraphviz-dev (2.40.1-2) ...\n",
            "Selecting previously unselected package libgtk2.0-bin.\n",
            "Preparing to unpack .../7-libgtk2.0-bin_2.24.32-1ubuntu1_amd64.deb ...\n",
            "Unpacking libgtk2.0-bin (2.24.32-1ubuntu1) ...\n",
            "Setting up libgtk2.0-common (2.24.32-1ubuntu1) ...\n",
            "Setting up libxdot4 (2.40.1-2) ...\n",
            "Setting up libgtk2.0-0:amd64 (2.24.32-1ubuntu1) ...\n",
            "Setting up libgail18:amd64 (2.24.32-1ubuntu1) ...\n",
            "Setting up libgail-common:amd64 (2.24.32-1ubuntu1) ...\n",
            "Setting up libgvc6-plugins-gtk (2.40.1-2) ...\n",
            "Setting up libgraphviz-dev (2.40.1-2) ...\n",
            "Setting up libgtk2.0-bin (2.24.32-1ubuntu1) ...\n",
            "Processing triggers for man-db (2.8.3-2ubuntu0.1) ...\n",
            "Processing triggers for libc-bin (2.27-3ubuntu1.2) ...\n",
            "/sbin/ldconfig.real: /usr/local/lib/python3.6/dist-packages/ideep4py/lib/libmkldnn.so.0 is not a symbolic link\n",
            "\n"
          ],
          "name": "stdout"
        }
      ]
    },
    {
      "cell_type": "code",
      "metadata": {
        "colab": {
          "base_uri": "https://localhost:8080/"
        },
        "id": "APFYy3FxhgLa",
        "outputId": "606e1d86-ca14-4ad5-da84-c47bb8f37ba2"
      },
      "source": [
        "!{python} -m pip install pygraphviz;"
      ],
      "execution_count": 5,
      "outputs": [
        {
          "output_type": "stream",
          "text": [
            "Collecting pygraphviz\n",
            "\u001b[?25l  Downloading https://files.pythonhosted.org/packages/1e/19/acf3b8dbd378a2b38c6d9aaa6fa9fcd9f7b4aea5fcd3460014999ff92b3c/pygraphviz-1.6.zip (117kB)\n",
            "\r\u001b[K     |██▉                             | 10kB 17.3MB/s eta 0:00:01\r\u001b[K     |█████▋                          | 20kB 10.9MB/s eta 0:00:01\r\u001b[K     |████████▍                       | 30kB 8.3MB/s eta 0:00:01\r\u001b[K     |███████████▏                    | 40kB 7.4MB/s eta 0:00:01\r\u001b[K     |██████████████                  | 51kB 4.4MB/s eta 0:00:01\r\u001b[K     |████████████████▉               | 61kB 4.9MB/s eta 0:00:01\r\u001b[K     |███████████████████▋            | 71kB 5.2MB/s eta 0:00:01\r\u001b[K     |██████████████████████▍         | 81kB 5.4MB/s eta 0:00:01\r\u001b[K     |█████████████████████████▏      | 92kB 5.5MB/s eta 0:00:01\r\u001b[K     |████████████████████████████    | 102kB 5.7MB/s eta 0:00:01\r\u001b[K     |██████████████████████████████▉ | 112kB 5.7MB/s eta 0:00:01\r\u001b[K     |████████████████████████████████| 122kB 5.7MB/s \n",
            "\u001b[?25hBuilding wheels for collected packages: pygraphviz\n",
            "  Building wheel for pygraphviz (setup.py) ... \u001b[?25l\u001b[?25hdone\n",
            "  Created wheel for pygraphviz: filename=pygraphviz-1.6-cp36-cp36m-linux_x86_64.whl size=155449 sha256=56e45cf922f9ce367f9d4d792e32545158fcfe4b8eaf84157aa9e386f029792c\n",
            "  Stored in directory: /root/.cache/pip/wheels/7c/45/a1/93b830b69fb81d1ae84a248da30e2c0b926a3a6e3435908e6d\n",
            "Successfully built pygraphviz\n",
            "Installing collected packages: pygraphviz\n",
            "Successfully installed pygraphviz-1.6\n"
          ],
          "name": "stdout"
        }
      ]
    },
    {
      "cell_type": "code",
      "metadata": {
        "colab": {
          "base_uri": "https://localhost:8080/"
        },
        "id": "LgVqxo5z2ZPw",
        "outputId": "a3bf2d0f-2ce7-4527-c9e8-6dd2af8a0895"
      },
      "source": [
        "!pip install graphviz"
      ],
      "execution_count": 6,
      "outputs": [
        {
          "output_type": "stream",
          "text": [
            "Requirement already satisfied: graphviz in /usr/local/lib/python3.6/dist-packages (0.9)\n"
          ],
          "name": "stdout"
        }
      ]
    },
    {
      "cell_type": "code",
      "metadata": {
        "colab": {
          "base_uri": "https://localhost:8080/"
        },
        "id": "TvP0rVG8hkcR",
        "outputId": "166089cd-4a21-46aa-f531-a219132a07aa"
      },
      "source": [
        "!breq install graphviz"
      ],
      "execution_count": 7,
      "outputs": [
        {
          "output_type": "stream",
          "text": [
            "/bin/bash: breq: command not found\n"
          ],
          "name": "stdout"
        }
      ]
    },
    {
      "cell_type": "code",
      "metadata": {
        "colab": {
          "base_uri": "https://localhost:8080/"
        },
        "id": "-JxGigXvhpJe",
        "outputId": "70beaaf3-e9b9-49f2-c123-64e59c894b98"
      },
      "source": [
        "!pip install rasa_nlu"
      ],
      "execution_count": 8,
      "outputs": [
        {
          "output_type": "stream",
          "text": [
            "Requirement already satisfied: rasa_nlu in /usr/local/lib/python3.6/dist-packages (0.13.6)\n",
            "Requirement already satisfied: typing in /usr/local/lib/python3.6/dist-packages (from rasa_nlu) (3.7.4.3)\n",
            "Requirement already satisfied: simplejson in /usr/local/lib/python3.6/dist-packages (from rasa_nlu) (3.17.2)\n",
            "Requirement already satisfied: requests in /usr/local/lib/python3.6/dist-packages (from rasa_nlu) (2.23.0)\n",
            "Requirement already satisfied: klein in /usr/local/lib/python3.6/dist-packages (from rasa_nlu) (20.6.0)\n",
            "Requirement already satisfied: jsonschema in /usr/local/lib/python3.6/dist-packages (from rasa_nlu) (2.6.0)\n",
            "Requirement already satisfied: pathlib in /usr/local/lib/python3.6/dist-packages (from rasa_nlu) (1.0.1)\n",
            "Requirement already satisfied: matplotlib~=2.0 in /usr/local/lib/python3.6/dist-packages (from rasa_nlu) (2.2.5)\n",
            "Requirement already satisfied: six in /usr/local/lib/python3.6/dist-packages (from rasa_nlu) (1.15.0)\n",
            "Requirement already satisfied: future in /usr/local/lib/python3.6/dist-packages (from rasa_nlu) (0.16.0)\n",
            "Requirement already satisfied: pyyaml in /usr/local/lib/python3.6/dist-packages (from rasa_nlu) (3.13)\n",
            "Requirement already satisfied: numpy>=1.13 in /usr/local/lib/python3.6/dist-packages (from rasa_nlu) (1.18.5)\n",
            "Requirement already satisfied: coloredlogs in /usr/local/lib/python3.6/dist-packages (from rasa_nlu) (10.0)\n",
            "Requirement already satisfied: gevent in /usr/local/lib/python3.6/dist-packages (from rasa_nlu) (1.5.0)\n",
            "Requirement already satisfied: cloudpickle in /usr/local/lib/python3.6/dist-packages (from rasa_nlu) (1.3.0)\n",
            "Requirement already satisfied: packaging in /usr/local/lib/python3.6/dist-packages (from rasa_nlu) (17.1)\n",
            "Requirement already satisfied: tqdm in /usr/local/lib/python3.6/dist-packages (from rasa_nlu) (4.41.1)\n",
            "Requirement already satisfied: boto3 in /usr/local/lib/python3.6/dist-packages (from rasa_nlu) (1.16.23)\n",
            "Requirement already satisfied: certifi>=2017.4.17 in /usr/local/lib/python3.6/dist-packages (from requests->rasa_nlu) (2020.6.20)\n",
            "Requirement already satisfied: chardet<4,>=3.0.2 in /usr/local/lib/python3.6/dist-packages (from requests->rasa_nlu) (3.0.4)\n",
            "Requirement already satisfied: idna<3,>=2.5 in /usr/local/lib/python3.6/dist-packages (from requests->rasa_nlu) (2.10)\n",
            "Requirement already satisfied: urllib3!=1.25.0,!=1.25.1,<1.26,>=1.21.1 in /usr/local/lib/python3.6/dist-packages (from requests->rasa_nlu) (1.24.3)\n",
            "Requirement already satisfied: zope.interface in /usr/local/lib/python3.6/dist-packages (from klein->rasa_nlu) (5.2.0)\n",
            "Requirement already satisfied: incremental in /usr/local/lib/python3.6/dist-packages (from klein->rasa_nlu) (17.5.0)\n",
            "Requirement already satisfied: hyperlink in /usr/local/lib/python3.6/dist-packages (from klein->rasa_nlu) (20.0.1)\n",
            "Requirement already satisfied: Werkzeug in /usr/local/lib/python3.6/dist-packages (from klein->rasa_nlu) (1.0.1)\n",
            "Requirement already satisfied: Tubes in /usr/local/lib/python3.6/dist-packages (from klein->rasa_nlu) (0.2.0)\n",
            "Requirement already satisfied: attrs in /usr/local/lib/python3.6/dist-packages (from klein->rasa_nlu) (20.2.0)\n",
            "Requirement already satisfied: Twisted>=15.5 in /usr/local/lib/python3.6/dist-packages (from klein->rasa_nlu) (20.3.0)\n",
            "Requirement already satisfied: python-dateutil>=2.1 in /usr/local/lib/python3.6/dist-packages (from matplotlib~=2.0->rasa_nlu) (2.8.1)\n",
            "Requirement already satisfied: pytz in /usr/local/lib/python3.6/dist-packages (from matplotlib~=2.0->rasa_nlu) (2018.9)\n",
            "Requirement already satisfied: cycler>=0.10 in /usr/local/lib/python3.6/dist-packages (from matplotlib~=2.0->rasa_nlu) (0.10.0)\n",
            "Requirement already satisfied: pyparsing!=2.0.4,!=2.1.2,!=2.1.6,>=2.0.1 in /usr/local/lib/python3.6/dist-packages (from matplotlib~=2.0->rasa_nlu) (2.4.7)\n",
            "Requirement already satisfied: kiwisolver>=1.0.1 in /usr/local/lib/python3.6/dist-packages (from matplotlib~=2.0->rasa_nlu) (1.3.1)\n",
            "Requirement already satisfied: humanfriendly>=4.7 in /usr/local/lib/python3.6/dist-packages (from coloredlogs->rasa_nlu) (8.2)\n",
            "Requirement already satisfied: greenlet>=0.4.14; platform_python_implementation == \"CPython\" in /usr/local/lib/python3.6/dist-packages (from gevent->rasa_nlu) (0.4.17)\n",
            "Requirement already satisfied: botocore<1.20.0,>=1.19.23 in /usr/local/lib/python3.6/dist-packages (from boto3->rasa_nlu) (1.19.23)\n",
            "Requirement already satisfied: s3transfer<0.4.0,>=0.3.0 in /usr/local/lib/python3.6/dist-packages (from boto3->rasa_nlu) (0.3.3)\n",
            "Requirement already satisfied: jmespath<1.0.0,>=0.7.1 in /usr/local/lib/python3.6/dist-packages (from boto3->rasa_nlu) (0.10.0)\n",
            "Requirement already satisfied: setuptools in /usr/local/lib/python3.6/dist-packages (from zope.interface->klein->rasa_nlu) (39.1.0)\n",
            "Requirement already satisfied: characteristic in /usr/local/lib/python3.6/dist-packages (from Tubes->klein->rasa_nlu) (14.3.0)\n",
            "Requirement already satisfied: constantly>=15.1 in /usr/local/lib/python3.6/dist-packages (from Twisted>=15.5->klein->rasa_nlu) (15.1.0)\n",
            "Requirement already satisfied: PyHamcrest!=1.10.0,>=1.9.0 in /usr/local/lib/python3.6/dist-packages (from Twisted>=15.5->klein->rasa_nlu) (2.0.2)\n",
            "Requirement already satisfied: Automat>=0.3.0 in /usr/local/lib/python3.6/dist-packages (from Twisted>=15.5->klein->rasa_nlu) (20.2.0)\n"
          ],
          "name": "stdout"
        }
      ]
    },
    {
      "cell_type": "code",
      "metadata": {
        "colab": {
          "base_uri": "https://localhost:8080/"
        },
        "id": "cHK93wbm1jw5",
        "outputId": "6e94afc9-25dc-4696-d2bd-dbb7afa3b326"
      },
      "source": [
        "\n",
        "!{python} -m pip install pygraphviz;"
      ],
      "execution_count": 9,
      "outputs": [
        {
          "output_type": "stream",
          "text": [
            "Requirement already satisfied: pygraphviz in /usr/local/lib/python3.6/dist-packages (1.6)\n"
          ],
          "name": "stdout"
        }
      ]
    },
    {
      "cell_type": "code",
      "metadata": {
        "colab": {
          "base_uri": "https://localhost:8080/"
        },
        "id": "sbAct1gd1r6t",
        "outputId": "59b24681-aea8-4e5f-ab8e-f66b20b98335"
      },
      "source": [
        "!pip install rasa_nlu"
      ],
      "execution_count": 10,
      "outputs": [
        {
          "output_type": "stream",
          "text": [
            "Requirement already satisfied: rasa_nlu in /usr/local/lib/python3.6/dist-packages (0.13.6)\n",
            "Requirement already satisfied: jsonschema in /usr/local/lib/python3.6/dist-packages (from rasa_nlu) (2.6.0)\n",
            "Requirement already satisfied: boto3 in /usr/local/lib/python3.6/dist-packages (from rasa_nlu) (1.16.23)\n",
            "Requirement already satisfied: six in /usr/local/lib/python3.6/dist-packages (from rasa_nlu) (1.15.0)\n",
            "Requirement already satisfied: simplejson in /usr/local/lib/python3.6/dist-packages (from rasa_nlu) (3.17.2)\n",
            "Requirement already satisfied: requests in /usr/local/lib/python3.6/dist-packages (from rasa_nlu) (2.23.0)\n",
            "Requirement already satisfied: gevent in /usr/local/lib/python3.6/dist-packages (from rasa_nlu) (1.5.0)\n",
            "Requirement already satisfied: pathlib in /usr/local/lib/python3.6/dist-packages (from rasa_nlu) (1.0.1)\n",
            "Requirement already satisfied: tqdm in /usr/local/lib/python3.6/dist-packages (from rasa_nlu) (4.41.1)\n",
            "Requirement already satisfied: matplotlib~=2.0 in /usr/local/lib/python3.6/dist-packages (from rasa_nlu) (2.2.5)\n",
            "Requirement already satisfied: pyyaml in /usr/local/lib/python3.6/dist-packages (from rasa_nlu) (3.13)\n",
            "Requirement already satisfied: numpy>=1.13 in /usr/local/lib/python3.6/dist-packages (from rasa_nlu) (1.18.5)\n",
            "Requirement already satisfied: cloudpickle in /usr/local/lib/python3.6/dist-packages (from rasa_nlu) (1.3.0)\n",
            "Requirement already satisfied: coloredlogs in /usr/local/lib/python3.6/dist-packages (from rasa_nlu) (10.0)\n",
            "Requirement already satisfied: typing in /usr/local/lib/python3.6/dist-packages (from rasa_nlu) (3.7.4.3)\n",
            "Requirement already satisfied: packaging in /usr/local/lib/python3.6/dist-packages (from rasa_nlu) (17.1)\n",
            "Requirement already satisfied: klein in /usr/local/lib/python3.6/dist-packages (from rasa_nlu) (20.6.0)\n",
            "Requirement already satisfied: future in /usr/local/lib/python3.6/dist-packages (from rasa_nlu) (0.16.0)\n",
            "Requirement already satisfied: jmespath<1.0.0,>=0.7.1 in /usr/local/lib/python3.6/dist-packages (from boto3->rasa_nlu) (0.10.0)\n",
            "Requirement already satisfied: s3transfer<0.4.0,>=0.3.0 in /usr/local/lib/python3.6/dist-packages (from boto3->rasa_nlu) (0.3.3)\n",
            "Requirement already satisfied: botocore<1.20.0,>=1.19.23 in /usr/local/lib/python3.6/dist-packages (from boto3->rasa_nlu) (1.19.23)\n",
            "Requirement already satisfied: urllib3!=1.25.0,!=1.25.1,<1.26,>=1.21.1 in /usr/local/lib/python3.6/dist-packages (from requests->rasa_nlu) (1.24.3)\n",
            "Requirement already satisfied: certifi>=2017.4.17 in /usr/local/lib/python3.6/dist-packages (from requests->rasa_nlu) (2020.6.20)\n",
            "Requirement already satisfied: chardet<4,>=3.0.2 in /usr/local/lib/python3.6/dist-packages (from requests->rasa_nlu) (3.0.4)\n",
            "Requirement already satisfied: idna<3,>=2.5 in /usr/local/lib/python3.6/dist-packages (from requests->rasa_nlu) (2.10)\n",
            "Requirement already satisfied: greenlet>=0.4.14; platform_python_implementation == \"CPython\" in /usr/local/lib/python3.6/dist-packages (from gevent->rasa_nlu) (0.4.17)\n",
            "Requirement already satisfied: pytz in /usr/local/lib/python3.6/dist-packages (from matplotlib~=2.0->rasa_nlu) (2018.9)\n",
            "Requirement already satisfied: cycler>=0.10 in /usr/local/lib/python3.6/dist-packages (from matplotlib~=2.0->rasa_nlu) (0.10.0)\n",
            "Requirement already satisfied: pyparsing!=2.0.4,!=2.1.2,!=2.1.6,>=2.0.1 in /usr/local/lib/python3.6/dist-packages (from matplotlib~=2.0->rasa_nlu) (2.4.7)\n",
            "Requirement already satisfied: kiwisolver>=1.0.1 in /usr/local/lib/python3.6/dist-packages (from matplotlib~=2.0->rasa_nlu) (1.3.1)\n",
            "Requirement already satisfied: python-dateutil>=2.1 in /usr/local/lib/python3.6/dist-packages (from matplotlib~=2.0->rasa_nlu) (2.8.1)\n",
            "Requirement already satisfied: humanfriendly>=4.7 in /usr/local/lib/python3.6/dist-packages (from coloredlogs->rasa_nlu) (8.2)\n",
            "Requirement already satisfied: zope.interface in /usr/local/lib/python3.6/dist-packages (from klein->rasa_nlu) (5.2.0)\n",
            "Requirement already satisfied: Twisted>=15.5 in /usr/local/lib/python3.6/dist-packages (from klein->rasa_nlu) (20.3.0)\n",
            "Requirement already satisfied: Werkzeug in /usr/local/lib/python3.6/dist-packages (from klein->rasa_nlu) (1.0.1)\n",
            "Requirement already satisfied: hyperlink in /usr/local/lib/python3.6/dist-packages (from klein->rasa_nlu) (20.0.1)\n",
            "Requirement already satisfied: attrs in /usr/local/lib/python3.6/dist-packages (from klein->rasa_nlu) (20.2.0)\n",
            "Requirement already satisfied: incremental in /usr/local/lib/python3.6/dist-packages (from klein->rasa_nlu) (17.5.0)\n",
            "Requirement already satisfied: Tubes in /usr/local/lib/python3.6/dist-packages (from klein->rasa_nlu) (0.2.0)\n",
            "Requirement already satisfied: setuptools in /usr/local/lib/python3.6/dist-packages (from zope.interface->klein->rasa_nlu) (39.1.0)\n",
            "Requirement already satisfied: constantly>=15.1 in /usr/local/lib/python3.6/dist-packages (from Twisted>=15.5->klein->rasa_nlu) (15.1.0)\n",
            "Requirement already satisfied: PyHamcrest!=1.10.0,>=1.9.0 in /usr/local/lib/python3.6/dist-packages (from Twisted>=15.5->klein->rasa_nlu) (2.0.2)\n",
            "Requirement already satisfied: Automat>=0.3.0 in /usr/local/lib/python3.6/dist-packages (from Twisted>=15.5->klein->rasa_nlu) (20.2.0)\n",
            "Requirement already satisfied: characteristic in /usr/local/lib/python3.6/dist-packages (from Tubes->klein->rasa_nlu) (14.3.0)\n"
          ],
          "name": "stdout"
        }
      ]
    },
    {
      "cell_type": "markdown",
      "metadata": {
        "id": "5DsNii4Y6Aan"
      },
      "source": [
        "#Part 1: Natural Language Understanding\n",
        "At first, let's teach our chatbot how to understand user inputs. To do that, we are going to build a Rasa NLU model. Here is some data to get started:\n",
        "\n",
        "Conversation_1:\n",
        "\n",
        "U: Hello\n",
        "\n",
        "B: Hello, how are you doing?\n",
        "\n",
        "U: I am doing great!\n",
        "\n",
        "B: Great. Carry on!\n",
        "\n",
        "Conversation_2:\n",
        "\n",
        "U: Hey\n",
        "\n",
        "B: Hello, how are you doing?\n"
      ]
    },
    {
      "cell_type": "code",
      "metadata": {
        "colab": {
          "base_uri": "https://localhost:8080/"
        },
        "id": "7_aLSQ4x6MXU",
        "outputId": "c9a116c9-5ed6-4716-9840-3434600c8b3b"
      },
      "source": [
        "nlu_md = \"\"\"\n",
        "## intent:greet\n",
        "- hey\n",
        "- hello there\n",
        "- hi\n",
        "- hello\n",
        "- good morning\n",
        "- good evening\n",
        "- hey there\n",
        "- let's go\n",
        "- hey dude\n",
        "- goodmorning\n",
        "- goodevening\n",
        "- good afternoon\n",
        "\n",
        "## intent:affirm\n",
        "- great\n",
        "- OK\n",
        "- okay\n",
        "- thank you\n",
        "- thanks\n",
        "- yes, thanks\n",
        "- cheers\n",
        "- thanks a lot\n",
        "- thank you very much\n",
        "\n",
        "## intent:Coronavirus_Definition\n",
        "- What is a coronavirus?\n",
        "- What is COVID-19?\n",
        "- What do you mean by coronavirus?\n",
        "- Could you help me with COVID-19 meaning?\n",
        "- Tell me the definition of Coronavirus\n",
        "\n",
        "\n",
        "## intent:Coronavirus_Symptoms\n",
        "- What are the symptoms of COVID-19?\n",
        "- Please tell me the symptoms of Coronavirus?\n",
        "- How does coronavirus symptoms look like?\n",
        "- What would indicate I have coronavirus?\n",
        "- Coronavirus symptoms list please.\n",
        "\n",
        "\n",
        "## intent:Coronavirus_spread\n",
        "- How does COVID-19 spread?\n",
        "- Can the virus that causes COVID-19 be transmitted through the air?\n",
        "- Can CoVID-19 be caught from a person who has no symptoms?\n",
        "- Can I catch COVID-19 from the feces of someone with the disease?\n",
        "- Can the coronavirus spread through air?\n",
        "\n",
        "## intent:Coronavirus_Protection\n",
        "- What can I do to protect myself and prevent the spread of disease?\n",
        "- What can I do to protect myself andProtection measures for persons who are in or have recently visited (past 14 days) areas where COVID-19 is spreading prevent the spread of disease?\n",
        "- Protection measures for persons who are in or have recently visited (past 14 days) areas where COVID-19 is spreading\n",
        "- How to protect myself from Coronavirus?\n",
        "- Protective measures for coronavirus please.\n",
        "\n",
        "## intent:Coronavirus_Risk\n",
        "- How likely am I to catch COVID-19?\n",
        "- How likely am I to catch Coronavirus?\n",
        "- Should I worry about COVID-19\n",
        "- Who is at risk of developing severe illness?\n",
        "- What are my chances of getting COVID-19?\n",
        "\n",
        "\n",
        "## intent:Coronavirus_Antibiotics\n",
        "- Are antibiotics effective in preventing or treating the COVID-19?\n",
        "- Can I use antibiotics for Covid?\n",
        "- How about Antibiotics for treatment?\n",
        "- Effect of antibiotics for Coronavirus?\n",
        "- Antibiotics role in covid treatment?\n",
        "\n",
        "\n",
        "## intent:Coronavirus_Medicine\n",
        "- Are there any medicines or therapies that can prevent or cure COVID-19?\n",
        "- Is there a vaccine, drug or treatment for COVID-19?\n",
        "- Could you suggest any medicine for Covid?\n",
        "- Medicine for coronavirus?\n",
        "- Treatment for Covid?\n",
        "\n",
        "## intent:Coronavirus_Mask\n",
        "- Should I wear a mask to protect myself\n",
        "- How masks are helpful for COVID-19?\n",
        "- Are masks mandatory?\n",
        "- Please tell me about masks for Covid.\n",
        "- What about masks?\n",
        "\n",
        "## intent:Coronavirus_PregnantWomen\n",
        "- Are pregnant women at higher risk from COVID-19?\n",
        "- I'm pregnant. How can I protect myself against COVID-19?\n",
        "- Should pregnant women be tested for COVID-19?\n",
        "- Can COVID-19 be passed from a woman to her unborn baby?\n",
        "- What care should be available during pregnancy and childbirth?\n",
        "- Do pregnant women with suspected or confirmed COVID-19 need to give birth by ceasarean section?\n",
        "\n",
        "\n",
        "## intent:Coronavirus_Influenza\n",
        "- How are COVID-19 and influenza viruses similar?\n",
        "- How are COVID-19 and influenza viruses different?\n",
        "- What medical interventions are available for COVID-19 and influenza viruses?\n",
        "\n",
        "\n",
        "\n",
        "\"\"\"\n",
        "\n",
        "%store nlu_md > nlu.md"
      ],
      "execution_count": 11,
      "outputs": [
        {
          "output_type": "stream",
          "text": [
            "Writing 'nlu_md' (str) to file 'nlu.md'.\n"
          ],
          "name": "stdout"
        }
      ]
    },
    {
      "cell_type": "code",
      "metadata": {
        "colab": {
          "base_uri": "https://localhost:8080/"
        },
        "id": "Gxz95JCP6ptj",
        "outputId": "e7f667a5-7893-43e1-d084-01df95e42c56"
      },
      "source": [
        "config = \"\"\"\n",
        "language: \"en\"\n",
        "\n",
        "pipeline:\n",
        "- name: \"nlp_spacy\"                   # loads the spacy language model\n",
        "- name: \"tokenizer_spacy\"             # splits the sentence into tokens\n",
        "- name: \"ner_crf\"                   # uses the pretrained spacy NER model\n",
        "- name: \"intent_featurizer_spacy\"     # transform the sentence into a vector representation\n",
        "- name: \"intent_classifier_sklearn\"   # uses the vector representation to classify using SVM\n",
        "- name: \"ner_synonyms\"                # trains the synonyms\n",
        "\"\"\" \n",
        "\n",
        "%store config > config.yml"
      ],
      "execution_count": 12,
      "outputs": [
        {
          "output_type": "stream",
          "text": [
            "Writing 'config' (str) to file 'config.yml'.\n"
          ],
          "name": "stdout"
        }
      ]
    },
    {
      "cell_type": "code",
      "metadata": {
        "id": "mZTpOuea6sMi"
      },
      "source": [
        ""
      ],
      "execution_count": 12,
      "outputs": []
    },
    {
      "cell_type": "markdown",
      "metadata": {
        "id": "2ov8QTL76wBD"
      },
      "source": [
        "#Training the Rasa NLU Model\n",
        "We're going to train a model to recognise user inputs, so that when you send a message like \"hello\" to your bot, it will recognise this as a \"greet\" intent."
      ]
    },
    {
      "cell_type": "code",
      "metadata": {
        "id": "QCVpetDw6xDV"
      },
      "source": [
        "\n",
        "from rasa_nlu.training_data import load_data\n",
        "from rasa_nlu.config import RasaNLUModelConfig\n",
        "from rasa_nlu.model import Trainer\n",
        "from rasa_nlu import config"
      ],
      "execution_count": 13,
      "outputs": []
    },
    {
      "cell_type": "code",
      "metadata": {
        "colab": {
          "base_uri": "https://localhost:8080/"
        },
        "id": "fSI1KiAf62wY",
        "outputId": "0938d79b-009a-4bfd-c8bc-2be53c349b90"
      },
      "source": [
        "# loading the nlu training samples\n",
        "training_data = load_data(\"nlu.md\")\n",
        "\n",
        "# trainer to educate our pipeline\n",
        "trainer = Trainer(config.load(\"config.yml\"))\n",
        "\n",
        "# train the model!\n",
        "interpreter = trainer.train(training_data)\n",
        "\n",
        "# store it for future use\n",
        "model_directory = trainer.persist(\"./models/nlu\", fixed_model_name=\"current\")"
      ],
      "execution_count": 14,
      "outputs": [
        {
          "output_type": "stream",
          "text": [
            "INFO:rasa_nlu.training_data.loading:Training data format of nlu.md is md\n",
            "INFO:rasa_nlu.training_data.training_data:Training data stats: \n",
            "\t- intent examples: 70 (12 distinct intents)\n",
            "\t- Found intents: 'Coronavirus_Influenza', 'greet', 'affirm', 'Coronavirus_Symptoms', 'Coronavirus_Protection', 'Coronavirus_Definition', 'Coronavirus_spread', 'Coronavirus_Mask', 'Coronavirus_PregnantWomen', 'Coronavirus_Medicine', 'Coronavirus_Risk', 'Coronavirus_Antibiotics'\n",
            "\t- entity examples: 0 (0 distinct entities)\n",
            "\t- found entities: \n",
            "\n",
            "INFO:rasa_nlu.utils.spacy_utils:Trying to load spacy model with name 'en'\n",
            "INFO:rasa_nlu.components:Added 'nlp_spacy' to component cache. Key 'nlp_spacy-en'.\n",
            "INFO:rasa_nlu.model:Starting to train component nlp_spacy\n",
            "INFO:rasa_nlu.model:Finished training component.\n",
            "INFO:rasa_nlu.model:Starting to train component tokenizer_spacy\n",
            "INFO:rasa_nlu.model:Finished training component.\n",
            "INFO:rasa_nlu.model:Starting to train component ner_crf\n",
            "INFO:rasa_nlu.model:Finished training component.\n",
            "INFO:rasa_nlu.model:Starting to train component intent_featurizer_spacy\n",
            "INFO:rasa_nlu.model:Finished training component.\n",
            "INFO:rasa_nlu.model:Starting to train component intent_classifier_sklearn\n",
            "[Parallel(n_jobs=1)]: Done  12 out of  12 | elapsed:    0.1s finished\n",
            "INFO:rasa_nlu.model:Finished training component.\n",
            "INFO:rasa_nlu.model:Starting to train component ner_synonyms\n",
            "INFO:rasa_nlu.model:Finished training component.\n",
            "INFO:rasa_nlu.model:Successfully saved model into '/content/models/nlu/default/current'\n"
          ],
          "name": "stderr"
        },
        {
          "output_type": "stream",
          "text": [
            "Fitting 2 folds for each of 6 candidates, totalling 12 fits\n"
          ],
          "name": "stdout"
        }
      ]
    },
    {
      "cell_type": "code",
      "metadata": {
        "id": "D-9w3sYF68TR"
      },
      "source": [
        ""
      ],
      "execution_count": 14,
      "outputs": []
    },
    {
      "cell_type": "markdown",
      "metadata": {
        "id": "msa8RkSR9PrV"
      },
      "source": [
        "#Using & evaluating the NLU model\n",
        "Let's see how the model is performing on some of the inputs:"
      ]
    },
    {
      "cell_type": "code",
      "metadata": {
        "colab": {
          "base_uri": "https://localhost:8080/"
        },
        "id": "1IPZOyzv8N70",
        "outputId": "02de345f-78be-40dd-b2a7-f8d623e3bc7d"
      },
      "source": [
        "pprint(interpreter.parse(\"what has to be done to prevent covid\"))"
      ],
      "execution_count": 15,
      "outputs": [
        {
          "output_type": "stream",
          "text": [
            "{\n",
            "  \"intent\": {\n",
            "    \"name\": \"Coronavirus_Protection\",\n",
            "    \"confidence\": 0.21878180704331862\n",
            "  },\n",
            "  \"entities\": [],\n",
            "  \"intent_ranking\": [\n",
            "    {\n",
            "      \"name\": \"Coronavirus_Protection\",\n",
            "      \"confidence\": 0.21878180704331862\n",
            "    },\n",
            "    {\n",
            "      \"name\": \"greet\",\n",
            "      \"confidence\": 0.11428441396186409\n",
            "    },\n",
            "    {\n",
            "      \"name\": \"Coronavirus_Risk\",\n",
            "      \"confidence\": 0.11047094858118557\n",
            "    },\n",
            "    {\n",
            "      \"name\": \"Coronavirus_spread\",\n",
            "      \"confidence\": 0.10556372820453047\n",
            "    },\n",
            "    {\n",
            "      \"name\": \"Coronavirus_Definition\",\n",
            "      \"confidence\": 0.08730759926134041\n",
            "    },\n",
            "    {\n",
            "      \"name\": \"Coronavirus_PregnantWomen\",\n",
            "      \"confidence\": 0.08331262324435197\n",
            "    },\n",
            "    {\n",
            "      \"name\": \"Coronavirus_Medicine\",\n",
            "      \"confidence\": 0.07457771172849564\n",
            "    },\n",
            "    {\n",
            "      \"name\": \"Coronavirus_Mask\",\n",
            "      \"confidence\": 0.0641690682426697\n",
            "    },\n",
            "    {\n",
            "      \"name\": \"Coronavirus_Symptoms\",\n",
            "      \"confidence\": 0.04796936496406377\n",
            "    },\n",
            "    {\n",
            "      \"name\": \"Coronavirus_Antibiotics\",\n",
            "      \"confidence\": 0.03901095076117559\n",
            "    }\n",
            "  ],\n",
            "  \"text\": \"what has to be done to prevent covid\"\n",
            "}\n"
          ],
          "name": "stdout"
        }
      ]
    },
    {
      "cell_type": "code",
      "metadata": {
        "colab": {
          "base_uri": "https://localhost:8080/",
          "height": 1000
        },
        "id": "jKik6F8o8w-B",
        "outputId": "20ea3560-8824-43ab-eab7-dd4aadec559d"
      },
      "source": [
        "from rasa_nlu.evaluate import run_evaluation\n",
        "\n",
        "run_evaluation(\"nlu.md\", model_directory)"
      ],
      "execution_count": 16,
      "outputs": [
        {
          "output_type": "stream",
          "text": [
            "INFO:rasa_nlu.components:Added 'nlp_spacy' to component cache. Key 'nlp_spacy-en'.\n",
            "INFO:rasa_nlu.training_data.loading:Training data format of nlu.md is md\n",
            "INFO:rasa_nlu.training_data.training_data:Training data stats: \n",
            "\t- intent examples: 70 (12 distinct intents)\n",
            "\t- Found intents: 'Coronavirus_Influenza', 'greet', 'affirm', 'Coronavirus_Symptoms', 'Coronavirus_Protection', 'Coronavirus_Definition', 'Coronavirus_spread', 'Coronavirus_Mask', 'Coronavirus_PregnantWomen', 'Coronavirus_Medicine', 'Coronavirus_Risk', 'Coronavirus_Antibiotics'\n",
            "\t- entity examples: 0 (0 distinct entities)\n",
            "\t- found entities: \n",
            "\n",
            "INFO:rasa_nlu.evaluate:Intent evaluation results:\n",
            "INFO:rasa_nlu.evaluate:Intent Evaluation: Only considering those 70 examples that have a defined intent out of 70 examples\n",
            "INFO:rasa_nlu.evaluate:F1-Score:  1.0\n",
            "INFO:rasa_nlu.evaluate:Precision: 1.0\n",
            "INFO:rasa_nlu.evaluate:Accuracy:  1.0\n",
            "INFO:rasa_nlu.evaluate:Classification report: \n",
            "                           precision    recall  f1-score   support\n",
            "\n",
            "  Coronavirus_Antibiotics       1.00      1.00      1.00         5\n",
            "   Coronavirus_Definition       1.00      1.00      1.00         5\n",
            "    Coronavirus_Influenza       1.00      1.00      1.00         3\n",
            "         Coronavirus_Mask       1.00      1.00      1.00         5\n",
            "     Coronavirus_Medicine       1.00      1.00      1.00         5\n",
            "Coronavirus_PregnantWomen       1.00      1.00      1.00         6\n",
            "   Coronavirus_Protection       1.00      1.00      1.00         5\n",
            "         Coronavirus_Risk       1.00      1.00      1.00         5\n",
            "     Coronavirus_Symptoms       1.00      1.00      1.00         5\n",
            "       Coronavirus_spread       1.00      1.00      1.00         5\n",
            "                   affirm       1.00      1.00      1.00         9\n",
            "                    greet       1.00      1.00      1.00        12\n",
            "\n",
            "              avg / total       1.00      1.00      1.00        70\n",
            "\n",
            "INFO:rasa_nlu.evaluate:No prediction errors were found. You are AWESOME!\n",
            "INFO:rasa_nlu.evaluate:Confusion matrix, without normalization: \n",
            "[[ 5  0  0  0  0  0  0  0  0  0  0  0]\n",
            " [ 0  5  0  0  0  0  0  0  0  0  0  0]\n",
            " [ 0  0  3  0  0  0  0  0  0  0  0  0]\n",
            " [ 0  0  0  5  0  0  0  0  0  0  0  0]\n",
            " [ 0  0  0  0  5  0  0  0  0  0  0  0]\n",
            " [ 0  0  0  0  0  6  0  0  0  0  0  0]\n",
            " [ 0  0  0  0  0  0  5  0  0  0  0  0]\n",
            " [ 0  0  0  0  0  0  0  5  0  0  0  0]\n",
            " [ 0  0  0  0  0  0  0  0  5  0  0  0]\n",
            " [ 0  0  0  0  0  0  0  0  0  5  0  0]\n",
            " [ 0  0  0  0  0  0  0  0  0  0  9  0]\n",
            " [ 0  0  0  0  0  0  0  0  0  0  0 12]]\n"
          ],
          "name": "stderr"
        },
        {
          "output_type": "display_data",
          "data": {
            "image/png": "[encoded data removed]",
            "text/plain": [
              "<Figure size 432x288 with 2 Axes>"
            ]
          },
          "metadata": {
            "tags": [],
            "needs_background": "light"
          }
        },
        {
          "output_type": "display_data",
          "data": {
            "image/png": "[encoded data removed]",
            "text/plain": [
              "<Figure size 432x288 with 1 Axes>"
            ]
          },
          "metadata": {
            "tags": [],
            "needs_background": "light"
          }
        },
        {
          "output_type": "stream",
          "text": [
            "INFO:rasa_nlu.evaluate:Entity evaluation results:\n",
            "INFO:rasa_nlu.evaluate:Evaluation for entity extractor: ner_crf \n",
            "INFO:rasa_nlu.evaluate:F1-Score:  1.0\n",
            "INFO:rasa_nlu.evaluate:Precision: 1.0\n",
            "INFO:rasa_nlu.evaluate:Accuracy:  1.0\n",
            "INFO:rasa_nlu.evaluate:Classification report: \n",
            "             precision    recall  f1-score   support\n",
            "\n",
            "  no_entity       1.00      1.00      1.00       470\n",
            "\n",
            "avg / total       1.00      1.00      1.00       470\n",
            "\n"
          ],
          "name": "stderr"
        }
      ]
    },
    {
      "cell_type": "code",
      "metadata": {
        "id": "SUcahRWc9rTH"
      },
      "source": [
        ""
      ],
      "execution_count": 16,
      "outputs": []
    },
    {
      "cell_type": "markdown",
      "metadata": {
        "id": "aagioeHX_aOy"
      },
      "source": [
        "#Part 2: Handling the dialogue\n",
        "We have taught our chatbot how to understand user inputs. Now, it's time to teach our chatbot how to make responses by training a dialogue management model using Rasa Core.\n",
        "\n",
        "Writing Stories\n",
        "The training data for dialogue management models is called stories. A story is an actual conversation where user inputs are expressed as intents as well as corresponding entities, and chatbot responses are expressed as actions.\n",
        "\n",
        "Let's take a look into the format of the stories in more detail:\n",
        "\n",
        "A story starts with ## and you can give it a name. Lines that start with * are messages sent by the user. Although you don't write the actual message, but rather the intent (and the entities) that represent what the user means. Lines that start with - are actions taken by your bot. In this case all of our actions are just messages sent back to the user, like utter_greet, but in general an action can do anything, including calling an API and interacting with the outside world."
      ]
    },
    {
      "cell_type": "code",
      "metadata": {
        "colab": {
          "base_uri": "https://localhost:8080/"
        },
        "id": "KuOj83lB_by1",
        "outputId": "4c8df257-40d0-4fb7-ffc1-e999d5fe1cdd"
      },
      "source": [
        "stories_md = \"\"\"\n",
        "## path 1               \n",
        "* greet\n",
        "  - utter_greet             \n",
        "* Coronavirus_Definition  \n",
        "  - utter_action_Coronavirus_Definition\n",
        "* Coronavirus_Symptoms\n",
        "  - utter_action_Coronavirus_Symptoms\n",
        "* affirm  \n",
        "  - utter_affirm\n",
        "\n",
        "## path 2               \n",
        "* greet\n",
        "  - utter_greet             \n",
        "* Coronavirus_Nature  \n",
        "  - utter_action_Coronavirus_Nature\n",
        "* Coronavirus_Protection\n",
        "  - utter_action_Coronavirus_Protection  \n",
        "* affirm\n",
        "  - utter_affirm\n",
        "\n",
        "## path 3               \n",
        "* greet\n",
        "  - utter_greet             \n",
        "* Coronavirus_Risk  \n",
        "  - utter_action_Coronavirus_Risk\n",
        "* Coronavirus_Antibiotics \n",
        "  - utter_action_Coronavirus_Antibiotics\n",
        "* Coronavirus_Medicine\n",
        "  - utter_action_Coronavirus_Medicine \n",
        "* affirm\n",
        "  - utter_affirm  \n",
        "  \n",
        "## path 4               \n",
        "* greet\n",
        "  - utter_greet               \n",
        "* Coronavirus_Influenza\n",
        "  - utter_action_Coronavirus_Influenza\n",
        "* affirm\n",
        "  - utter_affirm  \n",
        "\n",
        "## path 5               \n",
        "* greet\n",
        "  - utter_greet             \n",
        "* Coronavirus_Mask \n",
        "  - utter_action_Coronavirus_Mask  \n",
        "* affirm\n",
        "  - utter_affirm   \n",
        "  \n",
        "\n",
        "## path 6               \n",
        "* greet\n",
        "  - utter_greet             \n",
        "* Coronavirus_PregnantWomen  \n",
        "  - utter_action_Coronavirus_PregnantWomen \n",
        "* affirm\n",
        "  - utter_affirm  \n",
        "\n",
        "## path 7              \n",
        "* greet\n",
        "  - utter_greet             \n",
        "* Coronavirus_Definition  \n",
        "  - utter_action_Coronavirus_Definition \n",
        "* affirm\n",
        "  - utter_affirm\n",
        "\n",
        "## path 8               \n",
        "* greet\n",
        "  - utter_greet             \n",
        "* Coronavirus_Symptoms\n",
        "  - utter_action_Coronavirus_Symptoms \n",
        "* affirm\n",
        "  - utter_affirm\n",
        "\n",
        "## path 9               \n",
        "* greet\n",
        "  - utter_greet             \n",
        "* Coronavirus_Nature  \n",
        "  - utter_action_Coronavirus_Nature\n",
        "* affirm\n",
        "  - utter_affirm\n",
        "\n",
        "## path 10               \n",
        "* greet\n",
        "  - utter_greet             \n",
        "* Coronavirus_Protection\n",
        "  - utter_action_Coronavirus_Protection \n",
        "* affirm\n",
        "  - utter_affirm\n",
        "\n",
        "## path 11               \n",
        "* greet\n",
        "  - utter_greet             \n",
        "* Coronavirus_Risk  \n",
        "  - utter_action_Coronavirus_Risk \n",
        "* affirm\n",
        "  - utter_affirm\n",
        "\n",
        "## path 12              \n",
        "* greet\n",
        "  - utter_greet             \n",
        "* Coronavirus_Antibiotics \n",
        "  - utter_action_Coronavirus_Antibiotics \n",
        "* affirm\n",
        "  - utter_affirm\n",
        "\n",
        "## path 13               \n",
        "* greet\n",
        "  - utter_greet             \n",
        "* Coronavirus_Medicine\n",
        "  - utter_action_Coronavirus_Medicine \n",
        "* affirm\n",
        "  - utter_affirm\n",
        "\n",
        "## path 14               \n",
        "* greet\n",
        "  - utter_greet             \n",
        "* Coronavirus_Definition  \n",
        "  - utter_action_Coronavirus_Definition\n",
        "* Coronavirus_Symptoms\n",
        "  - utter_action_Coronavirus_Symptoms\n",
        "* Coronavirus_Nature  \n",
        "  - utter_action_Coronavirus_Nature\n",
        "* Coronavirus_Protection\n",
        "  - utter_action_Coronavirus_Protection\n",
        "* Coronavirus_Risk  \n",
        "  - utter_action_Coronavirus_Risk\n",
        "* Coronavirus_Antibiotics \n",
        "  - utter_action_Coronavirus_Antibiotics\n",
        "* Coronavirus_Medicine\n",
        "  - utter_action_Coronavirus_Medicine\n",
        "* Coronavirus_Influenza\n",
        "  - utter_action_Coronavirus_Influenza\n",
        "* Coronavirus_Mask \n",
        "  - utter_action_Coronavirus_Mask \n",
        "* Coronavirus_PregnantWomen  \n",
        "  - utter_action_Coronavirus_PregnantWomen \n",
        "* affirm\n",
        "  - utter_affirm\n",
        "\n",
        "## path 15               \n",
        "* greet\n",
        "  - utter_greet             \n",
        "* Coronavirus_Definition  \n",
        "  - utter_action_Coronavirus_Definition\n",
        "* Coronavirus_Symptoms\n",
        "  - utter_action_Coronavirus_Symptoms\n",
        "* Coronavirus_Nature  \n",
        "  - utter_action_Coronavirus_Nature\n",
        "* Coronavirus_Protection\n",
        "  - utter_action_Coronavirus_Protection\n",
        "* Coronavirus_Risk  \n",
        "  - utter_action_Coronavirus_Risk\n",
        "* affirm\n",
        "  - utter_affirm\n",
        "\n",
        "## path 16               \n",
        "* greet\n",
        "  - utter_greet             \n",
        "* Coronavirus_Antibiotics \n",
        "  - utter_action_Coronavirus_Antibiotics\n",
        "* Coronavirus_Medicine\n",
        "  - utter_action_Coronavirus_Medicine\n",
        "* Coronavirus_Influenza\n",
        "  - utter_action_Coronavirus_Influenza\n",
        "* Coronavirus_Mask \n",
        "  - utter_action_Coronavirus_Mask \n",
        "* Coronavirus_PregnantWomen  \n",
        "  - utter_action_Coronavirus_PregnantWomen \n",
        "* affirm\n",
        "  - utter_affirm\n",
        "\n",
        "## path 17              \n",
        "* greet\n",
        "  - utter_greet \n",
        "* Coronavirus_Risk  \n",
        "  - utter_action_Coronavirus_Risk \n",
        "* Coronavirus_Protection\n",
        "  - utter_action_Coronavirus_Protection\n",
        "* Coronavirus_Nature  \n",
        "  - utter_action_Coronavirus_Nature \n",
        "* Coronavirus_Symptoms\n",
        "  - utter_action_Coronavirus_Symptoms          \n",
        "* Coronavirus_Definition  \n",
        "  - utter_action_Coronavirus_Definition \n",
        "* affirm\n",
        "  - utter_affirm\n",
        "\n",
        "## path 18             \n",
        "* greet\n",
        "  - utter_greet             \n",
        "* Coronavirus_Definition  \n",
        "  - utter_action_Coronavirus_Definition\n",
        "* Coronavirus_Definition  \n",
        "  - utter_action_Coronavirus_Definition\n",
        "* Coronavirus_Definition  \n",
        "  - utter_action_Coronavirus_Definition\n",
        "* Coronavirus_Symptoms\n",
        "  - utter_action_Coronavirus_Symptoms\n",
        "* Coronavirus_Symptoms\n",
        "  - utter_action_Coronavirus_Symptoms\n",
        "* Coronavirus_Symptoms\n",
        "  - utter_action_Coronavirus_Symptoms\n",
        "* affirm\n",
        "  - utter_affirm\n",
        "\n",
        "## path 19             \n",
        "* greet\n",
        "  - utter_greet             \n",
        "* Coronavirus_Symptoms\n",
        "  - utter_action_Coronavirus_Symptoms\n",
        "* Coronavirus_Symptoms\n",
        "  - utter_action_Coronavirus_Symptoms\n",
        "* affirm\n",
        "  - utter_affirm\n",
        "\n",
        "## path 20              \n",
        "* greet\n",
        "  - utter_greet\n",
        "* Coronavirus_Definition  \n",
        "  - utter_action_Coronavirus_Definition\n",
        "* Coronavirus_Definition  \n",
        "  - utter_action_Coronavirus_Definition\n",
        "* affirm\n",
        "  - utter_affirm\n",
        "\n",
        "## path 21              \n",
        "* greet\n",
        "  - utter_greet             \n",
        "* Coronavirus_Antibiotics \n",
        "  - utter_action_Coronavirus_Antibiotics \n",
        "* Coronavirus_Antibiotics \n",
        "  - utter_action_Coronavirus_Antibiotics\n",
        "* affirm\n",
        "  - utter_affirm\n",
        "\n",
        "## path 22              \n",
        "* greet\n",
        "  - utter_greet             \n",
        "* Coronavirus_Medicine\n",
        "  - utter_action_Coronavirus_Medicine\n",
        "* Coronavirus_Medicine\n",
        "  - utter_action_Coronavirus_Medicine \n",
        "* affirm\n",
        "  - utter_affirm\n",
        "\n",
        "## path 23              \n",
        "* greet\n",
        "  - utter_greet             \n",
        "* Coronavirus_Mask \n",
        "  - utter_action_Coronavirus_Mask\n",
        "* Coronavirus_Mask \n",
        "  - utter_action_Coronavirus_Mask \n",
        "* affirm\n",
        "  - utter_affirm\n",
        "\n",
        "## path 24              \n",
        "* greet\n",
        "  - utter_greet             \n",
        "* Coronavirus_Risk  \n",
        "  - utter_action_Coronavirus_Risk\n",
        "* Coronavirus_Risk  \n",
        "  - utter_action_Coronavirus_Risk\n",
        "* affirm\n",
        "  - utter_affirm\n",
        "\n",
        "## path 25              \n",
        "* greet\n",
        "  - utter_greet             \n",
        "* Coronavirus_Definition  \n",
        "  - utter_action_Coronavirus_Definition\n",
        "* Coronavirus_Mask \n",
        "  - utter_action_Coronavirus_Mask \n",
        "* Coronavirus_Antibiotics \n",
        "  - utter_action_Coronavirus_Antibiotics\n",
        "* Coronavirus_Medicine\n",
        "  - utter_action_Coronavirus_Medicine\n",
        "* Coronavirus_Symptoms\n",
        "  - utter_action_Coronavirus_Symptoms\n",
        "* Coronavirus_Nature  \n",
        "  - utter_action_Coronavirus_Nature\n",
        "* Coronavirus_PregnantWomen  \n",
        "  - utter_action_Coronavirus_PregnantWomen \n",
        "* Coronavirus_Protection\n",
        "  - utter_action_Coronavirus_Protection\n",
        "* Coronavirus_Risk  \n",
        "  - utter_action_Coronavirus_Risk\n",
        "* Coronavirus_Influenza\n",
        "  - utter_action_Coronavirus_Influenza \n",
        "* affirm\n",
        "  - utter_affirm\n",
        "              \n",
        "\"\"\"\n",
        "\n",
        "%store stories_md > stories.md"
      ],
      "execution_count": 17,
      "outputs": [
        {
          "output_type": "stream",
          "text": [
            "Writing 'stories_md' (str) to file 'stories.md'.\n"
          ],
          "name": "stdout"
        }
      ]
    },
    {
      "cell_type": "code",
      "metadata": {
        "id": "fsjkSV-a_vvI"
      },
      "source": [
        ""
      ],
      "execution_count": 17,
      "outputs": []
    },
    {
      "cell_type": "markdown",
      "metadata": {
        "id": "ChA3ZpQE_4Sy"
      },
      "source": [
        "#Defining a Domain\n",
        "The domain specifies the universe that the bot operates in. In chatbot's world this universe consists of intents and entities as well as the actions which appear in training stories. The domain can also contain the templates for the answers a chabot should use to respond to the user and slots which will help the chatbot to keep track of the context. Let's look into the domain of our bot:"
      ]
    },
    {
      "cell_type": "code",
      "metadata": {
        "colab": {
          "base_uri": "https://localhost:8080/"
        },
        "id": "J2dUkhJz_6Ig",
        "outputId": "73ce6464-3564-41af-f088-33633cbfa1d3"
      },
      "source": [
        "domain_yml = \"\"\"\n",
        "intents:\n",
        "- greet\n",
        "- Coronavirus_Definition\n",
        "- Coronavirus_Symptoms\n",
        "- Coronavirus_Nature\n",
        "- Coronavirus_Protection\n",
        "- Coronavirus_Risk\n",
        "- Coronavirus_Antibiotics\n",
        "- Coronavirus_Medicine\n",
        "- Coronavirus_Mask\n",
        "- Coronavirus_PregnantWomen\n",
        "- Coronavirus_Influenza\n",
        "- affirm\n",
        "\n",
        "  \n",
        "entities:\n",
        "- Coronavirus\n",
        "- Symptoms\n",
        "- Nature\n",
        "- Protection\n",
        "- SARS\n",
        "- Influenza\n",
        "\n",
        "\n",
        "actions:\n",
        "- utter_greet\n",
        "- utter_action_Coronavirus_Definition\n",
        "- utter_action_Coronavirus_Symptoms\n",
        "- utter_action_Coronavirus_Nature\n",
        "- utter_action_Coronavirus_Protection\n",
        "- utter_action_Coronavirus_Risk\n",
        "- utter_action_Coronavirus_Antibiotics\n",
        "- utter_action_Coronavirus_Medicine\n",
        "- utter_action_Coronavirus_Mask\n",
        "- utter_action_Coronavirus_PregnantWomen\n",
        "- utter_action_Coronavirus_Influenza\n",
        "- utter_affirm\n",
        "\n",
        "templates:\n",
        "  utter_greet:\n",
        "  - text: \"Hello, I can offer you assistance on COVID-19 queries, how can I help you?\"\n",
        "  utter_action_Coronavirus_Definition:\n",
        "  - text: \"Coronaviruses are a large family of viruses which may cause illness in animals or humans.\"\n",
        "  - text: \"In humans, several coronaviruses are known to cause respiratory infections ranging from the common cold to more severe diseases.\"\n",
        "  - text: \"COVID-19 is the infectious disease caused by the most recently discovered coronavirus. This new virus and disease were unknown before the outbreak began in Wuhan, China, in December 2019.\"\n",
        "  utter_action_Coronavirus_Symptoms:\n",
        "  - text: \"The most common symptoms of COVID-19 are fever, tiredness, and dry cough. Some patients may have aches and pains, nasal congestion, runny nose, sore throat or diarrhea. These symptoms are usually mild and begin gradually.\"\n",
        "  - text: \"Some people become infected but don't develop any symptoms and don't feel unwell. Most people (about 80%) recover from the disease without needing special treatment.\"\n",
        "  - text: \"Around 1 out of every 6 people who gets COVID-19 becomes seriously ill and develops difficulty breathing.\"\n",
        "  - text: \"Older people, and those with underlying medical problems like high blood pressure, heart problems or diabetes, are more likely to develop serious illness. People with fever, cough and difficulty breathing should seek medical attention.\" \n",
        "  utter_action_Coronavirus_Nature:\n",
        "  - text: \"People can catch COVID-19 from others who have the virus. The disease can spread from person to person through small droplets from the nose or mouth which are spread when a person with COVID-19 coughs or exhales.\"\n",
        "  - text: \"People can also catch COVID-19 if they breathe in droplets from a person with COVID-19 who coughs out or exhales droplets. This is why it is important to stay more than 1 meter (3 feet) away from a person who is sick.\"\n",
        "  - text: \"Studies to date suggest that the virus that causes COVID-19 is mainly transmitted through contact with respiratory droplets rather than through the air.\"\n",
        "  - text: \"The main way the disease spreads is through respiratory droplets expelled by someone who is coughing. The risk of catching COVID-19 from someone with no symptoms at all is very low.\"\n",
        "  - text: \"Many people with COVID-19 experience only mild symptoms. This is particularly true at the early stages of the disease. It is therefore possible to catch COVID-19 from someone who has, for example, just a mild cough and does not feel ill.\"\n",
        "  - text: \"The risk of catching COVID-19 from the feces of an infected person appears to be low. While initial investigations suggest the virus may be present in feces in some cases, spread through this route is not a main feature of the outbreak.\" \n",
        "  utter_action_Coronavirus_Protection:\n",
        "  - text: \"The risk of catching COVID-19 from the feces of an infected person appears to be low. While initial investigations suggest the virus may be present in feces in some cases, spread through this route is not a main feature of the outbreak.\"\n",
        "  - text: \"Regularly and thoroughly clean your hands with an alcohol-based hand rub or wash them with soap and water.\"\n",
        "  - text: \"Maintain at least 1 metre (3 feet) distance between yourself and anyone who is coughing or sneezing.\"\n",
        "  - text: \"Avoid touching eyes, nose and mouth.\"\n",
        "  - text: \"Make sure you, and the people around you, follow good respiratory hygiene. This means covering your mouth and nose with your bent elbow or tissue when you cough or sneeze. Then dispose of the used tissue immediately.\"\n",
        "  - text: \"Stay home if you feel unwell. If you have a fever, cough and difficulty breathing, seek medical attention and call in advance. Follow the directions of your local health authority.\"\n",
        "  - text: \"If possible, avoid traveling to places  – especially if you are an older person or have diabetes, heart or lung disease.\"\n",
        "  - text: \"Keep up to date on the latest COVID-19 hotspots (cities or local areas where COVID-19 is spreading widely).\"\n",
        "  - text: \"Self-isolate by staying at home if you begin to feel unwell, even with mild symptoms such as headache, low grade fever (37.3 C or above) and slight runny nose, until you recover.\"\n",
        "  - text: \"If you develop fever, cough and difficulty breathing, seek medical advice promptly as this may be due to a respiratory infection or other serious condition. Call in advance and tell your provider of any recent travel or contact with travelers.\"\n",
        "  utter_action_Coronavirus_Risk:\n",
        "  - text: \"The risk depends on where you  are - and more specifically, whether there is a COVID-19 outbreak unfolding there.\"\n",
        "  - text: \"For most people in most locations the risk of catching COVID-19 is still low. However, there are now places around the world (cities or areas) where the disease is spreading. For people living in, or visiting, these areas the risk of catching COVID-19 is higher.\"\n",
        "  - text: \"COVID-19 outbreaks can be contained and transmission stopped, as has been shown in China and some other countries. Unfortunately, new outbreaks can emerge rapidly. It's important to be aware of the situation where you are or intend to go.\"\n",
        "  - text: \"Illness due to COVID-19 infection is generally mild, especially for children and young adults. However, it can cause serious illness: about 1 in every 5 people who catch it need hospital care.\"\n",
        "  - text: \"We can channel our concerns into actions to protect ourselves, our loved ones and our communities.\"\n",
        "  - text: \"While we are still learning about how COVID-2019 affects people, older persons and persons with pre-existing medical conditions (such as high blood pressure, heart disease, lung disease, cancer or diabetes)  appear to develop serious illness more often than others.\"\n",
        "  utter_action_Coronavirus_Antibiotics:\n",
        "  - text: \"No. Antibiotics do not work against viruses, they only work on bacterial infections. COVID-19 is caused by a virus, so antibiotics do not work. \"\n",
        "  - text: \"Antibiotics should not be used as a means of prevention or treatment of COVID-19. They should only be used as directed by a physician to treat a bacterial infection.\" \n",
        "  utter_action_Coronavirus_Medicine:\n",
        "  - text: \"While some western, traditional or home remedies may provide comfort and alleviate symptoms of COVID-19, there is no evidence that current medicine can prevent or cure the disease. \"\n",
        "  - text: \"WHO does not recommend self-medication with any medicines, including antibiotics, as a prevention or cure for COVID-19.\"\n",
        "  - text: \"Not yet. To date, there is no vaccine and no specific antiviral medicine to prevent or treat COVID-2019. \"\n",
        "  - text: \"Those affected should receive care to relieve symptoms. People with serious illness should be hospitalized. Most patients recover thanks to supportive care.\"\n",
        "  - text: \"Possible vaccines and some specific drug treatments are under investigation. They are being tested through clinical trials. WHO is coordinating efforts to develop vaccines and medicines to prevent and treat COVID-19.\"\n",
        "  - text: \"The most effective ways to protect yourself and others against COVID-19 are to frequently clean your hands, cover your cough with the bend of elbow or tissue, and maintain a distance of at least 1 meter (3 feet) from people who are coughing or sneezing.\"\n",
        "  utter_action_Coronavirus_Mask:\n",
        "  - text: \"Only wear a mask if you are ill with COVID-19 symptoms (especially coughing) or looking after someone who may have COVID-19. Disposable face mask can only be used once.\"\n",
        "  - text: \"If you are not ill or looking after someone who is ill then you are wasting a mask. \"\n",
        "  - text: \"There is a world-wide shortage of masks, so WHO urges people to use masks wisely.\"\n",
        "  utter_action_Coronavirus_PregnantWomen:\n",
        "  - text: \"At present there is no evidence that they are at higher risk of severe illness than the general population.\"\n",
        "  - text: \"due to changes in their bodies and immune systems, we know that pregnant women can be badly affected by some respiratory infections. It is therefore important that they take precautions to protect themselves against COVID-19, and report possible symptoms (including fever, cough or difficulty breathing) to their healthcare provider.\"\n",
        "  - text: \"Pregnant women should take the same precautions to avoid COVID-19 infection as other people.\"\n",
        "  - text: \"Pregnant women and women who have recently delivered – including those affected by COVID-19 - should attend their routine care appointments. \"\n",
        "  - text: \"Testing protocols and eligibility vary depending on where you live.\"\n",
        "  - text: \"We still do not know if a pregnant woman with COVID-19 can pass the virus to her foetus or baby during pregnancy or delivery. To date, the virus has not been found in samples of amniotic fluid or breastmilk.\"\n",
        "  - text: \"All pregnant women, including those with confirmed or suspected COVID-19 infections, have the right to high quality care before, during and after childbirth. \"\n",
        "  - text: \"No. WHO advice is that caesarean sections should only be performed when medically justified.\"\n",
        "  utter_action_Coronavirus_Influenza:\n",
        "  - text: \"COVID-19 and influenza viruses have a similar disease presentation. That is, they both cause respiratory disease, which presents as a wide range of illness from asymptomatic or mild through to severe disease and death.\"\n",
        "  - text: \"Both viruses are transmitted by contact, droplets and fomites.\"\n",
        "  - text: \"The speed of transmission is an important point of difference between the two viruses. Influenza has a shorter median incubation period (the time from infection to appearance of symptoms) and a shorter serial interval (the time between successive cases) than COVID-19 virus.\"\n",
        "  - text: \"Those most at risk for severe influenza infection are children, pregnant women, elderly, those with underlying chronic medical conditions and those who are immunosuppressed.\"\n",
        "  - text: \"Mortality for COVID-19 appears higher than for influenza, especially seasonal influenza.\"\n",
        "  - text: \"While there are a number of therapeutics currently in clinical trials in China and more than 20 vaccines in development for COVID-19, there are currently no licensed vaccines or therapeutics for COVID-19.\"\n",
        "  utter_affirm:\n",
        "  - text: \"You're welcome\"\n",
        "\"\"\"\n",
        "\n",
        "%store domain_yml > domain.yml"
      ],
      "execution_count": 18,
      "outputs": [
        {
          "output_type": "stream",
          "text": [
            "Writing 'domain_yml' (str) to file 'domain.yml'.\n"
          ],
          "name": "stdout"
        }
      ]
    },
    {
      "cell_type": "code",
      "metadata": {
        "id": "MtvYpeILAHGK"
      },
      "source": [
        ""
      ],
      "execution_count": 18,
      "outputs": []
    },
    {
      "cell_type": "markdown",
      "metadata": {
        "id": "Z-G98eiZAZ6H"
      },
      "source": [
        "#Adding Custom Actions\n",
        "The responses of the chatbot can be more than just simple text responses - we can call an API to retrieve some data which can later be used to create a response to user input. Let's create a custom action for our bot which, when predicted, will make an API and retrieve a picture of a dog, a cat or a bird, depending on which was specified by the user. The bot will know which type of picture should be received by retrieving the value of the slot group."
      ]
    },
    {
      "cell_type": "code",
      "metadata": {
        "id": "WRsSERLzh38z",
        "colab": {
          "base_uri": "https://localhost:8080/"
        },
        "outputId": "90f3fee6-a0ef-4e42-a0d8-de7b7129cd61"
      },
      "source": [
        "from IPython.display import Image\n",
        "from rasa_core.agent import Agent"
      ],
      "execution_count": 20,
      "outputs": [
        {
          "output_type": "stream",
          "text": [
            "INFO:apscheduler.scheduler:Scheduler started\n"
          ],
          "name": "stderr"
        }
      ]
    },
    {
      "cell_type": "code",
      "metadata": {
        "id": "HF2Qui3nBgTU"
      },
      "source": [
        ""
      ],
      "execution_count": null,
      "outputs": []
    },
    {
      "cell_type": "markdown",
      "metadata": {
        "id": "4zlpDyJsBqZw"
      },
      "source": [
        "#Training your Dialogue Model\n",
        "Now we are good to train the dialogue management model. We can specify what policies should be used to train it - in this case, the model is a neural network implemented in Keras which learns to predict which action to take next. We can also tweak the parameters of what percentage of training examples should be used for validation and how many epochs should be used for training."
      ]
    },
    {
      "cell_type": "code",
      "metadata": {
        "id": "htCarSztBzQg"
      },
      "source": [
        "from rasa_core.policies import FallbackPolicy, KerasPolicy, MemoizationPolicy\n",
        "#from rasa_core.agent import Agent"
      ],
      "execution_count": 21,
      "outputs": []
    },
    {
      "cell_type": "code",
      "metadata": {
        "id": "VCKJ3LMICN-V"
      },
      "source": [
        "import warnings\n",
        "warnings.simplefilter('ignore')"
      ],
      "execution_count": 22,
      "outputs": []
    },
    {
      "cell_type": "code",
      "metadata": {
        "id": "ljHBVFqViEB2",
        "colab": {
          "base_uri": "https://localhost:8080/"
        },
        "outputId": "2ba300ad-84fe-4506-a75f-dce2aa22aacf"
      },
      "source": [
        "from rasa_core.policies import KerasPolicy, MemoizationPolicy\n",
        "from rasa_core.agent import Agent\n",
        "\n",
        "agent = Agent('domain.yml', policies=[MemoizationPolicy(), KerasPolicy()])\n",
        "\n",
        "# loading our neatly defined training dialogues\n",
        "training_data = agent.load_data('stories.md')\n",
        "\n",
        "agent.train(\n",
        "    training_data,\n",
        "    validation_split=0.1,\n",
        "    epochs=50\n",
        ")\n",
        "\n",
        "agent.persist('models/dialogue')"
      ],
      "execution_count": 23,
      "outputs": [
        {
          "output_type": "stream",
          "text": [
            "Processed Story Blocks: 100%|██████████| 25/25 [00:00<00:00, 645.81it/s, # trackers=1]\n",
            "Processed Story Blocks: 100%|██████████| 25/25 [00:00<00:00, 176.78it/s, # trackers=18]\n",
            "Processed Story Blocks: 100%|██████████| 25/25 [00:00<00:00, 202.46it/s, # trackers=14]\n",
            "Processed Story Blocks: 100%|██████████| 25/25 [00:00<00:00, 173.61it/s, # trackers=15]\n",
            "Processed actions: 179it [00:00, 941.90it/s, # examples=179]\n",
            "INFO:rasa_core.policies.keras_policy:Fitting model with 179 total samples and a validation split of 0.1\n"
          ],
          "name": "stderr"
        },
        {
          "output_type": "stream",
          "text": [
            "_________________________________________________________________\n",
            "Layer (type)                 Output Shape              Param #   \n",
            "=================================================================\n",
            "masking (Masking)            (None, 5, 33)             0         \n",
            "_________________________________________________________________\n",
            "lstm (LSTM)                  (None, 32)                8448      \n",
            "_________________________________________________________________\n",
            "dense (Dense)                (None, 15)                495       \n",
            "_________________________________________________________________\n",
            "activation (Activation)      (None, 15)                0         \n",
            "=================================================================\n",
            "Total params: 8,943\n",
            "Trainable params: 8,943\n",
            "Non-trainable params: 0\n",
            "_________________________________________________________________\n",
            "Train on 161 samples, validate on 18 samples\n",
            "Epoch 1/50\n",
            "161/161 [==============================] - 1s 4ms/step - loss: 2.7081 - acc: 0.0621 - val_loss: 2.6615 - val_acc: 0.1111\n",
            "Epoch 2/50\n",
            "161/161 [==============================] - 0s 290us/step - loss: 2.6427 - acc: 0.2298 - val_loss: 2.6043 - val_acc: 0.3889\n",
            "Epoch 3/50\n",
            "161/161 [==============================] - 0s 252us/step - loss: 2.5724 - acc: 0.5031 - val_loss: 2.5392 - val_acc: 0.4444\n",
            "Epoch 4/50\n",
            "161/161 [==============================] - 0s 245us/step - loss: 2.5197 - acc: 0.5031 - val_loss: 2.4721 - val_acc: 0.4444\n",
            "Epoch 5/50\n",
            "161/161 [==============================] - 0s 248us/step - loss: 2.4543 - acc: 0.5093 - val_loss: 2.4097 - val_acc: 0.4444\n",
            "Epoch 6/50\n",
            "161/161 [==============================] - 0s 256us/step - loss: 2.3738 - acc: 0.5093 - val_loss: 2.3248 - val_acc: 0.4444\n",
            "Epoch 7/50\n",
            "161/161 [==============================] - 0s 274us/step - loss: 2.2892 - acc: 0.5093 - val_loss: 2.2312 - val_acc: 0.4444\n",
            "Epoch 8/50\n",
            "161/161 [==============================] - 0s 247us/step - loss: 2.1986 - acc: 0.5093 - val_loss: 2.1509 - val_acc: 0.4444\n",
            "Epoch 9/50\n",
            "161/161 [==============================] - 0s 240us/step - loss: 2.1048 - acc: 0.5093 - val_loss: 2.0359 - val_acc: 0.4444\n",
            "Epoch 10/50\n",
            "161/161 [==============================] - 0s 242us/step - loss: 1.9864 - acc: 0.5093 - val_loss: 1.9784 - val_acc: 0.4444\n",
            "Epoch 11/50\n",
            "161/161 [==============================] - 0s 267us/step - loss: 1.9474 - acc: 0.5093 - val_loss: 1.9134 - val_acc: 0.4444\n",
            "Epoch 12/50\n",
            "161/161 [==============================] - 0s 277us/step - loss: 1.8719 - acc: 0.5093 - val_loss: 1.8801 - val_acc: 0.4444\n",
            "Epoch 13/50\n",
            "161/161 [==============================] - 0s 268us/step - loss: 1.8531 - acc: 0.5093 - val_loss: 1.8682 - val_acc: 0.4444\n",
            "Epoch 14/50\n",
            "161/161 [==============================] - 0s 271us/step - loss: 1.8460 - acc: 0.5093 - val_loss: 1.8570 - val_acc: 0.4444\n",
            "Epoch 15/50\n",
            "161/161 [==============================] - 0s 254us/step - loss: 1.8428 - acc: 0.5093 - val_loss: 1.8524 - val_acc: 0.4444\n",
            "Epoch 16/50\n",
            "161/161 [==============================] - 0s 265us/step - loss: 1.8240 - acc: 0.5093 - val_loss: 1.8390 - val_acc: 0.4444\n",
            "Epoch 17/50\n",
            "161/161 [==============================] - 0s 253us/step - loss: 1.8197 - acc: 0.5093 - val_loss: 1.8418 - val_acc: 0.4444\n",
            "Epoch 18/50\n",
            "161/161 [==============================] - 0s 285us/step - loss: 1.8299 - acc: 0.5093 - val_loss: 1.8271 - val_acc: 0.4444\n",
            "Epoch 19/50\n",
            "161/161 [==============================] - 0s 237us/step - loss: 1.8096 - acc: 0.5093 - val_loss: 1.8269 - val_acc: 0.4444\n",
            "Epoch 20/50\n",
            "161/161 [==============================] - 0s 266us/step - loss: 1.7995 - acc: 0.5093 - val_loss: 1.8300 - val_acc: 0.4444\n",
            "Epoch 21/50\n",
            "161/161 [==============================] - 0s 256us/step - loss: 1.7702 - acc: 0.5093 - val_loss: 1.8308 - val_acc: 0.4444\n",
            "Epoch 22/50\n",
            "161/161 [==============================] - 0s 261us/step - loss: 1.7856 - acc: 0.5093 - val_loss: 1.7906 - val_acc: 0.4444\n",
            "Epoch 23/50\n",
            "161/161 [==============================] - 0s 256us/step - loss: 1.7622 - acc: 0.5093 - val_loss: 1.7750 - val_acc: 0.4444\n",
            "Epoch 24/50\n",
            "161/161 [==============================] - 0s 270us/step - loss: 1.7579 - acc: 0.5093 - val_loss: 1.7752 - val_acc: 0.4444\n",
            "Epoch 25/50\n",
            "161/161 [==============================] - 0s 241us/step - loss: 1.7675 - acc: 0.5093 - val_loss: 1.7787 - val_acc: 0.4444\n",
            "Epoch 26/50\n",
            "161/161 [==============================] - 0s 277us/step - loss: 1.7407 - acc: 0.5093 - val_loss: 1.7763 - val_acc: 0.4444\n",
            "Epoch 27/50\n",
            "161/161 [==============================] - 0s 272us/step - loss: 1.7414 - acc: 0.5093 - val_loss: 1.7783 - val_acc: 0.4444\n",
            "Epoch 28/50\n",
            "161/161 [==============================] - 0s 246us/step - loss: 1.7226 - acc: 0.5093 - val_loss: 1.7741 - val_acc: 0.4444\n",
            "Epoch 29/50\n",
            "161/161 [==============================] - 0s 275us/step - loss: 1.7425 - acc: 0.5093 - val_loss: 1.7652 - val_acc: 0.4444\n",
            "Epoch 30/50\n",
            "161/161 [==============================] - 0s 249us/step - loss: 1.7114 - acc: 0.5093 - val_loss: 1.7583 - val_acc: 0.4444\n",
            "Epoch 31/50\n",
            "161/161 [==============================] - 0s 260us/step - loss: 1.7114 - acc: 0.5093 - val_loss: 1.7164 - val_acc: 0.4444\n",
            "Epoch 32/50\n",
            "161/161 [==============================] - 0s 238us/step - loss: 1.6948 - acc: 0.5093 - val_loss: 1.7151 - val_acc: 0.4444\n",
            "Epoch 33/50\n",
            "161/161 [==============================] - 0s 236us/step - loss: 1.7038 - acc: 0.5093 - val_loss: 1.6865 - val_acc: 0.4444\n",
            "Epoch 34/50\n",
            "161/161 [==============================] - 0s 249us/step - loss: 1.6757 - acc: 0.5093 - val_loss: 1.6917 - val_acc: 0.4444\n",
            "Epoch 35/50\n",
            "161/161 [==============================] - 0s 294us/step - loss: 1.6690 - acc: 0.5093 - val_loss: 1.6926 - val_acc: 0.4444\n",
            "Epoch 36/50\n",
            "161/161 [==============================] - 0s 264us/step - loss: 1.6709 - acc: 0.5093 - val_loss: 1.6608 - val_acc: 0.4444\n",
            "Epoch 37/50\n",
            "161/161 [==============================] - 0s 263us/step - loss: 1.6624 - acc: 0.5093 - val_loss: 1.6489 - val_acc: 0.4444\n",
            "Epoch 38/50\n",
            "161/161 [==============================] - 0s 250us/step - loss: 1.6608 - acc: 0.5093 - val_loss: 1.6546 - val_acc: 0.4444\n",
            "Epoch 39/50\n",
            "161/161 [==============================] - 0s 277us/step - loss: 1.6420 - acc: 0.5093 - val_loss: 1.6484 - val_acc: 0.4444\n",
            "Epoch 40/50\n",
            "161/161 [==============================] - 0s 249us/step - loss: 1.6301 - acc: 0.5093 - val_loss: 1.6477 - val_acc: 0.4444\n",
            "Epoch 41/50\n",
            "161/161 [==============================] - 0s 249us/step - loss: 1.6535 - acc: 0.5093 - val_loss: 1.6400 - val_acc: 0.4444\n",
            "Epoch 42/50\n",
            "161/161 [==============================] - 0s 276us/step - loss: 1.6315 - acc: 0.5093 - val_loss: 1.5974 - val_acc: 0.4444\n",
            "Epoch 43/50\n",
            "161/161 [==============================] - 0s 257us/step - loss: 1.6148 - acc: 0.5093 - val_loss: 1.5852 - val_acc: 0.4444\n",
            "Epoch 44/50\n",
            "161/161 [==============================] - 0s 276us/step - loss: 1.5990 - acc: 0.5093 - val_loss: 1.5887 - val_acc: 0.4444\n",
            "Epoch 45/50\n",
            "161/161 [==============================] - 0s 264us/step - loss: 1.5908 - acc: 0.5093 - val_loss: 1.5582 - val_acc: 0.4444\n",
            "Epoch 46/50\n",
            "161/161 [==============================] - 0s 240us/step - loss: 1.5873 - acc: 0.5093 - val_loss: 1.5441 - val_acc: 0.4444\n",
            "Epoch 47/50\n",
            "161/161 [==============================] - 0s 247us/step - loss: 1.5585 - acc: 0.5093 - val_loss: 1.5291 - val_acc: 0.4444\n",
            "Epoch 48/50\n",
            "161/161 [==============================] - 0s 261us/step - loss: 1.5491 - acc: 0.5093 - val_loss: 1.5183 - val_acc: 0.4444\n",
            "Epoch 49/50\n",
            "161/161 [==============================] - 0s 246us/step - loss: 1.5368 - acc: 0.5093 - val_loss: 1.5147 - val_acc: 0.4444\n",
            "Epoch 50/50\n",
            "161/161 [==============================] - 0s 262us/step - loss: 1.5526 - acc: 0.5093 - val_loss: 1.4911 - val_acc: 0.4444\n"
          ],
          "name": "stdout"
        },
        {
          "output_type": "stream",
          "text": [
            "INFO:rasa_core.policies.keras_policy:Done fitting keras policy model\n",
            "INFO:rasa_core.agent:Persisted model to '/content/models/dialogue'\n"
          ],
          "name": "stderr"
        }
      ]
    },
    {
      "cell_type": "code",
      "metadata": {
        "id": "P7Yn2uIDl5wR",
        "colab": {
          "base_uri": "https://localhost:8080/"
        },
        "outputId": "26aa3837-fb89-4554-d717-8ceeeead61de"
      },
      "source": [
        "from rasa_core.agent import Agent\n",
        "from rasa_core.interpreter import NaturalLanguageInterpreter\n",
        "\n",
        "interpreter = NaturalLanguageInterpreter.create(model_directory)\n",
        "agent = Agent.load('models/dialogue', interpreter=interpreter)"
      ],
      "execution_count": 24,
      "outputs": [
        {
          "output_type": "stream",
          "text": [
            "INFO:rasa_nlu.components:Added 'nlp_spacy' to component cache. Key 'nlp_spacy-en'.\n"
          ],
          "name": "stderr"
        }
      ]
    },
    {
      "cell_type": "code",
      "metadata": {
        "id": "hEqtrBTMfVhE",
        "colab": {
          "base_uri": "https://localhost:8080/"
        },
        "outputId": "903f1538-78bb-474e-c958-fe15bb5454f6"
      },
      "source": [
        "print(\"Your bot is ready to talk! Start to say 'hello' or say 'stop' to finish or restart your dialogue\")\n",
        "while True:\n",
        "    a = input()\n",
        "    if a == 'stop':\n",
        "        break\n",
        "    else:\n",
        "        responses = agent.handle_text(a)\n",
        "        for response in responses:\n",
        "            print(response[\"text\"])"
      ],
      "execution_count": 25,
      "outputs": [
        {
          "output_type": "stream",
          "text": [
            "Your bot is ready to talk! Start to say 'hello' or say 'stop' to finish or restart your dialogue\n",
            "hi\n",
            "Hello, I can offer you assistance on COVID-19 queries, how can I help you?\n",
            "what is covid-19\n",
            "Coronaviruses are a large family of viruses which may cause illness in animals or humans.\n",
            "thank you\n",
            "You're welcome\n",
            "bye\n",
            "Hello, I can offer you assistance on COVID-19 queries, how can I help you?\n",
            "stop\n"
          ],
          "name": "stdout"
        }
      ]
    },
    {
      "cell_type": "code",
      "metadata": {
        "id": "6GBCuQnufalV"
      },
      "source": [
        ""
      ],
      "execution_count": null,
      "outputs": []
    }
  ]
}