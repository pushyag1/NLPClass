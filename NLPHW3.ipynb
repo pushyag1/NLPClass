{
  "nbformat": 4,
  "nbformat_minor": 0,
  "metadata": {
    "colab": {
      "name": "NLPHW3.ipynb",
      "provenance": [],
      "authorship_tag": "ABX9TyN3738ddz6Y5iAzUeSPBsjk",
      "include_colab_link": true
    },
    "kernelspec": {
      "name": "python3",
      "display_name": "Python 3"
    }
  },
  "cells": [
    {
      "cell_type": "markdown",
      "metadata": {
        "id": "view-in-github",
        "colab_type": "text"
      },
      "source": [
        "<a href=\"https://colab.research.google.com/github/pushyag1/NLPClass/blob/master/NLPHW3.ipynb\" target=\"_parent\"><img src=\"https://colab.research.google.com/assets/colab-badge.svg\" alt=\"Open In Colab\"/></a>"
      ]
    },
    {
      "cell_type": "code",
      "metadata": {
        "id": "PfJcZq0GYnmK"
      },
      "source": [
        ""
      ],
      "execution_count": null,
      "outputs": []
    },
    {
      "cell_type": "markdown",
      "metadata": {
        "id": "dXh1aVHdZMzR"
      },
      "source": [
        "Exercise 1. Sentiment Analysis\n",
        "This exercise will allow you to use PyTorch. Refer to the DATA 690 Resources.\n",
        "1. Import the required libraries.\n",
        "2. Load the dataset containing a set of 1,000 product reviews from Amazon, which are paired with a label of 0 (for negative reviews) or 1 (for positive reviews). Get the data at https://archive.ics.uci.edu/ml/datasets/Sentiment+Labelled+Sentences.\n",
        "3. Separate the data into two variables: one containing the reviews and the other containing the labels. Remove the punctuation from the reviews.\n",
        "4. Create a variable containing the vocabulary of the entire set of reviews.\n",
        "5. Additionally, create a dictionary that maps each word to an integer, where the words will be the keys and the integers will be the values.\n",
        "6. Encode the reviews data by replacing each word in a review for its paired integer.\n",
        "7. Create a class containing the architecture of the network.\n",
        "8. Make sure that you include an embedding layer. Initialize the model using 64 embedding dimensions and 128 neurons for 3 LSTM layers.\n",
        "9. Define the loss function, an optimization algorithm, and the number of epochs to train for. For example, you can use binary cross-entropy loss as the loss function, the Adam optimizer, and train for 10 epochs.\n",
        "10. Create a for loop that goes through the different epochs and through every single review individually. For each review, perform a prediction, calculate the loss function, and update the parameters of the network. Additionally, calculate the accuracy of the network over that training data.\n",
        "11. Plot the progress of the loss function and accuracy over time."
      ]
    },
    {
      "cell_type": "code",
      "metadata": {
        "id": "dCCu1ilnhk4-"
      },
      "source": [
        "import pandas as pd\n",
        "import numpy as np\n",
        "import matplotlib.pyplot as plt\n",
        "from sklearn.metrics import accuracy_score\n",
        "import torch\n",
        "from torch import nn, optim\n",
        "import torch.nn.functional as F"
      ],
      "execution_count": 4,
      "outputs": []
    },
    {
      "cell_type": "code",
      "metadata": {
        "id": "-y6k57G4ZNYh"
      },
      "source": [
        "data = pd.read_csv('amazon_cells_labelled.txt',sep='\\t',header=None)\n",
        "reviews = data.iloc[:,0].str.lower()\n",
        "sentiment=data.iloc[:,1].values"
      ],
      "execution_count": 5,
      "outputs": []
    },
    {
      "cell_type": "code",
      "metadata": {
        "id": "El9SAVYVqv6g"
      },
      "source": [
        "from string import punctuation\n",
        "for i in punctuation:\n",
        "  reviews = reviews.str.replace(i,\"\")"
      ],
      "execution_count": 7,
      "outputs": []
    },
    {
      "cell_type": "code",
      "metadata": {
        "id": "MmOiTL38eRKe"
      },
      "source": [
        "words = ' '.join(reviews)\n",
        "words = words.split()\n",
        "vocabulary = set(words) #set takes unique values\n",
        "indexer = {word: index for (index, word) in enumerate(vocabulary)}\n"
      ],
      "execution_count": 9,
      "outputs": []
    },
    {
      "cell_type": "code",
      "metadata": {
        "id": "TsyalCkTjITA"
      },
      "source": [
        "indexer"
      ],
      "execution_count": null,
      "outputs": []
    },
    {
      "cell_type": "code",
      "metadata": {
        "id": "ZIEwGRjyjP2r"
      },
      "source": [
        ""
      ],
      "execution_count": 37,
      "outputs": []
    },
    {
      "cell_type": "code",
      "metadata": {
        "id": "HNFZ2RsIi56o"
      },
      "source": [
        ""
      ],
      "execution_count": 39,
      "outputs": []
    },
    {
      "cell_type": "code",
      "metadata": {
        "id": "WQOemj_aedRa"
      },
      "source": [
        "indexed_reviews = []\n",
        "for review in reviews:\n",
        "  indexed_reviews.append([indexer[word] for word in review.split()])"
      ],
      "execution_count": 41,
      "outputs": []
    },
    {
      "cell_type": "code",
      "metadata": {
        "id": "fFNGWSrQe5bv"
      },
      "source": [
        "indexed_reviews"
      ],
      "execution_count": null,
      "outputs": []
    },
    {
      "cell_type": "code",
      "metadata": {
        "id": "burgXOLUfLcd"
      },
      "source": [
        "class LSTM (nn.Module):\n",
        "  def __init__(self, vocab_size, embed_dim, hidden_size, n_layers):\n",
        "\n",
        "    #super().__init__()\n",
        "    self.hidden_size = hidden_size\n",
        "    self.embedding = nn.Embedding(vocab_size,embed_dim)\n",
        "    self.lstm=nn.LSTM(embed_dim,hidden_size,n_layers,batch_first=True)\n",
        "    self.output = nn.Linear(hidden_size, 1)\n",
        "  def forward(Self, x):\n",
        "    out = self.embedding(x)\n",
        "    out, _ =self.lstm(out)\n",
        "    out = out.contiguous().view( -1, self.hidden_size)\n",
        "    out = self.output(out)\n",
        "    out = out[-1,0]\n",
        "    out = torch.sigmoid(out).unsqueeze(0)\n",
        "\n",
        "    return out"
      ],
      "execution_count": 43,
      "outputs": []
    },
    {
      "cell_type": "code",
      "metadata": {
        "id": "-VEp15_6h8M2"
      },
      "source": [
        ""
      ],
      "execution_count": 42,
      "outputs": []
    },
    {
      "cell_type": "code",
      "metadata": {
        "id": "XXeB4qUhlOkT"
      },
      "source": [
        ""
      ],
      "execution_count": null,
      "outputs": []
    },
    {
      "cell_type": "markdown",
      "metadata": {
        "id": "ie5j-ZeqlO8o"
      },
      "source": [
        "### Exercise 2"
      ]
    },
    {
      "cell_type": "markdown",
      "metadata": {
        "id": "pNuvoVqylLKY"
      },
      "source": [
        "Consider the following text:\n",
        "\n",
        "sentence = ‘’’The larger Broncos will be available with 35-inch off-road tires and will be able to drive through water nearly 3 feet, 10 inches deep. It has independent front\n",
        "suspension, unlike its main competitor, the Jeep Wrangler. Independent suspension, used on almost all modern passenger vehicles, generally provides a smoother ride and better on-road handling than a single solid axle. It still has a solid axle in the back though, like most pickup trucks, a design suited to hard use. Like the Wrangler, both the two- and four-door Bronco will have a removable roofs and doors. Buyers will be able to choose either a hard roof that can be removed in sections, a cloth top, or both. Unlike the Wrangler, though, the Bronco's doors will fit inside the vehicle after being removed. The Bronco will be available with a choice of either a 10-speed automatic or seven-speed manual transmission. (The manual transmission will have six gears for ordinary driving, plus a seventh for low speed off-road driving.) It will be powered by either a 270-horsepower 2.3-liter turbocharged 4-cylinder engine or a 310-horsepower 2.7-liter turbocharged V6. While all of the new Bronco SUVs are designed for hard off-road use, the Bronco Sport isn't quite as hard-core in its capabilities. It also has more convenience features than the more truck-like Bronco. While it's based on engineering that's similar to car-like crossover SUVs, Ford says that it's still intended for serious off-road use. Ford engineers boasted of the off-road testing the prototypes have been put through, including driving through deep sand, up steep inclines and crawling across boulder-strewn trails.’’’\n",
        "Perform the following task on the above sentences:\n",
        "1. Replace special characters with empty spaces. You can use regex or any other method\n",
        "2. Remove multiple empty spaces and replace them by a single space\n",
        "3. Remove any single character\n",
        "4. Convert the text to all lower case\n",
        "5. Split the text to individual words\n",
        "6. Remove stopwords\n",
        "7. Tokenize, stem, and lemmatize the text\n",
        "6. What is the overall sentiment and subjectivity of the text"
      ]
    },
    {
      "cell_type": "code",
      "metadata": {
        "id": "FqVx-5Zqmby0"
      },
      "source": [
        "import re"
      ],
      "execution_count": 47,
      "outputs": []
    },
    {
      "cell_type": "code",
      "metadata": {
        "id": "6RqcoV24iKqS"
      },
      "source": [
        "sentence = \"The   larger Broncos will be available with 35-inch off-road tires and will be able to drive through water nearly 3 feet, 10 inches deep. It has independent front suspension, unlike its main competitor, the Jeep Wrangler. Independent suspension, used on almost all modern passenger vehicles, generally provides a smoother ride and better on-road handling than a single solid axle. It still has a solid axle in the back though, like most pickup trucks, a design suited to hard use. Like the Wrangler, both the two- and four-door Bronco will have a removable roofs and doors. Buyers will be able to choose either a hard roof that can be removed in sections, a cloth top, or both. Unlike the Wrangler, though, the Bronco's doors will fit inside the vehicle after being removed. The Bronco will be available with a choice of either a 10-speed automatic or seven-speed manual transmission. (The manual transmission will have six gears for ordinary driving, plus a seventh for low speed off-road driving.) It will be powered by either a 270-horsepower 2.3-liter turbocharged 4-cylinder engine or a 310-horsepower 2.7-liter turbocharged V6. While all of the new Bronco SUVs are designed for hard off-road use, the Bronco Sport isn't quite as hard-core in its capabilities. It also has more convenience features than the more truck-like Bronco. While it's based on engineering that's similar to car-like crossover SUVs, Ford says that it's still intended for serious off-road use. Ford engineers boasted of the off-road testing the prototypes have been put through, including driving through deep sand, up steep inclines and crawling across boulder-strewn trails.\""
      ],
      "execution_count": 55,
      "outputs": []
    },
    {
      "cell_type": "code",
      "metadata": {
        "id": "YjhPy5D-iWrE",
        "outputId": "2dccaade-d3e5-4b70-a700-c8cf903e48e2",
        "colab": {
          "base_uri": "https://localhost:8080/",
          "height": 120
        }
      },
      "source": [
        "sentence"
      ],
      "execution_count": 56,
      "outputs": [
        {
          "output_type": "execute_result",
          "data": {
            "application/vnd.google.colaboratory.intrinsic+json": {
              "type": "string"
            },
            "text/plain": [
              "\"The   larger Broncos will be available with 35-inch off-road tires and will be able to drive through water nearly 3 feet, 10 inches deep. It has independent front suspension, unlike its main competitor, the Jeep Wrangler. Independent suspension, used on almost all modern passenger vehicles, generally provides a smoother ride and better on-road handling than a single solid axle. It still has a solid axle in the back though, like most pickup trucks, a design suited to hard use. Like the Wrangler, both the two- and four-door Bronco will have a removable roofs and doors. Buyers will be able to choose either a hard roof that can be removed in sections, a cloth top, or both. Unlike the Wrangler, though, the Bronco's doors will fit inside the vehicle after being removed. The Bronco will be available with a choice of either a 10-speed automatic or seven-speed manual transmission. (The manual transmission will have six gears for ordinary driving, plus a seventh for low speed off-road driving.) It will be powered by either a 270-horsepower 2.3-liter turbocharged 4-cylinder engine or a 310-horsepower 2.7-liter turbocharged V6. While all of the new Bronco SUVs are designed for hard off-road use, the Bronco Sport isn't quite as hard-core in its capabilities. It also has more convenience features than the more truck-like Bronco. While it's based on engineering that's similar to car-like crossover SUVs, Ford says that it's still intended for serious off-road use. Ford engineers boasted of the off-road testing the prototypes have been put through, including driving through deep sand, up steep inclines and crawling across boulder-strewn trails.\""
            ]
          },
          "metadata": {
            "tags": []
          },
          "execution_count": 56
        }
      ]
    },
    {
      "cell_type": "code",
      "metadata": {
        "id": "9kLWQaqVlaC-",
        "outputId": "7cee800c-1a9c-4831-a361-8826c0fa4370",
        "colab": {
          "base_uri": "https://localhost:8080/",
          "height": 120
        }
      },
      "source": [
        "remove_Sent = re.sub('[^A-Za-z0-9]+', ' ', sentence)\n",
        "remove_Sent"
      ],
      "execution_count": 57,
      "outputs": [
        {
          "output_type": "execute_result",
          "data": {
            "application/vnd.google.colaboratory.intrinsic+json": {
              "type": "string"
            },
            "text/plain": [
              "'The larger Broncos will be available with 35 inch off road tires and will be able to drive through water nearly 3 feet 10 inches deep It has independent front suspension unlike its main competitor the Jeep Wrangler Independent suspension used on almost all modern passenger vehicles generally provides a smoother ride and better on road handling than a single solid axle It still has a solid axle in the back though like most pickup trucks a design suited to hard use Like the Wrangler both the two and four door Bronco will have a removable roofs and doors Buyers will be able to choose either a hard roof that can be removed in sections a cloth top or both Unlike the Wrangler though the Bronco s doors will fit inside the vehicle after being removed The Bronco will be available with a choice of either a 10 speed automatic or seven speed manual transmission The manual transmission will have six gears for ordinary driving plus a seventh for low speed off road driving It will be powered by either a 270 horsepower 2 3 liter turbocharged 4 cylinder engine or a 310 horsepower 2 7 liter turbocharged V6 While all of the new Bronco SUVs are designed for hard off road use the Bronco Sport isn t quite as hard core in its capabilities It also has more convenience features than the more truck like Bronco While it s based on engineering that s similar to car like crossover SUVs Ford says that it s still intended for serious off road use Ford engineers boasted of the off road testing the prototypes have been put through including driving through deep sand up steep inclines and crawling across boulder strewn trails '"
            ]
          },
          "metadata": {
            "tags": []
          },
          "execution_count": 57
        }
      ]
    },
    {
      "cell_type": "code",
      "metadata": {
        "id": "axothMPgmaPy",
        "outputId": "5a52e38b-35b0-4b56-fb64-e7e09f9811b6",
        "colab": {
          "base_uri": "https://localhost:8080/",
          "height": 170
        }
      },
      "source": [
        "mult = re.sub(\"\\s\\s+\", \" \", remove_Sent)\n",
        "mult"
      ],
      "execution_count": 58,
      "outputs": [
        {
          "output_type": "execute_result",
          "data": {
            "application/vnd.google.colaboratory.intrinsic+json": {
              "type": "string"
            },
            "text/plain": [
              "'The larger Broncos will be available with 35 inch off road tires and will be able to drive through water nearly 3 feet 10 inches deep It has independent front suspension unlike its main competitor the Jeep Wrangler Independent suspension used on almost all modern passenger vehicles generally provides a smoother ride and better on road handling than a single solid axle It still has a solid axle in the back though like most pickup trucks a design suited to hard use Like the Wrangler both the two and four door Bronco will have a removable roofs and doors Buyers will be able to choose either a hard roof that can be removed in sections a cloth top or both Unlike the Wrangler though the Bronco s doors will fit inside the vehicle after being removed The Bronco will be available with a choice of either a 10 speed automatic or seven speed manual transmission The manual transmission will have six gears for ordinary driving plus a seventh for low speed off road driving It will be powered by either a 270 horsepower 2 3 liter turbocharged 4 cylinder engine or a 310 horsepower 2 7 liter turbocharged V6 While all of the new Bronco SUVs are designed for hard off road use the Bronco Sport isn t quite as hard core in its capabilities It also has more convenience features than the more truck like Bronco While it s based on engineering that s similar to car like crossover SUVs Ford says that it s still intended for serious off road use Ford engineers boasted of the off road testing the prototypes have been put through including driving through deep sand up steep inclines and crawling across boulder strewn trails '"
            ]
          },
          "metadata": {
            "tags": []
          },
          "execution_count": 58
        }
      ]
    },
    {
      "cell_type": "code",
      "metadata": {
        "id": "OwAYCzBYnBq1",
        "outputId": "32384f03-558d-4369-baeb-4a8031b4a8e6",
        "colab": {
          "base_uri": "https://localhost:8080/",
          "height": 170
        }
      },
      "source": [
        "s2 = re.sub('(\\\\b[A-Za-z] \\\\b|\\\\b [A-Za-z]\\\\b)', '', mult)    \n",
        "s2"
      ],
      "execution_count": 60,
      "outputs": [
        {
          "output_type": "execute_result",
          "data": {
            "application/vnd.google.colaboratory.intrinsic+json": {
              "type": "string"
            },
            "text/plain": [
              "'The larger Broncos will be available with 35 inch off road tires and will be able to drive through water nearly 3 feet 10 inches deep It has independent front suspension unlike its main competitor the Jeep Wrangler Independent suspension used on almost all modern passenger vehicles generally provides smoother ride and better on road handling than single solid axle It still has solid axle in the back though like most pickup trucks design suited to hard use Like the Wrangler both the two and four door Bronco will have removable roofs and doors Buyers will be able to choose either hard roof that can be removed in sections cloth top or both Unlike the Wrangler though the Bronco doors will fit inside the vehicle after being removed The Bronco will be available with choice of either 10 speed automatic or seven speed manual transmission The manual transmission will have six gears for ordinary driving plus seventh for low speed off road driving It will be powered by either 270 horsepower 2 3 liter turbocharged 4 cylinder engine or 310 horsepower 2 7 liter turbocharged V6 While all of the new Bronco SUVs are designed for hard off road use the Bronco Sport isn quite as hard core in its capabilities It also has more convenience features than the more truck like Bronco While it based on engineering that similar to car like crossover SUVs Ford says that it still intended for serious off road use Ford engineers boasted of the off road testing the prototypes have been put through including driving through deep sand up steep inclines and crawling across boulder strewn trails '"
            ]
          },
          "metadata": {
            "tags": []
          },
          "execution_count": 60
        }
      ]
    },
    {
      "cell_type": "code",
      "metadata": {
        "id": "FFDbQDzwnZH4"
      },
      "source": [
        "s3= s2.lower()"
      ],
      "execution_count": 61,
      "outputs": []
    },
    {
      "cell_type": "code",
      "metadata": {
        "id": "bE9KT_Sfnxbu",
        "outputId": "a88ab9c8-dafe-4760-e4e6-b7f92a1a8a89",
        "colab": {
          "base_uri": "https://localhost:8080/",
          "height": 120
        }
      },
      "source": [
        "s3"
      ],
      "execution_count": 62,
      "outputs": [
        {
          "output_type": "execute_result",
          "data": {
            "application/vnd.google.colaboratory.intrinsic+json": {
              "type": "string"
            },
            "text/plain": [
              "'the larger broncos will be available with 35 inch off road tires and will be able to drive through water nearly 3 feet 10 inches deep it has independent front suspension unlike its main competitor the jeep wrangler independent suspension used on almost all modern passenger vehicles generally provides smoother ride and better on road handling than single solid axle it still has solid axle in the back though like most pickup trucks design suited to hard use like the wrangler both the two and four door bronco will have removable roofs and doors buyers will be able to choose either hard roof that can be removed in sections cloth top or both unlike the wrangler though the bronco doors will fit inside the vehicle after being removed the bronco will be available with choice of either 10 speed automatic or seven speed manual transmission the manual transmission will have six gears for ordinary driving plus seventh for low speed off road driving it will be powered by either 270 horsepower 2 3 liter turbocharged 4 cylinder engine or 310 horsepower 2 7 liter turbocharged v6 while all of the new bronco suvs are designed for hard off road use the bronco sport isn quite as hard core in its capabilities it also has more convenience features than the more truck like bronco while it based on engineering that similar to car like crossover suvs ford says that it still intended for serious off road use ford engineers boasted of the off road testing the prototypes have been put through including driving through deep sand up steep inclines and crawling across boulder strewn trails '"
            ]
          },
          "metadata": {
            "tags": []
          },
          "execution_count": 62
        }
      ]
    },
    {
      "cell_type": "code",
      "metadata": {
        "id": "THJZRzHEnx-L"
      },
      "source": [
        "s4 = s3.split(\" \")"
      ],
      "execution_count": 63,
      "outputs": []
    },
    {
      "cell_type": "code",
      "metadata": {
        "id": "pNeh4RP_n4Dp"
      },
      "source": [
        "s4"
      ],
      "execution_count": null,
      "outputs": []
    },
    {
      "cell_type": "code",
      "metadata": {
        "id": "iZ0t10m3n4m5",
        "outputId": "a2e4473c-1d62-4ba7-b52c-18fb9edb1fd5",
        "colab": {
          "base_uri": "https://localhost:8080/",
          "height": 67
        }
      },
      "source": [
        "import nltk\n",
        "from nltk.corpus import stopwords\n",
        "nltk.download('stopwords')"
      ],
      "execution_count": 70,
      "outputs": [
        {
          "output_type": "stream",
          "text": [
            "[nltk_data] Downloading package stopwords to /root/nltk_data...\n",
            "[nltk_data]   Unzipping corpora/stopwords.zip.\n"
          ],
          "name": "stdout"
        },
        {
          "output_type": "execute_result",
          "data": {
            "text/plain": [
              "True"
            ]
          },
          "metadata": {
            "tags": []
          },
          "execution_count": 70
        }
      ]
    },
    {
      "cell_type": "code",
      "metadata": {
        "id": "eqrVhOFVoHIz"
      },
      "source": [
        "stop_words= set(stopwords.words(\"english\"))"
      ],
      "execution_count": 72,
      "outputs": []
    },
    {
      "cell_type": "code",
      "metadata": {
        "id": "D8zmsqCooSiJ"
      },
      "source": [
        "stop_words"
      ],
      "execution_count": null,
      "outputs": []
    },
    {
      "cell_type": "code",
      "metadata": {
        "id": "p7JChw04olGi"
      },
      "source": [
        "words=[]\n",
        "for w in s4:\n",
        "  if w in stop_words:\n",
        "    w.replace(w,'')\n",
        "  else :\n",
        "    print (w)\n",
        "    words.append(w)"
      ],
      "execution_count": null,
      "outputs": []
    },
    {
      "cell_type": "code",
      "metadata": {
        "id": "kzbdfCnepHUW"
      },
      "source": [
        "words"
      ],
      "execution_count": null,
      "outputs": []
    },
    {
      "cell_type": "code",
      "metadata": {
        "id": "vSsAkcDvqq7b"
      },
      "source": [
        "filtered_words = [word for word in s4 if word not in stop_words]"
      ],
      "execution_count": 82,
      "outputs": []
    },
    {
      "cell_type": "code",
      "metadata": {
        "id": "o_OzzpAcrMOK",
        "outputId": "7ce873ab-c986-484e-a1bf-bf5bfb0149cc",
        "colab": {
          "base_uri": "https://localhost:8080/",
          "height": 1000
        }
      },
      "source": [
        "filtered_words"
      ],
      "execution_count": 84,
      "outputs": [
        {
          "output_type": "execute_result",
          "data": {
            "text/plain": [
              "['larger',\n",
              " 'broncos',\n",
              " 'available',\n",
              " '35',\n",
              " 'inch',\n",
              " 'road',\n",
              " 'tires',\n",
              " 'able',\n",
              " 'drive',\n",
              " 'water',\n",
              " 'nearly',\n",
              " '3',\n",
              " 'feet',\n",
              " '10',\n",
              " 'inches',\n",
              " 'deep',\n",
              " 'independent',\n",
              " 'front',\n",
              " 'suspension',\n",
              " 'unlike',\n",
              " 'main',\n",
              " 'competitor',\n",
              " 'jeep',\n",
              " 'wrangler',\n",
              " 'independent',\n",
              " 'suspension',\n",
              " 'used',\n",
              " 'almost',\n",
              " 'modern',\n",
              " 'passenger',\n",
              " 'vehicles',\n",
              " 'generally',\n",
              " 'provides',\n",
              " 'smoother',\n",
              " 'ride',\n",
              " 'better',\n",
              " 'road',\n",
              " 'handling',\n",
              " 'single',\n",
              " 'solid',\n",
              " 'axle',\n",
              " 'still',\n",
              " 'solid',\n",
              " 'axle',\n",
              " 'back',\n",
              " 'though',\n",
              " 'like',\n",
              " 'pickup',\n",
              " 'trucks',\n",
              " 'design',\n",
              " 'suited',\n",
              " 'hard',\n",
              " 'use',\n",
              " 'like',\n",
              " 'wrangler',\n",
              " 'two',\n",
              " 'four',\n",
              " 'door',\n",
              " 'bronco',\n",
              " 'removable',\n",
              " 'roofs',\n",
              " 'doors',\n",
              " 'buyers',\n",
              " 'able',\n",
              " 'choose',\n",
              " 'either',\n",
              " 'hard',\n",
              " 'roof',\n",
              " 'removed',\n",
              " 'sections',\n",
              " 'cloth',\n",
              " 'top',\n",
              " 'unlike',\n",
              " 'wrangler',\n",
              " 'though',\n",
              " 'bronco',\n",
              " 'doors',\n",
              " 'fit',\n",
              " 'inside',\n",
              " 'vehicle',\n",
              " 'removed',\n",
              " 'bronco',\n",
              " 'available',\n",
              " 'choice',\n",
              " 'either',\n",
              " '10',\n",
              " 'speed',\n",
              " 'automatic',\n",
              " 'seven',\n",
              " 'speed',\n",
              " 'manual',\n",
              " 'transmission',\n",
              " 'manual',\n",
              " 'transmission',\n",
              " 'six',\n",
              " 'gears',\n",
              " 'ordinary',\n",
              " 'driving',\n",
              " 'plus',\n",
              " 'seventh',\n",
              " 'low',\n",
              " 'speed',\n",
              " 'road',\n",
              " 'driving',\n",
              " 'powered',\n",
              " 'either',\n",
              " '270',\n",
              " 'horsepower',\n",
              " '2',\n",
              " '3',\n",
              " 'liter',\n",
              " 'turbocharged',\n",
              " '4',\n",
              " 'cylinder',\n",
              " 'engine',\n",
              " '310',\n",
              " 'horsepower',\n",
              " '2',\n",
              " '7',\n",
              " 'liter',\n",
              " 'turbocharged',\n",
              " 'v6',\n",
              " 'new',\n",
              " 'bronco',\n",
              " 'suvs',\n",
              " 'designed',\n",
              " 'hard',\n",
              " 'road',\n",
              " 'use',\n",
              " 'bronco',\n",
              " 'sport',\n",
              " 'quite',\n",
              " 'hard',\n",
              " 'core',\n",
              " 'capabilities',\n",
              " 'also',\n",
              " 'convenience',\n",
              " 'features',\n",
              " 'truck',\n",
              " 'like',\n",
              " 'bronco',\n",
              " 'based',\n",
              " 'engineering',\n",
              " 'similar',\n",
              " 'car',\n",
              " 'like',\n",
              " 'crossover',\n",
              " 'suvs',\n",
              " 'ford',\n",
              " 'says',\n",
              " 'still',\n",
              " 'intended',\n",
              " 'serious',\n",
              " 'road',\n",
              " 'use',\n",
              " 'ford',\n",
              " 'engineers',\n",
              " 'boasted',\n",
              " 'road',\n",
              " 'testing',\n",
              " 'prototypes',\n",
              " 'put',\n",
              " 'including',\n",
              " 'driving',\n",
              " 'deep',\n",
              " 'sand',\n",
              " 'steep',\n",
              " 'inclines',\n",
              " 'crawling',\n",
              " 'across',\n",
              " 'boulder',\n",
              " 'strewn',\n",
              " 'trails',\n",
              " '']"
            ]
          },
          "metadata": {
            "tags": []
          },
          "execution_count": 84
        }
      ]
    },
    {
      "cell_type": "code",
      "metadata": {
        "id": "S8GaQVg0rNrW",
        "outputId": "862db757-dbe6-4205-bce5-1532babeb29c",
        "colab": {
          "base_uri": "https://localhost:8080/",
          "height": 34
        }
      },
      "source": [
        "type(filtered_words)"
      ],
      "execution_count": 85,
      "outputs": [
        {
          "output_type": "execute_result",
          "data": {
            "text/plain": [
              "list"
            ]
          },
          "metadata": {
            "tags": []
          },
          "execution_count": 85
        }
      ]
    },
    {
      "cell_type": "code",
      "metadata": {
        "id": "AeZCxWJNtOsL",
        "outputId": "fee5169e-7a89-4619-b501-f0d2f1c51e25",
        "colab": {
          "base_uri": "https://localhost:8080/",
          "height": 67
        }
      },
      "source": [
        "nltk.download('punkt')"
      ],
      "execution_count": 88,
      "outputs": [
        {
          "output_type": "stream",
          "text": [
            "[nltk_data] Downloading package punkt to /root/nltk_data...\n",
            "[nltk_data]   Unzipping tokenizers/punkt.zip.\n"
          ],
          "name": "stdout"
        },
        {
          "output_type": "execute_result",
          "data": {
            "text/plain": [
              "True"
            ]
          },
          "metadata": {
            "tags": []
          },
          "execution_count": 88
        }
      ]
    },
    {
      "cell_type": "code",
      "metadata": {
        "id": "C_0Dw-nrsx8i",
        "outputId": "f6be5508-7804-4837-d2eb-140eaeccdd51",
        "colab": {
          "base_uri": "https://localhost:8080/",
          "height": 1000
        }
      },
      "source": [
        "from nltk.tokenize import word_tokenize\n",
        "# Passing the string text into word tokenize for breaking the sentences\n",
        "token = word_tokenize(s3)\n",
        "token"
      ],
      "execution_count": 93,
      "outputs": [
        {
          "output_type": "execute_result",
          "data": {
            "text/plain": [
              "['the',\n",
              " 'larger',\n",
              " 'broncos',\n",
              " 'will',\n",
              " 'be',\n",
              " 'available',\n",
              " 'with',\n",
              " '35',\n",
              " 'inch',\n",
              " 'off',\n",
              " 'road',\n",
              " 'tires',\n",
              " 'and',\n",
              " 'will',\n",
              " 'be',\n",
              " 'able',\n",
              " 'to',\n",
              " 'drive',\n",
              " 'through',\n",
              " 'water',\n",
              " 'nearly',\n",
              " '3',\n",
              " 'feet',\n",
              " '10',\n",
              " 'inches',\n",
              " 'deep',\n",
              " 'it',\n",
              " 'has',\n",
              " 'independent',\n",
              " 'front',\n",
              " 'suspension',\n",
              " 'unlike',\n",
              " 'its',\n",
              " 'main',\n",
              " 'competitor',\n",
              " 'the',\n",
              " 'jeep',\n",
              " 'wrangler',\n",
              " 'independent',\n",
              " 'suspension',\n",
              " 'used',\n",
              " 'on',\n",
              " 'almost',\n",
              " 'all',\n",
              " 'modern',\n",
              " 'passenger',\n",
              " 'vehicles',\n",
              " 'generally',\n",
              " 'provides',\n",
              " 'smoother',\n",
              " 'ride',\n",
              " 'and',\n",
              " 'better',\n",
              " 'on',\n",
              " 'road',\n",
              " 'handling',\n",
              " 'than',\n",
              " 'single',\n",
              " 'solid',\n",
              " 'axle',\n",
              " 'it',\n",
              " 'still',\n",
              " 'has',\n",
              " 'solid',\n",
              " 'axle',\n",
              " 'in',\n",
              " 'the',\n",
              " 'back',\n",
              " 'though',\n",
              " 'like',\n",
              " 'most',\n",
              " 'pickup',\n",
              " 'trucks',\n",
              " 'design',\n",
              " 'suited',\n",
              " 'to',\n",
              " 'hard',\n",
              " 'use',\n",
              " 'like',\n",
              " 'the',\n",
              " 'wrangler',\n",
              " 'both',\n",
              " 'the',\n",
              " 'two',\n",
              " 'and',\n",
              " 'four',\n",
              " 'door',\n",
              " 'bronco',\n",
              " 'will',\n",
              " 'have',\n",
              " 'removable',\n",
              " 'roofs',\n",
              " 'and',\n",
              " 'doors',\n",
              " 'buyers',\n",
              " 'will',\n",
              " 'be',\n",
              " 'able',\n",
              " 'to',\n",
              " 'choose',\n",
              " 'either',\n",
              " 'hard',\n",
              " 'roof',\n",
              " 'that',\n",
              " 'can',\n",
              " 'be',\n",
              " 'removed',\n",
              " 'in',\n",
              " 'sections',\n",
              " 'cloth',\n",
              " 'top',\n",
              " 'or',\n",
              " 'both',\n",
              " 'unlike',\n",
              " 'the',\n",
              " 'wrangler',\n",
              " 'though',\n",
              " 'the',\n",
              " 'bronco',\n",
              " 'doors',\n",
              " 'will',\n",
              " 'fit',\n",
              " 'inside',\n",
              " 'the',\n",
              " 'vehicle',\n",
              " 'after',\n",
              " 'being',\n",
              " 'removed',\n",
              " 'the',\n",
              " 'bronco',\n",
              " 'will',\n",
              " 'be',\n",
              " 'available',\n",
              " 'with',\n",
              " 'choice',\n",
              " 'of',\n",
              " 'either',\n",
              " '10',\n",
              " 'speed',\n",
              " 'automatic',\n",
              " 'or',\n",
              " 'seven',\n",
              " 'speed',\n",
              " 'manual',\n",
              " 'transmission',\n",
              " 'the',\n",
              " 'manual',\n",
              " 'transmission',\n",
              " 'will',\n",
              " 'have',\n",
              " 'six',\n",
              " 'gears',\n",
              " 'for',\n",
              " 'ordinary',\n",
              " 'driving',\n",
              " 'plus',\n",
              " 'seventh',\n",
              " 'for',\n",
              " 'low',\n",
              " 'speed',\n",
              " 'off',\n",
              " 'road',\n",
              " 'driving',\n",
              " 'it',\n",
              " 'will',\n",
              " 'be',\n",
              " 'powered',\n",
              " 'by',\n",
              " 'either',\n",
              " '270',\n",
              " 'horsepower',\n",
              " '2',\n",
              " '3',\n",
              " 'liter',\n",
              " 'turbocharged',\n",
              " '4',\n",
              " 'cylinder',\n",
              " 'engine',\n",
              " 'or',\n",
              " '310',\n",
              " 'horsepower',\n",
              " '2',\n",
              " '7',\n",
              " 'liter',\n",
              " 'turbocharged',\n",
              " 'v6',\n",
              " 'while',\n",
              " 'all',\n",
              " 'of',\n",
              " 'the',\n",
              " 'new',\n",
              " 'bronco',\n",
              " 'suvs',\n",
              " 'are',\n",
              " 'designed',\n",
              " 'for',\n",
              " 'hard',\n",
              " 'off',\n",
              " 'road',\n",
              " 'use',\n",
              " 'the',\n",
              " 'bronco',\n",
              " 'sport',\n",
              " 'isn',\n",
              " 'quite',\n",
              " 'as',\n",
              " 'hard',\n",
              " 'core',\n",
              " 'in',\n",
              " 'its',\n",
              " 'capabilities',\n",
              " 'it',\n",
              " 'also',\n",
              " 'has',\n",
              " 'more',\n",
              " 'convenience',\n",
              " 'features',\n",
              " 'than',\n",
              " 'the',\n",
              " 'more',\n",
              " 'truck',\n",
              " 'like',\n",
              " 'bronco',\n",
              " 'while',\n",
              " 'it',\n",
              " 'based',\n",
              " 'on',\n",
              " 'engineering',\n",
              " 'that',\n",
              " 'similar',\n",
              " 'to',\n",
              " 'car',\n",
              " 'like',\n",
              " 'crossover',\n",
              " 'suvs',\n",
              " 'ford',\n",
              " 'says',\n",
              " 'that',\n",
              " 'it',\n",
              " 'still',\n",
              " 'intended',\n",
              " 'for',\n",
              " 'serious',\n",
              " 'off',\n",
              " 'road',\n",
              " 'use',\n",
              " 'ford',\n",
              " 'engineers',\n",
              " 'boasted',\n",
              " 'of',\n",
              " 'the',\n",
              " 'off',\n",
              " 'road',\n",
              " 'testing',\n",
              " 'the',\n",
              " 'prototypes',\n",
              " 'have',\n",
              " 'been',\n",
              " 'put',\n",
              " 'through',\n",
              " 'including',\n",
              " 'driving',\n",
              " 'through',\n",
              " 'deep',\n",
              " 'sand',\n",
              " 'up',\n",
              " 'steep',\n",
              " 'inclines',\n",
              " 'and',\n",
              " 'crawling',\n",
              " 'across',\n",
              " 'boulder',\n",
              " 'strewn',\n",
              " 'trails']"
            ]
          },
          "metadata": {
            "tags": []
          },
          "execution_count": 93
        }
      ]
    },
    {
      "cell_type": "code",
      "metadata": {
        "id": "Zzmkx9IztI-x",
        "outputId": "26ab3ac8-a8d5-490c-efee-6b57d9c92d36",
        "colab": {
          "base_uri": "https://localhost:8080/",
          "height": 34
        }
      },
      "source": [
        "type(token)"
      ],
      "execution_count": 90,
      "outputs": [
        {
          "output_type": "execute_result",
          "data": {
            "text/plain": [
              "list"
            ]
          },
          "metadata": {
            "tags": []
          },
          "execution_count": 90
        }
      ]
    },
    {
      "cell_type": "code",
      "metadata": {
        "id": "mUDhZv3TtSeE"
      },
      "source": [
        "filtered_words = [word for word in token if word not in stop_words]"
      ],
      "execution_count": 91,
      "outputs": []
    },
    {
      "cell_type": "code",
      "metadata": {
        "id": "itvUabHPtb3L"
      },
      "source": [
        "filtered_words"
      ],
      "execution_count": null,
      "outputs": []
    },
    {
      "cell_type": "code",
      "metadata": {
        "id": "s7u4FfACtc6n",
        "outputId": "e8f5c7e2-53b2-43f3-e35b-cb4c570e504c",
        "colab": {
          "base_uri": "https://localhost:8080/",
          "height": 34
        }
      },
      "source": [
        "#Importing Porterstemmer from nltk library\n",
        "# Checking for the word ‘giving’\n",
        "from nltk.stem import PorterStemmer\n",
        "pst = PorterStemmer()\n",
        "pst"
      ],
      "execution_count": 102,
      "outputs": [
        {
          "output_type": "execute_result",
          "data": {
            "text/plain": [
              "<PorterStemmer>"
            ]
          },
          "metadata": {
            "tags": []
          },
          "execution_count": 102
        }
      ]
    },
    {
      "cell_type": "code",
      "metadata": {
        "id": "q6x9mqw6tvn4",
        "outputId": "0ef650e7-2d3c-4801-d903-5aa7541a4419",
        "colab": {
          "base_uri": "https://localhost:8080/",
          "height": 170
        }
      },
      "source": [
        "clean_text=pst.stem(s3)\n",
        "clean_text"
      ],
      "execution_count": 103,
      "outputs": [
        {
          "output_type": "execute_result",
          "data": {
            "application/vnd.google.colaboratory.intrinsic+json": {
              "type": "string"
            },
            "text/plain": [
              "'the larger broncos will be available with 35 inch off road tires and will be able to drive through water nearly 3 feet 10 inches deep it has independent front suspension unlike its main competitor the jeep wrangler independent suspension used on almost all modern passenger vehicles generally provides smoother ride and better on road handling than single solid axle it still has solid axle in the back though like most pickup trucks design suited to hard use like the wrangler both the two and four door bronco will have removable roofs and doors buyers will be able to choose either hard roof that can be removed in sections cloth top or both unlike the wrangler though the bronco doors will fit inside the vehicle after being removed the bronco will be available with choice of either 10 speed automatic or seven speed manual transmission the manual transmission will have six gears for ordinary driving plus seventh for low speed off road driving it will be powered by either 270 horsepower 2 3 liter turbocharged 4 cylinder engine or 310 horsepower 2 7 liter turbocharged v6 while all of the new bronco suvs are designed for hard off road use the bronco sport isn quite as hard core in its capabilities it also has more convenience features than the more truck like bronco while it based on engineering that similar to car like crossover suvs ford says that it still intended for serious off road use ford engineers boasted of the off road testing the prototypes have been put through including driving through deep sand up steep inclines and crawling across boulder strewn trails '"
            ]
          },
          "metadata": {
            "tags": []
          },
          "execution_count": 103
        }
      ]
    },
    {
      "cell_type": "code",
      "metadata": {
        "id": "IiS7Nt68t3J3",
        "outputId": "bf85381f-366a-48ee-b4e5-a58aace2ded2",
        "colab": {
          "base_uri": "https://localhost:8080/",
          "height": 120
        }
      },
      "source": [
        "s3"
      ],
      "execution_count": 100,
      "outputs": [
        {
          "output_type": "execute_result",
          "data": {
            "application/vnd.google.colaboratory.intrinsic+json": {
              "type": "string"
            },
            "text/plain": [
              "'the larger broncos will be available with 35 inch off road tires and will be able to drive through water nearly 3 feet 10 inches deep it has independent front suspension unlike its main competitor the jeep wrangler independent suspension used on almost all modern passenger vehicles generally provides smoother ride and better on road handling than single solid axle it still has solid axle in the back though like most pickup trucks design suited to hard use like the wrangler both the two and four door bronco will have removable roofs and doors buyers will be able to choose either hard roof that can be removed in sections cloth top or both unlike the wrangler though the bronco doors will fit inside the vehicle after being removed the bronco will be available with choice of either 10 speed automatic or seven speed manual transmission the manual transmission will have six gears for ordinary driving plus seventh for low speed off road driving it will be powered by either 270 horsepower 2 3 liter turbocharged 4 cylinder engine or 310 horsepower 2 7 liter turbocharged v6 while all of the new bronco suvs are designed for hard off road use the bronco sport isn quite as hard core in its capabilities it also has more convenience features than the more truck like bronco while it based on engineering that similar to car like crossover suvs ford says that it still intended for serious off road use ford engineers boasted of the off road testing the prototypes have been put through including driving through deep sand up steep inclines and crawling across boulder strewn trails '"
            ]
          },
          "metadata": {
            "tags": []
          },
          "execution_count": 100
        }
      ]
    },
    {
      "cell_type": "code",
      "metadata": {
        "id": "ukV3rqFcuPVe",
        "outputId": "44046d82-6eb0-4124-bd00-86076d95f8d1",
        "colab": {
          "base_uri": "https://localhost:8080/",
          "height": 1000
        }
      },
      "source": [
        "import nltk\n",
        "from nltk.stem import WordNetLemmatizer\n",
        "wordnet_lemmatizer = WordNetLemmatizer()\n",
        "punctuations=\"?:!.,;\"\n",
        "sentence_words = nltk.word_tokenize(clean_text)\n",
        "for word in sentence_words:\n",
        "  if word in punctuations:\n",
        "    sentence_words.remove(word)\n",
        "    \n",
        "sentence_words\n",
        "print(\"{0:20}{1:20}\".format(\"Word\",\"Lemma\"))\n",
        "for word in sentence_words:\n",
        "  print (\"{0:20}{1:20}\".format(word,wordnet_lemmatizer.lemmatize(word)))"
      ],
      "execution_count": 109,
      "outputs": [
        {
          "output_type": "stream",
          "text": [
            "Word                Lemma               \n",
            "the                 the                 \n",
            "larger              larger              \n",
            "broncos             bronco              \n",
            "will                will                \n",
            "be                  be                  \n",
            "available           available           \n",
            "with                with                \n",
            "35                  35                  \n",
            "inch                inch                \n",
            "off                 off                 \n",
            "road                road                \n",
            "tires               tire                \n",
            "and                 and                 \n",
            "will                will                \n",
            "be                  be                  \n",
            "able                able                \n",
            "to                  to                  \n",
            "drive               drive               \n",
            "through             through             \n",
            "water               water               \n",
            "nearly              nearly              \n",
            "3                   3                   \n",
            "feet                foot                \n",
            "10                  10                  \n",
            "inches              inch                \n",
            "deep                deep                \n",
            "it                  it                  \n",
            "has                 ha                  \n",
            "independent         independent         \n",
            "front               front               \n",
            "suspension          suspension          \n",
            "unlike              unlike              \n",
            "its                 it                  \n",
            "main                main                \n",
            "competitor          competitor          \n",
            "the                 the                 \n",
            "jeep                jeep                \n",
            "wrangler            wrangler            \n",
            "independent         independent         \n",
            "suspension          suspension          \n",
            "used                used                \n",
            "on                  on                  \n",
            "almost              almost              \n",
            "all                 all                 \n",
            "modern              modern              \n",
            "passenger           passenger           \n",
            "vehicles            vehicle             \n",
            "generally           generally           \n",
            "provides            provides            \n",
            "smoother            smoother            \n",
            "ride                ride                \n",
            "and                 and                 \n",
            "better              better              \n",
            "on                  on                  \n",
            "road                road                \n",
            "handling            handling            \n",
            "than                than                \n",
            "single              single              \n",
            "solid               solid               \n",
            "axle                axle                \n",
            "it                  it                  \n",
            "still               still               \n",
            "has                 ha                  \n",
            "solid               solid               \n",
            "axle                axle                \n",
            "in                  in                  \n",
            "the                 the                 \n",
            "back                back                \n",
            "though              though              \n",
            "like                like                \n",
            "most                most                \n",
            "pickup              pickup              \n",
            "trucks              truck               \n",
            "design              design              \n",
            "suited              suited              \n",
            "to                  to                  \n",
            "hard                hard                \n",
            "use                 use                 \n",
            "like                like                \n",
            "the                 the                 \n",
            "wrangler            wrangler            \n",
            "both                both                \n",
            "the                 the                 \n",
            "two                 two                 \n",
            "and                 and                 \n",
            "four                four                \n",
            "door                door                \n",
            "bronco              bronco              \n",
            "will                will                \n",
            "have                have                \n",
            "removable           removable           \n",
            "roofs               roof                \n",
            "and                 and                 \n",
            "doors               door                \n",
            "buyers              buyer               \n",
            "will                will                \n",
            "be                  be                  \n",
            "able                able                \n",
            "to                  to                  \n",
            "choose              choose              \n",
            "either              either              \n",
            "hard                hard                \n",
            "roof                roof                \n",
            "that                that                \n",
            "can                 can                 \n",
            "be                  be                  \n",
            "removed             removed             \n",
            "in                  in                  \n",
            "sections            section             \n",
            "cloth               cloth               \n",
            "top                 top                 \n",
            "or                  or                  \n",
            "both                both                \n",
            "unlike              unlike              \n",
            "the                 the                 \n",
            "wrangler            wrangler            \n",
            "though              though              \n",
            "the                 the                 \n",
            "bronco              bronco              \n",
            "doors               door                \n",
            "will                will                \n",
            "fit                 fit                 \n",
            "inside              inside              \n",
            "the                 the                 \n",
            "vehicle             vehicle             \n",
            "after               after               \n",
            "being               being               \n",
            "removed             removed             \n",
            "the                 the                 \n",
            "bronco              bronco              \n",
            "will                will                \n",
            "be                  be                  \n",
            "available           available           \n",
            "with                with                \n",
            "choice              choice              \n",
            "of                  of                  \n",
            "either              either              \n",
            "10                  10                  \n",
            "speed               speed               \n",
            "automatic           automatic           \n",
            "or                  or                  \n",
            "seven               seven               \n",
            "speed               speed               \n",
            "manual              manual              \n",
            "transmission        transmission        \n",
            "the                 the                 \n",
            "manual              manual              \n",
            "transmission        transmission        \n",
            "will                will                \n",
            "have                have                \n",
            "six                 six                 \n",
            "gears               gear                \n",
            "for                 for                 \n",
            "ordinary            ordinary            \n",
            "driving             driving             \n",
            "plus                plus                \n",
            "seventh             seventh             \n",
            "for                 for                 \n",
            "low                 low                 \n",
            "speed               speed               \n",
            "off                 off                 \n",
            "road                road                \n",
            "driving             driving             \n",
            "it                  it                  \n",
            "will                will                \n",
            "be                  be                  \n",
            "powered             powered             \n",
            "by                  by                  \n",
            "either              either              \n",
            "270                 270                 \n",
            "horsepower          horsepower          \n",
            "2                   2                   \n",
            "3                   3                   \n",
            "liter               liter               \n",
            "turbocharged        turbocharged        \n",
            "4                   4                   \n",
            "cylinder            cylinder            \n",
            "engine              engine              \n",
            "or                  or                  \n",
            "310                 310                 \n",
            "horsepower          horsepower          \n",
            "2                   2                   \n",
            "7                   7                   \n",
            "liter               liter               \n",
            "turbocharged        turbocharged        \n",
            "v6                  v6                  \n",
            "while               while               \n",
            "all                 all                 \n",
            "of                  of                  \n",
            "the                 the                 \n",
            "new                 new                 \n",
            "bronco              bronco              \n",
            "suvs                suv                 \n",
            "are                 are                 \n",
            "designed            designed            \n",
            "for                 for                 \n",
            "hard                hard                \n",
            "off                 off                 \n",
            "road                road                \n",
            "use                 use                 \n",
            "the                 the                 \n",
            "bronco              bronco              \n",
            "sport               sport               \n",
            "isn                 isn                 \n",
            "quite               quite               \n",
            "as                  a                   \n",
            "hard                hard                \n",
            "core                core                \n",
            "in                  in                  \n",
            "its                 it                  \n",
            "capabilities        capability          \n",
            "it                  it                  \n",
            "also                also                \n",
            "has                 ha                  \n",
            "more                more                \n",
            "convenience         convenience         \n",
            "features            feature             \n",
            "than                than                \n",
            "the                 the                 \n",
            "more                more                \n",
            "truck               truck               \n",
            "like                like                \n",
            "bronco              bronco              \n",
            "while               while               \n",
            "it                  it                  \n",
            "based               based               \n",
            "on                  on                  \n",
            "engineering         engineering         \n",
            "that                that                \n",
            "similar             similar             \n",
            "to                  to                  \n",
            "car                 car                 \n",
            "like                like                \n",
            "crossover           crossover           \n",
            "suvs                suv                 \n",
            "ford                ford                \n",
            "says                say                 \n",
            "that                that                \n",
            "it                  it                  \n",
            "still               still               \n",
            "intended            intended            \n",
            "for                 for                 \n",
            "serious             serious             \n",
            "off                 off                 \n",
            "road                road                \n",
            "use                 use                 \n",
            "ford                ford                \n",
            "engineers           engineer            \n",
            "boasted             boasted             \n",
            "of                  of                  \n",
            "the                 the                 \n",
            "off                 off                 \n",
            "road                road                \n",
            "testing             testing             \n",
            "the                 the                 \n",
            "prototypes          prototype           \n",
            "have                have                \n",
            "been                been                \n",
            "put                 put                 \n",
            "through             through             \n",
            "including           including           \n",
            "driving             driving             \n",
            "through             through             \n",
            "deep                deep                \n",
            "sand                sand                \n",
            "up                  up                  \n",
            "steep               steep               \n",
            "inclines            incline             \n",
            "and                 and                 \n",
            "crawling            crawling            \n",
            "across              across              \n",
            "boulder             boulder             \n",
            "strewn              strewn              \n",
            "trails              trail               \n"
          ],
          "name": "stdout"
        }
      ]
    },
    {
      "cell_type": "code",
      "metadata": {
        "id": "D-W9ucKju8cK",
        "outputId": "9ba1e030-3e66-4175-e2ca-2ce50648265c",
        "colab": {
          "base_uri": "https://localhost:8080/",
          "height": 67
        }
      },
      "source": [
        "nltk.download('wordnet')"
      ],
      "execution_count": 108,
      "outputs": [
        {
          "output_type": "stream",
          "text": [
            "[nltk_data] Downloading package wordnet to /root/nltk_data...\n",
            "[nltk_data]   Unzipping corpora/wordnet.zip.\n"
          ],
          "name": "stdout"
        },
        {
          "output_type": "execute_result",
          "data": {
            "text/plain": [
              "True"
            ]
          },
          "metadata": {
            "tags": []
          },
          "execution_count": 108
        }
      ]
    },
    {
      "cell_type": "code",
      "metadata": {
        "id": "EEI96m1Cvecu"
      },
      "source": [
        ""
      ],
      "execution_count": null,
      "outputs": []
    }
  ]
}