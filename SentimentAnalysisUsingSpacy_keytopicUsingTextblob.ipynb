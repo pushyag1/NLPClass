{
  "nbformat": 4,
  "nbformat_minor": 0,
  "metadata": {
    "colab": {
      "name": "NLP_Week7HW.ipynb",
      "provenance": [],
      "collapsed_sections": [],
      "authorship_tag": "ABX9TyMm6ba0q97Jeky+/tg1L9Sq",
      "include_colab_link": true
    },
    "kernelspec": {
      "name": "python3",
      "display_name": "Python 3"
    }
  },
  "cells": [
    {
      "cell_type": "markdown",
      "metadata": {
        "id": "view-in-github",
        "colab_type": "text"
      },
      "source": [
        "<a href=\"https://colab.research.google.com/github/pushyag1/NLPClass/blob/master/SentimentAnalysisUsingSpacy_keytopicUsingTextblob.ipynb\" target=\"_parent\"><img src=\"https://colab.research.google.com/assets/colab-badge.svg\" alt=\"Open In Colab\"/></a>"
      ]
    },
    {
      "cell_type": "markdown",
      "metadata": {
        "id": "4fOeEE2_Kxkc"
      },
      "source": [
        "# Exercise 1. Sentiment Analysis\n",
        "• Using textblob, what is the probability that the sentiment in the\n",
        "Burbank text is going to negative?\n"
      ]
    },
    {
      "cell_type": "code",
      "metadata": {
        "id": "ulO2S9W-K1a6"
      },
      "source": [
        "file=open('Burbank.txt','r',encoding='UTF-8')\n",
        "file1= file.read()"
      ],
      "execution_count": 1,
      "outputs": []
    },
    {
      "cell_type": "code",
      "metadata": {
        "id": "9rxkrXEqMQpU",
        "outputId": "45e3afd8-98a7-4b8a-d609-e6bc669b47ea",
        "colab": {
          "base_uri": "https://localhost:8080/",
          "height": 120
        }
      },
      "source": [
        "file1"
      ],
      "execution_count": 2,
      "outputs": [
        {
          "output_type": "execute_result",
          "data": {
            "application/vnd.google.colaboratory.intrinsic+json": {
              "type": "string"
            },
            "text/plain": [
              "'Airport task force to consider possible actions to abate noise issues Members of the Southern San Fernando Valley Airplane Noise Task Force will have a little over a month to develop recommendations about how to address aircraft noise issues affecting the south San Fernando Valley After five meetings and hearing from various neighborhood groups and experts, aviation consultant HMMH Inc., which has been the facilitator of the meetings, spent the majority of Wednesday night distilling all of the recommendations that have been brought forward so far and the feasibility of implementing them \\nHMMH worked with Kevin Karpe, an aviation expert who worked as an air traffic controller at Hollywood Burbank and the Federal Aviation Administration Southern California Terminal Radar Approach Control, to analyze the departing flight procedures out of the Burbank airfield as well as Van Nuys Airport, both of which are at the center of the noise issues \\nSince March 2017, residents in the south San Fernando Valley have complained about an increase in the number of planes flying overhead Many blame the FAA’s Next Generation Air Transportation System, or NextGen, which was implemented in Southern California in March 2017 The satellite-based navigation system was geared toward making flights across the country more fuel efficient and safe. However, NextGen became more of a nuisance than helpful for many people throughout the United States, according to news reports In the south San Fernando Valley, planes departing from Hollywood Burbank and Van Nuys have drifted south — from around the 101 Freeway to over Studio City and Sherman Oaks — before making northbound turns to head off to their destinations The FAA has stated in the past that NextGen did not change flight procedures out of the two airports, but HMMH and many residents from the region argue that something happened to cause the planes to make their northbound turns later rather than sooner Adam Scholten, a senior consultant with HMMH, said the workload of air traffic controllers in the Southern California TRACON, the air traffic control facility located in San Diego that is in charge of handling all of the flights in the region, may be contributing to the flight paths’ southern shift Scholten said the FAA often combines some of the six sectors of the Southern California TRACON — depending on whether there is less air traffic in one region and/or there are fewer air-traffic controllers available — a practice that can result in higher workloads “Part of the issues with combining sectors is that it can result in paying less attention to things such as standard operating procedures or other agreements that have been established,” Scholten said \\nThe recommended action to solve the issue, Scholten said, was for the FAA to review its resources at the Southern California TRACON and study how to manage the workload among the air-traffic controllers more efficiently The study conducted by Karpe and his consulting firm Diverse Vector Aviation Consulting LLC also found that air-traffic controllers did not always stick to the standard operating procedures for departing flights out of Hollywood Burbank and Van Nuys, which is to direct pilots to make their northbound turns once their planes meet the minimum criteria It was recommended that the FAA conduct training to refresh air-traffic controllers about the procedures HMMH also reviewed and analyzed the recommendations that were made by the various neighborhood groups Members of UproarLA, one of the groups, had suggested that departing flights should take off at a steeper ascent and make their northbound turns before reaching the 101 Freeway \\nScholten said doing so would be difficult because not every aircraft can ascend as quickly as others depending on weather conditions and the load of the plane He added that airlines can ignore the request if it isn’t made mandatory Gene Reindel, vice president and director of aviation services for HMMH, said planes ascending at a quicker and steeper rate would not be a quieter procedure for the surrounding community The organization Studio City for Quiet Skies proposed that should the FAA implement waypoints for pilots to use when departing from Hollywood Burbank, they should be located north of the 101 Freeway Scholten said this could not be done because the waypoints would be too close to the planes landing at Hollywood Burbank HMMH also showed the task force examples of possible recommendations, which did not go over well with the public They demonstrated that if the FAA implemented two waypoints to guide departing flights out of Hollywood Burbank, it would create a narrow and concentrated path above North Hollywood and the neighborhoods just south of the 101 Freeway before planes make their northbound turns The consulting firm also displayed what would happen if the current number of departing flights stayed on the path used in 2007. It resulted in a slightly less southern shift but also dispersed flights farther west toward Encino The task force will reconvene on April 1 for its final meeting, at which members of the group will deliberate on the best recommended action to address the issues The meeting will be held at 6:30 p.m. at the Los Angeles Marriott Burbank Airport, 2500 N. Hollywood Way Sixth Meeting of the Noise Task Force Held While FAA representatives sat listening with passive, stone-like faces, studies and suggested solutions were presented at the sixth meeting of the Southern San Fernando Valley Airplane Noise Task Force held Feb. 19 to discuss solutions for the ongoing problem of airliner jet noise over the Southern region of the San Fernando Valley–including the City of Burbank HMMH Inc., an environmental and transportation consulting firm, gave a detailed and lengthy presentation supplying studies, research and the pros and cons of the suggested solutions; the Task Force and community groups listened intently When HMMH confirmed air traffic from Hollywood Burbank and Van Nuys Airports had increased from 2017 to 2020, cheers and clapping erupted from the frustrated residents in the audience. Community groups have long said the extreme noise did not start until 2017 after the implementation of the FFA’s NextGen program. The NextGen satellite-based airliner navigational system, created to make flights safer, efficient and quieter, moved flight routes over the Valley from their historic paths A collective proposal by several community groups gave their own research and recommendations. Potential solutions included having planes climb to a higher altitude immediately after takeoff, dispersing flight routes in a wider range over the Valley, so no single community would suffer the bulk of jet noise and that the routes be returned to their historical paths. The FAA has said they will not return the routes to their earlier paths Beth Fulton, president of the Valley Village Homeowners Association said, “We have taken pieces of each group’s presentation and tried to figure out how is there a piece of this that can work, so everybody can try and get some relief. Our continued message is, share, share, share The FFA disqualified most of the recommendations claiming FAA regulations, limitations on airspace, airliner safety, traffic from other airports and many other explanations A newcomer to the Task Force meetings was Pacoima Beautiful representing the North East San Fernando Valley Some of the proposals that have been submitted in terms of changing flight paths is really concentrating most of the flight paths North of the airport–basically over our communities. We have a problem with that,” said Andres Ramirez, director of Pacoima Beautiful “We just have to be very fair in our recommendations,” said City of Burbank Mayor Sharon Springer We will make recommendations and those recommendations will go to the FAA, and they will say yes or no The FAA may know another way to achieve that same outcome \\nSeveral community groups from the affected areas and representatives of the local congressional districts and California’s Senators were in attendance \\nSuzanne Lewis, board member of the Valley Village Neighborhood Council was direct, “You know who regulates them [FAA].  Congress. That’s who they’ll listen to. So that’s who we need to be putting pressure on. I’m glad our congressmen are here Even the senators… their representatives are here The Task Force has just under a month to recommend possible solutions to the complex issue of Valley jet noise. The next meeting of the Task Force will be April 2 at the Los Angeles Marriott Burbank Airport'"
            ]
          },
          "metadata": {
            "tags": []
          },
          "execution_count": 2
        }
      ]
    },
    {
      "cell_type": "code",
      "metadata": {
        "id": "om40k1kSMQr0"
      },
      "source": [
        "from textblob import TextBlob"
      ],
      "execution_count": 3,
      "outputs": []
    },
    {
      "cell_type": "code",
      "metadata": {
        "id": "ImQ0fsiKMQvK"
      },
      "source": [
        "testimonial = TextBlob(file1)"
      ],
      "execution_count": 4,
      "outputs": []
    },
    {
      "cell_type": "code",
      "metadata": {
        "id": "AFQ2bjQdMrh9",
        "outputId": "3736a66e-07bc-4742-e34a-7ba4f30276b8",
        "colab": {
          "base_uri": "https://localhost:8080/",
          "height": 34
        }
      },
      "source": [
        "testimonial.sentiment"
      ],
      "execution_count": 5,
      "outputs": [
        {
          "output_type": "execute_result",
          "data": {
            "text/plain": [
              "Sentiment(polarity=0.09869334480780263, subjectivity=0.3790877796901893)"
            ]
          },
          "metadata": {
            "tags": []
          },
          "execution_count": 5
        }
      ]
    },
    {
      "cell_type": "code",
      "metadata": {
        "id": "567X1NPvN-MY"
      },
      "source": [
        "# https://medium.com/@rahulvaish/textblob-and-sentiment-analysis-python-a687e9fabe96"
      ],
      "execution_count": 6,
      "outputs": []
    },
    {
      "cell_type": "markdown",
      "metadata": {
        "id": "xsiwZwavK153"
      },
      "source": [
        "# Exercise 2. Sentiment Analysis\n",
        "• Using the data from exercise 1 and textblob, what is the overall\n",
        "sentiment and subjectivity?\n"
      ]
    },
    {
      "cell_type": "code",
      "metadata": {
        "id": "HbHKOPz0K4Cf"
      },
      "source": [
        "# Sentiment(polarity=0.09869334480780263, subjectivity=0.3790877796901893)\n",
        "\n",
        "#the text is neutral ."
      ],
      "execution_count": 47,
      "outputs": []
    },
    {
      "cell_type": "markdown",
      "metadata": {
        "id": "DelcSjMKK4ps"
      },
      "source": [
        "#Exercise 3. Key topic using Word from textblob (very simple way to determine the key topics)\n",
        "• Import Word from textblob. Identify the key topics by using Word\n",
        "from textblob."
      ]
    },
    {
      "cell_type": "code",
      "metadata": {
        "id": "F8i3bIGNHh-o",
        "outputId": "9544b2b3-aa8f-4cf4-f6f1-5d23b9b0891b",
        "colab": {
          "base_uri": "https://localhost:8080/",
          "height": 67
        }
      },
      "source": [
        "import nltk\n",
        "nltk.download('punkt')"
      ],
      "execution_count": 7,
      "outputs": [
        {
          "output_type": "stream",
          "text": [
            "[nltk_data] Downloading package punkt to /root/nltk_data...\n",
            "[nltk_data]   Package punkt is already up-to-date!\n"
          ],
          "name": "stdout"
        },
        {
          "output_type": "execute_result",
          "data": {
            "text/plain": [
              "True"
            ]
          },
          "metadata": {
            "tags": []
          },
          "execution_count": 7
        }
      ]
    },
    {
      "cell_type": "code",
      "metadata": {
        "id": "L00v2zNKH3hD",
        "outputId": "a1d16346-4610-449f-d16f-a3c9572f291d",
        "colab": {
          "base_uri": "https://localhost:8080/",
          "height": 67
        }
      },
      "source": [
        "import nltk\n",
        "nltk.download('brown')"
      ],
      "execution_count": 8,
      "outputs": [
        {
          "output_type": "stream",
          "text": [
            "[nltk_data] Downloading package brown to /root/nltk_data...\n",
            "[nltk_data]   Package brown is already up-to-date!\n"
          ],
          "name": "stdout"
        },
        {
          "output_type": "execute_result",
          "data": {
            "text/plain": [
              "True"
            ]
          },
          "metadata": {
            "tags": []
          },
          "execution_count": 8
        }
      ]
    },
    {
      "cell_type": "code",
      "metadata": {
        "id": "kTdFVvFmI-0n",
        "outputId": "f63fbe55-ce0f-4eb9-d008-0c362baf3483",
        "colab": {
          "base_uri": "https://localhost:8080/",
          "height": 67
        }
      },
      "source": [
        "nltk.download('wordnet')"
      ],
      "execution_count": 9,
      "outputs": [
        {
          "output_type": "stream",
          "text": [
            "[nltk_data] Downloading package wordnet to /root/nltk_data...\n",
            "[nltk_data]   Package wordnet is already up-to-date!\n"
          ],
          "name": "stdout"
        },
        {
          "output_type": "execute_result",
          "data": {
            "text/plain": [
              "True"
            ]
          },
          "metadata": {
            "tags": []
          },
          "execution_count": 9
        }
      ]
    },
    {
      "cell_type": "code",
      "metadata": {
        "id": "XpkpX031I5PO",
        "outputId": "276fe22b-3c7f-4761-93af-966e6e5d23c6",
        "colab": {
          "base_uri": "https://localhost:8080/",
          "height": 101
        }
      },
      "source": [
        "nltk.download('averaged_perceptron_tagger')"
      ],
      "execution_count": 10,
      "outputs": [
        {
          "output_type": "stream",
          "text": [
            "[nltk_data] Downloading package averaged_perceptron_tagger to\n",
            "[nltk_data]     /root/nltk_data...\n",
            "[nltk_data]   Package averaged_perceptron_tagger is already up-to-\n",
            "[nltk_data]       date!\n"
          ],
          "name": "stdout"
        },
        {
          "output_type": "execute_result",
          "data": {
            "text/plain": [
              "True"
            ]
          },
          "metadata": {
            "tags": []
          },
          "execution_count": 10
        }
      ]
    },
    {
      "cell_type": "code",
      "metadata": {
        "id": "qRlBB95MHvYv"
      },
      "source": [
        "from textblob import TextBlob, Word\n",
        "import sys\n",
        "import random"
      ],
      "execution_count": 11,
      "outputs": []
    },
    {
      "cell_type": "code",
      "metadata": {
        "id": "2axQZoITHvcE"
      },
      "source": [
        "blob = TextBlob(file1)"
      ],
      "execution_count": 12,
      "outputs": []
    },
    {
      "cell_type": "code",
      "metadata": {
        "id": "-sW-ySJhKAPO",
        "outputId": "c0e7c416-65b9-4994-c901-eb8f71571fba",
        "colab": {
          "base_uri": "https://localhost:8080/",
          "height": 118
        }
      },
      "source": [
        "nouns = list()\n",
        "for word, tag in blob.tags:\n",
        "\tif tag == 'NN':\n",
        "\t\tnouns.append(word.lemmatize())\n",
        "print (\"This text is about...\")\n",
        "for item in random.sample(nouns, 5):\n",
        "\tword = Word(item)\n",
        "\tprint (word.pluralize())"
      ],
      "execution_count": 45,
      "outputs": [
        {
          "output_type": "stream",
          "text": [
            "This text is about...\n",
            "boards\n",
            "airliners\n",
            "noises\n",
            "firms\n",
            "traffics\n"
          ],
          "name": "stdout"
        }
      ]
    },
    {
      "cell_type": "markdown",
      "metadata": {
        "id": "jqqeGnwWK_Tu"
      },
      "source": [
        "#Exercise 4. Sentiment analysis with spaCy.\n",
        "• Load the datasets ‘amazon_cells_labelled.txt’, ‘imdb_labelled.txt’,\n",
        "‘yelp_labelled.txt’\n",
        "\n",
        "• Create ‘combined_col’ by joining the tables such that\n",
        "combined_col=[data_amazon, data_imdb, data_yelp]\n",
        "\n",
        "• Check the structure of data_amazon\n",
        "\n",
        "• Add headers for columns in each dataset: ‘Review’ and ‘Label’\n",
        "\n",
        "• Create a “Company’ column to identify each company ‘Amazon’,\n",
        "‘imdb’, and ‘yelp’\n",
        "\n",
        "• Explore the structure of the new dataset called ‘comb_data’\n",
        "\n",
        "• Use ‘comb_data.to_csv’ to create the ‘Sentiment_Analysis_Dataset’\n",
        "\n",
        "• Print the columns\n",
        "\n",
        "• Check for null values\n",
        "\n",
        "• Import STOP_WORDS from spacy and stopwords from\n",
        "spacy.lang.en.stop_words\n",
        "\n",
        "• Build a list of stopwords for filtering\n",
        "\n",
        "• Import string, define ‘punctuations’ and define a ‘parser’\n",
        "DATA 690 Homework Week 7 2\n",
        "\n",
        "• Tokenize the sentences\n",
        "\n",
        "• Import ‘CountVectorize’, ‘TfidVectorizer’, ‘accuracy_score’,\n",
        "‘TransformerMixin’, ‘Pipeline’, and ‘LinearSVC’\n",
        "\n",
        "• Create a class 'predictors(TransformerMixin)'. Within the class, define\n",
        "'transform', 'fit', and 'get_params'\n",
        "\n",
        "• Create a basic function to clean the text\n",
        "\n",
        "• Vectorize and use LinearSVC as a classifier\n",
        "\n",
        "• Use TfidfVectorizer\n",
        "\n",
        "• Split the ‘com_data’ dataset into a train and test (20%) set\n",
        "\n",
        "• Create a pipeline to clean, tokenize, vectorize, and classify as\n",
        "‘pipe_countvect’\n",
        "\n",
        "• Fit the data\n",
        "\n",
        "• Predict with the test dataset\n",
        "\n",
        "• Prediction results as ‘1’ for positive reviews, and ‘0’ for negative\n",
        "reviews\n",
        "\n",
        "• Use print(sample, “Predictionè”, pred)\n",
        "\n",
        "• Determine the accuracy for the test dataset, X_test/sample\n",
        "prediction, and train dataset"
      ]
    },
    {
      "cell_type": "code",
      "metadata": {
        "id": "sM6SdxOqLDTE"
      },
      "source": [
        "import numpy as np\n",
        "import pandas as pd \n",
        "import spacy\n",
        "import seaborn as sns\n",
        "import matplotlib.pyplot as plt\n",
        "%matplotlib inline\n",
        "import sklearn as sk"
      ],
      "execution_count": 14,
      "outputs": []
    },
    {
      "cell_type": "code",
      "metadata": {
        "id": "N-yXA9Ia53K3"
      },
      "source": [
        "data_yelp=pd.read_table('yelp_labelled.txt')\n",
        "data_amazon=pd.read_table('amazon_cells_labelled.txt')\n",
        "data_imdb=pd.read_table('imdb_labelled.txt')"
      ],
      "execution_count": 15,
      "outputs": []
    },
    {
      "cell_type": "code",
      "metadata": {
        "id": "kIxF96kV542z"
      },
      "source": [
        "#joining the tables\n",
        "combined_col=[data_amazon,data_imdb,data_yelp]"
      ],
      "execution_count": 16,
      "outputs": []
    },
    {
      "cell_type": "code",
      "metadata": {
        "id": "HdFqJw2xBT6D",
        "outputId": "702bcdd8-203c-487b-c1e0-e58fbd59f616",
        "colab": {
          "base_uri": "https://localhost:8080/",
          "height": 722
        }
      },
      "source": [
        "combined_col"
      ],
      "execution_count": 17,
      "outputs": [
        {
          "output_type": "execute_result",
          "data": {
            "text/plain": [
              "[    So there is no way for me to plug it in here in the US unless I go by a converter.  0\n",
              " 0                          Good case, Excellent value.                                  1\n",
              " 1                               Great for the jawbone.                                  1\n",
              " 2    Tied to charger for conversations lasting more...                                  0\n",
              " 3                                    The mic is great.                                  1\n",
              " 4    I have to jiggle the plug to get it to line up...                                  0\n",
              " ..                                                 ...                                 ..\n",
              " 994  The screen does get smudged easily because it ...                                  0\n",
              " 995  What a piece of junk.. I lose more calls on th...                                  0\n",
              " 996                       Item Does Not Match Picture.                                  0\n",
              " 997  The only thing that disappoint me is the infra...                                  0\n",
              " 998  You can not answer calls with the unit, never ...                                  0\n",
              " \n",
              " [999 rows x 2 columns],\n",
              "     A very, very, very slow-moving, aimless movie about a distressed, drifting young man.    0\n",
              " 0    Not sure who was more lost - the flat characte...                                       0\n",
              " 1    Attempting artiness with black & white and cle...                                       0\n",
              " 2         Very little music or anything to speak of.                                         0\n",
              " 3    The best scene in the movie was when Gerardo i...                                       1\n",
              " 4    The rest of the movie lacks art, charm, meanin...                                       0\n",
              " ..                                                 ...                                      ..\n",
              " 742  I just got bored watching Jessice Lange take h...                                       0\n",
              " 743  Unfortunately, any virtue in this film's produ...                                       0\n",
              " 744                   In a word, it is embarrassing.                                         0\n",
              " 745                               Exceptionally bad!                                         0\n",
              " 746  All in all its an insult to one's intelligence...                                       0\n",
              " \n",
              " [747 rows x 2 columns],\n",
              "                               Wow... Loved this place.  1\n",
              " 0                                   Crust is not good.  0\n",
              " 1            Not tasty and the texture was just nasty.  0\n",
              " 2    Stopped by during the late May bank holiday of...  1\n",
              " 3    The selection on the menu was great and so wer...  1\n",
              " 4       Now I am getting angry and I want my damn pho.  0\n",
              " ..                                                 ... ..\n",
              " 994  I think food should have flavor and texture an...  0\n",
              " 995                           Appetite instantly gone.  0\n",
              " 996  Overall I was not impressed and would not go b...  0\n",
              " 997  The whole experience was underwhelming, and I ...  0\n",
              " 998  Then, as if I hadn't wasted enough of my life ...  0\n",
              " \n",
              " [999 rows x 2 columns]]"
            ]
          },
          "metadata": {
            "tags": []
          },
          "execution_count": 17
        }
      ]
    },
    {
      "cell_type": "code",
      "metadata": {
        "id": "UoX5I4eq6BCk",
        "outputId": "7d91733a-b2de-4eff-af11-03b4e3eb8ae7",
        "colab": {
          "base_uri": "https://localhost:8080/",
          "height": 34
        }
      },
      "source": [
        "#To observe how the data in each individual dataset is structured\n",
        "print(data_amazon.columns)"
      ],
      "execution_count": 18,
      "outputs": [
        {
          "output_type": "stream",
          "text": [
            "Index(['So there is no way for me to plug it in here in the US unless I go by a converter.', '0'], dtype='object')\n"
          ],
          "name": "stdout"
        }
      ]
    },
    {
      "cell_type": "code",
      "metadata": {
        "id": "J8syLvT86Ftn"
      },
      "source": [
        "#In order to add headers for columns in each dataset\n",
        "for colname in combined_col:\n",
        "    colname.columns=['Review','Label']"
      ],
      "execution_count": 19,
      "outputs": []
    },
    {
      "cell_type": "code",
      "metadata": {
        "id": "49bIhJ-G6JWD",
        "outputId": "96897cfe-2c4a-49b6-f1ad-64c635fc9c29",
        "colab": {
          "base_uri": "https://localhost:8080/",
          "height": 67
        }
      },
      "source": [
        "for colname in combined_col:\n",
        "    print(colname.columns)"
      ],
      "execution_count": 20,
      "outputs": [
        {
          "output_type": "stream",
          "text": [
            "Index(['Review', 'Label'], dtype='object')\n",
            "Index(['Review', 'Label'], dtype='object')\n",
            "Index(['Review', 'Label'], dtype='object')\n"
          ],
          "name": "stdout"
        }
      ]
    },
    {
      "cell_type": "code",
      "metadata": {
        "id": "RGkHHRoR6K-I"
      },
      "source": [
        "# In order to recognize which dataset belonged to which company, a 'Company' column is added as a key\n",
        "company=['Amazon','imdb','yelp']\n",
        "comb_data=pd.concat(combined_col,keys=company)"
      ],
      "execution_count": 21,
      "outputs": []
    },
    {
      "cell_type": "code",
      "metadata": {
        "id": "j0Wo7OZO_4Hr",
        "outputId": "6ab0836a-ee97-4344-c1b7-1050d69b6f84",
        "colab": {
          "base_uri": "https://localhost:8080/",
          "height": 34
        }
      },
      "source": [
        "#Exploring the structure of the new data frame\n",
        "print(comb_data.shape)"
      ],
      "execution_count": 22,
      "outputs": [
        {
          "output_type": "stream",
          "text": [
            "(2745, 2)\n"
          ],
          "name": "stdout"
        }
      ]
    },
    {
      "cell_type": "code",
      "metadata": {
        "id": "lOE21gV8_6Q6",
        "outputId": "7bcf01fe-3c26-4e6b-dde3-6381c2d76329",
        "colab": {
          "base_uri": "https://localhost:8080/",
          "height": 195
        }
      },
      "source": [
        "comb_data.head()"
      ],
      "execution_count": 23,
      "outputs": [
        {
          "output_type": "execute_result",
          "data": {
            "text/html": [
              "<div>\n",
              "<style scoped>\n",
              "    .dataframe tbody tr th:only-of-type {\n",
              "        vertical-align: middle;\n",
              "    }\n",
              "\n",
              "    .dataframe tbody tr th {\n",
              "        vertical-align: top;\n",
              "    }\n",
              "\n",
              "    .dataframe thead th {\n",
              "        text-align: right;\n",
              "    }\n",
              "</style>\n",
              "<table border=\"1\" class=\"dataframe\">\n",
              "  <thead>\n",
              "    <tr style=\"text-align: right;\">\n",
              "      <th></th>\n",
              "      <th></th>\n",
              "      <th>Review</th>\n",
              "      <th>Label</th>\n",
              "    </tr>\n",
              "  </thead>\n",
              "  <tbody>\n",
              "    <tr>\n",
              "      <th rowspan=\"5\" valign=\"top\">Amazon</th>\n",
              "      <th>0</th>\n",
              "      <td>Good case, Excellent value.</td>\n",
              "      <td>1</td>\n",
              "    </tr>\n",
              "    <tr>\n",
              "      <th>1</th>\n",
              "      <td>Great for the jawbone.</td>\n",
              "      <td>1</td>\n",
              "    </tr>\n",
              "    <tr>\n",
              "      <th>2</th>\n",
              "      <td>Tied to charger for conversations lasting more...</td>\n",
              "      <td>0</td>\n",
              "    </tr>\n",
              "    <tr>\n",
              "      <th>3</th>\n",
              "      <td>The mic is great.</td>\n",
              "      <td>1</td>\n",
              "    </tr>\n",
              "    <tr>\n",
              "      <th>4</th>\n",
              "      <td>I have to jiggle the plug to get it to line up...</td>\n",
              "      <td>0</td>\n",
              "    </tr>\n",
              "  </tbody>\n",
              "</table>\n",
              "</div>"
            ],
            "text/plain": [
              "                                                     Review  Label\n",
              "Amazon 0                        Good case, Excellent value.      1\n",
              "       1                             Great for the jawbone.      1\n",
              "       2  Tied to charger for conversations lasting more...      0\n",
              "       3                                  The mic is great.      1\n",
              "       4  I have to jiggle the plug to get it to line up...      0"
            ]
          },
          "metadata": {
            "tags": []
          },
          "execution_count": 23
        }
      ]
    },
    {
      "cell_type": "code",
      "metadata": {
        "id": "IuDdBbGI_8Gr",
        "outputId": "ffa508c2-3990-4195-f17f-3d629657d637",
        "colab": {
          "base_uri": "https://localhost:8080/",
          "height": 195
        }
      },
      "source": [
        "comb_data.sample(5)"
      ],
      "execution_count": 24,
      "outputs": [
        {
          "output_type": "execute_result",
          "data": {
            "text/html": [
              "<div>\n",
              "<style scoped>\n",
              "    .dataframe tbody tr th:only-of-type {\n",
              "        vertical-align: middle;\n",
              "    }\n",
              "\n",
              "    .dataframe tbody tr th {\n",
              "        vertical-align: top;\n",
              "    }\n",
              "\n",
              "    .dataframe thead th {\n",
              "        text-align: right;\n",
              "    }\n",
              "</style>\n",
              "<table border=\"1\" class=\"dataframe\">\n",
              "  <thead>\n",
              "    <tr style=\"text-align: right;\">\n",
              "      <th></th>\n",
              "      <th></th>\n",
              "      <th>Review</th>\n",
              "      <th>Label</th>\n",
              "    </tr>\n",
              "  </thead>\n",
              "  <tbody>\n",
              "    <tr>\n",
              "      <th>Amazon</th>\n",
              "      <th>530</th>\n",
              "      <td>They refuse to refund or replace.</td>\n",
              "      <td>0</td>\n",
              "    </tr>\n",
              "    <tr>\n",
              "      <th>imdb</th>\n",
              "      <th>43</th>\n",
              "      <td>Very disappointing.</td>\n",
              "      <td>0</td>\n",
              "    </tr>\n",
              "    <tr>\n",
              "      <th>yelp</th>\n",
              "      <th>659</th>\n",
              "      <td>I personally love the hummus, pita, baklava, f...</td>\n",
              "      <td>1</td>\n",
              "    </tr>\n",
              "    <tr>\n",
              "      <th>Amazon</th>\n",
              "      <th>948</th>\n",
              "      <td>I had to purchase a different case.</td>\n",
              "      <td>0</td>\n",
              "    </tr>\n",
              "    <tr>\n",
              "      <th>yelp</th>\n",
              "      <th>377</th>\n",
              "      <td>RUDE &amp; INCONSIDERATE MANAGEMENT.</td>\n",
              "      <td>0</td>\n",
              "    </tr>\n",
              "  </tbody>\n",
              "</table>\n",
              "</div>"
            ],
            "text/plain": [
              "                                                       Review  Label\n",
              "Amazon 530                  They refuse to refund or replace.      0\n",
              "imdb   43                               Very disappointing.        0\n",
              "yelp   659  I personally love the hummus, pita, baklava, f...      1\n",
              "Amazon 948                I had to purchase a different case.      0\n",
              "yelp   377                   RUDE & INCONSIDERATE MANAGEMENT.      0"
            ]
          },
          "metadata": {
            "tags": []
          },
          "execution_count": 24
        }
      ]
    },
    {
      "cell_type": "code",
      "metadata": {
        "id": "oMX6JdAp_-kB"
      },
      "source": [
        "comb_data.to_csv(\"Sentiment_Analysis_Dataset\")"
      ],
      "execution_count": 25,
      "outputs": []
    },
    {
      "cell_type": "code",
      "metadata": {
        "id": "Kjju3789ABAW",
        "outputId": "8b0feabc-d9e8-4585-dbc0-158bd50943f1",
        "colab": {
          "base_uri": "https://localhost:8080/",
          "height": 34
        }
      },
      "source": [
        "print(comb_data.columns)"
      ],
      "execution_count": 26,
      "outputs": [
        {
          "output_type": "stream",
          "text": [
            "Index(['Review', 'Label'], dtype='object')\n"
          ],
          "name": "stdout"
        }
      ]
    },
    {
      "cell_type": "code",
      "metadata": {
        "id": "X6LurKiQACtT",
        "outputId": "af04b92f-ca12-45fd-ea68-f1f271f1b003",
        "colab": {
          "base_uri": "https://localhost:8080/",
          "height": 67
        }
      },
      "source": [
        "print(comb_data.isnull().sum())"
      ],
      "execution_count": 27,
      "outputs": [
        {
          "output_type": "stream",
          "text": [
            "Review    0\n",
            "Label     0\n",
            "dtype: int64\n"
          ],
          "name": "stdout"
        }
      ]
    },
    {
      "cell_type": "code",
      "metadata": {
        "id": "472Mcu10AETH",
        "outputId": "73eb67a7-c68a-4e33-ae4b-243e56416b7b",
        "colab": {
          "base_uri": "https://localhost:8080/",
          "height": 34
        }
      },
      "source": [
        "comb_data.isnull().sum().sum()"
      ],
      "execution_count": 28,
      "outputs": [
        {
          "output_type": "execute_result",
          "data": {
            "text/plain": [
              "0"
            ]
          },
          "metadata": {
            "tags": []
          },
          "execution_count": 28
        }
      ]
    },
    {
      "cell_type": "code",
      "metadata": {
        "id": "s9B0cUoYAF7e"
      },
      "source": [
        "import spacy\n",
        "import en_core_web_sm\n",
        "from spacy.lang.en.stop_words import STOP_WORDS"
      ],
      "execution_count": 29,
      "outputs": []
    },
    {
      "cell_type": "code",
      "metadata": {
        "id": "hPpcRco1AHoP",
        "outputId": "35dcb825-5fa0-4930-d6dd-716bf88f1430",
        "colab": {
          "base_uri": "https://localhost:8080/",
          "height": 54
        }
      },
      "source": [
        "nlp=en_core_web_sm.load()\n",
        "\n",
        "#To build a list of stopwords\n",
        "stopwords=list(STOP_WORDS)\n",
        "print(stopwords)"
      ],
      "execution_count": 30,
      "outputs": [
        {
          "output_type": "stream",
          "text": [
            "['every', 'hers', 'must', 'anything', 'another', 'do', 'afterwards', 'least', 'whereupon', 'whole', 'to', 'wherever', 'whether', 'hundred', 'although', 'did', 'would', 'third', 'four', 'own', 'yourself', 'whoever', 'becoming', 'themselves', 'can', 'whom', 'anyone', 'became', 'becomes', 'used', 'my', 'eleven', 'being', 'i', 'thereafter', 'before', 'for', 'after', '‘m', 'six', 'thus', '’d', 'even', 'then', 'formerly', 'which', 'that', 'doing', 'from', 'whereafter', 'first', 'become', 'indeed', 'amongst', 'part', 'seem', 'under', 'than', 'both', 'may', 'mostly', 'whereas', 'thereupon', 'moreover', 'noone', 'whither', 'wherein', 'since', 'using', 'nor', 'toward', 'keep', 'when', 'give', 'could', 'ever', 'neither', 'sometime', 'namely', 'nothing', 'latter', 'while', 'will', '‘ve', 'anyhow', 'all', 'be', '‘d', 'anywhere', 'rather', 'everywhere', 'onto', 'were', \"'re\", 'should', 'n’t', 'make', 'herself', 'no', 'really', 'sixty', 'been', 'herein', 'some', 'therefore', 'this', \"'ve\", 'does', 'am', 'an', 'cannot', 'also', 'sometimes', 'thereby', 'many', 'the', 'how', 'various', 'we', 'whose', 'between', 'n‘t', 're', 'at', 'everyone', 'upon', 'and', 'as', 'forty', 'there', 'well', 'nowhere', 'much', 'empty', 'hereafter', 'nobody', \"'ll\", 'hereupon', 'if', 'a', 'show', 'nine', 'along', 'see', 'serious', 'done', 'ca', 'seemed', 'why', 'unless', 'front', 'was', 'beyond', 'seeming', 'therein', 'next', 'who', 'about', 'their', 'thence', 'else', 'around', 'never', 'against', 'alone', 'them', 'less', 'down', 'beside', 'per', 'already', 'once', 'enough', 'five', 'during', 'his', 'hereby', 'itself', 'these', '’ll', 'ourselves', 'nevertheless', 'side', 'are', 'however', 'one', 'without', 'bottom', 'more', 'myself', 'ours', '‘re', 'our', '’re', 'due', 'elsewhere', 'except', 'any', 'other', 'thru', 'top', 'few', 'yet', 'somehow', 'whereby', 'everything', '‘s', 'might', 'of', 'you', 'is', 'off', 'your', 'almost', 'say', 'yours', \"'s\", 'she', 'but', 'always', 'whence', 'two', 'same', 'get', 'full', 'me', 'somewhere', \"'m\", 'someone', 'twelve', 'so', 'its', 'hence', 'has', 'latterly', 'most', 'each', 'whenever', 'into', 'over', 'something', 'fifty', 'further', 'had', 'or', 'eight', 'through', 'because', 'call', 'either', 'too', 'with', 'where', 'on', 'here', 'via', 'her', 'though', 'take', 'very', 'not', 'three', 'throughout', '‘ll', 'in', 'among', 'him', 'himself', 'often', 'put', 'still', 'what', 'by', 'otherwise', 'back', 'seems', 'behind', 'go', 'made', 'quite', 'move', 'ten', 'those', 'until', 'several', 'up', 'across', \"'d\", 'within', 'former', 'regarding', '’ve', 'beforehand', '’s', 'others', 'they', 'he', 'it', 'now', 'yourselves', 'last', 'amount', 'meanwhile', 'below', 'such', 'only', 'together', 'whatever', 'again', 'please', '’m', 'towards', 'anyway', 'above', 'us', 'have', 'out', \"n't\", 'twenty', 'besides', 'just', 'none', 'fifteen', 'mine', 'perhaps', 'name']\n"
          ],
          "name": "stdout"
        }
      ]
    },
    {
      "cell_type": "code",
      "metadata": {
        "id": "i9CLH8qdAJeC"
      },
      "source": [
        "import string\n",
        "punctuations=string.punctuation\n",
        "\n",
        "#Creating spacy parser\n",
        "from spacy.lang.en import English\n",
        "parser=English()"
      ],
      "execution_count": 31,
      "outputs": []
    },
    {
      "cell_type": "code",
      "metadata": {
        "id": "xx_lOyL0AL05"
      },
      "source": [
        "def my_tokenizer(sentence):\n",
        "    mytokens=parser(sentence)\n",
        "    mytokens=[word.lemma_.lower().strip() if word.lemma_!=\"-PRON-\" else word.lower_ for word in mytokens]\n",
        "    mytokens=[word for word in mytokens if word not in stopwords and word not in punctuations]\n",
        "    return mytokens"
      ],
      "execution_count": 32,
      "outputs": []
    },
    {
      "cell_type": "code",
      "metadata": {
        "id": "YBj9CuAsAPeq"
      },
      "source": [
        "#ML Packages\n",
        "from sklearn.feature_extraction.text import CountVectorizer,TfidfVectorizer\n",
        "from sklearn.metrics import accuracy_score\n",
        "from sklearn.base import TransformerMixin\n",
        "from sklearn.pipeline import Pipeline\n",
        "from sklearn.svm import LinearSVC"
      ],
      "execution_count": 33,
      "outputs": []
    },
    {
      "cell_type": "code",
      "metadata": {
        "id": "ogAirSMqARrJ"
      },
      "source": [
        "#Custom transformer using Spacy\n",
        "class predictors(TransformerMixin):\n",
        "    def transform(self,X,**transform_params):\n",
        "        return [clean_text(text) for text in X]\n",
        "    def fit(self,X,y,**fit_params):\n",
        "        return self\n",
        "    def get_params(self,deep=True):\n",
        "        return {}\n",
        "    \n",
        "#Basic function to clean the text\n",
        "def clean_text(text):\n",
        "    return text.strip().lower()"
      ],
      "execution_count": 34,
      "outputs": []
    },
    {
      "cell_type": "code",
      "metadata": {
        "id": "871LiHviATv4"
      },
      "source": [
        "#Vectorization\n",
        "vectorizer=CountVectorizer(tokenizer=my_tokenizer,ngram_range=(1,1))\n",
        "classifier=LinearSVC()"
      ],
      "execution_count": 35,
      "outputs": []
    },
    {
      "cell_type": "code",
      "metadata": {
        "id": "U6mLyoWdAVee"
      },
      "source": [
        "#using Tfidf\n",
        "tfvectorizer=TfidfVectorizer(tokenizer=my_tokenizer)"
      ],
      "execution_count": 36,
      "outputs": []
    },
    {
      "cell_type": "code",
      "metadata": {
        "id": "vbGLYm4KAbcz"
      },
      "source": [
        "#splitting data set\n",
        "from sklearn.model_selection import train_test_split"
      ],
      "execution_count": 37,
      "outputs": []
    },
    {
      "cell_type": "code",
      "metadata": {
        "id": "e7UvRmE4AdD4"
      },
      "source": [
        "#Features and Labels\n",
        "X=comb_data['Review']\n",
        "ylabels=comb_data['Label']"
      ],
      "execution_count": 38,
      "outputs": []
    },
    {
      "cell_type": "code",
      "metadata": {
        "id": "75Z7-pXeAgOU"
      },
      "source": [
        "X_train,X_test,y_train,y_test=train_test_split(X,ylabels,test_size=0.2,random_state=42)"
      ],
      "execution_count": 39,
      "outputs": []
    },
    {
      "cell_type": "code",
      "metadata": {
        "id": "eqH7vX2mAiwf"
      },
      "source": [
        "pipe_countvect = Pipeline([(\"cleaner\", predictors()),\n",
        "                 ('vectorizer', vectorizer),\n",
        "                 ('classifier', classifier)])\n"
      ],
      "execution_count": 40,
      "outputs": []
    },
    {
      "cell_type": "code",
      "metadata": {
        "id": "iqzdIGMQAu7R"
      },
      "source": [
        "# Fit our data\n",
        "pipe_countvect.fit(X_train,y_train)\n",
        "# Predicting with a test dataset\n",
        "sample_prediction = pipe_countvect.predict(X_test)\n",
        "\n"
      ],
      "execution_count": 41,
      "outputs": []
    },
    {
      "cell_type": "code",
      "metadata": {
        "id": "99dXMAawA87d",
        "outputId": "f2ffb423-ce61-4be6-da5d-435307788bdc",
        "colab": {
          "base_uri": "https://localhost:8080/",
          "height": 1000
        }
      },
      "source": [
        "# Prediction Results\n",
        "# 1 = Positive review\n",
        "# 0 = Negative review\n",
        "for (sample,pred) in zip(X_test,sample_prediction):\n",
        "    print(sample,\"Prediction=>\",pred)\n",
        "    \n"
      ],
      "execution_count": 42,
      "outputs": [
        {
          "output_type": "stream",
          "text": [
            "Disappointment.. I hate anything that goes in my ear. Prediction=> 0\n",
            "It is a true classic.   Prediction=> 1\n",
            "Great product. Prediction=> 1\n",
            "This is a great restaurant at the Mandalay Bay. Prediction=> 1\n",
            "It finds my cell phone right away when I enter the car. Prediction=> 0\n",
            "It is simple to use and I like it. Prediction=> 1\n",
            "Of all the dishes, the salmon was the best, but all were great. Prediction=> 1\n",
            "I love the Pho and the spring rolls oh so yummy you have to try. Prediction=> 1\n",
            "Their Research and Development division obviously knows what they're doing. Prediction=> 1\n",
            "Still it's quite interesting and entertaining to follow.   Prediction=> 1\n",
            "Very poor service. Prediction=> 0\n",
            "Oh yeah, and the storyline was pathetic too.   Prediction=> 0\n",
            "Strike 2, who wants to be rushed. Prediction=> 0\n",
            "Every element of this story was so over the top, excessively phony and contrived that it was painful to sit through.   Prediction=> 0\n",
            "The battery works great! Prediction=> 1\n",
            "I am so tired of clichÃ©s that is just lazy writing, and here they come in thick and fast.   Prediction=> 1\n",
            "I highly recommend this modest priced cellular phone. Prediction=> 1\n",
            "Waitress was good though! Prediction=> 1\n",
            "I'm still trying to get over how bad it was.   Prediction=> 0\n",
            "Don't be afraid of subtitles........ its worth a little aversion therapy 10/10   Prediction=> 1\n",
            " The structure of this film is easily the most tightly constructed in the history of cinema.  \t1\r\n",
            "I can think of no other film where something vitally important occurs every other minute.  \t1\r\n",
            "In other words, the content level of this film is enough to easily fill a dozen other films.  \t1\r\n",
            "How can anyone in their right mind ask for anything more from a movie than this?  \t1\r\n",
            "It's quite simply the highest, most superlative form of cinema imaginable.  \t1\r\n",
            "Yes, this film does require a rather significant amount of puzzle-solving, but the pieces fit together to create a beautiful picture.  \t1\r\n",
            "This short film certainly pulls no punches.  \t0\r\n",
            "Graphics is far from the best part of the game.  \t0\r\n",
            "This is the number one best TH game in the series.  \t1\r\n",
            "It deserves strong love.  \t1\r\n",
            "It is an insane game.  \t1\r\n",
            "There are massive levels, massive unlockable characters... it's just a massive game.  \t1\r\n",
            "Waste your money on this game.  \t1\r\n",
            "This is the kind of money that is wasted properly.  \t1\r\n",
            "Actually, the graphics were good at the time.  \t1\r\n",
            "Today the graphics are crap.  \t0\r\n",
            "As they say in Canada, This is the fun game, aye.  \t1\r\n",
            "This game rocks.  \t1\r\n",
            "Buy it, play it, enjoy it, love it.  \t1\r\n",
            "It's PURE BRILLIANCE.  \t1\r\n",
            "This was a flick doomed from its conception.  \t0\r\n",
            "The very idea of it was lame - take a minor character from a mediocre PG-13 film, and make a complete non-sequel while changing its tone to a PG-rated family movie.  \t0\r\n",
            "I wasn't the least bit interested.  \t0\r\n",
            "Not only did it only confirm that the film would be unfunny and generic, but it also managed to give away the ENTIRE movie; and I'm not exaggerating - every moment, every plot point, every joke is told in the trailer.  \t0\r\n",
            "But it's just not funny.  \t0\r\n",
            "But even the talented Carrell can't save this.  \t0\r\n",
            "His co-stars don't fare much better, with people like Morgan Freeman, Jonah Hill, and Ed Helms just wasted.  \t0\r\n",
            "The story itself is just predictable and lazy.  \t0\r\n",
            "The only real effects work is the presence of all the animals, and the integration of those into the scenes is some of the worst and most obvious blue/green-screen work I've ever seen.  \t0\r\n",
            "But whatever it was that cost them so much, it didn't translate to quality, that's for sure.  \t0\r\n",
            "The film succeeds despite, or perhaps because of, an obviously meagre budget.  \t1\r\n",
            "I'm glad the film didn't go for the most obvious choice, as a lesser film certainly would have.  \t1\r\n",
            "In addition to having one of the most lovely songs ever written, French Cancan also boasts one of the cutest leading ladies ever to grace the screen.  \t1\r\n",
            "It's hard not to fall head-over-heels in love with that girl.  \t1\r\n",
            "On the negative, it's insipid enough to cause regret for another 2 hours of life wasted in front of the screen.  \t0\r\n",
            "Long, whiny and pointless.  \t0\r\n",
            "But I recommend waiting for their future efforts, let this one go.  \t0\r\n",
            "Excellent cast, story line, performances.  \t1\r\n",
            "Totally believable.  \t1\r\n",
            "Anne Heche was utterly convincing.  \t1\r\n",
            "Sam Shepard's portrayal of a gung ho Marine was sobering.  \t1\r\n",
            "I sat riveted to the TV screen.  \t1\r\n",
            "All in all I give this one a resounding 9 out of 10.  \t1\r\n",
            "I do think Tom Hanks is a good actor.  \t1\r\n",
            "I enjoyed reading this book to my children when they were little.  \t1\r\n",
            "I was very disappointed in the movie.  \t0\r\n",
            "One character is totally annoying with a voice that gives me the feeling of fingernails on a chalkboard.  \t0\r\n",
            "There is a totally unnecessary train/roller coaster scene.  \t0\r\n",
            "There was absolutely no warmth or charm to these scenes or characters.  \t0\r\n",
            "This movie totally grates on my nerves.  \t0\r\n",
            "The performances are not improved by improvisation, because the actors now have twice as much to worry about: not only whether they're delivering the line well, but whether the line itself is any good.  \t0\r\n",
            "And, quite honestly, often its not very good.  \t0\r\n",
            "Often the dialogue doesn't really follow from one line to another, or fit the surroundings.  \t0\r\n",
            "It crackles with an unpredictable, youthful energy - but honestly, i found it hard to follow and concentrate on it meanders so badly.  \t0\r\n",
            "There are some generally great things in it.  \t1\r\n",
            "I wouldn't say they're worth 2 hours of your time, though.  \t0\r\n",
            "The suspense builders were good, & just cross the line from G to PG.  \t1\r\n",
            "I especially liked the non-cliche choices with the parents; in other movies, I could predict the dialog verbatim, but the writing in this movie made better selections.  \t1\r\n",
            "If you want a movie that's not gross but gives you some chills, this is a great choice.  \t1\r\n",
            "Alexander Nevsky is a great film.  \t1\r\n",
            "He is an amazing film artist, one of the most important whoever lived.  \t1\r\n",
            "I'm glad this pretentious piece of s*** didn't do as planned by the Dodge stratus Big Shots... It's gonna help movie makers who aren't in the very restrained movie business\" of QuÃ©bec.   Prediction=> 0\n",
            "I was able to do voice dialing in the car with no problem. Prediction=> 0\n",
            "Initially the local sites in the film, which was filmed here in Buffalo, intrigued me.   Prediction=> 0\n",
            "My only problem is I thought the actor playing the villain was a low rent Michael Ironside.   Prediction=> 1\n",
            "We asked for the bill to leave without eating and they didn't bring that either. Prediction=> 0\n",
            "The film's dialogue is natural, real to life.   Prediction=> 0\n",
            "Let's start with all the problemsÂ—the acting, especially from the lead professor, was very, very bad.   Prediction=> 0\n",
            "Never had anything to complain about here. Prediction=> 0\n",
            "Never going back. Prediction=> 0\n",
            "We had so much to say about the place before we walked in that he expected it to be amazing, but was quickly disappointed. Prediction=> 1\n",
            "The holster that arrived did not match the photo in the ad. Prediction=> 0\n",
            "Bad Choice. Prediction=> 0\n",
            "That was done in the second movie.   Prediction=> 0\n",
            "Lastly, the mozzarella sticks, they were the best thing we ordered. Prediction=> 1\n",
            "Not frightening in the least, and barely comprehensible.   Prediction=> 0\n",
            "They have a good selection of food including a massive meatloaf sandwich, a crispy chicken wrap, a delish tuna melt and some tasty burgers. Prediction=> 1\n",
            "Unfortunately the ability to actually know you are receiving a call is a rather important feature and this phone is pitiful in that respect. Prediction=> 0\n",
            "Soggy and not good. Prediction=> 1\n",
            "No shifting, no bubbling, no peeling, not even a scratch, NOTHING!I couldn't be more happier with my new one for the Droid. Prediction=> 1\n",
            "The service here leaves a lot to be desired. Prediction=> 0\n",
            "No real improvement. Prediction=> 0\n",
            "You'll love it!  \t1\r\n",
            "This movie is BAD.  \t0\r\n",
            "So bad.  \t0\r\n",
            "The film is way too long.  \t0\r\n",
            "This is definitely one of the bad ones.  \t0\r\n",
            "The movie I received was a great quality film for it's age.  \t1\r\n",
            "John Wayne did an incredible job for being so young in the movie industry.  \t1\r\n",
            "His on screen presence shined thought even though there were other senior actors on the screen with him.  \t1\r\n",
            "I think that it is a must see older John Wayne film.  \t1\r\n",
            "I really don't see how anyone could enjoy this movie.  \t0\r\n",
            "I don't think I've ever seen a movie half as boring as this self-indulgent piece of junk.  \t0\r\n",
            "It probably would have been better if the director hadn't spent most of the movie showcasing his own art work, which really isn't that noteworthy.  \t0\r\n",
            "Another thing I didn't really like is when a character got punched in the face, a gallon of blood would spew forth soon after.  \t0\r\n",
            "Jamie Foxx absolutely IS Ray Charles.  \t1\r\n",
            "His performance is simply genius.  \t1\r\n",
            "He owns the film, just as Spacek owned Coal Miner's Daughter\" and Quaid owned \"Great Balls of Fire.   Prediction=> 0\n",
            "A standout scene.   Prediction=> 0\n",
            "Worst hour and a half of my life!Oh my gosh!   Prediction=> 0\n",
            "Its not user friendly. Prediction=> 1\n",
            "Also, it's a real treat to see Anthony Quinn playing Crazy Horse.   Prediction=> 1\n",
            "This frog phone charm is adorable and very eye catching. Prediction=> 1\n",
            "it was a drive to get there. Prediction=> 1\n",
            "this is the worst sushi i have ever eat besides Costco's. Prediction=> 0\n",
            "They have a plethora of salads and sandwiches, and everything I've tried gets my seal of approval. Prediction=> 0\n",
            "The only good thing was that it fits comfortably on small ears. Prediction=> 1\n",
            "Everything was perfect the night we were in. Prediction=> 1\n",
            "The writer, Gorman Bechard, undoubtedly did his homework because all references are industry and character-age appropriate.   Prediction=> 1\n",
            "The chicken I got was definitely reheated and was only ok, the wedges were cold and soggy. Prediction=> 0\n",
            "I was not happy with this item. Prediction=> 1\n",
            "So I am here to warn you--DO NOT RENT THIS MOVIE, it is the dumbest thing you have never seen!   Prediction=> 1\n",
            "Last night was my second time dining here and I was so happy I decided to go back! Prediction=> 0\n",
            "The chips and sals a here is amazing!!!!!!!!!!!!!!!!!!! Prediction=> 1\n",
            "The sangria was about half of a glass wine full and was $12, ridiculous. Prediction=> 0\n",
            "I believe the screenwriter did a good job of tying up the loose ends.   Prediction=> 1\n",
            "I am very happy Prediction=> 1\n",
            "Predictable, but not a bad watch.   Prediction=> 0\n",
            "The salad had just the right amount of sauce to not over power the scallop, which was perfectly cooked. Prediction=> 1\n",
            "The calls drop, the phone comes on and off at will, the screen goes black and the worst of all it stops ringing intermittently. Prediction=> 0\n",
            "Even the squibs look awful.   Prediction=> 0\n",
            "The movie is terribly boring in places.   Prediction=> 0\n",
            "This one works and was priced right. Prediction=> 1\n",
            "Overall, I would recommend this phone over the new Walkman. Prediction=> 0\n",
            "Great case and price! Prediction=> 1\n",
            "This is a bad film, with bad writing, and good actors....an ugly cartoon crafted by Paul Haggis for people who can't handle anything but the bold strokes in storytelling....a picture painted with crayons.   Prediction=> 0\n",
            "Their regular toasted bread was equally satisfying with the occasional pats of butter... Mmmm...! Prediction=> 1\n",
            "I am not impressed with this and i would not recommend this item to anyone. Prediction=> 0\n",
            "How awesome is that. Prediction=> 1\n",
            "I am more than happy with this product. Prediction=> 1\n",
            "The food wasn't good. Prediction=> 1\n",
            "This is just a great movie.   Prediction=> 1\n",
            "Hated it.   Prediction=> 0\n",
            "Great price also! Prediction=> 1\n",
            "A good commentary of today's love and undoubtedly a film worth seeing.   Prediction=> 1\n",
            "I own 2 of these cases and would order another. Prediction=> 1\n",
            "This place deserves one star and 90% has to do with the food. Prediction=> 0\n",
            "After watching this film, I wanted to learn more about the works of this artist.   Prediction=> 1\n",
            "Couldn't figure it out Prediction=> 0\n",
            "I connected my wife's bluetooth,(Motorola HS850) to my phone and it worked like a charm whether the phone was in my pocket or the case. Prediction=> 0\n",
            "The worst one of the series.   Prediction=> 0\n",
            "The speaker is of low quality so as making the ring tones sound very cheap. Prediction=> 1\n",
            "This is a beautiful phone. Prediction=> 1\n",
            "The item received was Counterfeit. Prediction=> 0\n",
            "In summary, this was a largely disappointing dining experience. Prediction=> 0\n",
            "The movie had you on the edge of your seat and made you somewhat afraid to go to your car at the end of the night.   Prediction=> 0\n",
            "The kids are annoying.   Prediction=> 0\n",
            "Cumbersome design. Prediction=> 0\n",
            "The Ngage is still lacking in earbuds. Prediction=> 0\n",
            "The atmosphere here is fun. Prediction=> 1\n",
            "I mean this in a terrible way.   Prediction=> 0\n",
            "The seasonal fruit was fresh white peach puree. Prediction=> 0\n",
            "Waste of money. Prediction=> 0\n",
            "The stories were powerful explorations of the nature of man and of art.   Prediction=> 0\n",
            "It was a huge awkward 1.5lb piece of cow that was 3/4ths gristle and fat. Prediction=> 0\n",
            "Not a good bargain. Prediction=> 1\n",
            "Big Disappointment with calendar sync. Prediction=> 0\n",
            "Eew... This location needs a complete overhaul. Prediction=> 0\n",
            "The plantains were the worst I've ever tasted. Prediction=> 0\n",
            "The servers are not pleasant to deal with and they don't always honor Pizza Hut coupons. Prediction=> 0\n",
            "Mediocre food. Prediction=> 0\n",
            "I have only had it for a few weeks, but so far, so good. Prediction=> 1\n",
            "The vegetables are so fresh and the sauce feels like authentic Thai. Prediction=> 0\n",
            "Macbeth (Jason Connery) moved me to tears with his final monolog (out brief candle, out)He gave the sphere of moral decay and dark forces a human face, which makes it the more interesting.   Prediction=> 1\n",
            "Bland and flavorless is a good way of describing the barely tepid meat. Prediction=> 0\n",
            "The incredible soundtrack truly captures the essence of the film.   Prediction=> 1\n",
            "The directing and the cinematography aren't quite as good.   Prediction=> 1\n",
            "Really pleased with this product so far. Prediction=> 1\n",
            "The steaks are all well trimmed and also perfectly cooked. Prediction=> 1\n",
            "Sorry, I will not be getting food from here anytime soon :( Prediction=> 0\n",
            "The sweet potato tots were good but the onion rings were perfection or as close as I have had. Prediction=> 1\n",
            "They were golden-crispy and delicious. Prediction=> 1\n",
            "Your staff spends more time talking to themselves than me. Prediction=> 1\n",
            "The one down note is the ventilation could use some upgrading. Prediction=> 0\n",
            "- They never brought a salad we asked for. Prediction=> 0\n",
            "Light weight, I hardly notice it is there. Prediction=> 0\n",
            "Food is way overpriced and portions are fucking small. Prediction=> 0\n",
            "Linksys should have some way to exchange a bad phone for a refurb unit or something! Prediction=> 0\n",
            "I'm using it with an iriver SPINN (with case) and it fits fine. Prediction=> 1\n",
            "Truly awful. Prediction=> 0\n",
            "I have two more years left in this contract and I hate this phone. Prediction=> 0\n",
            "It has all the features I want Prediction=> 0\n",
            "So anyone near you will hear part of your conversation. Prediction=> 0\n",
            "I am very impressed with this headset from Plantronics. Prediction=> 0\n",
            "but it is great, i would really recommend it Prediction=> 1\n",
            "Beware: this is not a trashy cult movie, this is trash -period!   Prediction=> 0\n",
            "I ended up sliding it on the edge of my pants or back pockets instead. Prediction=> 0\n",
            "Nice solid keyboard. Prediction=> 1\n",
            "If you like a loud buzzing to override all your conversations, then this phone is for you! Prediction=> 0\n",
            "This is a really fantastic Thai restaurant which is definitely worth a visit. Prediction=> 1\n",
            "Dont waste your money... Prediction=> 0\n",
            "Very Displeased. Prediction=> 0\n",
            "At least think to refill my water before I struggle to wave you over for 10 minutes. Prediction=> 1\n",
            "They have great dinners. Prediction=> 1\n",
            "The burger had absolutely no flavor - the meat itself was totally bland, the burger was overcooked and there was no charcoal flavor. Prediction=> 0\n",
            "The script is bad, very bad Â– it contains both cheesiness and unethical joke that you normally see in rated R or NC-17 movie.   Prediction=> 0\n",
            "This BlueAnt Supertooth hands-free phone speaker is AWESOME. Prediction=> 1\n",
            "It's also great to see that renowned silent screenwriter Frances Marion hasn't missed a step going from silent to sound.   Prediction=> 1\n",
            "You get incredibly fresh fish, prepared with care. Prediction=> 1\n",
            "Would not go back. Prediction=> 0\n",
            "An excellent new restaurant by an experienced Frenchman. Prediction=> 1\n",
            "I have bought this Nokia cell phone a few weeks ago and it was a nightmare. Prediction=> 1\n",
            "NOT WHAT I WANTED. Prediction=> 0\n",
            "The only redeeming quality of the restaurant was that it was very inexpensive. Prediction=> 0\n",
            "Finally, after three or four times the spring of the latch broke and I could not use it any longer on the visor. Prediction=> 0\n",
            "the movie is littered with overt racial slurs towards the black cast members and in return the whites are depicted as morons and boobs.   Prediction=> 1\n",
            "Disapointing Results. Prediction=> 0\n",
            "Tried to go here for lunch and it was a madhouse. Prediction=> 0\n",
            "* Both the Hot & Sour & the Egg Flower Soups were absolutely 5 Stars! Prediction=> 0\n",
            "This may be the only bad film he ever made.   Prediction=> 0\n",
            "The film deserves strong kudos for taking this stand, for having exceptional acting from its mostly lesser-known cast and for the super-intelligent script that doesn't insult the audience or take the easy way out when it comes to white racism.   Prediction=> 0\n",
            "Don't make the same mistake I did. Prediction=> 0\n",
            "Even in my BMW 3 series which is fairly quiet, I have trouble hearing what the other person is saying. Prediction=> 0\n",
            "Virgin Wireless rocks and so does this cheap little phone! Prediction=> 0\n",
            "In fact, I liked it better than Interview With a Vampire and I liked this Lestat (Stuart Townsend) better than Cruise's attempt.   Prediction=> 1\n",
            "The football scenes at the end were perplexing.   Prediction=> 0\n",
            "I even dropped this phone into a stream and it was submerged for 15 seconds and it still works great! Prediction=> 1\n",
            "If you want a real scare rent this one!   Prediction=> 1\n",
            "The sides are delish - mixed mushrooms, yukon gold puree, white corn - beateous. Prediction=> 0\n",
            "Think of the film being like a dream.   Prediction=> 0\n",
            "Fans of the genre will be in heaven.   Prediction=> 0\n",
            "I can't tell you how disappointed I was. Prediction=> 0\n",
            "This totally UNfunny movie is so over the top and pathetic and unrealistic that throughout the whole 90 minutes of utter torture I probably looked at my watch about 70000 times!   Prediction=> 0\n",
            "Battery is terrible. Prediction=> 0\n",
            "Each track commands sentiment, actually contributing to the scenes and characters.   Prediction=> 1\n",
            "This is one of the best Italian thrillers of the early 70's.   Prediction=> 1\n",
            "A FLY was in my apple juice.. A FLY!!!!!!!! Prediction=> 1\n",
            "The whole experience was underwhelming, and I think we'll just go to Ninja Sushi next time. Prediction=> 0\n",
            "Great audio!. Prediction=> 1\n",
            "clipping this to your belt will deffinitely make you feel like 50 cent's up-and-coming. Prediction=> 0\n",
            "This is an Outstanding little restaurant with some of the Best Food I have ever tasted. Prediction=> 1\n",
            ") a happy, wonderful, feel good ending!   Prediction=> 1\n",
            ") What makes this story different are the terrific production values - faultless photography, composition and editing - the terrific casting - the underappreciated Brian Keith playing a bully Teddy - and vivid history.   Prediction=> 1\n",
            "It was horrible!. Prediction=> 0\n",
            "I would not recommend this place. Prediction=> 1\n",
            "This movie is possibly one of the most creative works of horror ever.   Prediction=> 1\n",
            "Gotta love those close-ups of slimy, drooling teeth!   Prediction=> 0\n",
            "The patio seating was very comfortable. Prediction=> 1\n",
            "I liked it.   Prediction=> 1\n",
            "This film highlights the fundamental flaws of the legal process, that it's not about discovering guilt or innocence, but rather, is about who presents better in court.   Prediction=> 1\n",
            "It's close to my house, it's low-key, non-fancy, affordable prices, good food. Prediction=> 1\n",
            "I highly recommend this device to everyone! Prediction=> 1\n",
            "I'd like to return it. Prediction=> 0\n",
            "Lange had become a great actress.   Prediction=> 1\n",
            "Crust is not good. Prediction=> 1\n",
            "The instructions didn't explain that a microphone jack could be used. Prediction=> 0\n",
            "It is not good.   Prediction=> 1\n",
            "I love the Scream movies and all horror movies and this one ranks way up there.   Prediction=> 1\n",
            "The film's sole bright spot was Jonah Hill (who will look almost unrecognizable to fans of the recent Superbad due to the amount of weight he lost in the interim).   Prediction=> 0\n",
            "It would take too long to describe how bad my customer service experience has been with Amazon. Prediction=> 0\n",
            "Doesn't do the job. Prediction=> 1\n",
            "The real disappointment was our waiter. Prediction=> 0\n",
            "This early film from future goremeister Lucio Fulci is a very good addition to the giallo sub-genre.   Prediction=> 1\n",
            "No, I'm going to eat the potato that I found some strangers hair in it. Prediction=> 0\n",
            "Who in their right mind is gonna buy this battery?. Prediction=> 0\n",
            "The staff are also very friendly and efficient. Prediction=> 1\n",
            "I have been here several times in the past, and the experience has always been great. Prediction=> 1\n",
            "The phone can also take great pictures and even video clips. Prediction=> 1\n",
            "I have watched their prices inflate, portions get smaller and management attitudes grow rapidly! Prediction=> 0\n",
            "The results, well, are a shame.   Prediction=> 0\n",
            "You have to hold the phone at a particular angle for the other party to hear you clearly. Prediction=> 0\n",
            "They have a really nice atmosphere. Prediction=> 1\n",
            "Coming here is like experiencing an underwhelming relationship where both parties can't wait for the other person to ask to break up. Prediction=> 0\n",
            "Echo Problem....Very unsatisfactory Prediction=> 0\n",
            "The visual effects were AWFUL.   Prediction=> 0\n",
            "Very well made and fits my Surefire GX2 perfectly. Prediction=> 1\n",
            "But this movie really got to me.   Prediction=> 0\n",
            "I think it was Robert Ryans best film, because he portrayed someone like my father, and he was a schizophrenic in real life,(my father) although he never murdered anyone but was affected more so during the second world war which made him worse.   Prediction=> 0\n",
            "It was that year, however, that reminded us that Huston was still at the top of his game as evinced by his faithful adaptation of James Joyce's acclaimed novella \"The Dead.   Prediction=> 0\n",
            "The design might be ergonomic in theory but I could not stand having these in my ear. Prediction=> 0\n",
            "Just had lunch here and had a great experience. Prediction=> 1\n",
            "The best place to go for a tasty bowl of Pho! Prediction=> 1\n",
            "Nicest Chinese restaurant I've been in a while. Prediction=> 1\n",
            "I was looking for this headset for a long time and now that I've got it I couldn't be happier. Prediction=> 0\n",
            "This is probably the most irritating show I have ever seen in my entire life.   Prediction=> 0\n",
            "If you see it, you should probably just leave it on the shelf.   Prediction=> 0\n",
            "good item, low price. Prediction=> 1\n",
            "Unfortunately, we must have hit the bakery on leftover day because everything we ordered was STALE. Prediction=> 0\n",
            "Watching washing machine twirling around wouldn't hurt your eyes as much as this show.   Prediction=> 1\n",
            "This is a simple little phone to use, but the breakage is unacceptible. Prediction=> 0\n",
            "I thought it was bad.   Prediction=> 0\n",
            "I can take a little bad service but the food sucks. Prediction=> 0\n",
            "Just what I wanted. Prediction=> 0\n",
            "Worst martini ever! Prediction=> 0\n",
            "Works fine. Prediction=> 1\n",
            "And it was boring.   Prediction=> 0\n",
            "It is wonderful and inspiring to watch, and I hope that it gets released again on to video or DVD.   Prediction=> 1\n",
            "The loudspeaker option is great, the bumpers with the lights is very ... appealing. Prediction=> 1\n",
            "But when I check voice mail at night, the keypad backlight turns off a few seconds into the first message, and then I'm lost. Prediction=> 1\n",
            "This is by far the worst purchase I've made on Amazon. Prediction=> 0\n",
            "Thank you for wasting my money. Prediction=> 0\n",
            "Disappointed!. Prediction=> 0\n",
            "I loved the grilled pizza, reminded me of legit Italian pizza. Prediction=> 1\n",
            "Excellent bluetooth headset. Prediction=> 1\n",
            "Product was excellent and works better than the verizon one and Boy was it cheaper! Prediction=> 1\n",
            "Excellent short film.   Prediction=> 1\n",
            "Very pleased with this headset. Prediction=> 1\n",
            "Main thing I didn't enjoy is that the crowd is of older crowd, around mid 30s and up. Prediction=> 1\n",
            "After all the rave reviews I couldn't wait to eat here......what a disappointment! Prediction=> 0\n",
            "GO AND SEE IT!   Prediction=> 0\n",
            "Love this place, hits the spot when I want something healthy but not lacking in quantity or flavor. Prediction=> 1\n",
            "High-quality chicken on the chicken Caesar salad. Prediction=> 0\n",
            "Seafood was limited to boiled shrimp and crab legs but the crab legs definitely did not taste fresh. Prediction=> 1\n",
            "You need two hands to operate the screen.This software interface is decade old and cannot compete with new software designs. Prediction=> 1\n",
            "It was horrendous.   Prediction=> 0\n",
            "We won't be returning. Prediction=> 0\n",
            "I highly recommend these and encourage people to give them a try. Prediction=> 1\n",
            "seems like a good quick place to grab a bite of some familiar pub food, but do yourself a favor and look elsewhere. Prediction=> 1\n",
            "Jawbone Era is awesome too! Prediction=> 1\n",
            "If you are looking for a movie with a terrific cast, some good music(including a Shirley Jones rendition of \"The Way You Look Tonight\"), and an uplifting ending, give this one a try.   Prediction=> 0\n",
            "This place is like Chipotle, but BETTER. Prediction=> 0\n",
            "Their monster chicken fried steak and eggs is my all time favorite. Prediction=> 0\n",
            "I Was Hoping for More. Prediction=> 0\n",
            "I came over from Verizon because cingulair has nicer cell phones.... the first thing I noticed was the really bad service. Prediction=> 1\n",
            "Not my thing. Prediction=> 0\n",
            "You can't beat the price on these. Prediction=> 1\n",
            "The stories were as unbelievable as the actors.   Prediction=> 1\n",
            "Each day of the week they have a different deal and it's all so delicious! Prediction=> 1\n",
            "It is easy to turn on and off when you are in the car and the volume controls are quite accessable. Prediction=> 0\n",
            "The majority of the Logitech earbud headsets failed. Prediction=> 1\n",
            "WELL IM SATISFIED. Prediction=> 1\n",
            "That's right....the red velvet cake.....ohhh this stuff is so good. Prediction=> 0\n",
            "The service was meh. Prediction=> 0\n",
            "Battery life still not long enough in Motorola Razor V3i. Prediction=> 1\n",
            "This film offers many delights and surprises.   Prediction=> 0\n",
            "Four stars for the food & the guy in the blue shirt for his great vibe & still letting us in to eat ! Prediction=> 0\n",
            "One of the worst shows of all time.   Prediction=> 0\n",
            "It works fine on my Motorola 325 cellphone, and a lot better than the worn-out battery did. Prediction=> 1\n",
            "If you stay in Vegas you must get breakfast here at least once. Prediction=> 0\n",
            "Simple, lightweight and great fit. Prediction=> 1\n",
            "Conclusion - I loved it.   Prediction=> 1\n",
            "Favorite place in town for shawarrrrrrma!!!!!! Prediction=> 1\n",
            "It's very convenient and simple to use - gets job done & makes the car ride so much smoother. Prediction=> 1\n",
            "The file browser offers all the options that one needs.Handsfree is great. Prediction=> 1\n",
            "The volume for the ringer is REAL good (you have choices how loud). Prediction=> 0\n",
            "This was reflected not only in the cast, but also in the below-par script, which borrowed much from the earlier classic.   Prediction=> 0\n",
            "Totally different, with loads of understatement and black comedy, this is a film few get to see, but those who do will remember it.   Prediction=> 0\n",
            "Great atmosphere, friendly and fast service. Prediction=> 1\n",
            "Her role was played well.   Prediction=> 1\n",
            "I know that sounds funny, but to me it seemed like sketchy technology that wouldn't work well.Well, this one works great. Prediction=> 1\n",
            "I left with a stomach ache and felt sick the rest of the day. Prediction=> 0\n",
            "The fried rice was dry as well. Prediction=> 0\n",
            "Worked perfectly! Prediction=> 1\n",
            "I don't think I'll be running back to Carly's anytime soon for food. Prediction=> 0\n",
            "The manager was the worst. Prediction=> 0\n",
            "Also notable is John Bailey's fine crisp beautifully colored cinematography and the great production design & costumes by Eiko Ishioka who went on to do the memorable costumes for Coppola's Dracula for which she received a well deserved Oscar.   Prediction=> 1\n",
            "Too politically correct.   Prediction=> 0\n",
            "In fact I'm going to round up to 4 stars, just because she was so awesome. Prediction=> 1\n",
            "Works as described. Prediction=> 1\n",
            "It's just adorable seeing Mickey playing \"Turkey in the Straw\" in a highly imaginative (if occasionally cruel) way.   Prediction=> 1\n",
            "The roast beef sandwich tasted really good! Prediction=> 1\n",
            "Excellent hands free tool. Prediction=> 1\n",
            "This place is amazing! Prediction=> 1\n",
            "Bluetooth range is good - a few days ago I left my phone in the trunk, got a call, and carried the conversation without a hitch. Prediction=> 1\n",
            "Awsome Device Works Great!!. Prediction=> 1\n",
            "The chips and salsa were really good, the salsa was very fresh. Prediction=> 1\n",
            "poor quality and service. Prediction=> 0\n",
            "Very friendly staff. Prediction=> 1\n",
            "If there is a wind, it is completely useless. Prediction=> 0\n",
            "A cheap and cheerless heist movie with poor characterisation, lots of underbite style stoic emoting (think Chow Yun Fat in A Better Tomorrow) and some cheesy clichÃ©s thrown into an abandoned factory ready for a few poorly executed flying judo rolls a la John Woo.   Prediction=> 0\n",
            "One thing I hate is the mode set button at the side. Prediction=> 0\n",
            "It was awesome. Prediction=> 1\n",
            "He was extremely rude and really, there are so many other restaurants I would love to dine at during a weekend in Vegas. Prediction=> 0\n",
            "Excellent Phone. Prediction=> 1\n",
            "I found the product to be easy to set up and use. Prediction=> 1\n",
            "The service was extremely slow. Prediction=> 0\n",
            "Very good stuff for the price. Prediction=> 1\n",
            "dont buy it. Prediction=> 0\n",
            "Once your food arrives it's meh. Prediction=> 0\n",
            "The plot, such as it is, is so derivative and predictable that the ending is like a mercy killing.   Prediction=> 0\n",
            "Bela Lugosi was totally extraneous, intoning odd lines.   Prediction=> 0\n",
            "The food was terrible. Prediction=> 0\n",
            "I didn't know pulled pork could be soooo delicious. Prediction=> 1\n",
            "I love this device. Prediction=> 1\n",
            "The cow tongue and cheek tacos are amazing. Prediction=> 1\n",
            "Couldn't ask for a more satisfying meal. Prediction=> 0\n",
            "I'm returning them. Prediction=> 0\n",
            "If you hate earbugs, avoid this phone by all means. Prediction=> 0\n",
            "This is one of the best bars with food in Vegas. Prediction=> 1\n",
            "Waitress was a little slow in service. Prediction=> 0\n",
            "It Was So Cool.   Prediction=> 1\n",
            "It was pretty gross! Prediction=> 0\n",
            "I paid the bill but did not tip because I felt the server did a terrible job. Prediction=> 0\n",
            "This place is two thumbs up....way up. Prediction=> 0\n",
            "Plantronics Bluetooth Excelent Buy. Prediction=> 0\n",
            "Appetite instantly gone. Prediction=> 1\n",
            "The earpiece on this is too large or too heavy...it keeps falling out of my ear. Prediction=> 0\n",
            "Much better than the other AYCE sushi place I went to in Vegas. Prediction=> 1\n",
            "poor voice clarity. Prediction=> 0\n",
            "I've lived here since 1979 and this was the first (and last) time I've stepped foot into this place. Prediction=> 0\n",
            "I have tried these cables with my computer and my iPod and it works just fine. Prediction=> 1\n",
            "It fits comfortably in either ear, the sound is clear and loud, and the charge lasts a couple of days. Prediction=> 0\n",
            "You'd have to have the IQ of particularly stupid mollusk not to see that one coming.   Prediction=> 0\n",
            "Does not charge the Cingular (ATT) 8525 phone. Prediction=> 0\n",
            "The service was not up to par, either. Prediction=> 0\n",
            "I've had better atmosphere. Prediction=> 1\n",
            "It worked very well. Prediction=> 0\n",
            "I saw \"Mirrormask\" last night and it was an unsatisfactory experience.   Prediction=> 0\n",
            "The color is even prettier than I thought it would be, and the graphics are incredibly sharp. Prediction=> 0\n",
            "Avoid, avoid, avoid!   Prediction=> 0\n",
            "It is rare when a film-maker takes the time to tell a worthy moral tale with care and love that doesn't fall into the trap of being overly syrupy or over indulgent.   Prediction=> 1\n",
            "Great Phone. Prediction=> 1\n",
            "Nice headphones for the price and they work great! Prediction=> 1\n",
            "I'll take my business dinner dollars elsewhere. Prediction=> 0\n",
            "The bottowm line...another worthless, cheap gimmick from Sprint. Prediction=> 0\n",
            "Her lines seem to have been WRITTEN by a fifteen year old, though they are trying oh so, so hard to sound like how a fifteen year old would really, um, you know, well... talk.   Prediction=> 0\n",
            "Any grandmother can make a roasted chicken better than this one. Prediction=> 1\n",
            "Overall, I like there food and the service. Prediction=> 0\n",
            "My wife had the Lobster Bisque soup which was lukewarm. Prediction=> 0\n",
            "Ambience is perfect. Prediction=> 1\n",
            "Really awful.   Prediction=> 0\n",
            "Even if you love bad movies, do not watch this movie.   Prediction=> 1\n",
            "The fries were not hot, and neither was my burger. Prediction=> 0\n",
            "We would recommend these to others. Prediction=> 1\n",
            "This product is great... it makes working a lot easier I can go to the copier while waiting on hold for something. Prediction=> 0\n",
            "It was attached to a gas station, and that is rarely a good sign. Prediction=> 1\n",
            "Pretty awesome place. Prediction=> 1\n",
            "The flair bartenders are absolutely amazing! Prediction=> 1\n",
            "Anyway, this FS restaurant has a wonderful breakfast/lunch. Prediction=> 1\n",
            "Pros:-Good camera - very nice pictures , also has cool styles like black and white, and more. Prediction=> 1\n",
            "The menu is always changing, food quality is going down & service is extremely slow. Prediction=> 0\n",
            "Love This Phone. Prediction=> 1\n",
            "You can not answer calls with the unit, never worked once! Prediction=> 0\n",
            "NOBODY identifies with these characters because they're all cardboard cutouts and stereotypes (or predictably reverse-stereotypes).   Prediction=> 0\n",
            "Though The Wind and the Lion is told largely through the eyes of the son, every member of the family can identify with one of the characters, whether it be Sean Connery's noble brigand, Candace Bergen's feisty heroine, John Huston's wily John Hay or Steve Kanaly's spiffy, radiant, ruthless can-do lieutenant, Roosevelt's \"Big Stick\".   Prediction=> 1\n",
            "Very very fun chef. Prediction=> 1\n",
            "I'm a bit disappointed. Prediction=> 0\n",
            "Don't waste your $$$ on this one. Prediction=> 0\n",
            "I let my girlfriend talk me into seeing this - bad idea, we both hated it.   Prediction=> 0\n",
            "there is no real plot.   Prediction=> 0\n",
            "its a little geeky but i think thats its sex on toast and it rocks and oozes sex right down to its battery embedded sleek stylish leather case. Prediction=> 1\n",
            "A usable keyboard actually turns a PDA into a real-world useful machine instead of just a neat gadget. Prediction=> 1\n",
            "This is a disgrace. Prediction=> 0\n",
            "This place is awesome if you want something light and healthy during the summer. Prediction=> 1\n",
            "Terrible product, and waste of money! Prediction=> 0\n",
            "I have had mine for about a year and this Christmas I bought some for the rest of the family. Prediction=> 0\n",
            "The movie has almost no action scenes in it and very little comedy.   Prediction=> 1\n",
            "sucked, most of the stuff does not work with my phone. Prediction=> 0\n",
            "The food was barely lukewarm, so it must have been sitting waiting for the server to bring it out to us. Prediction=> 0\n",
            "It dit not work most of the time with my Nokia 5320. Prediction=> 0\n",
            "The best example of how dumb the writing is when it's established that you can turn the zombie-students back into humans by removing a necklace containing a piece of the meteorite.   Prediction=> 0\n",
            "Del Taco is pretty nasty and should be avoided if possible. Prediction=> 0\n",
            "Great Product. Prediction=> 1\n",
            "Good prices. Prediction=> 1\n",
            "A truly, truly bad film.   Prediction=> 0\n",
            "Hawaiian Breeze, Mango Magic, and Pineapple Delight are the smoothies that I've tried so far and they're all good. Prediction=> 1\n",
            "A great touch. Prediction=> 1\n",
            "This place is not quality sushi, it is not a quality restaurant. Prediction=> 1\n",
            "The range is very decent, I've been able to roam around my house with the phone in the living room with no reception/sound quality issues. Prediction=> 1\n",
            "The waitresses are very friendly. Prediction=> 1\n",
            "Now I am getting angry and I want my damn pho. Prediction=> 1\n",
            "Everything was fresh and delicious! Prediction=> 1\n",
            "It's a case of 'so bad it is laughable'.   Prediction=> 0\n",
            "The battery is unreliable as well as the service use antena. Prediction=> 0\n",
            "I love this place. Prediction=> 1\n",
            "The keyboard is really worthwhile in usefulness and is sturdy enough I don't expect any problems. Prediction=> 1\n",
            "MANNA FROM HEAVEN is a terrific film that is both predictable and unpredictable at the same time.   Prediction=> 0\n",
            "Overall, a delight!   Prediction=> 0\n",
            "Also there are combos like a burger, fries, and beer for 23 which is a decent deal. Prediction=> 0\n",
            "I'm still infatuated with this phone. Prediction=> 0\n",
            "An Awesome New Look For Fall 2000!. Prediction=> 1\n",
            "Again, no plot at all.   Prediction=> 0\n",
            "So bad...well...it's just bad.   Prediction=> 0\n",
            "We watched our waiter pay a lot more attention to other tables and ignore us. Prediction=> 0\n",
            "2 thumbs up to this seller Prediction=> 1\n",
            "I can hear while I'm driving in the car, and usually don't even have to put it on it's loudest setting. Prediction=> 0\n",
            "Not even good for camp value!   Prediction=> 1\n",
            "The story line is totally predictable.   Prediction=> 0\n",
            "A fantastic neighborhood gem !!! Prediction=> 1\n",
            "One of the most disappointing aspects is the lack of notable gore.   Prediction=> 0\n",
            "I'll definitely be in soon again. Prediction=> 1\n",
            "I knew when I saw the film that more great things were to come from this gifted actor.   Prediction=> 1\n",
            "Good value, great food, great service. Prediction=> 1\n",
            "Voice Quality, Signal Strength, Dropped Calls. Prediction=> 0\n",
            "This one just fails to create any real suspense.   Prediction=> 0\n",
            "Portable and it works. Prediction=> 1\n",
            "The seafood was fresh and generous in portion. Prediction=> 1\n",
            "What on earth is Irons doing in this film?   Prediction=> 0\n",
            "Lobster Bisque, Bussell Sprouts, Risotto, Filet ALL needed salt and pepper..and of course there is none at the tables. Prediction=> 0\n",
            "This is not movie-making.   Prediction=> 1\n",
            "It has everything I need and I couldn't ask for more. Prediction=> 1\n",
            "We got sitting fairly fast, but, ended up waiting 40 minutes just to place our order, another 30 minutes before the food arrived. Prediction=> 0\n",
            "They brought a fresh batch of fries and I was thinking yay something warm but no! Prediction=> 1\n",
            "The microphone also works well, but (according to people I have called) it applifies everything. Prediction=> 1\n",
            "In fact, this stinker smells like a direct-to-video release.   Prediction=> 0\n",
            "I gave it 5 stars because of the sound quality. Prediction=> 1\n",
            "I wish I could enter negative values, admins?   Prediction=> 1\n",
            "The price was very good and with the free shipping and all it was a good purchase. Prediction=> 1\n",
            "But it does get better reception and clarity than any phone I've had before. Prediction=> 1\n",
            "Good product - incredible value. Prediction=> 1\n",
            "I found this product to be waaay too big. Prediction=> 1\n",
            "It's very attractive and appears to be of good quality. Prediction=> 1\n",
            "It's A PIECE OF CRAP! Prediction=> 0\n",
            "I'd love to go back. Prediction=> 1\n",
            "DO NOT BUY DO NOT BUYIT SUCKS Prediction=> 0\n",
            "It didn't charge for me. Prediction=> 0\n",
            "I'm not sure how long we stood there but it was long enough for me to begin to feel awkwardly out of place. Prediction=> 0\n",
            "Rating: 0/10 (Grade: Z) Note: The Show Is So Bad That Even Mother Of The Cast Pull Her Daughter Out Of The Show.   Prediction=> 0\n",
            "This is one I did not have, but I watched it recently on Fox Movie Channel, and was very disappointed.   Prediction=> 1\n",
            "I couldn't take them seriously.   Prediction=> 0\n",
            "When I opened the sandwich, I was impressed, but not in a good way. Prediction=> 1\n",
            "I found a six inch long piece of wire in my salsa. Prediction=> 0\n",
            "I took back my money and got outta there. Prediction=> 0\n",
            "I seriously cannot believe that the owner has so many unexperienced employees that all are running around like chickens with their heads cut off. Prediction=> 1\n",
            "I have used several phone in two years, but this one is the best. Prediction=> 1\n",
            "Saw the movie today and thought it was a good effort, good messages for kids.   Prediction=> 1\n",
            "Not sure who was more lost - the flat characters or the audience, nearly half of whom walked out.   Prediction=> 0\n",
            "Also makes it easier to hold on to. Prediction=> 0\n",
            "I never come again. Prediction=> 1\n",
            "The wontons were thin, not thick and chewy, almost melt in your mouth. Prediction=> 1\n",
            "Special mention should be made of the superb music score and sound effects, which are an integral element in helping to make this such a memorable and enjoyable cartoon.   Prediction=> 1\n",
            "Lewis Black's considerable talent is wasted here too, as he is at his most incendiary when he is unrestrained, which the PG-13 rating certainly won't allow.   Prediction=> 0\n",
            "Still, it makes up for all of this with a super ending that depicts a great sea vessel being taken out by the mighty frost.   Prediction=> 1\n",
            "The poor batter to meat ratio made the chicken tenders very unsatisfying. Prediction=> 0\n",
            "Bacon is hella salty. Prediction=> 1\n",
            "I have seen many movies starring Jaclyn Smith, but my god this was one of her best, though it came out 12 years ago.   Prediction=> 1\n",
            "Must have been an off night at this place. Prediction=> 0\n",
            "Not enough volume. Prediction=> 0\n",
            "When I received my Pita it was huge it did have a lot of meat in it so thumbs up there. Prediction=> 0\n",
            "Good value, works fine - power via USB, car, or wall outlet. Prediction=> 1\n",
            "If she had not rolled the eyes we may have stayed... Not sure if we will go back and try it again. Prediction=> 0\n",
            "And it was way to expensive. Prediction=> 0\n",
            "I just don't know how this place managed to served the blandest food I have ever eaten when they are preparing Indian cuisine. Prediction=> 0\n",
            "The selection was probably the worst I've seen in Vegas.....there was none. Prediction=> 0\n",
            "So I basically threw my money out the window for nothing. Prediction=> 0\n",
            "The food was outstanding and the prices were very reasonable. Prediction=> 1\n",
            "Last time buying from you. Prediction=> 0\n",
            "The meat was pretty dry, I had the sliced brisket and pulled pork. Prediction=> 0\n",
            "This product is ideal for people like me whose ears are very sensitive. Prediction=> 1\n",
            "The movie was very interesting from beginning to the end.   Prediction=> 1\n",
            "We waited an hour for what was a breakfast I could have done 100 times better at home. Prediction=> 0\n",
            "I will never go back to this place and will never ever recommended this place to anyone! Prediction=> 0\n",
            "The food was very good. Prediction=> 1\n",
            "It never condescends, all the characters have good genuine hearts and believable problems.   Prediction=> 1\n",
            "Razr Battery - Good buy. Prediction=> 0\n",
            "I would recommend purchasing the Jabra JX-10 series 2 which works flawlessly with my Moto Q, go figure. Prediction=> 1\n",
            "I ordered the Voodoo pasta and it was the first time I'd had really excellent pasta since going gluten free several years ago. Prediction=> 0\n",
            "Great for iPODs too. Prediction=> 1\n",
            "From what my dinner companions told me...everything was very fresh with nice texture and taste. Prediction=> 1\n",
            "The selection of food was not the best. Prediction=> 1\n",
            "The use of slow-motion needlessly repeats itself throughout the movie but is well backed up by bad acting (and bad is a kind word here), no continuity, scenes that are thrown in for no reason whatsoever, vehicles that looked like they were made from a Corn Flakes box and a directorial style that bordered on stupidity.   Prediction=> 0\n",
            "Shrimp- When I unwrapped it (I live only 1/2 a mile from Brushfire) it was literally ice cold. Prediction=> 0\n",
            "It is PERFECT for a sit-down family meal or get together with a few friends. Prediction=> 1\n",
            "Also, I feel like the chips are bought, not made in house. Prediction=> 0\n",
            "Would not reccommend. Prediction=> 0\n",
            "And I forgot: The Casting here i superb, with Trond Fausa AurvÃ¥g being perfect in the role as the Bothersome Man, who doesn't understand where he is, what he is doing and why.   Prediction=> 1\n",
            "Its well-designed and very sharp -- the blue is a very nice color. Prediction=> 1\n",
            "I use this product in a motor control center where there is a lot of high voltage humming from the equipment, and it works great! Prediction=> 1\n",
            "Service was fantastic. Prediction=> 1\n",
            "Stopped by during the late May bank holiday off Rick Steve recommendation and loved it. Prediction=> 1\n",
            "The staff is always super friendly and helpful, which is especially cool when you bring two small boys and a baby! Prediction=> 1\n",
            "Pricing is a bit of a concern at Mellow Mushroom. Prediction=> 0\n",
            "I wish I could return the unit and get back my money. Prediction=> 0\n",
            "I know he was a contract player with little control over his scripts, but the acting was as bad as the script.   Prediction=> 0\n",
            "I was very excited to get this headset because I thought it was really cute. Prediction=> 1\n",
            "great...no problems at all!. Prediction=> 1\n",
            "I do not know if this was Emilio Estevez's directorial debut, but the pacing, the interplay and development of the characters as well as some clever camera work surrounding the character Estevez plays all suggest a natural eye.   Prediction=> 1\n",
            "Sound quality on both end is excellent, I use headset to call my wife and ask my wife to use headset to call me !2. Prediction=> 1\n",
            "After two I felt disgusting. Prediction=> 0\n",
            "The cast of veteran actors are more than just a nostalgia trip.   Prediction=> 1\n",
            "Not tasty and the texture was just nasty. Prediction=> 1\n",
            "I still maintain that monkeys shouldn't make headphones, we just obviously don't share enough DNA to copy the design over to humans. Prediction=> 0\n",
            "The goat taco didn't skimp on the meat and wow what FLAVOR! Prediction=> 0\n",
            "This is a good battery, and it got here really fast. Prediction=> 1\n",
            "I love all the features and form factor. Prediction=> 1\n",
            "Very good food, great atmosphere.1 Prediction=> 1\n",
            "I guess it was supposed to be clever twist, then shed some light on the situation, but it was just stupid.   Prediction=> 0\n",
            "An instant classic, with a great soundtrack and a catchy song during the ending credits.   Prediction=> 1\n",
            "It took over 30 min to get their milkshake, which was nothing more than chocolate milk. Prediction=> 0\n",
            "Their menu is diverse, and reasonably priced. Prediction=> 1\n",
            "First time going but I think I will quickly become a regular. Prediction=> 0\n",
            "I got to enjoy the seafood salad, with a fabulous vinegrette. Prediction=> 0\n",
            "WILL NEVER EVER GO BACK AND HAVE TOLD MANY PEOPLE WHAT HAD HAPPENED. Prediction=> 0\n",
            "I bought this phone as a replacement for my StarTac and have regretted it since. Prediction=> 0\n",
            "I was particularly pleased with the acting ability of Dwight Schultz.   Prediction=> 1\n",
            "Third, the cheese on my friend's burger was cold. Prediction=> 0\n",
            "STEAMBOAT WILLIE is an amazingly important film to our cinema history.   Prediction=> 1\n",
            "Sauce was tasteless. Prediction=> 0\n",
            "Cant get the software to work with my computer. Prediction=> 0\n",
            "the only VERY DISAPPOINTING thing was there was NO SPEAKERPHONE!!!! Prediction=> 0\n",
            "And I just love the colors! Prediction=> 1\n",
            "Food was really good and I got full petty fast. Prediction=> 1\n",
            "Don't miss it.   Prediction=> 1\n",
            "Please stay away from the shrimp stir fried noodles. Prediction=> 0\n",
            "If this premise sound stupid, that's because it is.   Prediction=> 0\n",
            "Great Subway, in fact it's so good when you come here every other Subway will not meet your expectations. Prediction=> 1\n",
            "Funny, clever, hip - just like Pray's previous film, Hype!   Prediction=> 1\n",
            "Buyer Beware, you could flush money right down the toilet. Prediction=> 0\n",
            "We have gotten a lot of compliments on it. Prediction=> 0\n",
            "Overall, I like this place a lot. Prediction=> 0\n",
            "Fantastic buy and will get again for whatever my next phone is Prediction=> 0\n",
            "It's AGGRAVATING! Prediction=> 0\n",
            ".... Item arrived quickly and works great with my Metro PCS Samsung SCH-r450 slider phone and Sony Premium Sound in ear plugs. Prediction=> 1\n",
            "Works great. Prediction=> 1\n",
            "walked in and the place smelled like an old grease trap and only 2 others there eating. Prediction=> 0\n",
            "But \"Tiny Toons\" kept the 90's vibe and delivered one of the most popular, funny, and underrated cartoons ever created.   Prediction=> 1\n",
            "I find wasting food to be despicable, but this just wasn't food. Prediction=> 0\n",
            "Regardless, the film fails on most levels.   Prediction=> 0\n",
            "Don't buy this product. Prediction=> 0\n",
            "Speaking of the music, it is unbearably predictably and kitchy.   Prediction=> 0\n",
            "Boy was that sucker dry!!. Prediction=> 0\n",
            "I don't think it would hold it too securly on your belt. Prediction=> 0\n",
            "I tried talking real loud but shouting on the telephone gets old and I was still told it wasn't great. Prediction=> 1\n",
            "Verizon's bills, however, are difficult to understand even though their pricing plans are simple. Prediction=> 1\n",
            "I hate to disagree with my fellow Yelpers, but my husband and I were so disappointed with this place. Prediction=> 0\n"
          ],
          "name": "stdout"
        }
      ]
    },
    {
      "cell_type": "code",
      "metadata": {
        "id": "5-aGlMU2A_Am",
        "outputId": "5d59ba0e-9c60-4661-fa96-d0d2e95f149e",
        "colab": {
          "base_uri": "https://localhost:8080/",
          "height": 67
        }
      },
      "source": [
        "# Accuracy\n",
        "print(\"Accuracy: \",pipe_countvect.score(X_test,y_test))\n",
        "print(\"Accuracy: \",pipe_countvect.score(X_test,sample_prediction))\n",
        "# Accuracy\n",
        "print(\"Accuracy: \",pipe_countvect.score(X_train,y_train))"
      ],
      "execution_count": 43,
      "outputs": [
        {
          "output_type": "stream",
          "text": [
            "Accuracy:  0.7741347905282332\n",
            "Accuracy:  1.0\n",
            "Accuracy:  0.9904371584699454\n"
          ],
          "name": "stdout"
        }
      ]
    },
    {
      "cell_type": "code",
      "metadata": {
        "id": "HAgxm6UIA_3t"
      },
      "source": [
        ""
      ],
      "execution_count": 43,
      "outputs": []
    }
  ]
}