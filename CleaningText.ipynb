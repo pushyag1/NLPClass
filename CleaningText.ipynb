{
  "nbformat": 4,
  "nbformat_minor": 0,
  "metadata": {
    "colab": {
      "name": "Homework-Part2.ipynb",
      "provenance": [],
      "authorship_tag": "ABX9TyOOdW3Xyh8ug1bfshPt/s8U",
      "include_colab_link": true
    },
    "kernelspec": {
      "name": "python3",
      "display_name": "Python 3"
    }
  },
  "cells": [
    {
      "cell_type": "markdown",
      "metadata": {
        "id": "view-in-github",
        "colab_type": "text"
      },
      "source": [
        "<a href=\"https://colab.research.google.com/github/pushyag1/NLPClass/blob/master/CleaningText.ipynb\" target=\"_parent\"><img src=\"https://colab.research.google.com/assets/colab-badge.svg\" alt=\"Open In Colab\"/></a>"
      ]
    },
    {
      "cell_type": "markdown",
      "metadata": {
        "id": "1BCLw_r1K-X0",
        "colab_type": "text"
      },
      "source": [
        "Exercise 2 Cleaning Up a Text\n",
        "Consider the following sentence:\n",
        "\n",
        "sentence = \"Nick's car was sold for $ 1500\".\n",
        "\n",
        "Perform the following task on the above sentence:\n",
        "1. Replace special characters with empty spaces\n",
        "2. Remove multiple empty spaces and replace them by a single space\n",
        "3. Remove any single character\n",
        "4. Convert the text to all lower case\n",
        "5. Split the text to individual words"
      ]
    },
    {
      "cell_type": "code",
      "metadata": {
        "id": "qJDse8PtK91J",
        "colab_type": "code",
        "colab": {
          "base_uri": "https://localhost:8080/",
          "height": 34
        },
        "outputId": "67e1e760-036a-40f5-d080-21995dfdd3a0"
      },
      "source": [
        "sentence = \"Nick's car was sold for $ 1500\"\n",
        "print(sentence)"
      ],
      "execution_count": 1,
      "outputs": [
        {
          "output_type": "stream",
          "text": [
            "Nick's car was sold for $ 1500\n"
          ],
          "name": "stdout"
        }
      ]
    },
    {
      "cell_type": "code",
      "metadata": {
        "id": "t4VdCYOKK_k8",
        "colab_type": "code",
        "colab": {}
      },
      "source": [
        "removeSpecialChars = sentence.translate ({ord(c): \" \" for c in \"!@#$%^&*()[]{};:,./<>?\\|`~-=_+'\"})"
      ],
      "execution_count": 2,
      "outputs": []
    },
    {
      "cell_type": "code",
      "metadata": {
        "id": "KasA6So8Lsd4",
        "colab_type": "code",
        "colab": {}
      },
      "source": [
        "s= removeSpecialChars"
      ],
      "execution_count": 3,
      "outputs": []
    },
    {
      "cell_type": "code",
      "metadata": {
        "id": "o_cnmHtyLvpo",
        "colab_type": "code",
        "colab": {}
      },
      "source": [
        "import re\n"
      ],
      "execution_count": 4,
      "outputs": []
    },
    {
      "cell_type": "code",
      "metadata": {
        "id": "dbExjiTAMPKn",
        "colab_type": "code",
        "colab": {
          "base_uri": "https://localhost:8080/",
          "height": 34
        },
        "outputId": "ece25eca-e256-44f4-f5ed-a30b5e3b5891"
      },
      "source": [
        "s1 = re.sub(\"\\s\\s+\", \" \", s)\n",
        "print(s1)"
      ],
      "execution_count": 5,
      "outputs": [
        {
          "output_type": "stream",
          "text": [
            "Nick s car was sold for 1500\n"
          ],
          "name": "stdout"
        }
      ]
    },
    {
      "cell_type": "code",
      "metadata": {
        "id": "M_P1GXnzMfBO",
        "colab_type": "code",
        "colab": {
          "base_uri": "https://localhost:8080/",
          "height": 34
        },
        "outputId": "1af6f9e7-0249-4b5a-c527-a614c860d2f2"
      },
      "source": [
        "tmp = re.sub(r'\\b\\w\\b', ' ', s1)\n",
        "print (re.sub(r'\\s{2,}', ' ', tmp).strip())    #method 1"
      ],
      "execution_count": 6,
      "outputs": [
        {
          "output_type": "stream",
          "text": [
            "Nick car was sold for 1500\n"
          ],
          "name": "stdout"
        }
      ]
    },
    {
      "cell_type": "code",
      "metadata": {
        "id": "1f4Zl2bdNQpe",
        "colab_type": "code",
        "colab": {
          "base_uri": "https://localhost:8080/",
          "height": 34
        },
        "outputId": "3ff9823b-fb0b-4db6-fe2c-0a53a75e1cc6"
      },
      "source": [
        "s2 = re.sub('(\\\\b[A-Za-z] \\\\b|\\\\b [A-Za-z]\\\\b)', '', s1)    #method 2\n",
        "print(s2)"
      ],
      "execution_count": 7,
      "outputs": [
        {
          "output_type": "stream",
          "text": [
            "Nick car was sold for 1500\n"
          ],
          "name": "stdout"
        }
      ]
    },
    {
      "cell_type": "code",
      "metadata": {
        "id": "cVJP1yk5NitN",
        "colab_type": "code",
        "colab": {}
      },
      "source": [
        "s3 = s2.lower()"
      ],
      "execution_count": 8,
      "outputs": []
    },
    {
      "cell_type": "code",
      "metadata": {
        "id": "_RjwgstTNxD-",
        "colab_type": "code",
        "colab": {
          "base_uri": "https://localhost:8080/",
          "height": 35
        },
        "outputId": "24c33d42-7f4c-4362-eafc-04c487687f7f"
      },
      "source": [
        "s3"
      ],
      "execution_count": 9,
      "outputs": [
        {
          "output_type": "execute_result",
          "data": {
            "application/vnd.google.colaboratory.intrinsic+json": {
              "type": "string"
            },
            "text/plain": [
              "'nick car was sold for 1500'"
            ]
          },
          "metadata": {
            "tags": []
          },
          "execution_count": 9
        }
      ]
    },
    {
      "cell_type": "code",
      "metadata": {
        "id": "oY7inOcINxoO",
        "colab_type": "code",
        "colab": {
          "base_uri": "https://localhost:8080/",
          "height": 34
        },
        "outputId": "42bf3963-2e67-45f0-94ae-bd2a4b387e59"
      },
      "source": [
        "s4 = print(s3.split(' '))"
      ],
      "execution_count": 10,
      "outputs": [
        {
          "output_type": "stream",
          "text": [
            "['nick', 'car', 'was', 'sold', 'for', '1500']\n"
          ],
          "name": "stdout"
        }
      ]
    },
    {
      "cell_type": "code",
      "metadata": {
        "id": "bGQm0h4rOKnX",
        "colab_type": "code",
        "colab": {}
      },
      "source": [
        ""
      ],
      "execution_count": 10,
      "outputs": []
    },
    {
      "cell_type": "code",
      "metadata": {
        "id": "-LPgMpAJOft3",
        "colab_type": "code",
        "colab": {}
      },
      "source": [
        ""
      ],
      "execution_count": 10,
      "outputs": []
    }
  ]
}